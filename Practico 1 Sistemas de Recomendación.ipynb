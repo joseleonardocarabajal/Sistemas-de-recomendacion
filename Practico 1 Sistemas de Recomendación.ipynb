{
 "cells": [
  {
   "cell_type": "markdown",
   "metadata": {},
   "source": [
    "#### Alumno: Carabajal Jose Leonardo\n",
    "Año: 2019\n"
   ]
  },
  {
   "cell_type": "markdown",
   "metadata": {
    "slideshow": {
     "slide_type": "slide"
    }
   },
   "source": [
    "# Práctico 1: Recomendación de Artistas\n",
    "\n",
    "En este práctico trabajaremos con el conjuto de datos de [LastFM](https://grouplens.org/datasets/hetrec-2011/) para el desarrollo de un sistema de recomendación que, dado el nombre de un artista musical, devuelve una lista de artistas \"similares\".\n",
    "\n",
    "Para el práctico utilizaremos el conjunto de datos de LastFM que consiguieron del [notebook de instalación](./instalacion.ipynb). Se recomienda leer el [Readme](http://files.grouplens.org/datasets/hetrec2011/hetrec2011-lastfm-readme.txt) de los datos para saber más sobre que información contiene cada archivo.\n",
    "\n",
    "La idea del práctico es hacer un análisis muy sencillo del conjunto de datos y desarrollar un sistema de recomendación basado en filtrado colaborativo (usando Surpr!se), a partir de los datos existentes."
   ]
  },
  {
   "cell_type": "code",
   "execution_count": 1,
   "metadata": {},
   "outputs": [
    {
     "data": {
      "text/plain": [
       "'1.1.0'"
      ]
     },
     "execution_count": 1,
     "metadata": {},
     "output_type": "execute_result"
    }
   ],
   "source": [
    "import surprise\n",
    "\n",
    "surprise.__version__"
   ]
  },
  {
   "cell_type": "code",
   "execution_count": 2,
   "metadata": {},
   "outputs": [],
   "source": [
    "import pandas as pd\n",
    "import numpy as np\n",
    "import matplotlib.pyplot as plt\n",
    "import seaborn as sns"
   ]
  },
  {
   "cell_type": "code",
   "execution_count": 3,
   "metadata": {},
   "outputs": [
    {
     "data": {
      "text/html": [
       "<div>\n",
       "<style scoped>\n",
       "    .dataframe tbody tr th:only-of-type {\n",
       "        vertical-align: middle;\n",
       "    }\n",
       "\n",
       "    .dataframe tbody tr th {\n",
       "        vertical-align: top;\n",
       "    }\n",
       "\n",
       "    .dataframe thead th {\n",
       "        text-align: right;\n",
       "    }\n",
       "</style>\n",
       "<table border=\"1\" class=\"dataframe\">\n",
       "  <thead>\n",
       "    <tr style=\"text-align: right;\">\n",
       "      <th></th>\n",
       "      <th>id</th>\n",
       "      <th>name</th>\n",
       "      <th>url</th>\n",
       "      <th>pictureURL</th>\n",
       "    </tr>\n",
       "  </thead>\n",
       "  <tbody>\n",
       "    <tr>\n",
       "      <th>0</th>\n",
       "      <td>1</td>\n",
       "      <td>MALICE MIZER</td>\n",
       "      <td>http://www.last.fm/music/MALICE+MIZER</td>\n",
       "      <td>http://userserve-ak.last.fm/serve/252/10808.jpg</td>\n",
       "    </tr>\n",
       "    <tr>\n",
       "      <th>1</th>\n",
       "      <td>2</td>\n",
       "      <td>Diary of Dreams</td>\n",
       "      <td>http://www.last.fm/music/Diary+of+Dreams</td>\n",
       "      <td>http://userserve-ak.last.fm/serve/252/3052066.jpg</td>\n",
       "    </tr>\n",
       "    <tr>\n",
       "      <th>2</th>\n",
       "      <td>3</td>\n",
       "      <td>Carpathian Forest</td>\n",
       "      <td>http://www.last.fm/music/Carpathian+Forest</td>\n",
       "      <td>http://userserve-ak.last.fm/serve/252/40222717...</td>\n",
       "    </tr>\n",
       "    <tr>\n",
       "      <th>3</th>\n",
       "      <td>4</td>\n",
       "      <td>Moi dix Mois</td>\n",
       "      <td>http://www.last.fm/music/Moi+dix+Mois</td>\n",
       "      <td>http://userserve-ak.last.fm/serve/252/54697835...</td>\n",
       "    </tr>\n",
       "    <tr>\n",
       "      <th>4</th>\n",
       "      <td>5</td>\n",
       "      <td>Bella Morte</td>\n",
       "      <td>http://www.last.fm/music/Bella+Morte</td>\n",
       "      <td>http://userserve-ak.last.fm/serve/252/14789013...</td>\n",
       "    </tr>\n",
       "  </tbody>\n",
       "</table>\n",
       "</div>"
      ],
      "text/plain": [
       "   id               name                                         url  \\\n",
       "0   1       MALICE MIZER       http://www.last.fm/music/MALICE+MIZER   \n",
       "1   2    Diary of Dreams    http://www.last.fm/music/Diary+of+Dreams   \n",
       "2   3  Carpathian Forest  http://www.last.fm/music/Carpathian+Forest   \n",
       "3   4       Moi dix Mois       http://www.last.fm/music/Moi+dix+Mois   \n",
       "4   5        Bella Morte        http://www.last.fm/music/Bella+Morte   \n",
       "\n",
       "                                          pictureURL  \n",
       "0    http://userserve-ak.last.fm/serve/252/10808.jpg  \n",
       "1  http://userserve-ak.last.fm/serve/252/3052066.jpg  \n",
       "2  http://userserve-ak.last.fm/serve/252/40222717...  \n",
       "3  http://userserve-ak.last.fm/serve/252/54697835...  \n",
       "4  http://userserve-ak.last.fm/serve/252/14789013...  "
      ]
     },
     "execution_count": 3,
     "metadata": {},
     "output_type": "execute_result"
    }
   ],
   "source": [
    "artist_data = pd.read_csv(\"Last_fm_data/artists.dat\", sep=\"\\t\")\n",
    "artist_data.head()"
   ]
  },
  {
   "cell_type": "markdown",
   "metadata": {},
   "source": [
    "#### El anterior conjunto de datos nos muestra datos de los Artistas, tales como ID, el Nombre (NAME), la url donde encontrar musica del artista, y una url de una libreria de imagenes del artista."
   ]
  },
  {
   "cell_type": "code",
   "execution_count": 4,
   "metadata": {
    "scrolled": true
   },
   "outputs": [
    {
     "data": {
      "text/html": [
       "<div>\n",
       "<style scoped>\n",
       "    .dataframe tbody tr th:only-of-type {\n",
       "        vertical-align: middle;\n",
       "    }\n",
       "\n",
       "    .dataframe tbody tr th {\n",
       "        vertical-align: top;\n",
       "    }\n",
       "\n",
       "    .dataframe thead th {\n",
       "        text-align: right;\n",
       "    }\n",
       "</style>\n",
       "<table border=\"1\" class=\"dataframe\">\n",
       "  <thead>\n",
       "    <tr style=\"text-align: right;\">\n",
       "      <th></th>\n",
       "      <th>userID</th>\n",
       "      <th>artistID</th>\n",
       "      <th>weight</th>\n",
       "    </tr>\n",
       "  </thead>\n",
       "  <tbody>\n",
       "    <tr>\n",
       "      <th>0</th>\n",
       "      <td>2</td>\n",
       "      <td>51</td>\n",
       "      <td>13883</td>\n",
       "    </tr>\n",
       "    <tr>\n",
       "      <th>1</th>\n",
       "      <td>2</td>\n",
       "      <td>52</td>\n",
       "      <td>11690</td>\n",
       "    </tr>\n",
       "    <tr>\n",
       "      <th>2</th>\n",
       "      <td>2</td>\n",
       "      <td>53</td>\n",
       "      <td>11351</td>\n",
       "    </tr>\n",
       "    <tr>\n",
       "      <th>3</th>\n",
       "      <td>2</td>\n",
       "      <td>54</td>\n",
       "      <td>10300</td>\n",
       "    </tr>\n",
       "    <tr>\n",
       "      <th>4</th>\n",
       "      <td>2</td>\n",
       "      <td>55</td>\n",
       "      <td>8983</td>\n",
       "    </tr>\n",
       "  </tbody>\n",
       "</table>\n",
       "</div>"
      ],
      "text/plain": [
       "   userID  artistID  weight\n",
       "0       2        51   13883\n",
       "1       2        52   11690\n",
       "2       2        53   11351\n",
       "3       2        54   10300\n",
       "4       2        55    8983"
      ]
     },
     "execution_count": 4,
     "metadata": {},
     "output_type": "execute_result"
    }
   ],
   "source": [
    "user_artist_plays = pd.read_csv(\"Last_fm_data/user_artists.dat\", sep=\"\\t\")\n",
    "user_artist_plays.head()"
   ]
  },
  {
   "cell_type": "markdown",
   "metadata": {},
   "source": [
    "#### El anterior conjunto de datos nos muestra datos del detalle de que usuarios escucharon que artista y cuantas veces lo escucharon cada usuario, esta informacion es crucial para determinar que artista fue el mas elejido por los usuarios entre otras cosas. "
   ]
  },
  {
   "cell_type": "code",
   "execution_count": 5,
   "metadata": {},
   "outputs": [
    {
     "name": "stdout",
     "output_type": "stream",
     "text": [
      "Cantidad de calificaciones: 92834\n",
      "Cantidad de artistas: 17632\n",
      "Cantidad de usuarios: 1892\n",
      "Promedio de calificaciones por usuario: 49.07\n",
      "Promedio de calificaciones por artista: 5.27\n"
     ]
    }
   ],
   "source": [
    "n_weight=len(user_artist_plays)\n",
    "n_artist=len(artist_data)\n",
    "n_users=user_artist_plays['userID'].nunique()\n",
    "\n",
    "print(f\"Cantidad de calificaciones: {n_weight}\")\n",
    "print(f\"Cantidad de artistas: {n_artist}\")\n",
    "print(f\"Cantidad de usuarios: {n_users}\")\n",
    "print(f\"Promedio de calificaciones por usuario: {round(n_weight/n_users, 2)}\")\n",
    "print(f\"Promedio de calificaciones por artista: {round(n_weight/n_artist, 2)}\")"
   ]
  },
  {
   "cell_type": "markdown",
   "metadata": {},
   "source": [
    "## Ejercicio 1 - Análisis Exploratorio de Datos\n",
    "\n",
    "En esta primera parte deberán hacer un análisis exploratorio de los datos, aprovechando toda la información brindada por el conjunto. A partir de eso podrán tener mayor idea de qué tipo de datos estarán enfrentando (describe o hist).\n",
    "\n",
    "Algunas preguntas para responder:\n",
    "- ¿Cuáles son los artistas que fueron más escuchados?\n",
    "- ¿Cómo es la distribución de cantidad de listens por user?\n",
    "- ¿Es posible ver el género más escuchado?"
   ]
  },
  {
   "cell_type": "code",
   "execution_count": 6,
   "metadata": {
    "scrolled": false
   },
   "outputs": [
    {
     "data": {
      "text/html": [
       "<div>\n",
       "<style scoped>\n",
       "    .dataframe tbody tr th:only-of-type {\n",
       "        vertical-align: middle;\n",
       "    }\n",
       "\n",
       "    .dataframe tbody tr th {\n",
       "        vertical-align: top;\n",
       "    }\n",
       "\n",
       "    .dataframe thead th {\n",
       "        text-align: right;\n",
       "    }\n",
       "</style>\n",
       "<table border=\"1\" class=\"dataframe\">\n",
       "  <thead>\n",
       "    <tr style=\"text-align: right;\">\n",
       "      <th></th>\n",
       "      <th>userID</th>\n",
       "      <th>artistID</th>\n",
       "      <th>weight</th>\n",
       "      <th>id</th>\n",
       "      <th>name</th>\n",
       "      <th>url</th>\n",
       "      <th>pictureURL</th>\n",
       "    </tr>\n",
       "  </thead>\n",
       "  <tbody>\n",
       "    <tr>\n",
       "      <th>0</th>\n",
       "      <td>2</td>\n",
       "      <td>51</td>\n",
       "      <td>13883</td>\n",
       "      <td>51</td>\n",
       "      <td>Duran Duran</td>\n",
       "      <td>http://www.last.fm/music/Duran+Duran</td>\n",
       "      <td>http://userserve-ak.last.fm/serve/252/155668.jpg</td>\n",
       "    </tr>\n",
       "    <tr>\n",
       "      <th>1</th>\n",
       "      <td>4</td>\n",
       "      <td>51</td>\n",
       "      <td>228</td>\n",
       "      <td>51</td>\n",
       "      <td>Duran Duran</td>\n",
       "      <td>http://www.last.fm/music/Duran+Duran</td>\n",
       "      <td>http://userserve-ak.last.fm/serve/252/155668.jpg</td>\n",
       "    </tr>\n",
       "    <tr>\n",
       "      <th>2</th>\n",
       "      <td>27</td>\n",
       "      <td>51</td>\n",
       "      <td>85</td>\n",
       "      <td>51</td>\n",
       "      <td>Duran Duran</td>\n",
       "      <td>http://www.last.fm/music/Duran+Duran</td>\n",
       "      <td>http://userserve-ak.last.fm/serve/252/155668.jpg</td>\n",
       "    </tr>\n",
       "    <tr>\n",
       "      <th>3</th>\n",
       "      <td>28</td>\n",
       "      <td>51</td>\n",
       "      <td>10</td>\n",
       "      <td>51</td>\n",
       "      <td>Duran Duran</td>\n",
       "      <td>http://www.last.fm/music/Duran+Duran</td>\n",
       "      <td>http://userserve-ak.last.fm/serve/252/155668.jpg</td>\n",
       "    </tr>\n",
       "    <tr>\n",
       "      <th>4</th>\n",
       "      <td>62</td>\n",
       "      <td>51</td>\n",
       "      <td>528</td>\n",
       "      <td>51</td>\n",
       "      <td>Duran Duran</td>\n",
       "      <td>http://www.last.fm/music/Duran+Duran</td>\n",
       "      <td>http://userserve-ak.last.fm/serve/252/155668.jpg</td>\n",
       "    </tr>\n",
       "    <tr>\n",
       "      <th>...</th>\n",
       "      <td>...</td>\n",
       "      <td>...</td>\n",
       "      <td>...</td>\n",
       "      <td>...</td>\n",
       "      <td>...</td>\n",
       "      <td>...</td>\n",
       "      <td>...</td>\n",
       "    </tr>\n",
       "    <tr>\n",
       "      <th>92829</th>\n",
       "      <td>2100</td>\n",
       "      <td>18726</td>\n",
       "      <td>337</td>\n",
       "      <td>18726</td>\n",
       "      <td>Nyktalgia</td>\n",
       "      <td>http://www.last.fm/music/Nyktalgia</td>\n",
       "      <td>http://userserve-ak.last.fm/serve/252/49060167...</td>\n",
       "    </tr>\n",
       "    <tr>\n",
       "      <th>92830</th>\n",
       "      <td>2100</td>\n",
       "      <td>18727</td>\n",
       "      <td>297</td>\n",
       "      <td>18727</td>\n",
       "      <td>Atsakau  niekadA</td>\n",
       "      <td>http://www.last.fm/music/Atsakau++niekadA</td>\n",
       "      <td>http://userserve-ak.last.fm/serve/252/29862435...</td>\n",
       "    </tr>\n",
       "    <tr>\n",
       "      <th>92831</th>\n",
       "      <td>2100</td>\n",
       "      <td>18728</td>\n",
       "      <td>281</td>\n",
       "      <td>18728</td>\n",
       "      <td>Domantas Razauskas</td>\n",
       "      <td>http://www.last.fm/music/Domantas+Razauskas</td>\n",
       "      <td>http://userserve-ak.last.fm/serve/252/165556.jpg</td>\n",
       "    </tr>\n",
       "    <tr>\n",
       "      <th>92832</th>\n",
       "      <td>2100</td>\n",
       "      <td>18729</td>\n",
       "      <td>280</td>\n",
       "      <td>18729</td>\n",
       "      <td>Atalyja</td>\n",
       "      <td>http://www.last.fm/music/Atalyja</td>\n",
       "      <td>http://userserve-ak.last.fm/serve/252/98093.jpg</td>\n",
       "    </tr>\n",
       "    <tr>\n",
       "      <th>92833</th>\n",
       "      <td>2100</td>\n",
       "      <td>18730</td>\n",
       "      <td>263</td>\n",
       "      <td>18730</td>\n",
       "      <td>Les Chants de Nihil</td>\n",
       "      <td>http://www.last.fm/music/Les+Chants+de+Nihil</td>\n",
       "      <td>http://userserve-ak.last.fm/serve/252/34135877...</td>\n",
       "    </tr>\n",
       "  </tbody>\n",
       "</table>\n",
       "<p>92834 rows × 7 columns</p>\n",
       "</div>"
      ],
      "text/plain": [
       "       userID  artistID  weight     id                 name  \\\n",
       "0           2        51   13883     51          Duran Duran   \n",
       "1           4        51     228     51          Duran Duran   \n",
       "2          27        51      85     51          Duran Duran   \n",
       "3          28        51      10     51          Duran Duran   \n",
       "4          62        51     528     51          Duran Duran   \n",
       "...       ...       ...     ...    ...                  ...   \n",
       "92829    2100     18726     337  18726            Nyktalgia   \n",
       "92830    2100     18727     297  18727     Atsakau  niekadA   \n",
       "92831    2100     18728     281  18728   Domantas Razauskas   \n",
       "92832    2100     18729     280  18729              Atalyja   \n",
       "92833    2100     18730     263  18730  Les Chants de Nihil   \n",
       "\n",
       "                                                url  \\\n",
       "0              http://www.last.fm/music/Duran+Duran   \n",
       "1              http://www.last.fm/music/Duran+Duran   \n",
       "2              http://www.last.fm/music/Duran+Duran   \n",
       "3              http://www.last.fm/music/Duran+Duran   \n",
       "4              http://www.last.fm/music/Duran+Duran   \n",
       "...                                             ...   \n",
       "92829            http://www.last.fm/music/Nyktalgia   \n",
       "92830     http://www.last.fm/music/Atsakau++niekadA   \n",
       "92831   http://www.last.fm/music/Domantas+Razauskas   \n",
       "92832              http://www.last.fm/music/Atalyja   \n",
       "92833  http://www.last.fm/music/Les+Chants+de+Nihil   \n",
       "\n",
       "                                              pictureURL  \n",
       "0       http://userserve-ak.last.fm/serve/252/155668.jpg  \n",
       "1       http://userserve-ak.last.fm/serve/252/155668.jpg  \n",
       "2       http://userserve-ak.last.fm/serve/252/155668.jpg  \n",
       "3       http://userserve-ak.last.fm/serve/252/155668.jpg  \n",
       "4       http://userserve-ak.last.fm/serve/252/155668.jpg  \n",
       "...                                                  ...  \n",
       "92829  http://userserve-ak.last.fm/serve/252/49060167...  \n",
       "92830  http://userserve-ak.last.fm/serve/252/29862435...  \n",
       "92831   http://userserve-ak.last.fm/serve/252/165556.jpg  \n",
       "92832    http://userserve-ak.last.fm/serve/252/98093.jpg  \n",
       "92833  http://userserve-ak.last.fm/serve/252/34135877...  \n",
       "\n",
       "[92834 rows x 7 columns]"
      ]
     },
     "execution_count": 6,
     "metadata": {},
     "output_type": "execute_result"
    }
   ],
   "source": [
    "df_analisis = pd.merge(user_artist_plays, artist_data, left_on='artistID', right_on='id')\n",
    "df_analisis"
   ]
  },
  {
   "cell_type": "code",
   "execution_count": 7,
   "metadata": {},
   "outputs": [
    {
     "data": {
      "text/html": [
       "<div>\n",
       "<style scoped>\n",
       "    .dataframe tbody tr th:only-of-type {\n",
       "        vertical-align: middle;\n",
       "    }\n",
       "\n",
       "    .dataframe tbody tr th {\n",
       "        vertical-align: top;\n",
       "    }\n",
       "\n",
       "    .dataframe thead th {\n",
       "        text-align: right;\n",
       "    }\n",
       "</style>\n",
       "<table border=\"1\" class=\"dataframe\">\n",
       "  <thead>\n",
       "    <tr style=\"text-align: right;\">\n",
       "      <th></th>\n",
       "      <th>userID</th>\n",
       "      <th>artistID</th>\n",
       "      <th>weight</th>\n",
       "      <th>id</th>\n",
       "    </tr>\n",
       "  </thead>\n",
       "  <tbody>\n",
       "    <tr>\n",
       "      <th>count</th>\n",
       "      <td>92834.000000</td>\n",
       "      <td>92834.000000</td>\n",
       "      <td>92834.00000</td>\n",
       "      <td>92834.000000</td>\n",
       "    </tr>\n",
       "    <tr>\n",
       "      <th>mean</th>\n",
       "      <td>1037.010481</td>\n",
       "      <td>3331.123145</td>\n",
       "      <td>745.24393</td>\n",
       "      <td>3331.123145</td>\n",
       "    </tr>\n",
       "    <tr>\n",
       "      <th>std</th>\n",
       "      <td>610.870436</td>\n",
       "      <td>4383.590502</td>\n",
       "      <td>3751.32208</td>\n",
       "      <td>4383.590502</td>\n",
       "    </tr>\n",
       "    <tr>\n",
       "      <th>min</th>\n",
       "      <td>2.000000</td>\n",
       "      <td>1.000000</td>\n",
       "      <td>1.00000</td>\n",
       "      <td>1.000000</td>\n",
       "    </tr>\n",
       "    <tr>\n",
       "      <th>25%</th>\n",
       "      <td>502.000000</td>\n",
       "      <td>436.000000</td>\n",
       "      <td>107.00000</td>\n",
       "      <td>436.000000</td>\n",
       "    </tr>\n",
       "    <tr>\n",
       "      <th>50%</th>\n",
       "      <td>1029.000000</td>\n",
       "      <td>1246.000000</td>\n",
       "      <td>260.00000</td>\n",
       "      <td>1246.000000</td>\n",
       "    </tr>\n",
       "    <tr>\n",
       "      <th>75%</th>\n",
       "      <td>1568.000000</td>\n",
       "      <td>4350.000000</td>\n",
       "      <td>614.00000</td>\n",
       "      <td>4350.000000</td>\n",
       "    </tr>\n",
       "    <tr>\n",
       "      <th>max</th>\n",
       "      <td>2100.000000</td>\n",
       "      <td>18745.000000</td>\n",
       "      <td>352698.00000</td>\n",
       "      <td>18745.000000</td>\n",
       "    </tr>\n",
       "  </tbody>\n",
       "</table>\n",
       "</div>"
      ],
      "text/plain": [
       "             userID      artistID        weight            id\n",
       "count  92834.000000  92834.000000   92834.00000  92834.000000\n",
       "mean    1037.010481   3331.123145     745.24393   3331.123145\n",
       "std      610.870436   4383.590502    3751.32208   4383.590502\n",
       "min        2.000000      1.000000       1.00000      1.000000\n",
       "25%      502.000000    436.000000     107.00000    436.000000\n",
       "50%     1029.000000   1246.000000     260.00000   1246.000000\n",
       "75%     1568.000000   4350.000000     614.00000   4350.000000\n",
       "max     2100.000000  18745.000000  352698.00000  18745.000000"
      ]
     },
     "execution_count": 7,
     "metadata": {},
     "output_type": "execute_result"
    }
   ],
   "source": [
    "df_analisis.describe()"
   ]
  },
  {
   "cell_type": "code",
   "execution_count": 8,
   "metadata": {},
   "outputs": [
    {
     "data": {
      "text/html": [
       "<div>\n",
       "<style scoped>\n",
       "    .dataframe tbody tr th:only-of-type {\n",
       "        vertical-align: middle;\n",
       "    }\n",
       "\n",
       "    .dataframe tbody tr th {\n",
       "        vertical-align: top;\n",
       "    }\n",
       "\n",
       "    .dataframe thead th {\n",
       "        text-align: right;\n",
       "    }\n",
       "</style>\n",
       "<table border=\"1\" class=\"dataframe\">\n",
       "  <thead>\n",
       "    <tr style=\"text-align: right;\">\n",
       "      <th></th>\n",
       "      <th></th>\n",
       "      <th>userID</th>\n",
       "    </tr>\n",
       "    <tr>\n",
       "      <th>artistID</th>\n",
       "      <th>name</th>\n",
       "      <th></th>\n",
       "    </tr>\n",
       "  </thead>\n",
       "  <tbody>\n",
       "    <tr>\n",
       "      <th>89</th>\n",
       "      <th>Lady Gaga</th>\n",
       "      <td>611</td>\n",
       "    </tr>\n",
       "    <tr>\n",
       "      <th>289</th>\n",
       "      <th>Britney Spears</th>\n",
       "      <td>522</td>\n",
       "    </tr>\n",
       "    <tr>\n",
       "      <th>288</th>\n",
       "      <th>Rihanna</th>\n",
       "      <td>484</td>\n",
       "    </tr>\n",
       "    <tr>\n",
       "      <th>227</th>\n",
       "      <th>The Beatles</th>\n",
       "      <td>480</td>\n",
       "    </tr>\n",
       "    <tr>\n",
       "      <th>300</th>\n",
       "      <th>Katy Perry</th>\n",
       "      <td>473</td>\n",
       "    </tr>\n",
       "    <tr>\n",
       "      <th>67</th>\n",
       "      <th>Madonna</th>\n",
       "      <td>429</td>\n",
       "    </tr>\n",
       "    <tr>\n",
       "      <th>333</th>\n",
       "      <th>Avril Lavigne</th>\n",
       "      <td>417</td>\n",
       "    </tr>\n",
       "    <tr>\n",
       "      <th>292</th>\n",
       "      <th>Christina Aguilera</th>\n",
       "      <td>407</td>\n",
       "    </tr>\n",
       "    <tr>\n",
       "      <th>190</th>\n",
       "      <th>Muse</th>\n",
       "      <td>400</td>\n",
       "    </tr>\n",
       "    <tr>\n",
       "      <th>498</th>\n",
       "      <th>Paramore</th>\n",
       "      <td>399</td>\n",
       "    </tr>\n",
       "  </tbody>\n",
       "</table>\n",
       "</div>"
      ],
      "text/plain": [
       "                             userID\n",
       "artistID name                      \n",
       "89       Lady Gaga              611\n",
       "289      Britney Spears         522\n",
       "288      Rihanna                484\n",
       "227      The Beatles            480\n",
       "300      Katy Perry             473\n",
       "67       Madonna                429\n",
       "333      Avril Lavigne          417\n",
       "292      Christina Aguilera     407\n",
       "190      Muse                   400\n",
       "498      Paramore               399"
      ]
     },
     "execution_count": 8,
     "metadata": {},
     "output_type": "execute_result"
    }
   ],
   "source": [
    "df_analisis[['userID','artistID','name']].groupby(['artistID','name']).count().sort_values('userID', ascending=[False]).head(10)"
   ]
  },
  {
   "cell_type": "markdown",
   "metadata": {},
   "source": [
    "#### ¿Cuáles son los artistas que fueron más escuchados? \n",
    "La query anterior nos trae el top 10 de artistas mas escuchados por diferentes usuarios."
   ]
  },
  {
   "cell_type": "code",
   "execution_count": 9,
   "metadata": {},
   "outputs": [],
   "source": [
    "df_analisis_por_peso = df_analisis[['artistID','weight']].groupby(['artistID']).sum()"
   ]
  },
  {
   "cell_type": "code",
   "execution_count": 10,
   "metadata": {},
   "outputs": [],
   "source": [
    "df_analisis_por_peso = df_analisis_por_peso.reset_index()"
   ]
  },
  {
   "cell_type": "code",
   "execution_count": 11,
   "metadata": {
    "scrolled": true
   },
   "outputs": [
    {
     "data": {
      "text/html": [
       "<div>\n",
       "<style scoped>\n",
       "    .dataframe tbody tr th:only-of-type {\n",
       "        vertical-align: middle;\n",
       "    }\n",
       "\n",
       "    .dataframe tbody tr th {\n",
       "        vertical-align: top;\n",
       "    }\n",
       "\n",
       "    .dataframe thead th {\n",
       "        text-align: right;\n",
       "    }\n",
       "</style>\n",
       "<table border=\"1\" class=\"dataframe\">\n",
       "  <thead>\n",
       "    <tr style=\"text-align: right;\">\n",
       "      <th></th>\n",
       "      <th>artistID</th>\n",
       "      <th>weight</th>\n",
       "    </tr>\n",
       "  </thead>\n",
       "  <tbody>\n",
       "    <tr>\n",
       "      <th>49</th>\n",
       "      <td>55</td>\n",
       "      <td>449292</td>\n",
       "    </tr>\n",
       "    <tr>\n",
       "      <th>45</th>\n",
       "      <td>51</td>\n",
       "      <td>348919</td>\n",
       "    </tr>\n",
       "    <tr>\n",
       "      <th>6</th>\n",
       "      <td>7</td>\n",
       "      <td>96201</td>\n",
       "    </tr>\n",
       "    <tr>\n",
       "      <th>47</th>\n",
       "      <td>53</td>\n",
       "      <td>44230</td>\n",
       "    </tr>\n",
       "    <tr>\n",
       "      <th>27</th>\n",
       "      <td>30</td>\n",
       "      <td>38949</td>\n",
       "    </tr>\n",
       "    <tr>\n",
       "      <th>39</th>\n",
       "      <td>45</td>\n",
       "      <td>29358</td>\n",
       "    </tr>\n",
       "    <tr>\n",
       "      <th>46</th>\n",
       "      <td>52</td>\n",
       "      <td>18787</td>\n",
       "    </tr>\n",
       "    <tr>\n",
       "      <th>48</th>\n",
       "      <td>54</td>\n",
       "      <td>15927</td>\n",
       "    </tr>\n",
       "    <tr>\n",
       "      <th>23</th>\n",
       "      <td>25</td>\n",
       "      <td>15166</td>\n",
       "    </tr>\n",
       "    <tr>\n",
       "      <th>34</th>\n",
       "      <td>39</td>\n",
       "      <td>13816</td>\n",
       "    </tr>\n",
       "  </tbody>\n",
       "</table>\n",
       "</div>"
      ],
      "text/plain": [
       "    artistID  weight\n",
       "49        55  449292\n",
       "45        51  348919\n",
       "6          7   96201\n",
       "47        53   44230\n",
       "27        30   38949\n",
       "39        45   29358\n",
       "46        52   18787\n",
       "48        54   15927\n",
       "23        25   15166\n",
       "34        39   13816"
      ]
     },
     "execution_count": 11,
     "metadata": {},
     "output_type": "execute_result"
    }
   ],
   "source": [
    "df_analisis_por_peso.head(50).sort_values('weight', ascending=[False]).head(10)"
   ]
  },
  {
   "cell_type": "markdown",
   "metadata": {},
   "source": [
    "#### ¿Cuáles son los artistas que fueron más escuchados? La query anterior nos trae el top 10 de artistas mas escuchados por peso."
   ]
  },
  {
   "cell_type": "markdown",
   "metadata": {},
   "source": [
    "### Normalización de los Pesos"
   ]
  },
  {
   "cell_type": "markdown",
   "metadata": {},
   "source": [
    "#### Se normalizan los pesos, ya que va a permitir tener mejor la relación de tiempo escucha de cada usuario con los artistas escuchados"
   ]
  },
  {
   "cell_type": "code",
   "execution_count": 12,
   "metadata": {
    "scrolled": true
   },
   "outputs": [
    {
     "data": {
      "text/html": [
       "<div>\n",
       "<style scoped>\n",
       "    .dataframe tbody tr th:only-of-type {\n",
       "        vertical-align: middle;\n",
       "    }\n",
       "\n",
       "    .dataframe tbody tr th {\n",
       "        vertical-align: top;\n",
       "    }\n",
       "\n",
       "    .dataframe thead th {\n",
       "        text-align: right;\n",
       "    }\n",
       "</style>\n",
       "<table border=\"1\" class=\"dataframe\">\n",
       "  <thead>\n",
       "    <tr style=\"text-align: right;\">\n",
       "      <th></th>\n",
       "      <th>userID</th>\n",
       "      <th>tot_weight</th>\n",
       "    </tr>\n",
       "  </thead>\n",
       "  <tbody>\n",
       "    <tr>\n",
       "      <th>0</th>\n",
       "      <td>2</td>\n",
       "      <td>168737</td>\n",
       "    </tr>\n",
       "    <tr>\n",
       "      <th>1</th>\n",
       "      <td>3</td>\n",
       "      <td>20501</td>\n",
       "    </tr>\n",
       "    <tr>\n",
       "      <th>2</th>\n",
       "      <td>4</td>\n",
       "      <td>26930</td>\n",
       "    </tr>\n",
       "    <tr>\n",
       "      <th>3</th>\n",
       "      <td>5</td>\n",
       "      <td>13159</td>\n",
       "    </tr>\n",
       "    <tr>\n",
       "      <th>4</th>\n",
       "      <td>6</td>\n",
       "      <td>1011</td>\n",
       "    </tr>\n",
       "  </tbody>\n",
       "</table>\n",
       "</div>"
      ],
      "text/plain": [
       "   userID  tot_weight\n",
       "0       2      168737\n",
       "1       3       20501\n",
       "2       4       26930\n",
       "3       5       13159\n",
       "4       6        1011"
      ]
     },
     "execution_count": 12,
     "metadata": {},
     "output_type": "execute_result"
    }
   ],
   "source": [
    "#Total de Peso por User\n",
    "\n",
    "df_analisis_tot = df_analisis[['userID','weight']].groupby(['userID']).sum()\n",
    "df_analisis_tot = df_analisis_tot.reset_index()\n",
    "df_analisis_tot = df_analisis_tot.rename(columns={'weight':'tot_weight'})\n",
    "df_analisis_tot.head()"
   ]
  },
  {
   "cell_type": "code",
   "execution_count": 13,
   "metadata": {},
   "outputs": [
    {
     "data": {
      "text/html": [
       "<div>\n",
       "<style scoped>\n",
       "    .dataframe tbody tr th:only-of-type {\n",
       "        vertical-align: middle;\n",
       "    }\n",
       "\n",
       "    .dataframe tbody tr th {\n",
       "        vertical-align: top;\n",
       "    }\n",
       "\n",
       "    .dataframe thead th {\n",
       "        text-align: right;\n",
       "    }\n",
       "</style>\n",
       "<table border=\"1\" class=\"dataframe\">\n",
       "  <thead>\n",
       "    <tr style=\"text-align: right;\">\n",
       "      <th></th>\n",
       "      <th>weight</th>\n",
       "    </tr>\n",
       "    <tr>\n",
       "      <th>userID</th>\n",
       "      <th></th>\n",
       "    </tr>\n",
       "  </thead>\n",
       "  <tbody>\n",
       "    <tr>\n",
       "      <th>2</th>\n",
       "      <td>3374.74</td>\n",
       "    </tr>\n",
       "    <tr>\n",
       "      <th>3</th>\n",
       "      <td>410.02</td>\n",
       "    </tr>\n",
       "    <tr>\n",
       "      <th>4</th>\n",
       "      <td>538.60</td>\n",
       "    </tr>\n",
       "    <tr>\n",
       "      <th>5</th>\n",
       "      <td>263.18</td>\n",
       "    </tr>\n",
       "    <tr>\n",
       "      <th>6</th>\n",
       "      <td>20.22</td>\n",
       "    </tr>\n",
       "  </tbody>\n",
       "</table>\n",
       "</div>"
      ],
      "text/plain": [
       "         weight\n",
       "userID         \n",
       "2       3374.74\n",
       "3        410.02\n",
       "4        538.60\n",
       "5        263.18\n",
       "6         20.22"
      ]
     },
     "execution_count": 13,
     "metadata": {},
     "output_type": "execute_result"
    }
   ],
   "source": [
    "df_analisis_mean = df_analisis[['userID','weight']].groupby(['userID']).mean()\n",
    "df_analisis_mean.head()"
   ]
  },
  {
   "cell_type": "code",
   "execution_count": 14,
   "metadata": {
    "scrolled": true
   },
   "outputs": [
    {
     "data": {
      "text/html": [
       "<div>\n",
       "<style scoped>\n",
       "    .dataframe tbody tr th:only-of-type {\n",
       "        vertical-align: middle;\n",
       "    }\n",
       "\n",
       "    .dataframe tbody tr th {\n",
       "        vertical-align: top;\n",
       "    }\n",
       "\n",
       "    .dataframe thead th {\n",
       "        text-align: right;\n",
       "    }\n",
       "</style>\n",
       "<table border=\"1\" class=\"dataframe\">\n",
       "  <thead>\n",
       "    <tr style=\"text-align: right;\">\n",
       "      <th></th>\n",
       "      <th>userID</th>\n",
       "      <th>artistID</th>\n",
       "      <th>weight</th>\n",
       "      <th>id</th>\n",
       "      <th>name</th>\n",
       "      <th>url</th>\n",
       "      <th>pictureURL</th>\n",
       "      <th>tot_weight</th>\n",
       "      <th>norm_weight</th>\n",
       "    </tr>\n",
       "  </thead>\n",
       "  <tbody>\n",
       "    <tr>\n",
       "      <th>0</th>\n",
       "      <td>2</td>\n",
       "      <td>51</td>\n",
       "      <td>13883</td>\n",
       "      <td>51</td>\n",
       "      <td>Duran Duran</td>\n",
       "      <td>http://www.last.fm/music/Duran+Duran</td>\n",
       "      <td>http://userserve-ak.last.fm/serve/252/155668.jpg</td>\n",
       "      <td>168737</td>\n",
       "      <td>0.082276</td>\n",
       "    </tr>\n",
       "    <tr>\n",
       "      <th>1</th>\n",
       "      <td>2</td>\n",
       "      <td>52</td>\n",
       "      <td>11690</td>\n",
       "      <td>52</td>\n",
       "      <td>Morcheeba</td>\n",
       "      <td>http://www.last.fm/music/Morcheeba</td>\n",
       "      <td>http://userserve-ak.last.fm/serve/252/46005111...</td>\n",
       "      <td>168737</td>\n",
       "      <td>0.069279</td>\n",
       "    </tr>\n",
       "    <tr>\n",
       "      <th>2</th>\n",
       "      <td>2</td>\n",
       "      <td>53</td>\n",
       "      <td>11351</td>\n",
       "      <td>53</td>\n",
       "      <td>Air</td>\n",
       "      <td>http://www.last.fm/music/Air</td>\n",
       "      <td>http://userserve-ak.last.fm/serve/252/251119.jpg</td>\n",
       "      <td>168737</td>\n",
       "      <td>0.067270</td>\n",
       "    </tr>\n",
       "    <tr>\n",
       "      <th>3</th>\n",
       "      <td>2</td>\n",
       "      <td>54</td>\n",
       "      <td>10300</td>\n",
       "      <td>54</td>\n",
       "      <td>Hooverphonic</td>\n",
       "      <td>http://www.last.fm/music/Hooverphonic</td>\n",
       "      <td>http://userserve-ak.last.fm/serve/252/40553471...</td>\n",
       "      <td>168737</td>\n",
       "      <td>0.061042</td>\n",
       "    </tr>\n",
       "    <tr>\n",
       "      <th>4</th>\n",
       "      <td>2</td>\n",
       "      <td>55</td>\n",
       "      <td>8983</td>\n",
       "      <td>55</td>\n",
       "      <td>Kylie Minogue</td>\n",
       "      <td>http://www.last.fm/music/Kylie+Minogue</td>\n",
       "      <td>http://userserve-ak.last.fm/serve/252/12740835...</td>\n",
       "      <td>168737</td>\n",
       "      <td>0.053237</td>\n",
       "    </tr>\n",
       "  </tbody>\n",
       "</table>\n",
       "</div>"
      ],
      "text/plain": [
       "   userID  artistID  weight  id           name  \\\n",
       "0       2        51   13883  51    Duran Duran   \n",
       "1       2        52   11690  52      Morcheeba   \n",
       "2       2        53   11351  53            Air   \n",
       "3       2        54   10300  54   Hooverphonic   \n",
       "4       2        55    8983  55  Kylie Minogue   \n",
       "\n",
       "                                      url  \\\n",
       "0    http://www.last.fm/music/Duran+Duran   \n",
       "1      http://www.last.fm/music/Morcheeba   \n",
       "2            http://www.last.fm/music/Air   \n",
       "3   http://www.last.fm/music/Hooverphonic   \n",
       "4  http://www.last.fm/music/Kylie+Minogue   \n",
       "\n",
       "                                          pictureURL  tot_weight  norm_weight  \n",
       "0   http://userserve-ak.last.fm/serve/252/155668.jpg      168737     0.082276  \n",
       "1  http://userserve-ak.last.fm/serve/252/46005111...      168737     0.069279  \n",
       "2   http://userserve-ak.last.fm/serve/252/251119.jpg      168737     0.067270  \n",
       "3  http://userserve-ak.last.fm/serve/252/40553471...      168737     0.061042  \n",
       "4  http://userserve-ak.last.fm/serve/252/12740835...      168737     0.053237  "
      ]
     },
     "execution_count": 14,
     "metadata": {},
     "output_type": "execute_result"
    }
   ],
   "source": [
    "df_analisis_norm = pd.merge(df_analisis,df_analisis_tot,how='inner',on=['userID'])\n",
    "df_analisis_norm['norm_weight'] = df_analisis_norm['weight']/df_analisis_norm['tot_weight']\n",
    "df_analisis_norm.head()"
   ]
  },
  {
   "cell_type": "code",
   "execution_count": 15,
   "metadata": {},
   "outputs": [
    {
     "data": {
      "text/plain": [
       "<matplotlib.axes._subplots.AxesSubplot at 0x13f44c06d08>"
      ]
     },
     "execution_count": 15,
     "metadata": {},
     "output_type": "execute_result"
    },
    {
     "data": {
      "image/png": "[encoded data removed]",
      "text/plain": [
       "<Figure size 432x288 with 1 Axes>"
      ]
     },
     "metadata": {
      "needs_background": "light"
     },
     "output_type": "display_data"
    }
   ],
   "source": [
    "dist_list_x_user_nn = df_analisis_norm[['userID','weight']]\n",
    "dist_list_x_user_nn\n",
    "\n",
    "sns.distplot(dist_list_x_user_nn.weight)"
   ]
  },
  {
   "cell_type": "code",
   "execution_count": 16,
   "metadata": {},
   "outputs": [
    {
     "data": {
      "text/plain": [
       "<matplotlib.axes._subplots.AxesSubplot at 0x13f4520a388>"
      ]
     },
     "execution_count": 16,
     "metadata": {},
     "output_type": "execute_result"
    },
    {
     "data": {
      "image/png": "[encoded data removed]",
      "text/plain": [
       "<Figure size 432x288 with 1 Axes>"
      ]
     },
     "metadata": {
      "needs_background": "light"
     },
     "output_type": "display_data"
    }
   ],
   "source": [
    "dist_list_x_user_norm = df_analisis_norm[['userID','norm_weight']]\n",
    "dist_list_x_user_norm\n",
    "\n",
    "sns.distplot(dist_list_x_user_norm.norm_weight)"
   ]
  },
  {
   "cell_type": "markdown",
   "metadata": {},
   "source": [
    "#### ¿Cómo es la distribución de cantidad de listens por user? La Distribución del total de listens por user se calcula a continuación."
   ]
  },
  {
   "cell_type": "code",
   "execution_count": 17,
   "metadata": {},
   "outputs": [
    {
     "data": {
      "text/plain": [
       "<matplotlib.axes._subplots.AxesSubplot at 0x13f452ed148>"
      ]
     },
     "execution_count": 17,
     "metadata": {},
     "output_type": "execute_result"
    },
    {
     "data": {
      "image/png": "[encoded data removed]",
      "text/plain": [
       "<Figure size 432x288 with 1 Axes>"
      ]
     },
     "metadata": {
      "needs_background": "light"
     },
     "output_type": "display_data"
    }
   ],
   "source": [
    "dist_list_x_user = df_analisis_tot[['userID','tot_weight']]\n",
    "dist_list_x_user\n",
    "\n",
    "sns.distplot(dist_list_x_user.tot_weight)"
   ]
  },
  {
   "cell_type": "markdown",
   "metadata": {},
   "source": []
  },
  {
   "cell_type": "code",
   "execution_count": 18,
   "metadata": {},
   "outputs": [
    {
     "data": {
      "text/html": [
       "<div>\n",
       "<style scoped>\n",
       "    .dataframe tbody tr th:only-of-type {\n",
       "        vertical-align: middle;\n",
       "    }\n",
       "\n",
       "    .dataframe tbody tr th {\n",
       "        vertical-align: top;\n",
       "    }\n",
       "\n",
       "    .dataframe thead th {\n",
       "        text-align: right;\n",
       "    }\n",
       "</style>\n",
       "<table border=\"1\" class=\"dataframe\">\n",
       "  <thead>\n",
       "    <tr style=\"text-align: right;\">\n",
       "      <th></th>\n",
       "      <th></th>\n",
       "      <th>userID</th>\n",
       "      <th>weight</th>\n",
       "      <th>tot_weight</th>\n",
       "      <th>norm_weight</th>\n",
       "    </tr>\n",
       "    <tr>\n",
       "      <th>artistID</th>\n",
       "      <th>name</th>\n",
       "      <th></th>\n",
       "      <th></th>\n",
       "      <th></th>\n",
       "      <th></th>\n",
       "    </tr>\n",
       "  </thead>\n",
       "  <tbody>\n",
       "    <tr>\n",
       "      <th>289</th>\n",
       "      <th>Britney Spears</th>\n",
       "      <td>536585</td>\n",
       "      <td>2393140</td>\n",
       "      <td>25481529</td>\n",
       "      <td>43.272625</td>\n",
       "    </tr>\n",
       "    <tr>\n",
       "      <th>72</th>\n",
       "      <th>Depeche Mode</th>\n",
       "      <td>282739</td>\n",
       "      <td>1301308</td>\n",
       "      <td>9448566</td>\n",
       "      <td>27.453508</td>\n",
       "    </tr>\n",
       "    <tr>\n",
       "      <th>89</th>\n",
       "      <th>Lady Gaga</th>\n",
       "      <td>621257</td>\n",
       "      <td>1291387</td>\n",
       "      <td>27416932</td>\n",
       "      <td>30.240944</td>\n",
       "    </tr>\n",
       "    <tr>\n",
       "      <th>292</th>\n",
       "      <th>Christina Aguilera</th>\n",
       "      <td>397259</td>\n",
       "      <td>1058405</td>\n",
       "      <td>20936405</td>\n",
       "      <td>18.217974</td>\n",
       "    </tr>\n",
       "    <tr>\n",
       "      <th>498</th>\n",
       "      <th>Paramore</th>\n",
       "      <td>416630</td>\n",
       "      <td>963449</td>\n",
       "      <td>18495951</td>\n",
       "      <td>13.677426</td>\n",
       "    </tr>\n",
       "    <tr>\n",
       "      <th>67</th>\n",
       "      <th>Madonna</th>\n",
       "      <td>424473</td>\n",
       "      <td>921198</td>\n",
       "      <td>21828237</td>\n",
       "      <td>18.346709</td>\n",
       "    </tr>\n",
       "    <tr>\n",
       "      <th>288</th>\n",
       "      <th>Rihanna</th>\n",
       "      <td>493104</td>\n",
       "      <td>905423</td>\n",
       "      <td>23300391</td>\n",
       "      <td>17.972141</td>\n",
       "    </tr>\n",
       "    <tr>\n",
       "      <th>701</th>\n",
       "      <th>Shakira</th>\n",
       "      <td>312770</td>\n",
       "      <td>688529</td>\n",
       "      <td>16145370</td>\n",
       "      <td>8.434474</td>\n",
       "    </tr>\n",
       "    <tr>\n",
       "      <th>227</th>\n",
       "      <th>The Beatles</th>\n",
       "      <td>516563</td>\n",
       "      <td>662116</td>\n",
       "      <td>16403627</td>\n",
       "      <td>19.922865</td>\n",
       "    </tr>\n",
       "    <tr>\n",
       "      <th>300</th>\n",
       "      <th>Katy Perry</th>\n",
       "      <td>487287</td>\n",
       "      <td>532545</td>\n",
       "      <td>23159567</td>\n",
       "      <td>12.280941</td>\n",
       "    </tr>\n",
       "  </tbody>\n",
       "</table>\n",
       "</div>"
      ],
      "text/plain": [
       "                             userID   weight  tot_weight  norm_weight\n",
       "artistID name                                                        \n",
       "289      Britney Spears      536585  2393140    25481529    43.272625\n",
       "72       Depeche Mode        282739  1301308     9448566    27.453508\n",
       "89       Lady Gaga           621257  1291387    27416932    30.240944\n",
       "292      Christina Aguilera  397259  1058405    20936405    18.217974\n",
       "498      Paramore            416630   963449    18495951    13.677426\n",
       "67       Madonna             424473   921198    21828237    18.346709\n",
       "288      Rihanna             493104   905423    23300391    17.972141\n",
       "701      Shakira             312770   688529    16145370     8.434474\n",
       "227      The Beatles         516563   662116    16403627    19.922865\n",
       "300      Katy Perry          487287   532545    23159567    12.280941"
      ]
     },
     "execution_count": 18,
     "metadata": {},
     "output_type": "execute_result"
    }
   ],
   "source": [
    "df_analisis_norm.groupby(['artistID','name']).sum().sort_values(by=['weight','tot_weight','norm_weight'], ascending=False)[['userID','weight','tot_weight','norm_weight']].head(10)"
   ]
  },
  {
   "cell_type": "markdown",
   "metadata": {},
   "source": [
    "#### A continuacion los Artistas menos escuchados:"
   ]
  },
  {
   "cell_type": "code",
   "execution_count": 19,
   "metadata": {
    "scrolled": true
   },
   "outputs": [
    {
     "data": {
      "text/html": [
       "<div>\n",
       "<style scoped>\n",
       "    .dataframe tbody tr th:only-of-type {\n",
       "        vertical-align: middle;\n",
       "    }\n",
       "\n",
       "    .dataframe tbody tr th {\n",
       "        vertical-align: top;\n",
       "    }\n",
       "\n",
       "    .dataframe thead th {\n",
       "        text-align: right;\n",
       "    }\n",
       "</style>\n",
       "<table border=\"1\" class=\"dataframe\">\n",
       "  <thead>\n",
       "    <tr style=\"text-align: right;\">\n",
       "      <th></th>\n",
       "      <th></th>\n",
       "      <th>weight</th>\n",
       "    </tr>\n",
       "    <tr>\n",
       "      <th>artistID</th>\n",
       "      <th>name</th>\n",
       "      <th></th>\n",
       "    </tr>\n",
       "  </thead>\n",
       "  <tbody>\n",
       "    <tr>\n",
       "      <th>289</th>\n",
       "      <th>Britney Spears</th>\n",
       "      <td>2393140</td>\n",
       "    </tr>\n",
       "    <tr>\n",
       "      <th>72</th>\n",
       "      <th>Depeche Mode</th>\n",
       "      <td>1301308</td>\n",
       "    </tr>\n",
       "    <tr>\n",
       "      <th>89</th>\n",
       "      <th>Lady Gaga</th>\n",
       "      <td>1291387</td>\n",
       "    </tr>\n",
       "    <tr>\n",
       "      <th>292</th>\n",
       "      <th>Christina Aguilera</th>\n",
       "      <td>1058405</td>\n",
       "    </tr>\n",
       "    <tr>\n",
       "      <th>498</th>\n",
       "      <th>Paramore</th>\n",
       "      <td>963449</td>\n",
       "    </tr>\n",
       "    <tr>\n",
       "      <th>67</th>\n",
       "      <th>Madonna</th>\n",
       "      <td>921198</td>\n",
       "    </tr>\n",
       "    <tr>\n",
       "      <th>288</th>\n",
       "      <th>Rihanna</th>\n",
       "      <td>905423</td>\n",
       "    </tr>\n",
       "    <tr>\n",
       "      <th>701</th>\n",
       "      <th>Shakira</th>\n",
       "      <td>688529</td>\n",
       "    </tr>\n",
       "    <tr>\n",
       "      <th>227</th>\n",
       "      <th>The Beatles</th>\n",
       "      <td>662116</td>\n",
       "    </tr>\n",
       "    <tr>\n",
       "      <th>300</th>\n",
       "      <th>Katy Perry</th>\n",
       "      <td>532545</td>\n",
       "    </tr>\n",
       "  </tbody>\n",
       "</table>\n",
       "</div>"
      ],
      "text/plain": [
       "                              weight\n",
       "artistID name                       \n",
       "289      Britney Spears      2393140\n",
       "72       Depeche Mode        1301308\n",
       "89       Lady Gaga           1291387\n",
       "292      Christina Aguilera  1058405\n",
       "498      Paramore             963449\n",
       "67       Madonna              921198\n",
       "288      Rihanna              905423\n",
       "701      Shakira              688529\n",
       "227      The Beatles          662116\n",
       "300      Katy Perry           532545"
      ]
     },
     "execution_count": 19,
     "metadata": {},
     "output_type": "execute_result"
    }
   ],
   "source": [
    "df_top10_artist = df_analisis.groupby(['artistID','name']).sum()[['weight']].sort_values(by=['weight'], ascending=False)\n",
    "df_top10_artist.head(10)"
   ]
  },
  {
   "cell_type": "code",
   "execution_count": 20,
   "metadata": {},
   "outputs": [
    {
     "data": {
      "image/png": "[encoded data removed]",
      "text/plain": [
       "<Figure size 432x288 with 1 Axes>"
      ]
     },
     "metadata": {
      "needs_background": "light"
     },
     "output_type": "display_data"
    }
   ],
   "source": [
    "top10_artist_plot = df_top10_artist.head(10).reset_index().drop(columns=['artistID'])\n",
    "\n",
    "sns.barplot(x=\"name\", y=\"weight\", data=top10_artist_plot)\n",
    "plt.xticks(rotation=60)\n",
    "plt.show()"
   ]
  },
  {
   "cell_type": "markdown",
   "metadata": {},
   "source": [
    "#### Cantidad de listens por User"
   ]
  },
  {
   "cell_type": "code",
   "execution_count": 21,
   "metadata": {
    "scrolled": true
   },
   "outputs": [
    {
     "data": {
      "text/html": [
       "<div>\n",
       "<style scoped>\n",
       "    .dataframe tbody tr th:only-of-type {\n",
       "        vertical-align: middle;\n",
       "    }\n",
       "\n",
       "    .dataframe tbody tr th {\n",
       "        vertical-align: top;\n",
       "    }\n",
       "\n",
       "    .dataframe thead th {\n",
       "        text-align: right;\n",
       "    }\n",
       "</style>\n",
       "<table border=\"1\" class=\"dataframe\">\n",
       "  <thead>\n",
       "    <tr style=\"text-align: right;\">\n",
       "      <th></th>\n",
       "      <th>weight</th>\n",
       "    </tr>\n",
       "    <tr>\n",
       "      <th>userID</th>\n",
       "      <th></th>\n",
       "    </tr>\n",
       "  </thead>\n",
       "  <tbody>\n",
       "    <tr>\n",
       "      <th>1307</th>\n",
       "      <td>34328.000000</td>\n",
       "    </tr>\n",
       "    <tr>\n",
       "      <th>542</th>\n",
       "      <td>19033.714286</td>\n",
       "    </tr>\n",
       "    <tr>\n",
       "      <th>757</th>\n",
       "      <td>9600.780000</td>\n",
       "    </tr>\n",
       "    <tr>\n",
       "      <th>2000</th>\n",
       "      <td>9368.180000</td>\n",
       "    </tr>\n",
       "    <tr>\n",
       "      <th>1418</th>\n",
       "      <td>8326.980000</td>\n",
       "    </tr>\n",
       "    <tr>\n",
       "      <th>1642</th>\n",
       "      <td>7765.020000</td>\n",
       "    </tr>\n",
       "    <tr>\n",
       "      <th>1094</th>\n",
       "      <td>7582.500000</td>\n",
       "    </tr>\n",
       "    <tr>\n",
       "      <th>1942</th>\n",
       "      <td>6970.540000</td>\n",
       "    </tr>\n",
       "    <tr>\n",
       "      <th>2071</th>\n",
       "      <td>6768.000000</td>\n",
       "    </tr>\n",
       "    <tr>\n",
       "      <th>2031</th>\n",
       "      <td>6599.600000</td>\n",
       "    </tr>\n",
       "  </tbody>\n",
       "</table>\n",
       "</div>"
      ],
      "text/plain": [
       "              weight\n",
       "userID              \n",
       "1307    34328.000000\n",
       "542     19033.714286\n",
       "757      9600.780000\n",
       "2000     9368.180000\n",
       "1418     8326.980000\n",
       "1642     7765.020000\n",
       "1094     7582.500000\n",
       "1942     6970.540000\n",
       "2071     6768.000000\n",
       "2031     6599.600000"
      ]
     },
     "execution_count": 21,
     "metadata": {},
     "output_type": "execute_result"
    }
   ],
   "source": [
    "df_listen_user = df_analisis.groupby(['userID']).mean()[['weight']].sort_values(by=['weight'], ascending=False)\n",
    "df_listen_user.head(10)"
   ]
  },
  {
   "cell_type": "code",
   "execution_count": 22,
   "metadata": {},
   "outputs": [
    {
     "data": {
      "text/html": [
       "<div>\n",
       "<style scoped>\n",
       "    .dataframe tbody tr th:only-of-type {\n",
       "        vertical-align: middle;\n",
       "    }\n",
       "\n",
       "    .dataframe tbody tr th {\n",
       "        vertical-align: top;\n",
       "    }\n",
       "\n",
       "    .dataframe thead th {\n",
       "        text-align: right;\n",
       "    }\n",
       "</style>\n",
       "<table border=\"1\" class=\"dataframe\">\n",
       "  <thead>\n",
       "    <tr style=\"text-align: right;\">\n",
       "      <th></th>\n",
       "      <th>weight</th>\n",
       "    </tr>\n",
       "    <tr>\n",
       "      <th>userID</th>\n",
       "      <th></th>\n",
       "    </tr>\n",
       "  </thead>\n",
       "  <tbody>\n",
       "    <tr>\n",
       "      <th>757</th>\n",
       "      <td>480039</td>\n",
       "    </tr>\n",
       "    <tr>\n",
       "      <th>2000</th>\n",
       "      <td>468409</td>\n",
       "    </tr>\n",
       "    <tr>\n",
       "      <th>1418</th>\n",
       "      <td>416349</td>\n",
       "    </tr>\n",
       "    <tr>\n",
       "      <th>1642</th>\n",
       "      <td>388251</td>\n",
       "    </tr>\n",
       "    <tr>\n",
       "      <th>1094</th>\n",
       "      <td>379125</td>\n",
       "    </tr>\n",
       "    <tr>\n",
       "      <th>1942</th>\n",
       "      <td>348527</td>\n",
       "    </tr>\n",
       "    <tr>\n",
       "      <th>2071</th>\n",
       "      <td>338400</td>\n",
       "    </tr>\n",
       "    <tr>\n",
       "      <th>2031</th>\n",
       "      <td>329980</td>\n",
       "    </tr>\n",
       "    <tr>\n",
       "      <th>514</th>\n",
       "      <td>329782</td>\n",
       "    </tr>\n",
       "    <tr>\n",
       "      <th>387</th>\n",
       "      <td>322661</td>\n",
       "    </tr>\n",
       "  </tbody>\n",
       "</table>\n",
       "</div>"
      ],
      "text/plain": [
       "        weight\n",
       "userID        \n",
       "757     480039\n",
       "2000    468409\n",
       "1418    416349\n",
       "1642    388251\n",
       "1094    379125\n",
       "1942    348527\n",
       "2071    338400\n",
       "2031    329980\n",
       "514     329782\n",
       "387     322661"
      ]
     },
     "execution_count": 22,
     "metadata": {},
     "output_type": "execute_result"
    }
   ],
   "source": [
    "df_listen_user_sum= df_analisis.groupby(['userID']).sum()[['weight']].sort_values(by=['weight'], ascending=False)\n",
    "df_listen_user_sum.head(10)"
   ]
  },
  {
   "cell_type": "markdown",
   "metadata": {},
   "source": [
    "#### ¿Es posible ver el género más escuchado? Generos mas escuchados"
   ]
  },
  {
   "cell_type": "code",
   "execution_count": 23,
   "metadata": {
    "scrolled": true
   },
   "outputs": [
    {
     "data": {
      "text/html": [
       "<div>\n",
       "<style scoped>\n",
       "    .dataframe tbody tr th:only-of-type {\n",
       "        vertical-align: middle;\n",
       "    }\n",
       "\n",
       "    .dataframe tbody tr th {\n",
       "        vertical-align: top;\n",
       "    }\n",
       "\n",
       "    .dataframe thead th {\n",
       "        text-align: right;\n",
       "    }\n",
       "</style>\n",
       "<table border=\"1\" class=\"dataframe\">\n",
       "  <thead>\n",
       "    <tr style=\"text-align: right;\">\n",
       "      <th></th>\n",
       "      <th>tagID</th>\n",
       "      <th>tagValue</th>\n",
       "    </tr>\n",
       "  </thead>\n",
       "  <tbody>\n",
       "    <tr>\n",
       "      <th>0</th>\n",
       "      <td>1</td>\n",
       "      <td>metal</td>\n",
       "    </tr>\n",
       "    <tr>\n",
       "      <th>1</th>\n",
       "      <td>2</td>\n",
       "      <td>alternative metal</td>\n",
       "    </tr>\n",
       "    <tr>\n",
       "      <th>2</th>\n",
       "      <td>3</td>\n",
       "      <td>goth rock</td>\n",
       "    </tr>\n",
       "    <tr>\n",
       "      <th>3</th>\n",
       "      <td>4</td>\n",
       "      <td>black metal</td>\n",
       "    </tr>\n",
       "    <tr>\n",
       "      <th>4</th>\n",
       "      <td>5</td>\n",
       "      <td>death metal</td>\n",
       "    </tr>\n",
       "  </tbody>\n",
       "</table>\n",
       "</div>"
      ],
      "text/plain": [
       "   tagID           tagValue\n",
       "0      1              metal\n",
       "1      2  alternative metal\n",
       "2      3          goth rock\n",
       "3      4        black metal\n",
       "4      5        death metal"
      ]
     },
     "execution_count": 23,
     "metadata": {},
     "output_type": "execute_result"
    }
   ],
   "source": [
    "generos_list = pd.read_csv(\"Last_fm_data/tags.dat\", sep=\"\\t\", encoding='latin-1')\n",
    "generos_list.head()"
   ]
  },
  {
   "cell_type": "code",
   "execution_count": 24,
   "metadata": {
    "scrolled": false
   },
   "outputs": [
    {
     "data": {
      "text/html": [
       "<div>\n",
       "<style scoped>\n",
       "    .dataframe tbody tr th:only-of-type {\n",
       "        vertical-align: middle;\n",
       "    }\n",
       "\n",
       "    .dataframe tbody tr th {\n",
       "        vertical-align: top;\n",
       "    }\n",
       "\n",
       "    .dataframe thead th {\n",
       "        text-align: right;\n",
       "    }\n",
       "</style>\n",
       "<table border=\"1\" class=\"dataframe\">\n",
       "  <thead>\n",
       "    <tr style=\"text-align: right;\">\n",
       "      <th></th>\n",
       "      <th>userID</th>\n",
       "      <th>artistID</th>\n",
       "      <th>tagID</th>\n",
       "      <th>day</th>\n",
       "      <th>month</th>\n",
       "      <th>year</th>\n",
       "    </tr>\n",
       "  </thead>\n",
       "  <tbody>\n",
       "    <tr>\n",
       "      <th>0</th>\n",
       "      <td>2</td>\n",
       "      <td>52</td>\n",
       "      <td>13</td>\n",
       "      <td>1</td>\n",
       "      <td>4</td>\n",
       "      <td>2009</td>\n",
       "    </tr>\n",
       "    <tr>\n",
       "      <th>1</th>\n",
       "      <td>2</td>\n",
       "      <td>52</td>\n",
       "      <td>15</td>\n",
       "      <td>1</td>\n",
       "      <td>4</td>\n",
       "      <td>2009</td>\n",
       "    </tr>\n",
       "    <tr>\n",
       "      <th>2</th>\n",
       "      <td>2</td>\n",
       "      <td>52</td>\n",
       "      <td>18</td>\n",
       "      <td>1</td>\n",
       "      <td>4</td>\n",
       "      <td>2009</td>\n",
       "    </tr>\n",
       "    <tr>\n",
       "      <th>3</th>\n",
       "      <td>2</td>\n",
       "      <td>52</td>\n",
       "      <td>21</td>\n",
       "      <td>1</td>\n",
       "      <td>4</td>\n",
       "      <td>2009</td>\n",
       "    </tr>\n",
       "    <tr>\n",
       "      <th>4</th>\n",
       "      <td>2</td>\n",
       "      <td>52</td>\n",
       "      <td>41</td>\n",
       "      <td>1</td>\n",
       "      <td>4</td>\n",
       "      <td>2009</td>\n",
       "    </tr>\n",
       "  </tbody>\n",
       "</table>\n",
       "</div>"
      ],
      "text/plain": [
       "   userID  artistID  tagID  day  month  year\n",
       "0       2        52     13    1      4  2009\n",
       "1       2        52     15    1      4  2009\n",
       "2       2        52     18    1      4  2009\n",
       "3       2        52     21    1      4  2009\n",
       "4       2        52     41    1      4  2009"
      ]
     },
     "execution_count": 24,
     "metadata": {},
     "output_type": "execute_result"
    }
   ],
   "source": [
    "generos = pd.read_csv(\"Last_fm_data//user_taggedartists.dat\", sep=\"\\t\")\n",
    "generos.head()"
   ]
  },
  {
   "cell_type": "code",
   "execution_count": 25,
   "metadata": {},
   "outputs": [
    {
     "data": {
      "text/html": [
       "<div>\n",
       "<style scoped>\n",
       "    .dataframe tbody tr th:only-of-type {\n",
       "        vertical-align: middle;\n",
       "    }\n",
       "\n",
       "    .dataframe tbody tr th {\n",
       "        vertical-align: top;\n",
       "    }\n",
       "\n",
       "    .dataframe thead th {\n",
       "        text-align: right;\n",
       "    }\n",
       "</style>\n",
       "<table border=\"1\" class=\"dataframe\">\n",
       "  <thead>\n",
       "    <tr style=\"text-align: right;\">\n",
       "      <th></th>\n",
       "      <th>userID</th>\n",
       "      <th>artistID</th>\n",
       "      <th>tagID</th>\n",
       "      <th>day</th>\n",
       "      <th>month</th>\n",
       "      <th>year</th>\n",
       "      <th>tagValue</th>\n",
       "    </tr>\n",
       "  </thead>\n",
       "  <tbody>\n",
       "    <tr>\n",
       "      <th>0</th>\n",
       "      <td>2</td>\n",
       "      <td>52</td>\n",
       "      <td>13</td>\n",
       "      <td>1</td>\n",
       "      <td>4</td>\n",
       "      <td>2009</td>\n",
       "      <td>chillout</td>\n",
       "    </tr>\n",
       "    <tr>\n",
       "      <th>1</th>\n",
       "      <td>2</td>\n",
       "      <td>63</td>\n",
       "      <td>13</td>\n",
       "      <td>1</td>\n",
       "      <td>4</td>\n",
       "      <td>2009</td>\n",
       "      <td>chillout</td>\n",
       "    </tr>\n",
       "    <tr>\n",
       "      <th>2</th>\n",
       "      <td>2</td>\n",
       "      <td>73</td>\n",
       "      <td>13</td>\n",
       "      <td>1</td>\n",
       "      <td>4</td>\n",
       "      <td>2009</td>\n",
       "      <td>chillout</td>\n",
       "    </tr>\n",
       "    <tr>\n",
       "      <th>3</th>\n",
       "      <td>2</td>\n",
       "      <td>94</td>\n",
       "      <td>13</td>\n",
       "      <td>1</td>\n",
       "      <td>4</td>\n",
       "      <td>2009</td>\n",
       "      <td>chillout</td>\n",
       "    </tr>\n",
       "    <tr>\n",
       "      <th>4</th>\n",
       "      <td>2</td>\n",
       "      <td>6177</td>\n",
       "      <td>13</td>\n",
       "      <td>1</td>\n",
       "      <td>5</td>\n",
       "      <td>2009</td>\n",
       "      <td>chillout</td>\n",
       "    </tr>\n",
       "    <tr>\n",
       "      <th>...</th>\n",
       "      <td>...</td>\n",
       "      <td>...</td>\n",
       "      <td>...</td>\n",
       "      <td>...</td>\n",
       "      <td>...</td>\n",
       "      <td>...</td>\n",
       "      <td>...</td>\n",
       "    </tr>\n",
       "    <tr>\n",
       "      <th>186474</th>\n",
       "      <td>2096</td>\n",
       "      <td>1124</td>\n",
       "      <td>6027</td>\n",
       "      <td>1</td>\n",
       "      <td>8</td>\n",
       "      <td>2010</td>\n",
       "      <td>20th century classical</td>\n",
       "    </tr>\n",
       "    <tr>\n",
       "      <th>186475</th>\n",
       "      <td>2096</td>\n",
       "      <td>7932</td>\n",
       "      <td>12645</td>\n",
       "      <td>6</td>\n",
       "      <td>5</td>\n",
       "      <td>2011</td>\n",
       "      <td>symbiosis</td>\n",
       "    </tr>\n",
       "    <tr>\n",
       "      <th>186476</th>\n",
       "      <td>2096</td>\n",
       "      <td>8438</td>\n",
       "      <td>12645</td>\n",
       "      <td>1</td>\n",
       "      <td>8</td>\n",
       "      <td>2010</td>\n",
       "      <td>symbiosis</td>\n",
       "    </tr>\n",
       "    <tr>\n",
       "      <th>186477</th>\n",
       "      <td>2096</td>\n",
       "      <td>13890</td>\n",
       "      <td>12645</td>\n",
       "      <td>1</td>\n",
       "      <td>9</td>\n",
       "      <td>2010</td>\n",
       "      <td>symbiosis</td>\n",
       "    </tr>\n",
       "    <tr>\n",
       "      <th>186478</th>\n",
       "      <td>2096</td>\n",
       "      <td>18513</td>\n",
       "      <td>12645</td>\n",
       "      <td>1</td>\n",
       "      <td>8</td>\n",
       "      <td>2010</td>\n",
       "      <td>symbiosis</td>\n",
       "    </tr>\n",
       "  </tbody>\n",
       "</table>\n",
       "<p>186479 rows × 7 columns</p>\n",
       "</div>"
      ],
      "text/plain": [
       "        userID  artistID  tagID  day  month  year                tagValue\n",
       "0            2        52     13    1      4  2009                chillout\n",
       "1            2        63     13    1      4  2009                chillout\n",
       "2            2        73     13    1      4  2009                chillout\n",
       "3            2        94     13    1      4  2009                chillout\n",
       "4            2      6177     13    1      5  2009                chillout\n",
       "...        ...       ...    ...  ...    ...   ...                     ...\n",
       "186474    2096      1124   6027    1      8  2010  20th century classical\n",
       "186475    2096      7932  12645    6      5  2011               symbiosis\n",
       "186476    2096      8438  12645    1      8  2010               symbiosis\n",
       "186477    2096     13890  12645    1      9  2010               symbiosis\n",
       "186478    2096     18513  12645    1      8  2010               symbiosis\n",
       "\n",
       "[186479 rows x 7 columns]"
      ]
     },
     "execution_count": 25,
     "metadata": {},
     "output_type": "execute_result"
    }
   ],
   "source": [
    "df_generos_analisis = pd.merge(generos,generos_list)\n",
    "df_generos_analisis"
   ]
  },
  {
   "cell_type": "code",
   "execution_count": 26,
   "metadata": {},
   "outputs": [
    {
     "data": {
      "text/html": [
       "<div>\n",
       "<style scoped>\n",
       "    .dataframe tbody tr th:only-of-type {\n",
       "        vertical-align: middle;\n",
       "    }\n",
       "\n",
       "    .dataframe tbody tr th {\n",
       "        vertical-align: top;\n",
       "    }\n",
       "\n",
       "    .dataframe thead th {\n",
       "        text-align: right;\n",
       "    }\n",
       "</style>\n",
       "<table border=\"1\" class=\"dataframe\">\n",
       "  <thead>\n",
       "    <tr style=\"text-align: right;\">\n",
       "      <th></th>\n",
       "      <th></th>\n",
       "      <th>userID</th>\n",
       "      <th>artistID</th>\n",
       "      <th>day</th>\n",
       "      <th>month</th>\n",
       "      <th>year</th>\n",
       "    </tr>\n",
       "    <tr>\n",
       "      <th>tagID</th>\n",
       "      <th>tagValue</th>\n",
       "      <th></th>\n",
       "      <th></th>\n",
       "      <th></th>\n",
       "      <th></th>\n",
       "      <th></th>\n",
       "    </tr>\n",
       "  </thead>\n",
       "  <tbody>\n",
       "    <tr>\n",
       "      <th>73</th>\n",
       "      <th>rock</th>\n",
       "      <td>7503</td>\n",
       "      <td>7503</td>\n",
       "      <td>7503</td>\n",
       "      <td>7503</td>\n",
       "      <td>7503</td>\n",
       "    </tr>\n",
       "    <tr>\n",
       "      <th>24</th>\n",
       "      <th>pop</th>\n",
       "      <td>5418</td>\n",
       "      <td>5418</td>\n",
       "      <td>5418</td>\n",
       "      <td>5418</td>\n",
       "      <td>5418</td>\n",
       "    </tr>\n",
       "    <tr>\n",
       "      <th>79</th>\n",
       "      <th>alternative</th>\n",
       "      <td>5251</td>\n",
       "      <td>5251</td>\n",
       "      <td>5251</td>\n",
       "      <td>5251</td>\n",
       "      <td>5251</td>\n",
       "    </tr>\n",
       "    <tr>\n",
       "      <th>18</th>\n",
       "      <th>electronic</th>\n",
       "      <td>4672</td>\n",
       "      <td>4672</td>\n",
       "      <td>4672</td>\n",
       "      <td>4672</td>\n",
       "      <td>4672</td>\n",
       "    </tr>\n",
       "    <tr>\n",
       "      <th>81</th>\n",
       "      <th>indie</th>\n",
       "      <td>4458</td>\n",
       "      <td>4458</td>\n",
       "      <td>4458</td>\n",
       "      <td>4458</td>\n",
       "      <td>4458</td>\n",
       "    </tr>\n",
       "    <tr>\n",
       "      <th>...</th>\n",
       "      <th>...</th>\n",
       "      <td>...</td>\n",
       "      <td>...</td>\n",
       "      <td>...</td>\n",
       "      <td>...</td>\n",
       "      <td>...</td>\n",
       "    </tr>\n",
       "    <tr>\n",
       "      <th>7452</th>\n",
       "      <th>finding your way</th>\n",
       "      <td>1</td>\n",
       "      <td>1</td>\n",
       "      <td>1</td>\n",
       "      <td>1</td>\n",
       "      <td>1</td>\n",
       "    </tr>\n",
       "    <tr>\n",
       "      <th>7451</th>\n",
       "      <th>divorce</th>\n",
       "      <td>1</td>\n",
       "      <td>1</td>\n",
       "      <td>1</td>\n",
       "      <td>1</td>\n",
       "      <td>1</td>\n",
       "    </tr>\n",
       "    <tr>\n",
       "      <th>7450</th>\n",
       "      <th>soulmate</th>\n",
       "      <td>1</td>\n",
       "      <td>1</td>\n",
       "      <td>1</td>\n",
       "      <td>1</td>\n",
       "      <td>1</td>\n",
       "    </tr>\n",
       "    <tr>\n",
       "      <th>7449</th>\n",
       "      <th>crush</th>\n",
       "      <td>1</td>\n",
       "      <td>1</td>\n",
       "      <td>1</td>\n",
       "      <td>1</td>\n",
       "      <td>1</td>\n",
       "    </tr>\n",
       "    <tr>\n",
       "      <th>7305</th>\n",
       "      <th>perfectshotstv</th>\n",
       "      <td>1</td>\n",
       "      <td>1</td>\n",
       "      <td>1</td>\n",
       "      <td>1</td>\n",
       "      <td>1</td>\n",
       "    </tr>\n",
       "  </tbody>\n",
       "</table>\n",
       "<p>9749 rows × 5 columns</p>\n",
       "</div>"
      ],
      "text/plain": [
       "                        userID  artistID   day  month  year\n",
       "tagID tagValue                                             \n",
       "73    rock                7503      7503  7503   7503  7503\n",
       "24    pop                 5418      5418  5418   5418  5418\n",
       "79    alternative         5251      5251  5251   5251  5251\n",
       "18    electronic          4672      4672  4672   4672  4672\n",
       "81    indie               4458      4458  4458   4458  4458\n",
       "...                        ...       ...   ...    ...   ...\n",
       "7452  finding your way       1         1     1      1     1\n",
       "7451  divorce                1         1     1      1     1\n",
       "7450  soulmate               1         1     1      1     1\n",
       "7449  crush                  1         1     1      1     1\n",
       "7305  perfectshotstv         1         1     1      1     1\n",
       "\n",
       "[9749 rows x 5 columns]"
      ]
     },
     "execution_count": 26,
     "metadata": {},
     "output_type": "execute_result"
    }
   ],
   "source": [
    "df_generos_analisis.groupby(['tagID','tagValue']).count().sort_values(by=['userID'], ascending=False)"
   ]
  },
  {
   "cell_type": "markdown",
   "metadata": {},
   "source": [
    "## Ejercicio 2 - Matriz de Usuario-Contenido\n",
    "\n",
    "En este ejercicio, a partir del conjunto de datos, deberán generar una matriz de usuario-contenido. Tengan en cuenta que los ratings, en este caso, son implícitos, puesto que se dan a partir de la cantidad de veces que un usuario escuchó a cierto artista."
   ]
  },
  {
   "cell_type": "code",
   "execution_count": 27,
   "metadata": {},
   "outputs": [],
   "source": [
    "import pandas as pd\n",
    "\n",
    "from sklearn.neighbors import NearestNeighbors\n",
    "from surprise import Dataset, Reader, KNNWithMeans\n",
    "from surprise.accuracy import rmse\n",
    "from surprise.model_selection import cross_validate, train_test_split"
   ]
  },
  {
   "cell_type": "code",
   "execution_count": 28,
   "metadata": {},
   "outputs": [
    {
     "data": {
      "text/html": [
       "<div>\n",
       "<style scoped>\n",
       "    .dataframe tbody tr th:only-of-type {\n",
       "        vertical-align: middle;\n",
       "    }\n",
       "\n",
       "    .dataframe tbody tr th {\n",
       "        vertical-align: top;\n",
       "    }\n",
       "\n",
       "    .dataframe thead th {\n",
       "        text-align: right;\n",
       "    }\n",
       "</style>\n",
       "<table border=\"1\" class=\"dataframe\">\n",
       "  <thead>\n",
       "    <tr style=\"text-align: right;\">\n",
       "      <th></th>\n",
       "      <th>userID</th>\n",
       "      <th>artistID</th>\n",
       "      <th>weight</th>\n",
       "    </tr>\n",
       "  </thead>\n",
       "  <tbody>\n",
       "    <tr>\n",
       "      <th>0</th>\n",
       "      <td>2</td>\n",
       "      <td>51</td>\n",
       "      <td>13883</td>\n",
       "    </tr>\n",
       "    <tr>\n",
       "      <th>1</th>\n",
       "      <td>4</td>\n",
       "      <td>51</td>\n",
       "      <td>228</td>\n",
       "    </tr>\n",
       "    <tr>\n",
       "      <th>2</th>\n",
       "      <td>27</td>\n",
       "      <td>51</td>\n",
       "      <td>85</td>\n",
       "    </tr>\n",
       "    <tr>\n",
       "      <th>3</th>\n",
       "      <td>28</td>\n",
       "      <td>51</td>\n",
       "      <td>10</td>\n",
       "    </tr>\n",
       "    <tr>\n",
       "      <th>4</th>\n",
       "      <td>62</td>\n",
       "      <td>51</td>\n",
       "      <td>528</td>\n",
       "    </tr>\n",
       "    <tr>\n",
       "      <th>...</th>\n",
       "      <td>...</td>\n",
       "      <td>...</td>\n",
       "      <td>...</td>\n",
       "    </tr>\n",
       "    <tr>\n",
       "      <th>92829</th>\n",
       "      <td>2100</td>\n",
       "      <td>18726</td>\n",
       "      <td>337</td>\n",
       "    </tr>\n",
       "    <tr>\n",
       "      <th>92830</th>\n",
       "      <td>2100</td>\n",
       "      <td>18727</td>\n",
       "      <td>297</td>\n",
       "    </tr>\n",
       "    <tr>\n",
       "      <th>92831</th>\n",
       "      <td>2100</td>\n",
       "      <td>18728</td>\n",
       "      <td>281</td>\n",
       "    </tr>\n",
       "    <tr>\n",
       "      <th>92832</th>\n",
       "      <td>2100</td>\n",
       "      <td>18729</td>\n",
       "      <td>280</td>\n",
       "    </tr>\n",
       "    <tr>\n",
       "      <th>92833</th>\n",
       "      <td>2100</td>\n",
       "      <td>18730</td>\n",
       "      <td>263</td>\n",
       "    </tr>\n",
       "  </tbody>\n",
       "</table>\n",
       "<p>92834 rows × 3 columns</p>\n",
       "</div>"
      ],
      "text/plain": [
       "       userID  artistID  weight\n",
       "0           2        51   13883\n",
       "1           4        51     228\n",
       "2          27        51      85\n",
       "3          28        51      10\n",
       "4          62        51     528\n",
       "...       ...       ...     ...\n",
       "92829    2100     18726     337\n",
       "92830    2100     18727     297\n",
       "92831    2100     18728     281\n",
       "92832    2100     18729     280\n",
       "92833    2100     18730     263\n",
       "\n",
       "[92834 rows x 3 columns]"
      ]
     },
     "execution_count": 28,
     "metadata": {},
     "output_type": "execute_result"
    }
   ],
   "source": [
    "matriz = df_analisis[['userID','artistID','weight']]\n",
    "matriz"
   ]
  },
  {
   "cell_type": "code",
   "execution_count": 29,
   "metadata": {},
   "outputs": [],
   "source": [
    "#reader = Reader(matriz_scale=(matriz.weight.min(), matriz.weight.max()))\n",
    "reader = Reader(rating_scale=(matriz.weight.min(), matriz.weight.max()))\n",
    "\n",
    "matriz = Dataset.load_from_df(matriz[[\"userID\", \"artistID\", \"weight\"]], reader)"
   ]
  },
  {
   "cell_type": "code",
   "execution_count": 30,
   "metadata": {},
   "outputs": [
    {
     "data": {
      "text/plain": [
       "<surprise.dataset.DatasetAutoFolds at 0x13f47be8108>"
      ]
     },
     "execution_count": 30,
     "metadata": {},
     "output_type": "execute_result"
    }
   ],
   "source": [
    "matriz"
   ]
  },
  {
   "cell_type": "markdown",
   "metadata": {},
   "source": [
    "## Ejercicio 3 - Entrenamiento del algoritmo de recomendación\n",
    "\n",
    "Utilizando las herramientas brindadas por Surpr!se, entrenen varios modelos de sistemas de recomendación basados en filtrado colaborativo a partir de su matriz de usuario-contenido. Recuerden tener en cuenta lo aprendido en la diplomatura a la hora de evaluar y validar el modelo.\n",
    "\n",
    "Si necesitan inspiración, les recomiendo revisar [este notebook con información de como entrenar un sistema de recomendación con Surpr!se](https://github.com/susanli2016/Machine-Learning-with-Python/blob/master/Building%20Recommender%20System%20with%20Surprise.ipynb)."
   ]
  },
  {
   "cell_type": "code",
   "execution_count": 31,
   "metadata": {},
   "outputs": [
    {
     "name": "stdout",
     "output_type": "stream",
     "text": [
      "Computing the msd similarity matrix...\n",
      "Done computing similarity matrix.\n",
      "RMSE on test: 4483.0415\n"
     ]
    }
   ],
   "source": [
    "matriz_train, matriz_test = train_test_split(matriz, test_size=0.3)\n",
    "model = KNNWithMeans(k=20).fit(matriz_train)\n",
    "predictions = model.test(matriz_test)\n",
    "print(\"RMSE on test: {:.4f}\".format(rmse(predictions, verbose=False)))"
   ]
  },
  {
   "cell_type": "code",
   "execution_count": 32,
   "metadata": {
    "scrolled": true
   },
   "outputs": [
    {
     "name": "stdout",
     "output_type": "stream",
     "text": [
      "Evaluating RMSE, MAE of algorithm KNNWithMeans on 5 split(s).\n",
      "\n",
      "                  Fold 1  Fold 2  Fold 3  Fold 4  Fold 5  Mean    Std     \n",
      "RMSE (testset)    3489.42493735.69263325.31555500.98034906.28594191.5398857.5084\n",
      "MAE (testset)     800.3084791.8666792.8336862.5964821.3845813.797926.6131 \n",
      "Fit time          0.51    0.51    0.51    0.51    0.56    0.52    0.02    \n",
      "Test time         1.14    1.19    1.15    1.14    1.15    1.16    0.02    \n"
     ]
    }
   ],
   "source": [
    "model = KNNWithMeans(k=5, verbose=False)\n",
    "cross_validated_metrics = cross_validate(model, matriz, measures=['RMSE', 'MAE'], cv=5, verbose=True)"
   ]
  },
  {
   "cell_type": "markdown",
   "metadata": {},
   "source": [
    "## NORMALIZADO Ejercicio 2 - Matriz de Usuario-Contenido\n",
    "\n",
    "En este caso, debido a los resultados anteriores que nos dan un RMSE de 3451,1002, un número inaceptable, realizamos la matriz con valores normalizados en la métrica del peso o cantidad de listens de cada usuario (cantidad de veces que un usuario escuchó a cierto artista.)"
   ]
  },
  {
   "cell_type": "code",
   "execution_count": 33,
   "metadata": {},
   "outputs": [
    {
     "data": {
      "text/html": [
       "<div>\n",
       "<style scoped>\n",
       "    .dataframe tbody tr th:only-of-type {\n",
       "        vertical-align: middle;\n",
       "    }\n",
       "\n",
       "    .dataframe tbody tr th {\n",
       "        vertical-align: top;\n",
       "    }\n",
       "\n",
       "    .dataframe thead th {\n",
       "        text-align: right;\n",
       "    }\n",
       "</style>\n",
       "<table border=\"1\" class=\"dataframe\">\n",
       "  <thead>\n",
       "    <tr style=\"text-align: right;\">\n",
       "      <th></th>\n",
       "      <th>userID</th>\n",
       "      <th>artistID</th>\n",
       "      <th>norm_weight</th>\n",
       "    </tr>\n",
       "  </thead>\n",
       "  <tbody>\n",
       "    <tr>\n",
       "      <th>0</th>\n",
       "      <td>2</td>\n",
       "      <td>51</td>\n",
       "      <td>0.082276</td>\n",
       "    </tr>\n",
       "    <tr>\n",
       "      <th>1</th>\n",
       "      <td>2</td>\n",
       "      <td>52</td>\n",
       "      <td>0.069279</td>\n",
       "    </tr>\n",
       "    <tr>\n",
       "      <th>2</th>\n",
       "      <td>2</td>\n",
       "      <td>53</td>\n",
       "      <td>0.067270</td>\n",
       "    </tr>\n",
       "    <tr>\n",
       "      <th>3</th>\n",
       "      <td>2</td>\n",
       "      <td>54</td>\n",
       "      <td>0.061042</td>\n",
       "    </tr>\n",
       "    <tr>\n",
       "      <th>4</th>\n",
       "      <td>2</td>\n",
       "      <td>55</td>\n",
       "      <td>0.053237</td>\n",
       "    </tr>\n",
       "    <tr>\n",
       "      <th>...</th>\n",
       "      <td>...</td>\n",
       "      <td>...</td>\n",
       "      <td>...</td>\n",
       "    </tr>\n",
       "    <tr>\n",
       "      <th>92829</th>\n",
       "      <td>1893</td>\n",
       "      <td>17465</td>\n",
       "      <td>0.250000</td>\n",
       "    </tr>\n",
       "    <tr>\n",
       "      <th>92830</th>\n",
       "      <td>1893</td>\n",
       "      <td>17466</td>\n",
       "      <td>0.250000</td>\n",
       "    </tr>\n",
       "    <tr>\n",
       "      <th>92831</th>\n",
       "      <td>1893</td>\n",
       "      <td>17467</td>\n",
       "      <td>0.250000</td>\n",
       "    </tr>\n",
       "    <tr>\n",
       "      <th>92832</th>\n",
       "      <td>1893</td>\n",
       "      <td>17468</td>\n",
       "      <td>0.250000</td>\n",
       "    </tr>\n",
       "    <tr>\n",
       "      <th>92833</th>\n",
       "      <td>2085</td>\n",
       "      <td>18615</td>\n",
       "      <td>1.000000</td>\n",
       "    </tr>\n",
       "  </tbody>\n",
       "</table>\n",
       "<p>92834 rows × 3 columns</p>\n",
       "</div>"
      ],
      "text/plain": [
       "       userID  artistID  norm_weight\n",
       "0           2        51     0.082276\n",
       "1           2        52     0.069279\n",
       "2           2        53     0.067270\n",
       "3           2        54     0.061042\n",
       "4           2        55     0.053237\n",
       "...       ...       ...          ...\n",
       "92829    1893     17465     0.250000\n",
       "92830    1893     17466     0.250000\n",
       "92831    1893     17467     0.250000\n",
       "92832    1893     17468     0.250000\n",
       "92833    2085     18615     1.000000\n",
       "\n",
       "[92834 rows x 3 columns]"
      ]
     },
     "execution_count": 33,
     "metadata": {},
     "output_type": "execute_result"
    }
   ],
   "source": [
    "matriz_norm = df_analisis_norm[['userID','artistID','norm_weight']]\n",
    "matriz_norm"
   ]
  },
  {
   "cell_type": "code",
   "execution_count": 34,
   "metadata": {},
   "outputs": [],
   "source": [
    "#reader = Reader(matriz_scale=(matriz.weight.min(), matriz.weight.max()))\n",
    "reader_norm = Reader(rating_scale=(matriz_norm.norm_weight.min(), matriz_norm.norm_weight.max()))\n",
    "\n",
    "matriz_norm = Dataset.load_from_df(matriz_norm[[\"userID\", \"artistID\", \"norm_weight\"]], reader_norm)"
   ]
  },
  {
   "cell_type": "code",
   "execution_count": 35,
   "metadata": {},
   "outputs": [
    {
     "data": {
      "text/plain": [
       "<surprise.dataset.DatasetAutoFolds at 0x13f4b912148>"
      ]
     },
     "execution_count": 35,
     "metadata": {},
     "output_type": "execute_result"
    }
   ],
   "source": [
    "matriz_norm"
   ]
  },
  {
   "cell_type": "markdown",
   "metadata": {},
   "source": [
    "## NORMALIZADO Ejercicio 3 - Entrenamiento del algoritmo de recomendación\n",
    "\n",
    "Utilizando las herramientas brindadas por Surpr!se, entrenen varios modelos de sistemas de recomendación basados en filtrado colaborativo a partir de su matriz de usuario-contenido. Recuerden tener en cuenta lo aprendido en la diplomatura a la hora de evaluar y validar el modelo.\n",
    "\n",
    "Si necesitan inspiración, les recomiendo revisar [este notebook con información de como entrenar un sistema de recomendación con Surpr!se](https://github.com/susanli2016/Machine-Learning-with-Python/blob/master/Building%20Recommender%20System%20with%20Surprise.ipynb)."
   ]
  },
  {
   "cell_type": "code",
   "execution_count": 36,
   "metadata": {},
   "outputs": [
    {
     "name": "stdout",
     "output_type": "stream",
     "text": [
      "Computing the msd similarity matrix...\n",
      "Done computing similarity matrix.\n",
      "RMSE on test: 0.0380\n"
     ]
    }
   ],
   "source": [
    "norm_matriz_train, norm_matriz_test = train_test_split(matriz_norm, test_size=0.3)\n",
    "norm_model = KNNWithMeans(k=20).fit(norm_matriz_train)\n",
    "norm_predictions = norm_model.test(norm_matriz_test)\n",
    "print(\"RMSE on test: {:.4f}\".format(rmse(norm_predictions, verbose=False)))"
   ]
  },
  {
   "cell_type": "code",
   "execution_count": 37,
   "metadata": {
    "scrolled": true
   },
   "outputs": [
    {
     "name": "stdout",
     "output_type": "stream",
     "text": [
      "Evaluating RMSE, MAE of algorithm KNNWithMeans on 5 split(s).\n",
      "\n",
      "                  Fold 1  Fold 2  Fold 3  Fold 4  Fold 5  Mean    Std     \n",
      "RMSE (testset)    0.0387  0.0385  0.0417  0.0420  0.0410  0.0404  0.0015  \n",
      "MAE (testset)     0.0170  0.0169  0.0173  0.0169  0.0170  0.0170  0.0002  \n",
      "Fit time          0.56    0.59    0.55    0.56    0.52    0.56    0.02    \n",
      "Test time         1.19    1.54    1.15    1.15    1.19    1.24    0.15    \n"
     ]
    }
   ],
   "source": [
    "norm_model = KNNWithMeans(k=5, verbose=False)\n",
    "norm_cross_validated_metrics = cross_validate(norm_model, matriz_norm, measures=['RMSE', 'MAE'], cv=5, verbose=True)"
   ]
  },
  {
   "cell_type": "code",
   "execution_count": 38,
   "metadata": {
    "scrolled": true
   },
   "outputs": [
    {
     "data": {
      "text/plain": [
       "<surprise.dataset.DatasetAutoFolds at 0x13f4b912148>"
      ]
     },
     "execution_count": 38,
     "metadata": {},
     "output_type": "execute_result"
    }
   ],
   "source": [
    "matriz_norm"
   ]
  },
  {
   "cell_type": "markdown",
   "metadata": {},
   "source": [
    "## Ejercicio 4 - Sistema de recomendación\n",
    "\n",
    "A partir del mejor modelo de recomendación que hayan sugerido en el caso anterior, y utilizando los datos del archivo `artist.dat`, armar un sistema de recomendación sencillo que, dado un nombre de un artista, devuelva el top 10 de artistas más similares.\n",
    "\n",
    "La idea es que el sistema tome el nombre de un artista y devuelva el nombre de otros artistas (no simplemente tomar y devolver IDs). Se recomienda [revisar este notebook para inspiración (ver el paso número 5)](https://github.com/topspinj/pydata-workshop/blob/master/tutorial.ipynb)."
   ]
  },
  {
   "cell_type": "code",
   "execution_count": 39,
   "metadata": {},
   "outputs": [
    {
     "data": {
      "text/html": [
       "<div>\n",
       "<style scoped>\n",
       "    .dataframe tbody tr th:only-of-type {\n",
       "        vertical-align: middle;\n",
       "    }\n",
       "\n",
       "    .dataframe tbody tr th {\n",
       "        vertical-align: top;\n",
       "    }\n",
       "\n",
       "    .dataframe thead th {\n",
       "        text-align: right;\n",
       "    }\n",
       "</style>\n",
       "<table border=\"1\" class=\"dataframe\">\n",
       "  <thead>\n",
       "    <tr style=\"text-align: right;\">\n",
       "      <th></th>\n",
       "      <th>artistID</th>\n",
       "      <th>name</th>\n",
       "    </tr>\n",
       "  </thead>\n",
       "  <tbody>\n",
       "    <tr>\n",
       "      <th>0</th>\n",
       "      <td>1</td>\n",
       "      <td>MALICE MIZER</td>\n",
       "    </tr>\n",
       "    <tr>\n",
       "      <th>1</th>\n",
       "      <td>2</td>\n",
       "      <td>Diary of Dreams</td>\n",
       "    </tr>\n",
       "    <tr>\n",
       "      <th>2</th>\n",
       "      <td>3</td>\n",
       "      <td>Carpathian Forest</td>\n",
       "    </tr>\n",
       "    <tr>\n",
       "      <th>3</th>\n",
       "      <td>4</td>\n",
       "      <td>Moi dix Mois</td>\n",
       "    </tr>\n",
       "    <tr>\n",
       "      <th>4</th>\n",
       "      <td>5</td>\n",
       "      <td>Bella Morte</td>\n",
       "    </tr>\n",
       "  </tbody>\n",
       "</table>\n",
       "</div>"
      ],
      "text/plain": [
       "   artistID               name\n",
       "0         1       MALICE MIZER\n",
       "1         2    Diary of Dreams\n",
       "2         3  Carpathian Forest\n",
       "3         4       Moi dix Mois\n",
       "4         5        Bella Morte"
      ]
     },
     "execution_count": 39,
     "metadata": {},
     "output_type": "execute_result"
    }
   ],
   "source": [
    "artist_map = artist_data[['id','name']].rename(columns={'id':'artistID'})\n",
    "artist_map.head()"
   ]
  },
  {
   "cell_type": "code",
   "execution_count": 40,
   "metadata": {},
   "outputs": [
    {
     "data": {
      "text/html": [
       "<div>\n",
       "<style scoped>\n",
       "    .dataframe tbody tr th:only-of-type {\n",
       "        vertical-align: middle;\n",
       "    }\n",
       "\n",
       "    .dataframe tbody tr th {\n",
       "        vertical-align: top;\n",
       "    }\n",
       "\n",
       "    .dataframe thead th {\n",
       "        text-align: right;\n",
       "    }\n",
       "</style>\n",
       "<table border=\"1\" class=\"dataframe\">\n",
       "  <thead>\n",
       "    <tr style=\"text-align: right;\">\n",
       "      <th></th>\n",
       "      <th>userID</th>\n",
       "      <th>artistID</th>\n",
       "      <th>norm_weight</th>\n",
       "    </tr>\n",
       "  </thead>\n",
       "  <tbody>\n",
       "    <tr>\n",
       "      <th>0</th>\n",
       "      <td>2</td>\n",
       "      <td>51</td>\n",
       "      <td>0.082276</td>\n",
       "    </tr>\n",
       "    <tr>\n",
       "      <th>1</th>\n",
       "      <td>2</td>\n",
       "      <td>52</td>\n",
       "      <td>0.069279</td>\n",
       "    </tr>\n",
       "    <tr>\n",
       "      <th>2</th>\n",
       "      <td>2</td>\n",
       "      <td>53</td>\n",
       "      <td>0.067270</td>\n",
       "    </tr>\n",
       "    <tr>\n",
       "      <th>3</th>\n",
       "      <td>2</td>\n",
       "      <td>54</td>\n",
       "      <td>0.061042</td>\n",
       "    </tr>\n",
       "    <tr>\n",
       "      <th>4</th>\n",
       "      <td>2</td>\n",
       "      <td>55</td>\n",
       "      <td>0.053237</td>\n",
       "    </tr>\n",
       "  </tbody>\n",
       "</table>\n",
       "</div>"
      ],
      "text/plain": [
       "   userID  artistID  norm_weight\n",
       "0       2        51     0.082276\n",
       "1       2        52     0.069279\n",
       "2       2        53     0.067270\n",
       "3       2        54     0.061042\n",
       "4       2        55     0.053237"
      ]
     },
     "execution_count": 40,
     "metadata": {},
     "output_type": "execute_result"
    }
   ],
   "source": [
    "_df_recsystem = df_analisis_norm[['userID','artistID','norm_weight']]\n",
    "_df_recsystem.head()"
   ]
  },
  {
   "cell_type": "code",
   "execution_count": 47,
   "metadata": {},
   "outputs": [],
   "source": [
    "from scipy.sparse import csr_matrix\n",
    "\n",
    "def create_X(df):\n",
    "    \"\"\"\n",
    "    Generates a sparse matrix from ratings dataframe.\n",
    "    \n",
    "    Args:\n",
    "        df: pandas dataframe containing 3 columns (userId, movieId, rating)\n",
    "    \n",
    "    Returns:\n",
    "        X: sparse matrix\n",
    "        user_mapper: dict that maps user id's to user indices\n",
    "        user_inv_mapper: dict that maps user indices to user id's\n",
    "        movie_mapper: dict that maps movie id's to movie indices\n",
    "        movie_inv_mapper: dict that maps movie indices to movie id's\n",
    "    \"\"\"\n",
    "    M = df['userID'].nunique()\n",
    "    N = df['artistID'].nunique()\n",
    "\n",
    "    user_mapper = dict(zip(np.unique(df[\"userID\"]), list(range(M))))\n",
    "    artist_mapper = dict(zip(np.unique(df[\"artistID\"]), list(range(N))))\n",
    "    \n",
    "    user_inv_mapper = dict(zip(list(range(M)), np.unique(df[\"userID\"])))\n",
    "    artist_inv_mapper = dict(zip(list(range(N)), np.unique(df[\"artistID\"])))\n",
    "    \n",
    "    user_index = [user_mapper[i] for i in df['userID']]\n",
    "    item_index = [artist_mapper[i] for i in df['artistID']]\n",
    "\n",
    "    X = csr_matrix((df[\"norm_weight\"], (user_index,item_index)), shape=(M,N))\n",
    "    \n",
    "    return X, user_mapper, artist_mapper, user_inv_mapper, artist_inv_mapper\n",
    "\n",
    "X, user_mapper, artist_mapper, user_inv_mapper, artist_inv_mapper = create_X(_df_recsystem)"
   ]
  },
  {
   "cell_type": "markdown",
   "metadata": {},
   "source": [
    "#### Las querys anteriores nos sirven para armar un mapeo de artistas para el modelo de sistema de recomendacion de Artistas"
   ]
  },
  {
   "cell_type": "markdown",
   "metadata": {},
   "source": [
    "### Sistema de Recomendacion"
   ]
  },
  {
   "cell_type": "code",
   "execution_count": 49,
   "metadata": {},
   "outputs": [],
   "source": [
    "from sklearn.neighbors import NearestNeighbors\n",
    "\n",
    "def find_similar_artists(artist_id, X, artist_mapper, artist_inv_mapper, k, metric='cosine'):\n",
    "  \n",
    "    X = X.T\n",
    "    neighbour_ids = []\n",
    "    \n",
    "    artist_ind = artist_mapper[artist_id]\n",
    "    artist_vec = X[artist_ind]\n",
    "    if isinstance(artist_vec, (np.ndarray)):\n",
    "        artist_vec = artist_vec.reshape(1,-1)\n",
    "    # use k+1 since kNN output includes the artistID of interest\n",
    "    kNN = NearestNeighbors(n_neighbors=k+1, algorithm=\"brute\", metric=metric)\n",
    "    kNN.fit(X)\n",
    "    neighbour = kNN.kneighbors(artist_vec, return_distance=False)\n",
    "    for i in range(0,k):\n",
    "        n = neighbour.item(i)\n",
    "        neighbour_ids.append(artist_inv_mapper[n])\n",
    "    neighbour_ids.pop(0)\n",
    "    \n",
    "    return neighbour_ids"
   ]
  },
  {
   "cell_type": "code",
   "execution_count": 51,
   "metadata": {},
   "outputs": [
    {
     "data": {
      "text/plain": [
       "[7676,\n",
       " 7673,\n",
       " 7672,\n",
       " 7671,\n",
       " 7670,\n",
       " 7669,\n",
       " 7664,\n",
       " 7666,\n",
       " 7668,\n",
       " 7662,\n",
       " 7674,\n",
       " 7675,\n",
       " 7667,\n",
       " 5428,\n",
       " 6785,\n",
       " 7661,\n",
       " 7663,\n",
       " 446,\n",
       " 2639]"
      ]
     },
     "execution_count": 51,
     "metadata": {},
     "output_type": "execute_result"
    }
   ],
   "source": [
    "#Se define K=20 por que fue el modelo que en el ejercicio anterior nos dió RSME más bajo\n",
    "artistas_a_recomendar = find_similar_artists(62, X, artist_mapper, artist_inv_mapper, k=20)\n",
    "artistas_a_recomendar"
   ]
  },
  {
   "cell_type": "markdown",
   "metadata": {},
   "source": [
    "#### La funcion anterior nos encuentra los k-nearest neighbours segun el id de un artista cuando lo recibe por parametro pasandole el Nombre de un Artista."
   ]
  },
  {
   "cell_type": "code",
   "execution_count": 58,
   "metadata": {},
   "outputs": [],
   "source": [
    "artist_titles_name = dict(zip(artist_map['name'], artist_map['artistID']))"
   ]
  },
  {
   "cell_type": "code",
   "execution_count": 59,
   "metadata": {},
   "outputs": [
    {
     "name": "stdout",
     "output_type": "stream",
     "text": [
      "{'MALICE MIZER': 1, 'Diary of Dreams': 2, 'Carpathian Forest': 3, 'Moi dix Mois': 4, 'Bella Morte': 5, 'Moonspell': 6, 'Marilyn Manson': 7, 'DIR EN GREY': 8, 'Combichrist': 9, 'Grendel': 10, 'Agonoize': 11, 'Behemoth': 12, 'Hocico': 13, 'Dimmu Borgir': 15, 'London After Midnight': 16, 'Psyclon Nine': 17, 'The Crüxshadows': 18, ':wumpscut:': 19, 'Limbonic Art': 20, 'Artista sconosciuto': 21, 'xotox': 22, 'The Kovenant': 23, 'Feindflug': 24, 'Cradle of Filth': 25, 'Tamtrum': 26, 'Laibach': 27, 'Gorgoroth': 28, 'And One': 30, 'Amduscia': 31, 'Covenant': 32, 'Icon of Coil': 34, 'KMFDM': 36, 'Funker Vogt': 37, 'Dawn of Ashes': 38, 'Sopor Aeternus & The Ensemble of Shadows': 39, 'The Faint': 40, 'God Module': 41, 'Noisuf-X': 43, 'Das Ich': 44, 'Mindless Self Indulgence': 45, 'Pyotr Ilyich Tchaikovsky': 46, 'Emperor': 47, 'Anorexia Nervosa': 48, 'Reaper': 49, 'Gothminister': 50, 'Duran Duran': 51, 'Morcheeba': 52, 'Air': 53, 'Hooverphonic': 54, 'Kylie Minogue': 55, 'Daft Punk': 56, 'Thievery Corporation': 57, 'Goldfrapp': 58, 'New Order': 59, 'Matt Bianco': 60, 'Talk Talk': 61, 'Prefab Sprout': 62, 'Enigma': 63, 'Röyksopp': 64, 'Coldplay': 65, 'Faithless': 66, 'Madonna': 67, 'Icehouse': 68, 'Sade': 69, 'Moby': 70, 'Dido': 71, 'Depeche Mode': 72, 'Café Del Mar': 73, 'Basia': 74, 'Camouflage': 75, 'Electronic': 76, 'George Michael': 77, 'The Adventures': 78, 'Fiction Factory': 79, 'Groove Armada': 80, 'Portishead': 81, 'Marc Almond': 82, 'Cock Robin': 83, 'Cut Copy': 84, 'Spandau Ballet': 85, 'Katie Melua': 86, 'Deacon Blue': 87, 'Gorillaz': 88, 'Lady Gaga': 89, 'Kosheen': 90, 'Nik Kershaw': 91, 'Vitamin Z': 92, 'Jean-Michel Jarre': 93, 'Ministry of Sound': 94, 'Simply Red': 95, 'Fleetwood Mac': 96, 'Duffy': 97, 'Japan': 98, 'INXS': 99, 'ABC': 100, 'Pleq': 101, 'Segue': 102, 'Max Richter': 103, 'Celer': 104, 'Pjusk': 105, 'Pleq & Segue': 106, 'Burial': 107, 'Magnitophono': 108, 'andy graydon': 109, 'ddekombinacja': 110, 'Pleq & Anna Rose Carter': 111, 'Go Koyashiki': 112, \"Dustin O'Halloran\": 113, 'offthesky': 114, 'Nebulo': 115, 'Fjordne': 116, 'Pleq & Chihiro': 117, 'Spyweirdos': 118, 'billy gomberg + offthesky': 119, 'Deru': 120, 'Lukid': 121, 'Manekinekod': 122, 'Danny Norbury': 123, 'Shinkei & Mise En Scene': 124, 'aslope': 125, 'The Notwist': 126, 'Off the Sky': 127, 'strom noir': 128, 'Aless': 129, 'Philippe Lamy': 130, 'Part Timer': 131, 'Deaf Center': 132, 'Lauki': 133, 'Big Brotherz': 134, 'cokiyu': 135, 'Verbose': 136, 'Worm Is Green': 137, 'Library Tapes': 138, 'Richard Skelton': 139, 'Matryoshka': 140, 'Aidan Baker': 141, 'Ylid': 142, 'Daisuke Miyatani': 143, 'Dakota Suite': 144, 'Ryonkt': 145, 'Hird': 146, 'Svarte Greiner': 147, 'The Boats': 148, 'The Sound Of Lucrecia': 149, 'Porzellan': 150, 'Deep Forest': 151, 'Porcupine Tree': 152, 'De/Vision': 153, 'Radiohead': 154, 'Robbie Williams': 155, 'VAST': 156, 'Michael Jackson': 157, 'עברי לידר': 158, 'The Cure': 159, 'אביב גפן': 160, 'Enrique Iglesias': 161, 'God Is an Astronaut': 162, 'Pink Floyd': 163, 'יוני בלוך': 164, 'Planet Funk': 165, 'The Cranberries': 166, 'Scissor Sisters': 167, 'דניאל סלומון': 168, 'אביתר בנאי': 169, 'Mew': 170, 'Stereophonics': 171, 'Garbage': 172, 'Placebo': 173, 'Infected Mushroom': 174, 'Delerium': 175, 'Scorpions': 176, 'Rock Star Supernova': 177, \"Dolores O'Riordan\": 178, 'Tommy Lee': 179, 'Roxette': 180, 'Paradise Lost': 181, 'Keane': 182, 'Jamiroquai': 183, 'James Blunt': 184, 'Reamonn': 185, 'Blackfield': 186, 'a-ha': 187, 'Opeth': 188, 'Poets of the Fall': 189, 'Muse': 190, 'OneRepublic': 191, 'Elton John': 192, 'Tears for Fears': 193, 'The Tiger Lillies': 194, 'Bright Eyes': 195, 'Beirut': 196, 'Tom Waits': 197, 'System of a Down': 198, 'Arcade Fire': 199, 'Gogol Bordello': 200, 'Ленинград': 201, 'CAKE': 202, 'Blur': 203, 'Damien Rice': 204, 'Andrew Bird': 205, 'Beck': 206, 'Arctic Monkeys': 207, 'Babyshambles': 208, 'My Chemical Romance': 209, 'Bloc Party': 210, 'The Decemberists': 211, 'Bob Dylan': 212, 'Jacques Brel': 213, 'DeVotchKa': 214, 'Jeff Buckley': 215, 'Sparklehorse': 216, 'Death Cab for Cutie': 217, 'Man Man': 218, 'M. Ward': 219, 'Red Hot Chili Peppers': 220, 'Travis': 221, 'Modest Mouse': 222, 'Band of Horses': 223, 'Yeong-wook Jo': 224, 'Interpol': 225, 'Queens of the Stone Age': 226, 'The Beatles': 227, 'Kings of Leon': 228, 'The Killers': 229, 'Green Day': 230, 'Devendra Banhart': 231, 'Sunset Rubdown': 232, 'Nine Inch Nails': 233, 'Nirvana': 234, 'Eels': 235, 'Clap Your Hands Say Yeah': 236, 'Thom Yorke': 237, 'Massive Attack': 238, 'Keyshia Cole': 239, \"Racionais MC's\": 240, 'Toni Braxton': 241, 'Elo da Corrente': 242, 'Teta Lando': 243, 'Flagelo Urbano': 244, 'Bob Marley & The Wailers': 245, 'Adriana Calcanhotto': 246, 'Maxwell': 247, 'Pharoahe Monch': 248, 'Common': 249, 'Bob Marley': 250, 'Whitney Houston': 251, 'Tamia': 252, 'Bryan Adams': 253, 'Lokua Kanza': 254, 'Nach': 255, 'Kid Abelha': 256, 'Mariah Carey': 257, 'Tina Turner': 258, '9th Wonder': 259, 'Floetry': 260, 'Marisa Monte': 261, 'Mary J. Blige': 262, 'Jill Scott': 263, 'Sara Tavares': 264, 'Céline Dion': 265, 'Erykah Badu': 266, 'Nas': 267, 'Richard Marx': 268, 'Dru Hill': 269, 'Maria Bethânia': 270, 'Mos Def': 271, 'Faith Evans': 272, 'Avant': 273, 'Bob da Rage Sense': 274, 'Angie Stone': 275, 'Gang Starr': 276, 'Papa Wemba': 277, '2Pac': 278, 'Brandy': 279, 'Sam the Kid': 280, 'Dealema': 281, 'Boss AC': 282, 'Ana Carolina': 283, 'Dilated Peoples': 284, 'Janet Jackson': 285, 'Peter Tosh': 286, 'Monica': 287, 'Rihanna': 288, 'Britney Spears': 289, 'Jordin Sparks': 290, 'Kelly Clarkson': 291, 'Christina Aguilera': 292, 'Ashlee Simpson': 293, 'Leona Lewis': 294, 'Beyoncé': 295, 'Sugababes': 296, 'David Cook': 297, 'Lily Allen': 298, 'Jennifer Lopez': 299, 'Katy Perry': 300, 'Alicia Keys': 301, 'P!nk': 302, 'Panic at the Disco': 303, 'David Archuleta': 304, 'Katharine McPhee': 305, 'Black Eyed Peas': 306, 'Kate Voegele': 307, 'Kat DeLuna': 308, 'Danity Kane': 309, 'Nelly Furtado': 310, 'Natasha Bedingfield': 311, 'Cassie': 312, 'Allison Iraheta': 313, 'Ciara': 314, 'Matt Pokora': 315, 'Alanis Morissette': 316, 'Keri Hilson': 317, 'Hilary Duff': 318, 'Haley James Scott': 319, 'Fergie': 320, 'Jonas Brothers': 321, 'Ashanti': 322, 'The Saturdays': 323, 'Cobra Starship': 324, 'Ashley Tisdale': 325, 'JoJo': 326, 'Chris Brown': 327, 'David Guetta': 328, 'Justin Timberlake': 329, 'T.I.': 330, 'Kanye West': 331, 'Kelly Rowland': 332, 'Avril Lavigne': 333, 'No Angels': 334, 'Sandy': 335, 'Vanessa Petruo': 336, 'Alexander': 337, 'Queensberry': 338, 'Fady Maalouf': 339, 'Cher': 340, 'Barbara Schöneberger': 341, 'Colbie Caillat': 342, 'Annett Louisan': 343, 'Taylor Swift': 344, 'Nadja Benaissa': 345, 'Lena': 346, 'Cassandra Steen': 347, 'Wir sind Helden': 348, 'The Pussycat Dolls': 349, 'Monrose': 350, 'Gabrielle': 351, 'Cheryl Cole': 352, 'Milow': 353, 'Sarah Connor': 354, 'Jason Mraz': 355, 'Brad Paisley': 356, 'Silbermond': 357, 'Diyana': 358, 'Maria Mena': 359, 'Shania Twain': 360, 'Jennifer Chung': 361, 'A Fine Frenzy': 362, 'Lucylicious': 363, 'Sugarland': 364, 'Christina Stürmer': 365, 'Jack Johnson': 366, 'BIG BANG': 367, '김종국': 368, '2PM': 369, 'Katatonia': 370, 'Skillet': 371, 'モンゴル800': 372, 'Jay Park': 373, '宇多田ヒカル': 374, '浜崎あゆみ': 375, 'UVERworld': 376, 'Linkin Park': 377, 'Evanescence': 378, '中島美嘉': 379, \"Blackmore's Night\": 380, 'C.N.BLUE': 381, 'BUCK-TICK': 382, 'Bad Religion': 383, 'Fairuz': 384, 'T.M.Revolution': 385, 'Cascada': 386, 'TRAX': 387, 'B2ST': 388, 'Enya': 389, 'GACKT': 390, 'Sinamore': 391, 'Remi Bandali': 392, 'Super Junior': 393, '山下智久': 394, 'NEWS': 395, \"L'Arc~en~Ciel\": 396, '雅-MIYAVI-': 397, 'www.DjFahad.com': 398, '嵐': 399, '2NE1': 400, 'RENTRER EN SOI': 401, '3mmey': 402, 'The All-American Rejects': 403, '백지영': 404, 'The Rasmus': 405, 'HYDE': 406, 'Akira Yamaoka': 407, 'Crossfade': 408, 'G-Dragon': 409, 'GD&TOP': 410, 'Chinese mix': 411, 'blink-182': 412, 'After School': 413, 'Wasted Land': 414, 'Laith Al-Deen': 415, 'The National': 416, 'Cordel do Fogo Encantado': 417, 'Sigur Rós': 418, 'Tokyo Police Club': 419, 'The Kills': 420, 'Móveis Coloniais de Acaju': 421, 'Mombojó': 422, 'Bat for Lashes': 423, 'The Strokes': 424, 'Yeah Yeah Yeahs': 425, 'Rilo Kiley': 426, 'The Cribs': 427, 'The Libertines': 428, 'The Smiths': 429, 'Kate Nash': 430, 'Wolf Parade': 431, 'Klaxons': 432, 'Broken Social Scene': 433, 'Spoon': 434, 'Black Lips': 435, 'The Smashing Pumpkins': 436, 'She & Him': 437, 'O Teatro Mágico': 438, 'Los Hermanos': 439, 'Animal Collective': 440, 'Joy Division': 441, 'The Tallest Man on Earth': 442, 'The Rakes': 443, 'múm': 444, 'Bon Iver': 445, 'Ra Ra Riot': 446, 'Manu Chao': 447, 'Art Brut': 448, 'Poney Express': 449, 'She Wants Revenge': 450, 'Local Natives': 451, 'Mundo Livre S/A': 452, 'Silverchair': 453, 'Jónsi': 454, 'Backstreet Boys': 455, 'Jesse McCartney': 456, 'Aaron Carter': 457, 'Justin Bieber': 458, '*NSYNC': 459, 'Noize MC': 460, 'Miley Cyrus': 461, 'Blue': 462, 'Savage Garden': 463, '3OH!3': 464, 'Jessica Simpson': 465, 'Ke$ha': 466, 'Darren Hayes': 467, 'Usher': 468, 'Nick Carter': 469, 'nevershoutnever!': 470, 'Metro Station': 471, '3 Doors Down': 472, 'Dream Street': 473, 'Craig David': 474, 'Eminem': 475, 'M. Pokora': 476, 'Daniel Merriweather': 477, 'ВИА Гра': 478, 'Westlife': 479, 'Guf': 480, 'Simple Plan': 481, 'Jeremih': 482, 'Centr': 483, 'Ne-Yo': 484, 'Kelis': 485, '30 Seconds to Mars': 486, 'The Birthday Massacre': 487, 'Three Days Grace': 488, 'Limp Bizkit': 489, 'Seether': 490, 'Fort Minor': 491, 'Funeral for a Friend': 492, 'Lostprophets': 493, 'Finch': 494, 'This Beautiful Republic': 495, 'Cold': 496, 'Papa Roach': 497, 'Paramore': 498, 'Flyleaf': 499, 'Bullet for My Valentine': 500, 'Angels & Airwaves': 501, 'LaFee': 502, 'In Flames': 503, 'HIM': 504, 'Digital Summer': 505, 'Anathema': 506, 'Saosin': 507, 'Tracktor Bowling': 508, 'Pitchshifter': 509, 'P.O.D.': 510, 'U2': 511, 'Deftones': 512, 'Traff!c': 513, 'Ill Niño': 514, 'Clan of Xymox': 515, 'Celldweller': 516, 'Korn': 517, 'Within Temptation': 518, 'Static-X': 519, 'Fluke': 520, 'happysad': 521, 'Lacrimosa': 522, 'Lindsay Lohan': 523, 'Jeffree Star': 524, 'Gwen Stefani': 525, 'La Roux': 526, \"Lil' Wayne\": 527, 'Pixie Lott': 528, 'Paul van Dyk': 529, 'Alphabeat': 530, 'Taio Cruz': 531, 'Little Boots': 532, 'Oasis': 533, 'No Doubt': 534, 'Sophie Ellis-Bextor': 535, 'Good Charlotte': 536, 'The Used': 537, 'Maroon 5': 538, 'Gossip': 539, 'Fall Out Boy': 540, 'Space Cowboy': 541, 'Pitty': 542, 'Nicole Scherzinger': 543, 'Adam Lambert': 544, 'Flo Rida': 545, 'The Ting Tings': 546, 'Kid Cudi': 547, 'Ellie Goulding': 548, 'The Sonics': 549, 'The Fleshtones': 550, 'The Satelliters': 551, 'The Barracudas': 552, 'The Staggers': 553, 'The Kinks': 554, \"The Swingin' Neckbreakers\": 555, 'The Strollers': 556, 'The Fuzztones': 557, 'The Maharajas': 558, 'Southern Culture on the Skids': 559, 'The Woggles': 560, 'The Untamed Youth': 561, 'The Who': 562, 'Small Faces': 563, 'Mahalia Jackson': 564, \"Howlin' Wolf\": 565, 'Jackie Wilson': 566, 'Sam Cooke': 567, 'The Vice Barons': 568, 'Otis Redding': 569, 'Little Richard': 570, 'LaVern Baker': 571, 'Ray Charles': 572, 'The Detroit Cobras': 573, 'Big Mama Thornton': 574, 'Aretha Franklin': 575, 'Marvin Gaye': 576, 'Ruth Brown': 577, 'James Brown': 578, 'Big Maybelle': 579, 'Muddy Waters': 580, 'Elmore James': 581, 'Sonny Boy Williamson': 582, 'John Lee Hooker': 583, 'The Isley Brothers': 584, 'Chuck Berry': 585, 'Professor Longhair': 586, 'Sister Rosetta Tharpe': 587, 'Big Joe Turner': 588, 'Andre Williams': 589, 'Louis Prima': 590, 'Charles Aznavour': 591, 'Ennio Morricone': 592, 'Renato Carosone': 593, 'The Pretty Things': 594, 'The Titty Twisters Orchestra': 595, 'The Montesas': 596, 'The Easybeats': 597, 'The Gruesomes': 598, 'David Bowie': 599, 'le bowl': 600, 'Prince': 601, 'Iron & Wine': 602, 'Aphex Twin': 603, 'Kings of Convenience': 604, 'Beastie Boys': 605, 'José González': 606, 'Jethro Tull': 607, 'Tortoise': 608, 'Nick Drake': 609, 'Miles Davis': 610, 'The Sea and Cake': 611, 'Talking Heads': 612, 'John Coltrane': 613, 'Pearl Jam': 614, 'Elliott Smith': 615, 'Squarepusher': 616, 'The Roots': 617, 'Belle and Sebastian': 618, 'A Tribe Called Quest': 619, 'Pulp': 620, 'The Album Leaf': 621, 'Sufjan Stevens': 622, 'Clogs': 623, 'Great Lake Swimmers': 624, 'Thelonious Monk': 625, 'A.A. Bondy': 626, 'Saint Etienne': 627, 'Andrew York': 628, 'of Montreal': 629, 'Neil Young': 630, 'Einstürzende Neubauten': 631, 'Explosions in the Sky': 632, 'Ornette Coleman': 633, 'Μιχάλης Χατζηγιάννης': 634, 'Teen Angels': 635, 'Ivi Adamou': 636, 'Helena Paparizou': 637, 'Kalomoira': 638, 'Milan Stanković': 639, 'Άννα Βισση': 640, 'Laura Pausini': 641, 'Banghra': 642, 'Nikolas Metaxas': 643, 'Inna': 644, 'Stavento': 645, 'RBD': 646, 'Eleftheria Eleftheriou': 647, 'Antonis Remos': 648, \"D'Nash\": 649, 'Giorgos Papadopoulos': 650, 'Funky G': 651, 'Hadise': 652, 'Watch Tower Bible and Tract Society of PA': 653, 'Onirama': 654, 'Jessy Matador': 655, 'Master Tempo': 656, 'Paolo Meneguzzi': 657, 'Floricienta': 658, 'Erreway': 659, 'Dima Bilan': 660, 'Stromae': 661, 'Tamta': 662, 'Sakis Rouvas': 663, 'Karolina': 664, 'Giannis Ploutarxos': 665, \"Chanée & N'evergreen\": 666, 'Evridiki': 667, 'Mando': 668, 'Eric Saade': 669, 'Safura': 670, 'Alkistis Protopsalti': 671, 'Denise Rosenthal': 672, 'Christos Dantis': 673, 'Darin': 674, 'Despoina Olympiou': 675, 'Yohanna': 676, 'Kostas Martakis': 677, 'Soulthrow': 678, 'Glee Cast': 679, 'The Veronicas': 680, 'Demi Lovato': 681, 'Lights': 682, 'John Mayer': 683, 'American Idiot Cast': 684, 'Nick Jonas & The Administration': 685, 'Selena Gomez & the Scene': 686, 'All Time Low': 687, 'Honor Society': 688, 'Florence + the Machine': 689, 'Marina & the Diamonds': 690, 'Owl City': 691, 'Mitchel Musso': 692, 'Hey Monday': 693, 'Darren Criss': 694, 'Push Play': 695, 'The Pierces': 696, 'Sia': 697, 'Duncan Sheik & Steven Sater': 698, 'Esmée Denters': 699, 'Boyce Avenue': 700, 'Shakira': 701, 'Ester Dean': 702, 'The xx': 703, 'The Pretty Reckless': 704, 'Engenheiros do Hawaii': 705, 'AC/DC': 706, 'Metallica': 707, 'Capital Inicial': 708, 'The White Stripes': 709, 'Black Label Society': 710, 'Mark Knopfler': 711, 'Dire Straits': 712, 'Gotthard': 713, 'Legião Urbana': 714, 'R.E.M.': 715, 'Kaiser Chiefs': 716, 'Electric Light Orchestra': 717, 'Johnny Cash': 718, 'Orishas': 719, 'Social Distortion': 720, 'Wim Mertens': 721, 'ATB': 722, 'Buena Vista Social Club': 723, 'Ozzy Osbourne': 724, 'Titãs': 725, 'Apocalyptica': 726, 'Era': 727, 'Eric Clapton': 728, 'Sacred Spirit': 729, 'Eagles': 730, '1200 Micrograms': 731, 'Alice Cooper': 732, 'John Lennon': 733, 'Bruce Springsteen': 734, 'The Rolling Stones': 735, 'Eliades Ochoa': 736, 'Trans-Siberian Orchestra': 737, 'DJ Tiësto': 738, 'Lulu Santos': 739, 'Nadja': 743, 'Autechre': 744, 'Aidan Baker & thisquietarmy': 745, 'Salem': 746, 'Carbon Based Lifeforms': 747, 'Boards of Canada': 748, 'Casino Versus Japan': 749, 'Bill Withers': 750, 'Jesu': 751, 'Boris': 752, 'Secede': 753, 'Maximum the Hormone': 754, '65daysofstatic': 755, 'Arovane': 756, 'Crystal Castles': 757, 'Психея': 758, '#####': 759, 'LAKE R▲DIO': 760, 'Asian Dub Foundation': 761, 'the Chemodan': 762, 'Mono': 763, '16 Horsepower': 764, 'Multiplex': 765, 'Ben Frost': 766, 'Gridlock': 767, 'Enter Shikari': 768, 'Isis': 769, 'HORSE the band': 770, 'Lazzich': 771, 'Proem': 772, 'electronicmicroanimal': 773, 'Mooncake': 774, 'Gastón Arévalo': 775, 'sokpb avabodha': 776, 'The Crystal Method': 777, 'Ochre': 778, 'Bring Me The Horizon': 779, 'Gimmik': 780, 'Fail Emotions': 781, 'Solar Fields': 782, 'Digitonal': 783, 'Jackson and His Computer Band': 784, 'Fear Factory': 785, 'Mandy Moore': 786, 'Paulina Rubio': 787, 'Fey': 788, 'Dannii Minogue': 789, 'Belinda': 790, 'Marie Serneholt': 791, 'Thalía': 792, 'Hannah Montana': 793, 'A*Teens': 794, 'Gloria Trevi': 795, 'Anna Carina': 796, 'Emily Osment': 797, 'Geri Halliwell': 798, 'Junior Caldera feat Sophie Ellis Bextor': 799, 'Atomic Kitten': 800, '5ive': 801, 'Anahí': 802, 'Five': 803, 'Darkest Hour': 804, 'Parkway Drive': 805, 'Soilwork': 806, 'Crematory': 807, 'Rise Against': 808, 'The Black Dahlia Murder': 809, 'All That Remains': 810, 'Sonic Syndicate': 811, 'Dark Tranquillity': 812, 'As I Lay Dying': 813, 'Caliban': 814, 'Killswitch Engage': 815, 'A Day to Remember': 816, 'Corpus Christi': 817, '36 Crazyfists': 818, 'Avatar': 819, 'At the Gates': 820, 'Amon Amarth': 821, 'Evading Downfall': 822, 'August Burns Red': 823, 'Ensiferum': 824, 'Whitechapel': 825, 'Divine Heresy': 826, 'Ignite': 827, 'From a Second Story Window': 828, 'It Prevails': 829, 'Atreyu': 830, 'Emmure': 831, 'I Killed the Prom Queen': 832, 'Suffokate': 833, 'Five Finger Death Punch': 834, 'Scar Symmetry': 835, 'Butterfly Coma': 836, 'Eluveitie': 837, 'Debeli Precjednik': 838, 'All Shall Perish': 839, 'Millencolin': 840, 'Slayer': 841, 'Despised Icon': 842, 'Pantera': 843, 'Pain Confessor': 844, 'The Dillinger Escape Plan': 845, 'Lamb of God': 846, 'The Mercury Arc': 847, 'Ego Fall': 848, 'Feed Her To The Sharks': 849, 'Haste the Day': 850, 'Manic Street Preachers': 851, 'The Stranglers': 852, 'Therapy?': 853, 'Alice in Chains': 854, \"Jane's Addiction\": 855, 'Soundgarden': 856, 'The Clash': 857, 'PJ Harvey': 858, 'Pixies': 859, 'Stone Temple Pilots': 860, 'Killing Joke': 861, 'Primal Scream': 862, 'The Velvet Underground': 863, 'Ministry': 864, 'Republika': 865, 'Virgin Prunes': 866, 'Nick Cave and the Bad Seeds': 867, 'The Doors': 868, 'Afghan Whigs': 869, 'Skeletal Family': 870, 'New Model Army': 871, 'Closterkeller': 872, 'Porno for Pyros': 873, 'Roxy Music': 874, 'Bauhaus': 875, 'Revolting Cocks': 876, 'Alphaville': 877, 'Wolfsheim': 878, 'Can': 879, 'Nitzer Ebb': 880, 'Kyuss': 881, 'The Jesus Lizard': 882, 'Tiamat': 883, 'Brygada Kryzys': 884, 'Tracy Chapman': 885, 'Dragonette': 886, 'New Young Pony Club': 887, 'Siobhan Donaghy': 888, 'Cyndi Lauper': 889, 'Kelly Osbourne': 890, 'Jewel': 891, 'Dixie Chicks': 892, 'Kate Miller-Heidke': 893, 'Sneaky Sound System': 894, 'Chew Lips': 895, 'Noisettes': 896, \"Shakespear's Sister\": 897, 'Tegan and Sara': 898, 'Missy Higgins': 899, 'Annie Lennox': 900, 'VV Brown': 901, 'The Cast Of Buffy The Vampire Slayer': 902, 'Amy Winehouse': 903, 'Rogue Traders': 904, 'Crowded House': 905, 'Girls Aloud': 906, 'Timbaland': 907, 'Vanessa Hudgens': 908, 'Delta Goodrem': 909, 'John Williams': 910, 'Rachel Stevens': 911, 'Carter Burwell': 912, \"Destiny's Child\": 913, 'Medina': 914, 'Alexandra Burke': 915, 'Vanessa S.': 916, 'Iron Maiden': 917, 'Megadeth': 918, 'Savatage': 919, 'Dream Theater': 920, 'Circle II Circle': 921, 'Bruce Dickinson': 922, 'Children of Bodom': 923, 'Angra': 924, 'Andre Matos': 925, 'Shaaman': 926, 'Hangar': 927, 'Helloween': 928, 'Viper': 929, 'Nightwish': 930, 'Dr. Sin': 931, 'Matanza': 932, 'Wizards': 933, 'Angel Dust': 934, 'Bittencourt Project': 935, 'Kamelot': 936, 'Stratovarius': 937, 'Hibria': 938, 'Mindflow': 939, 'Rage': 940, 'Tribuzy': 941, 'Iced Earth': 942, 'Nevermore': 943, 'Symphony X': 944, 'Journey': 945, 'Avantasia': 946, 'Testament': 947, 'Burning in Hell': 948, 'Death': 949, 'Kiko Loureiro': 950, 'Bon Jovi': 951, 'Skid Row': 952, 'Arch Enemy': 953, 'Kreator': 954, 'Epica': 955, 'Yngwie Malmsteen': 956, 'Blind Guardian': 957, 'Kotipelto': 958, 'Queen': 959, 'Outworld': 960, 'Tori Amos': 961, 'The Cardigans': 962, 'Yanni': 963, 'The Mars Volta': 964, 'Bush': 965, 'Nickelback': 966, 'Sixpence None the Richer': 967, 'Armin van Buuren': 968, 'Kasabian': 969, 'Infernal': 970, 'Zoé': 971, 't.A.T.u.': 972, 'Hevia': 973, 'Amy Studt': 974, 'Santana': 975, 'Agressiva 69': 976, 'At the Drive-In': 977, 'Disturbed': 978, 'Smash Mouth': 979, 'Yelle': 980, 'Emilíana Torrini': 981, 'Foo Fighters': 982, 'Rodrigo y Gabriela': 983, 'Tilly and the Wall': 984, 'Blondie': 985, 'Frank Sinatra': 986, 'Earth, Wind & Fire': 987, 'Fallulah': 988, 'The Donnas': 989, 'Iron Butterfly': 990, 'Jem': 991, 'Chris Rea': 992, 'Simple Minds': 993, 'Howard Jones': 994, 'China Crisis': 995, 'Mike & The Mechanics': 996, 'The Human League': 997, 'Orchestral Manoeuvres in the Dark': 998, 'Thompson Twins': 999, 'Information Society': 1000, 'Pet Shop Boys': 1001, 'Rick Astley': 1002, 'Johnny Hates Jazz': 1003, 'Kim Wilde': 1004, 'Robert Palmer': 1005, 'The Fixx': 1006, 'Solar Stone': 1007, 'Level 42': 1008, 'Tiësto': 1009, '19': 1010, 'Artista desconhecido': 1011, 'Kyau vs. Albert': 1012, 'Ultravox': 1013, 'Erasure': 1014, 'Berlin': 1015, 'Novaspace': 1016, 'The Psychedelic Furs': 1017, 'Midge Ure': 1018, 'Yazoo': 1019, 'OceanLab': 1020, 'Groove Coverage': 1021, 'Dance Nation': 1022, 'Fragma': 1023, 'Ian Van Dahl': 1024, 'DJ Sammy': 1025, 'Sylver': 1026, 'Heaven 17': 1027, 'Anything Box': 1028, 'Markus Schulz': 1029, 'Topmodelz': 1030, 'Exposé': 1031, 'Jessie J': 1032, 'Runner Runner': 1033, 'Kerli': 1034, 'Breathe Carolina': 1035, 'Anarbor': 1036, 'Nicki Minaj': 1037, 'The Maine': 1038, 'Teen Hearts': 1039, 'Forever the Sickest Kids': 1040, 'Gloria': 1041, 'Bruno Mars': 1042, 'Boys Like Girls': 1043, 'Slipknot': 1044, 'Fresno': 1045, 'New Found Glory': 1046, 'McFly': 1047, 'The Kooks': 1048, 'Nevada Tan': 1049, 'Mamma Mia!': 1050, 'Alesha Dixon': 1051, 'Pink': 1052, 'Edyta Bartosiewicz': 1053, 'Camp Rock': 1054, 'Myslovitz': 1055, 'Jamal': 1056, 'Ewa Farna': 1057, 'Łzy': 1058, 'Alexz Johnson': 1059, 'Bonanza Banzai': 1060, 'Recoil': 1061, 'Ladytron': 1062, 'Fake': 1063, 'Hubert Kah': 1064, 'Sally Shapiro': 1065, 'Ayria': 1066, 'Red Flag': 1067, 'Cook Da Books': 1068, 'The Frozen Autumn': 1069, 'Johan Agebjörn': 1070, 'Alan Silvestri': 1071, 'Martin L. Gore': 1072, 'Kraftwerk': 1073, 'Cause & Effect': 1074, 'IAMX': 1075, 'Wham!': 1076, 'Klein & Mbo': 1077, 'Alan Wilder': 1078, 'Billy Idol': 1079, 'Dark Phenomenon': 1080, 'Ace of Base': 1081, 'TIA': 1082, 'Siouxsie and the Banshees': 1083, 'Provision': 1084, 'Curve': 1085, 'Static Movement': 1086, 'Alisha': 1087, 'B.W.H.': 1088, 'Suede': 1089, 'Franz Ferdinand': 1090, 'AFI': 1091, 'Joaquín Sabina': 1092, 'Kaizers Orchestra': 1093, 'Kent': 1094, 'Damon Albarn': 1095, 'Bayside': 1096, 'Patrick Wolf': 1097, 'Björk': 1098, 'The Prodigy': 1099, 'Chiodos': 1100, 'These New Puritans': 1101, 'William Control': 1102, 'Iggy Pop': 1103, 'Rammstein': 1104, \"Jack's Mannequin\": 1105, 'Phoenix': 1106, 'The Good, the Bad & the Queen': 1107, 'Nicky Wire': 1108, 'Yann Tiersen': 1109, 'Rush': 1110, 'Tenhi': 1111, 'Frédéric Chopin': 1112, 'Ayreon': 1113, 'Tarja': 1114, 'Balayeurs du désert': 1115, 'Incubus': 1116, 'Claude Debussy': 1117, 'A Perfect Circle': 1118, 'Faith No More': 1119, 'György Ligeti': 1120, 'Wolfgang Amadeus Mozart': 1121, 'The Police': 1122, 'Johann Sebastian Bach': 1123, 'Carl Orff': 1124, 'Los Jaivas': 1125, 'Noir Désir': 1126, 'The Asteroids Galaxy Tour': 1127, 'John Petrucci & Jordan Rudess': 1128, 'Villa cariño': 1129, 'Ludwig van Beethoven': 1130, 'Tool': 1131, 'Joe Satriani': 1132, 'The String Quartet': 1133, 'Agalloch': 1134, 'Camille': 1135, 'Amadou & Mariam': 1136, 'Kuervos del Sur': 1137, 'Igor Stravinsky': 1138, 'Maurice Ravel': 1139, 'Neal Morse': 1140, 'Aina Sandoval': 1141, 'Die Antwoord': 1142, 'Empyrium': 1143, 'Josquin des Prez': 1144, 'Stone Sour': 1145, '菅野よう子': 1146, 'Murray Gold': 1147, '平沢進': 1148, 'Pete and The Pirates': 1149, 'Leonard Cohen': 1150, 'Editors': 1151, 'Fire Bomber': 1152, 'Đorđe Balašević': 1153, 'The Pillows': 1154, 'Hot Chip': 1155, 'Orbital': 1156, '坂本真綾': 1157, 'Lewis Black': 1158, 'Architecture in Helsinki': 1159, 'Roy Orbison': 1160, 'Pizzicato Five': 1161, 'Flight of the Conchords': 1162, 'Los Campesinos!': 1163, 'The Magnetic Fields': 1164, 'Luky': 1165, 'Shimon Masato': 1166, 'Antony and the Johnsons': 1167, 'Mychael Danna/DeVotchKa': 1168, 'Kayo Dot': 1169, 'Rishloo': 1170, 'The Blood Brothers': 1171, 'Jordan Rudess': 1172, 'Quidam': 1173, 'Juniper': 1174, 'Georg Friedrich Händel': 1175, 'The Sound of Animals Fighting': 1176, 'Diablo Swing Orchestra': 1177, 'Lunatic Soul': 1178, 'Billy Talent': 1179, 'Escape The Fate': 1180, 'Silverstein': 1181, 'The Red Jumpsuit Apparatus': 1182, 'You Me At Six': 1183, 'The Blackout': 1184, 'Alesana': 1185, 'Sum 41': 1186, 'Dance Gavin Dance': 1187, 'Asking Alexandria': 1188, 'Secondhand Serenade': 1189, 'We Are The Ocean': 1190, 'Hadouken!': 1191, 'Four Year Strong': 1192, 'Mayday Parade': 1193, 'Hawthorne Heights': 1194, 'Alexisonfire': 1195, 'Suicide Silence': 1196, 'Senses Fail': 1197, 'We The Kings': 1198, 'Destine': 1199, 'Story of the Year': 1200, 'Cute Is What We Aim For': 1201, 'Melvins': 1202, 'Skinny Puppy': 1203, 'Agoraphobic Nosebleed': 1204, 'Death in June': 1205, 'Misfits': 1206, 'The Skatalites': 1207, 'Reverend Horton Heat': 1208, 'The Conet Project': 1209, 'Saul Williams': 1210, 'Lärm': 1211, 'Manorexia': 1212, 'Lush': 1213, 'Nile': 1214, 'Mirrorthrone': 1215, 'Mastodon': 1216, 'Shadow Project': 1217, 'Chris Vrenna': 1218, 'Ravi Shankar': 1219, 'Patsy Cline': 1220, 'Naked City': 1221, 'Venetian Snares': 1222, 'Eyehategod': 1223, 'Bob Wills and his Texas Playboys': 1224, 'Dean Martin': 1225, 'Shpongle': 1226, 'Dick Dale': 1227, 'La Quiete': 1228, 'Sunn O)))': 1229, 'Parliament': 1230, 'The Dresden Dolls': 1231, 'Jelly Roll Morton': 1232, 'The Tear Garden': 1233, 'Sutcliffe Jügend': 1234, 'Birth Control': 1235, 'Zomby': 1236, 'CunninLynguists': 1237, 'Tinariwen': 1238, 'Weezer': 1239, 'Them Crooked Vultures': 1240, 'Skank': 1241, 'The Beach Boys': 1242, 'Mika': 1243, 'Elvis Presley': 1244, 'Hayley Williams': 1245, 'Panic! At the Disco': 1246, 'The Calling': 1247, 'The Darkness': 1248, \"Guns N' Roses\": 1249, 'Alpha Quadrant': 1250, 'Dark Fortress': 1251, 'Cryo': 1252, 'Front Line Assembly': 1253, 'Mayhem': 1254, 'X-Dream': 1255, 'Haujobb': 1256, 'Overkill': 1257, 'Bolt Thrower': 1258, 'Satyricon': 1259, 'Marduk': 1260, 'Sodom': 1261, 'Secrets of the Moon': 1262, 'Tristania': 1263, 'Carcass': 1264, 'Headscan': 1265, 'Unanimated': 1266, 'Nocte Obducta': 1267, 'Love Like Blood': 1268, 'FREq': 1269, 'Tactical Sekt': 1270, 'Novembers Doom': 1271, 'Electric Universe': 1272, 'Vinterland': 1273, 'Sepultura': 1274, 'Samael': 1275, 'Immortal': 1276, 'Velvet Acid Christ': 1277, 'yelworC': 1278, 'X-Marks the Pedwalk': 1279, 'Orange Sector': 1280, 'Cannibal Corpse': 1281, 'Forma Tadre': 1282, 'Blue Planet Corporation': 1283, 'Necrophobic': 1284, 'Talamasca': 1285, 'Devourment': 1286, 'Unlord': 1287, 'Atmos': 1288, 'Helrunar': 1289, 'Messiah': 1290, 'Withershin': 1291, 'mind.in.a.box': 1292, 'Absurd Minds': 1293, 'Rotersand': 1294, 'VNV Nation': 1295, 'Seabound': 1296, 'Colony 5': 1297, 'Apoptygma Berzerk': 1298, 'Suicide Commando': 1299, 'Blutengel': 1300, 'Neuroticfish': 1301, 'Culture Kultür': 1302, 'Assemblage 23': 1303, 'Edge of Dawn': 1304, 'Cosmic Gate': 1305, 'Above & Beyond': 1306, 'Cesium:137': 1307, 'Ronski Speed': 1308, 'Stoneface & Terminal': 1309, 'Noisecontrollers': 1310, 'Donkey Rollers': 1311, 'Pride and Fall': 1312, 'E-Craft': 1313, 'Solitary Experiments': 1314, 'Wynardtage': 1315, 'Blutonium Boy': 1316, 'P24': 1317, 'Sander van Doorn': 1318, 'Brooklyn Bounce': 1319, 'Code 64': 1320, 'Lights of Euphoria': 1321, 'Echo Image': 1322, 'Sero.Overdose': 1323, 'A7ie': 1324, 'Spektralized': 1325, 'Negative Format': 1326, 'Noycetm': 1327, 'Angels & Agony': 1328, 'Lost Signal': 1329, '4 Strings': 1330, 'Accessory': 1331, 'XP8': 1332, 'Les Anges De La Nuit': 1333, 'Glis': 1334, 'Bruderschaft': 1335, 'Syrian': 1336, 'Nuclear Assault': 1337, 'HammerFall': 1338, 'Sonata Arctica': 1339, 'Iron Fire': 1340, 'Flotsam and Jetsam': 1341, 'Gamma Ray': 1342, 'Queensrÿche': 1343, 'Annihilator': 1344, 'Armored Saint': 1345, 'Grave Digger': 1346, 'Sabaton': 1347, 'Alestorm': 1348, 'Rhapsody of Fire': 1349, 'Edguy': 1350, 'Tenacious D': 1351, 'Death Angel': 1352, 'Running Wild': 1353, 'Mantic Ritual': 1354, 'Jag Panzer': 1355, 'Heathen': 1356, 'Sacred Reich': 1357, 'Judas Priest': 1358, 'Tarot': 1359, 'Motörhead': 1360, 'Bloodbound': 1361, 'Mekong Delta': 1362, 'Power Quest': 1363, 'Exodus': 1364, 'Vicious Rumors': 1365, 'W.A.S.P.': 1366, 'Steel Attack': 1367, 'Primal Fear': 1368, 'Black Sabbath': 1369, 'Early Man': 1370, 'Wolf': 1371, 'Deep Purple': 1372, 'Agent Steel': 1373, 'Demons & Wizards': 1374, 'Snow Patrol': 1375, 'White Lies': 1376, 'The Fray': 1377, 'Jimmy Eat World': 1378, 'Hurts': 1379, 'Blue October': 1380, 'Starsailor': 1381, 'David Gray': 1382, 'Imogen Heap': 1383, 'The Verve': 1384, 'Thirteen Senses': 1385, 'Matthew Ryan': 1386, 'The Little Heroes': 1387, 'Gary Jules': 1388, 'Eisley': 1389, 'Vampire Weekend': 1390, 'Negativ': 1391, 'Lady Sovereign': 1392, 'Alenka Gotar': 1393, 'The Chemical Brothers': 1394, 'Freemasons': 1395, 'Digitalism': 1396, 'Fatboy Slim': 1397, 'Justice': 1398, 'Armand van Helden': 1399, 'MGMT': 1400, 'deadmau5': 1401, 'Ludacris': 1402, 'Martin Solveig': 1403, 'Lone': 1404, 'Simian Mobile Disco': 1405, 'The Offspring': 1406, 'Michael Gray': 1407, 'MSTRKRFT': 1408, 'Calvin Harris': 1409, 'Pendulum': 1410, 'King Crimson': 1411, 'Led Zeppelin': 1412, 'Genesis': 1413, 'Paul McCartney': 1414, 'Creedence Clearwater Revival': 1415, 'George Harrison': 1416, 'Týr': 1417, 'Mogwai': 1418, 'Spirit': 1419, 'Terry Reid': 1420, 'Roberto Carlos': 1421, 'Grateful Dead': 1422, 'A Silver Mt. Zion': 1423, 'Cat Power': 1424, 'David Gilmour': 1425, 'The Jimi Hendrix Experience': 1426, 'Stevie Wonder': 1427, 'Dulce María': 1428, 'Christian Chávez': 1429, 'Christopher Von Uckermann': 1430, 'Paty Cantú': 1431, 'Tiziano Ferro': 1432, 'Daddy Yankee': 1433, 'Kazaky': 1434, 'La Nueva Banda Timbiriche': 1435, 'Luis Fonsi': 1436, 'Chino & Nacho': 1437, 'Camila': 1438, 'Alexis & Fido': 1439, 'David Bisbal': 1440, 'Eva Simons': 1441, 'Gaby sanchez': 1442, 'Wisin & Yandel': 1443, 'Akon': 1444, 'Artists For Haiti': 1445, 'Fanny Lú': 1446, 'Lady Antebellum': 1447, 'Ivy Queen': 1448, 'Pitbull': 1449, 'Kristinia DeBarge': 1450, 'Girlicious': 1451, 'Willow Smith': 1452, 'Selena Gomez': 1453, 'Jullie': 1454, 'B.o.B': 1455, 'Far East Movement': 1456, 'Cherish': 1457, 'Miranda Cosgrove': 1458, 'Carrie Underwood': 1459, 'Rednex': 1460, 'Big Time Rush': 1461, 'Gloriana': 1462, 'Amy Macdonald': 1463, 'ABBA': 1464, 'Agnetha Fältskog': 1465, 'Jared Padalecki': 1466, 'Jensen Ackles': 1467, 'Kansas': 1468, 'The Mamas & The Papas': 1469, 'Lifehouse': 1470, 'Mamma Mia! Brasil': 1471, 'Madonna feat. Gogol Bordello': 1472, 'swedem': 1473, 'Mamma Mia! Film Cast': 1474, 'Ricky Martin': 1475, 'Based On Abba': 1476, 'Per Gessle; Roxette': 1477, 'B.J. Thomas': 1478, 'Kim Carnes': 1479, 'Anni-Frid Lyngstad': 1480, 'Matt & Kim': 1481, 'Pataclaun': 1482, 'Riko': 1483, 'cnet.com': 1484, 'Miike Snow': 1485, 'Santigold': 1486, 'Eileen': 1487, 'Time Machine': 1488, 'Reba McEntire': 1489, 'Rockstar Games ©': 1490, 'Antonio Vivaldi': 1491, 'The Virgins': 1492, 'Chespirito': 1493, 'Rocío Dúrcal': 1494, '2009 Names in Vain': 1495, 'Amsterdam Guitar Trio': 1496, 'Just Jack': 1497, 'Los Fantasmas del Caribe': 1498, 'Frankie Ruiz': 1499, 'Tito El Bambino': 1500, 'Caifanes': 1501, 'Rooney': 1502, 'Nadia Oh': 1503, 'Sonic Youth': 1504, 'Natalie Imbruglia': 1505, 'Valeria': 1506, 'Omarion': 1507, 'Starlight Mints': 1508, 'Noel Gallagher': 1509, 'Black Rebel Motorcycle Club': 1510, 'Paolo Nutini': 1511, 'The Last Shadow Puppets': 1512, 'Ramones': 1513, 'The Courteeners': 1514, 'The Fratellis': 1515, 'The Enemy': 1516, 'The Wombats': 1517, 'Mumford & Sons': 1518, 'Ryan Adams': 1519, 'The Hives': 1520, 'Morbid Angel': 1521, 'Destruction': 1522, 'Tankard': 1523, 'Hirax': 1524, 'Artillery': 1525, 'Toxic Holocaust': 1526, 'Anthrax': 1527, 'Municipal Waste': 1528, 'Forbidden': 1529, 'Vio-Lence': 1530, 'Venom': 1531, 'Lich King': 1532, 'Napalm Death': 1533, 'The Sisters of Mercy': 1534, 'Mercyful Fate': 1535, 'Exumer': 1536, 'EMICIDA': 1537, 'Mortal Treason': 1538, 'Chainsaw Disaster': 1539, 'Bleeding Through': 1540, 'The Devil Wears Prada': 1541, 'Knights Of The Abyss': 1542, 'Immortal Technique': 1543, 'J. Holiday': 1544, 'Raimundos': 1545, 'boysetsfire': 1546, 'Hatebreed': 1547, 'wecamewithbrokenteeth': 1548, 'Waking The Cadaver': 1549, 'Impending Doom': 1550, 'As Blood Runs Black': 1551, 'For Today': 1552, 'CéU': 1553, 'ABACABB': 1554, 'Job for a Cowboy': 1555, 'Joss Stone': 1556, 'Carnifex': 1557, 'Provérbio X': 1558, 'The Irish Front': 1559, 'Facção Central': 1560, 'Beneath the Massacre': 1561, 'akissforjersey': 1562, 'Annotations of an Autopsy': 1563, 'E.Town Concrete': 1564, 'Brain Drill': 1565, 'Misericordiam': 1566, 'Rose Funeral': 1567, 'See You Next Tuesday': 1568, 'Straight Line Stitch': 1569, 'Belay My Last': 1570, 'Винтаж': 1571, 'Serebro': 1572, 'Вера Брежнева': 1573, 'Жанна Фриске': 1574, 'Дантес&Олейник': 1575, 'Dan Balan': 1576, 'Нюша': 1577, 'Анна Седокова': 1578, \"Банд'Эрос\": 1579, 'Paris Hilton': 1580, 'Татьяна Котова': 1581, 'Таня': 1582, 'Баста': 1583, 'Love Spit Love': 1584, 'Panik': 1585, 'Инь-Ян': 1586, 'Roma Kenga и Агния Дитковските': 1587, 'Tom Dice': 1588, 'S Club 7': 1589, 'Skye Sweetnam': 1590, 'Holly Valance': 1591, 'Mis-Teeq': 1592, 'Samantha Mumba': 1593, 'Gina Rene, Gabriel Rene, Lindsay Lohan, Rachel McAdams, Lacey Chabert, & Amanda Seyfried': 1594, 'Eve': 1595, 'Christina Milian': 1596, 'The Cheetah Girls': 1597, 'Allstars': 1598, 'Gareth Gates': 1599, 'Madison Avenue': 1600, 'Anastacia': 1601, 'Shayne Ward': 1602, 'Billie Piper': 1603, 'Jamelia': 1604, 'Black Milk': 1605, 'People Under the Stairs': 1606, 'Constrobuz': 1607, 'UGK': 1608, 'Lykke Li': 1609, 'Jurassic 5': 1610, 'Zion I': 1611, 'G-Side': 1612, 'Jay-Z': 1613, 'Atmosphere': 1614, 'Killer Mike': 1615, 'Elzhi': 1616, 'Nappy Roots': 1617, 'Hieroglyphics': 1618, 'Blackalicious': 1619, 'OutKast': 1620, 'Masta Ace': 1621, 'De La Soul': 1622, 'Jeru the Damaja': 1623, 'The Jacka': 1624, 'Monsta Island Czars': 1625, 'Living Legends': 1626, 'J Dilla': 1627, 'Das EFX': 1628, 'Organized Konfusion': 1629, 'Jake One': 1630, 'Deltron 3030': 1631, 'Metric': 1632, 'Fleet Foxes': 1633, 'Souls of Mischief': 1634, 'The D.O.C.': 1635, 'Jedi Mind Tricks': 1636, 'The Grouch & Eligh': 1637, 'Pac Div': 1638, 'Jimi Hendrix': 1639, 'GZA/Genius': 1640, 'The Game': 1641, 'Aliados 13': 1642, 'Dave Matthews Band': 1643, 'Brothers of Brazil': 1644, 'Rancid': 1645, 'Outono em Marte': 1646, 'Drapz': 1647, 'The Baseballs': 1648, 'Os Dissonantes': 1649, 'Anti-Flag': 1650, 'Cascadura': 1651, 'The Wallflowers': 1652, 'Supla': 1653, 'Tequila Baby': 1654, 'Candlebox': 1655, 'Motel': 1656, 'Mecanika!': 1657, 'Supercombo': 1658, 'Cine': 1659, 'Blind Melon': 1660, 'Borderlinerz': 1661, 'Nenhum de Nós': 1662, 'Those Dancing Days': 1663, 'Poléxia': 1664, 'Sanalejo': 1665, 'Udora': 1666, 'Mike Ness': 1667, 'Matt White': 1668, 'Faichecleres': 1669, 'Black Veil Brides': 1670, 'Falling In Reverse': 1671, 'Avenged Sevenfold': 1672, 'Tokio Hotel': 1673, 'The Medic Droid': 1674, 'Get Scared': 1675, 'from aphony': 1676, 'Criss Angel': 1677, 'BrokeNCYDE': 1678, 'Stephen Jerzak': 1679, 'The Ready Set': 1680, 'Charlie Brown Jr.': 1681, 'Bratz': 1682, 'Jennette McCurdy': 1683, 'Aly & AJ': 1684, 'Everlife': 1685, 'Weird Al Yankovic': 1686, 'Liz Phair': 1687, 'iamamiwhoami': 1688, 'Bowling for Soup': 1689, 'Victoria Justice': 1690, 'Orianthi': 1691, 'Keke Palmer': 1692, 'Christy Carlson Romano': 1693, 'Dolly Parton': 1694, 'Susan Egan/Vaneese Thomas/Cheryl Freeman/LaChanze/Lillias White': 1695, 'Billy Ray Cyrus': 1696, 'Lady GaGa vs. Madonna': 1697, 'Sterling Knight': 1698, 'Future Pop Stars United': 1699, 'Clint Mansell': 1700, 'Puscifer': 1701, 'Eicca Toppinen': 1702, 'The Cult': 1703, 'Unheilig': 1704, 'Hans Zimmer': 1705, 'Black Light Burns': 1706, 'Dead Can Dance': 1707, 'Philip Glass': 1708, 'Brian Eno': 1709, 'Therion': 1710, 'Eisbrecher': 1711, 'Megaherz': 1712, 'Dave Gahan': 1713, 'Oomph!': 1714, 'Lisa Gerrard': 1715, 'Cliff Martinez': 1716, 'Peter Broderick': 1717, 'Ani DiFranco': 1718, 'Uzi & Ari': 1719, 'Hauschka': 1720, 'Jens Lekman': 1721, 'Olafur Arnalds': 1722, 'Anathallo': 1723, 'Flica': 1724, 'Jon Foreman': 1725, 'Elio e le Storie Tese': 1726, 'Jóhann Jóhannsson': 1727, 'Piano Magic': 1728, 'Craig Armstrong': 1729, 'Teitur': 1730, 'Hammock': 1731, 'Joanna Newsom': 1732, 'A Weather': 1733, 'Damien Jurado': 1734, 'Seabear': 1735, 'Balmorhea': 1736, 'Do Make Say Think': 1737, 'Soulwax': 1738, 'Frozen Silence': 1739, 'Soundtrack': 1740, 'Bobo Rondelli': 1741, 'Ryuichi Sakamoto': 1742, 'Ludovico Einaudi': 1743, 'Goldmund': 1744, 'Apparat': 1745, 'Psapp': 1746, 'Ólafur Arnalds': 1747, 'Nancy Elizabeth': 1748, 'Does It Offend You Yeah?': 1749, 'Tom Barman': 1750, \"Mi and L'au\": 1751, 'Ellen Allien': 1752, 'Whitetree': 1753, 'Clare & the Reasons': 1754, 'Chico Buarque': 1755, 'Ney Matogrosso': 1756, 'Secos & Molhados': 1757, 'Chicas': 1758, 'Oswaldo Montenegro': 1759, 'Renato Russo': 1760, 'Marcelo Camelo': 1761, 'Zbigniew Preisner': 1762, 'Maria Rita': 1763, 'Caetano Veloso': 1764, 'Kevin Johansen': 1765, 'Little Joy': 1766, 'Carla Bruni': 1767, 'Pato Fu': 1768, 'Felpeyu': 1769, 'Erik Satie': 1770, 'Rita Lee': 1771, 'Norah Jones': 1772, 'Yoñlu': 1773, 'David Nevue': 1774, 'Cássia Eller': 1775, 'Tiê': 1776, 'Adam Green': 1777, 'Eddie Vedder': 1778, 'Cartola': 1779, 'Libera': 1780, 'Emilie Simon': 1781, 'Jonathan Larson': 1782, 'Esbjörn Svensson Trio': 1783, 'Бумбокс': 1784, 'А-Студио': 1785, 'Сплин': 1786, 'UNKLE': 1787, 'Агата Кристи': 1788, \"5'nizza\": 1789, 'Archive': 1790, 'Океан Ельзи': 1791, 'SunSay': 1792, 'Schiller': 1793, 'Inspiral Carpets': 1794, 'Sting': 1795, 'Nautilus Pompilius': 1796, 'Guano Apes': 1797, 'Umaturman': 1798, 'Indochine': 1799, 'Amethystium': 1800, 'Nightmares on Wax': 1801, 'The Shadows': 1802, 'Mötley Crüe': 1803, 'T. Rex': 1804, 'Suzi Quatro': 1805, 'Syd Barrett': 1806, 'The Runaways': 1807, 'Ratt': 1808, 'Stryper': 1809, 'Def Leppard': 1810, 'Patti Smith': 1811, 'Jerry Cantrell': 1812, 'The Black Crowes': 1813, 'Sex Pistols': 1814, 'Extremoduro': 1815, 'Héroes del Silencio': 1816, 'L7': 1817, 'Jazzanova': 1818, 'Love Unlimited Orchestra': 1819, 'Donna Summer': 1820, 'Luther Vandross': 1821, '4hero': 1822, 'MFSB': 1823, 'Zero 7': 1824, 'The Jacksons': 1825, 'Isaac Hayes': 1826, '808 State': 1827, 'Chaka Khan': 1828, 'Quincy Jones': 1829, 'Loose Ends': 1830, 'David Sanborn': 1831, 'Chic': 1832, 'Nina Simone': 1833, 'Diana Ross': 1834, 'The Cinematic Orchestra': 1835, 'Art of Noise': 1836, 'Scott Walker': 1837, 'Stanton Warriors': 1838, 'Little Brother': 1839, 'Trüby Trio': 1840, 'Musiq': 1841, 'Blue Six': 1842, 'Teddy Pendergrass': 1843, 'Grace Jones': 1844, 'Roy Ayers': 1845, 'Rick James': 1846, 'Minnie Riperton': 1847, 'Sarah Vaughan': 1848, \"Shawn Lee's Ping Pong Orchestra\": 1849, 'Teena Marie': 1850, 'Richard Wagner': 1851, 'Red': 1852, 'blessthefall': 1853, 'Breaking Benjamin': 1854, 'Pillar': 1855, 'Makeshift Romeo': 1856, 'YUI': 1857, 'Thrice': 1858, 'Thousand Foot Krutch': 1859, 'Jay-Z and Linkin Park': 1860, 'Heaven Shall Burn': 1861, 'SMS': 1862, 'Hollywood Undead': 1863, 'Black Lab': 1864, 'abingdon boys school': 1865, 'Yellowcard': 1866, 'Disciple': 1867, 'A Skylit Drive': 1868, 'D2': 1869, 'Dope': 1870, 'Shane Dawson': 1871, 'Flow': 1872, 'Audioslave': 1873, 'Hoobastank': 1874, 'The Frames': 1875, 'Оригами': 1876, 'access': 1877, 'Devo': 1878, 'Split Enz': 1879, 'Fashion': 1880, 'XTC': 1881, 'Pseudo Echo': 1882, 'The Cars': 1883, 'Midnight Oil': 1884, 'Dead or Alive': 1885, 'Gary Numan': 1886, 'Shriekback': 1887, 'Wire': 1888, 'Oingo Boingo': 1889, 'Sparks': 1890, 'Thomas Dolby': 1891, 'Eurythmics': 1892, 'Yellow Magic Orchestra': 1893, 'Models': 1894, 'Visage': 1895, 'Magazine': 1896, 'John Foxx': 1897, 'Landscape': 1898, 'Scritti Politti': 1899, 'Yello': 1900, 'They Might Be Giants': 1901, 'New Musik': 1902, 'SHINee': 1904, 'Shinedown': 1905, '東方神起': 1906, 'Mehdi': 1907, '増田俊郎': 1908, '和田薫': 1909, 'the GazettE': 1910, 'See-Saw': 1912, 'Ария': 1913, 'The 69 Eyes': 1914, 'AYABIE': 1915, 'Charon': 1917, '동방신기': 1918, 'HIGH and MIGHTY COLOR': 1919, '平野義久': 1920, 'audiomachine': 1921, 'Rie fu': 1922, 'ギルガメッシュ': 1923, \"Fool's Garden\": 1925, 'Lovex': 1927, 'ASIAN KUNG-FU GENERATION': 1929, 'SUGIZO': 1930, 'Poisonblack': 1931, 'Acid Black Cherry': 1932, 'ムック': 1933, 'Adele': 1934, 'Solange': 1935, 'Jennifer Hudson': 1936, 'Michelle Williams': 1937, 'Stand Up to Cancer': 1938, 'Ana Carolina; Seu Jorge': 1939, 'Teyana Taylor': 1940, 'Gnarls Barkley': 1941, 'Guru Josh Project': 1942, 'Flying Lotus': 1943, 'The Mountain Goats': 1944, 'Daedelus': 1945, 'Madlib': 1946, 'Neutral Milk Hotel': 1947, 'Quasimoto': 1948, 'Okkervil River': 1949, 'Madvillain': 1950, 'Pomegranates': 1951, 'Raekwon': 1952, 'Onra': 1953, 'Yeasayer': 1954, 'BLK JKS': 1955, 'Mount Kimbie': 1956, 'Pavement': 1957, 'The Flaming Lips': 1958, 'Blu & Exile': 1959, 'Lightspeed Champion': 1960, 'Actress': 1961, 'King Geedorah': 1962, 'MF DOOM': 1963, 'Deerhunter': 1964, 'Four Tet': 1965, 'Someone Still Loves You Boris Yeltsin': 1966, 'Guilty Simpson': 1967, 'Baaba Maal & Mansour Seck': 1968, 'Prefuse 73': 1969, 'The Avalanches': 1970, 'Laura Marling': 1971, \"K'naan\": 1972, 'Aloe Blacc': 1973, 'Rage Against the Machine': 1974, 'O.S.T.R.': 1975, 'The Black Keys': 1976, 'The Raconteurs': 1977, 'Cool Kids of Death': 1978, 'Cypress Hill': 1979, 'Czesław Śpiewa': 1980, 'Kult': 1981, 'Muchy': 1982, 'The Knife': 1983, 'Pidżama Porno': 1984, 'Chris Cornell': 1985, 'Metronomy': 1986, 'Dick4Dick': 1987, 'The Subways': 1988, 'Paktofonika': 1989, 'Fever Ray': 1990, 'The Von Bondies': 1991, 'King Diamond': 1992, 'Falconer': 1993, 'Devin Townsend': 1994, 'Vanden Plas': 1995, 'Allen/Lande': 1996, 'Dragonland': 1997, 'Liquid Tension Experiment': 1998, 'Stemage': 1999, 'いきものがかり': 2000, 'Al Di Meola': 2001, 'John Petrucci': 2002, \"Spock's Beard\": 2003, 'Jorn': 2004, 'Shadow Gallery': 2005, 'Pain of Salvation': 2006, 'Random': 2007, 'Don Ross': 2008, 'DragonForce': 2009, 'Russell Allen': 2010, 'Rampkorv': 2011, 'key': 2012, 'Blue Öyster Cult': 2013, 'Lacuna Coil': 2014, 'Axenstar': 2015, 'Transatlantic': 2016, 'Eureka Seven': 2017, 'September': 2018, 'Stacie Orrico': 2019, 'Leighton Meester': 2020, 'Victoria Beckham': 2021, 'Melanie C': 2022, 'Gloria Estefan': 2023, 'Emma Bunton': 2024, 'Simon Curtis': 2025, 'The Residents': 2026, 'Frankie Goes to Hollywood': 2027, 'Пикник': 2028, 'Madness': 2029, 'Coil': 2030, 'Bee Gees': 2031, 'Die Apokalyptischen Reiter': 2032, 'Ska-P': 2033, 'Los Fastidios': 2034, 'Steve Jablonsky': 2035, 'The Business': 2036, 'Tuxedomoon': 2037, 'In Extremo': 2038, 'Deutsch Amerikanische Freundschaft': 2039, 'Luciano Pavarotti': 2040, '[:SITD:]': 2041, 'SPK': 2042, 'Cabaret Voltaire': 2043, 'Sarah Brightman': 2044, 'Immediate Music': 2045, 'Alessandro Safina': 2046, 'Andrea Bocelli': 2047, 'Riccardo Cocciante': 2048, 'Sarah Brightman & Andrea Bocelli': 2049, 'Il Divo': 2050, 'Josh Groban': 2051, 'Susan Boyle': 2052, 'Cristian Castro': 2053, 'Emma Shapplin': 2054, 'Andrew Lloyd Webber': 2055, 'Adela Popescu': 2056, 'Midnight Hour': 2057, 'marger': 2058, 'Vanessa-Mae': 2059, 'Cirque du Soleil': 2060, 'Petra Berger': 2061, 'In This Moment': 2062, 'Anastasia Lazariuc': 2063, 'Ana Gabriel': 2064, 'Marco Antonio Solís': 2065, 'Rhydian': 2066, 'Lara Fabian': 2067, 'Yiruma': 2068, 'Stream of Passion': 2069, 'Vasco Rossi': 2070, 'Michael Giacchino': 2071, 'Keedie': 2072, 'Giorgia Fumanti': 2073, 'David Bustamante': 2074, 'Gregorian': 2075, 'Katherine Jenkins': 2076, 'Vega 4': 2077, 'Daniela Castro': 2078, 'Sissel': 2079, 'NX Zero': 2080, 'Dev': 2081, 'Marjorie Estiano': 2082, 'M.I.A.': 2083, 'DJ Earworm': 2084, 'The Cataracs': 2085, 'Perfume': 2086, 'Aural Vampire': 2087, 'Alan': 2088, '티아라': 2089, 'UNLIMITS': 2090, '4minute': 2091, '소녀시대': 2092, 'Versailles': 2093, 'BoA': 2094, 'Aira Mitsuki': 2095, 'exist†trace': 2096, 'Brown Eyed Girls': 2097, 'Kara': 2098, '윤하': 2099, \"D'espairsRay\": 2100, 'Capsule': 2101, '倖田來未': 2102, '-OZ-': 2103, 'ルルティア': 2104, 'Aqua Timez': 2105, 'U-KISS': 2106, '태양': 2107, 'OreSkaBand': 2108, 'Asriel': 2109, 'Kaya': 2110, '鬼束ちひろ': 2111, '妖精帝國': 2112, 'heidi.': 2113, '아웃사이더': 2114, 'Saori@destiny': 2115, 'Kalafina': 2116, '시크릿': 2117, 'immi': 2118, 'ＭＡＮＮＥＱＵＩＮ': 2119, 'IU': 2120, 'OK Go': 2121, 'Miles Kane': 2122, 'Alex Turner': 2123, 'Benjamin Biolay': 2124, 'Darwin Deez': 2125, 'Annoying Orange': 2126, 'The Turtles': 2127, 'The Rascals': 2128, 'Royal Republic': 2129, 'Brandon Flowers': 2130, 'Dirty Pretty Things': 2131, 'Dizzee Rascal': 2132, 'Milburn': 2133, 'Julian Casablancas': 2134, 'Chiddy Bang': 2135, 'Serge Gainsbourg': 2136, 'Two Door Cinema Club': 2137, 'Memorial Beach': 2138, 'Beach House': 2139, 'The Bottletop Band': 2140, 'Bill Elm and Woody Jackson': 2141, 'Sahara Hotnights': 2142, 'DevilDriver': 2143, 'Георг Корг': 2144, 'B. Fleischmann': 2145, 'AFX': 2146, 'Total': 2147, '2H Company': 2148, 'Booka Shade': 2149, 'Fightstar': 2150, 'Meshuggah': 2151, 'Electric Birds': 2152, 'Current Value': 2153, 'Jane Air': 2154, 'Psychostick': 2155, 'Самое Большое Простое Число': 2156, 'Christian Kleine': 2157, 'Mujuice': 2158, 'Дальний Свет': 2159, 'Maroon': 2160, 'Wisp': 2161, 'Alarm Will Sound': 2162, 'E-SEX-T': 2163, 'Ovuca': 2164, 'Enduser': 2165, 'Architect': 2166, 'Fink': 2167, 'American Head Charge': 2168, 'Dagoba': 2169, 'Neurocoders': 2170, 'Integral': 2171, 'Gojira': 2172, 'Limewax': 2173, 'edIT': 2174, 'Etta James': 2175, 'Michael Bublé': 2176, 'Katie Stevens': 2177, 'Michael Jackson & Britney Spears': 2178, '50 Cent': 2179, 'Marc Seales, composer. New Stories. Ernie Watts, saxophone.': 2180, 'Aaryn Doyle': 2181, 'Lisa Marie Presley': 2182, 'Heart': 2183, 'Maysa': 2184, 'ВFI': 2185, 'Blind Witness': 2186, 'Stick to Your Guns': 2187, 'Bury Tomorrow': 2188, 'Buried in Verona': 2189, 'War of Ages': 2190, 'More Than A Thousand': 2191, 'Miss May I': 2192, 'Каста': 2193, 'The Hysteria': 2194, 'Sarah Where Is My Tea': 2195, 'Gallows': 2196, 'Stan Marsh': 2197, 'The Eyes Of A Traitor': 2198, '50 kreon 50': 2199, 'We Butter The Bread With Butter': 2200, 'Soulcount': 2201, 'Dead Silence Hides My Cries': 2202, 'Abandon All Ships': 2203, 'Of Mice & Men': 2204, 'Main-de-Gloire': 2205, 'Chevelle': 2206, 'The Mess': 2207, 'Compelled to Comply': 2208, 'It Dies Today': 2209, 'Attack Attack!': 2210, 'Austrian Death Machine': 2211, 'Disdained Grace': 2212, 'Woe Is Me': 2213, 'The Word Alive': 2214, 'Deception Of A Ghost': 2215, 'Fall to the Queen': 2216, 'Aelpéacha': 2217, 'Mr. Criminal': 2218, 'B.G. Knocc Out & Dresta': 2219, 'Aaliyah': 2220, 'Lil 1/2 Dead': 2221, 'Bone Thugs-N-Harmony': 2222, 'Too $hort': 2223, 'Alkpote': 2224, 'Seth Gueko': 2225, 'Snoop Dogg': 2226, 'Eazy-E': 2227, 'Csrd': 2228, 'DJ Quik': 2229, 'Roi Heenok': 2230, 'Spice 1': 2231, 'Mr. Capone-E': 2232, 'Booba': 2233, 'Southcide 13': 2234, 'Kokane': 2235, 'Ice Cube': 2236, 'Busta Flex': 2237, 'Above the Law': 2238, 'Ant Banks': 2239, 'Unité 2 Feu': 2240, 'Nate Dogg': 2241, 'Wiz Khalifa': 2242, 'Swift Guad': 2243, 'Alborosie': 2244, 'Yella': 2245, 'Orelsan': 2246, 'Dr. Dre': 2247, 'Domino': 2248, \"Compton's Most Wanted\": 2249, 'Lunatic': 2250, 'N.W.A': 2251, 'Mobb Deep': 2252, 'Warren G': 2253, 'Brotha Lynch Hung': 2254, 'MC Eiht': 2255, 'Mr. X': 2256, 'Lil Cuete': 2257, '2nd II None': 2258, 'MSJ': 2259, 'K-Dee': 2260, 'Les Sales Blancs': 2261, 'Foesum': 2262, 'Big Moves': 2263, 'Land of Talk': 2264, 'Simon & Garfunkel': 2265, 'Kind of Like Spitting': 2266, 'Maps & Atlases': 2267, 'Dirty Projectors': 2268, 'Page France': 2269, 'The Octopus Project': 2270, 'Death from Above 1979': 2271, 'Alban Berg Quartet': 2272, 'Tera Melos': 2273, \"Werner Haas/Orchestre National de L'Opéra de Monte-Carlo/Alceo Galliera\": 2274, 'Werner Haas': 2275, 'Pedro the Lion': 2276, 'Feist': 2277, 'Lake': 2278, 'The Microphones': 2279, 'The Apples in Stereo': 2280, 'Deerhoof': 2281, 'Born Ruffians': 2282, 'Things People Say': 2283, 'Broken Social Scene Presents: Brendan Canning': 2284, 'The American Analog Set': 2285, 'Big Weird Dutch People': 2286, 'Dirty Projectors + Björk': 2287, 'Django Reinhardt': 2288, 'Stereolab': 2289, 'Sky Larkin': 2290, 'No Kids': 2291, 'Bill Evans': 2292, 'Jean-Yves Thibaudet': 2293, 'Braid': 2294, 'Reverie Sound Revue': 2295, 'Joe Pass': 2296, 'Apostle of Hustle': 2297, 'Sezen Aksu': 2298, 'Zeki Müren': 2299, 'Ezginin Günlüğü': 2300, 'Ajda Pekkan': 2301, 'Nazan Öncel': 2302, 'Haris Alexiou': 2303, 'Yeni Türkü': 2304, 'İlhan İrem': 2305, 'Mikis Theodorakis': 2306, 'Zülfü Livaneli': 2307, 'Barış Manço': 2308, 'Hande Yener': 2309, 'Yıldız Tilbe': 2310, 'Kostas Pavlidis': 2311, 'Ahmet Kaya': 2312, 'Amália Rodrigues': 2313, 'Cem Karaca': 2314, 'Mazhar Fuat Özkan': 2315, 'Mor ve Ötesi': 2316, 'Sertab Erener': 2317, 'Nükhet Duru': 2318, 'Nilüfer': 2319, 'Candan Erçetin': 2320, 'Müzeyyen Senar': 2321, 'Zerrin Özer': 2322, 'Baba Zula': 2323, 'Umay Umay': 2324, 'Mehmet Güreli': 2325, 'Loyko': 2326, 'Funda Arar': 2327, 'Hümeyra': 2328, 'Selda Bağcan': 2329, 'Goran Bregović': 2330, 'Yasmin Levy': 2331, 'Zuhal Olcay': 2332, 'Emel Sayın': 2333, 'Levent Yüksel': 2334, 'Françoise Atlan': 2335, 'Erkin Koray': 2336, 'Düş Sokağı Sakinleri': 2337, 'Şebnem Ferah': 2338, 'Teoman': 2339, 'Marissa Nadler': 2340, 'Twisted Sister': 2341, 'Dio': 2342, 'KISS': 2343, 'Massacration': 2344, 'Dee Snider': 2345, 'Aerosmith': 2346, 'Van Halen': 2347, 'Desperado': 2348, 'Hollywood Rose': 2349, 'Buckcherry': 2350, 'Joan Jett': 2351, 'Creed': 2352, 'Highway': 2353, 'Pariisin Kevät': 2354, 'Von Hertzen Brothers': 2355, 'Michael Monroe': 2356, 'The Wildhearts': 2357, 'Uniklubi': 2358, 'CMX': 2359, 'Airbourne': 2360, 'D-A-D': 2361, 'Monster Magnet': 2362, 'Hardcore Superstar': 2363, 'The Hellacopters': 2364, 'Audrey Horne': 2365, 'Karnivool': 2366, 'Tuvalu': 2367, 'Animal Alpha': 2368, 'Type O Negative': 2369, 'Amorphis': 2370, 'Day Eleven': 2371, 'Backyard Babies': 2372, 'Danko Jones': 2373, 'Ghost Brigade': 2374, 'Primus': 2375, 'Jenni Vartiainen': 2376, 'Sara': 2377, 'Neaera': 2378, 'Trivium': 2379, 'Godsmack': 2380, 'Dethklok': 2381, 'The Crimson Armada': 2382, 'Amatory': 2383, 'Unearth': 2384, 'Flaw': 2385, 'Bleed From Within': 2386, 'Winds of Plague': 2387, 'Before The Torn': 2388, 'Sea of Treachery': 2389, 'Mónica Naranjo': 2390, 'Alejandra Guzmán': 2391, 'Jessie James': 2392, 'LeToya': 2393, 'Celia Cruz': 2394, 'Chayanne': 2395, 'Yuri': 2396, 'Patricia Rivera': 2397, 'Final Fantasy': 2398, 'The Lovely Feathers': 2399, 'dd/mm/yyyy': 2400, 'The Olivia Tremor Control': 2401, 'Xiu Xiu': 2402, 'Chore': 2403, 'k-os': 2404, 'TV on the Radio': 2405, \"They Shoot Horses Don't They\": 2406, 'Stars': 2407, 'Destroyer': 2408, 'Jeff Mangum': 2409, 'The Waking Eyes': 2410, 'The Ghost is Dancing': 2411, 'The Music Tapes': 2412, 'Patrick & Eugene': 2413, 'Hugh Fraser': 2414, 'Built to Spill': 2415, 'The Fiery Furnaces': 2416, 'Dan Deacon': 2417, 'Mitch Hedberg': 2418, 'Billie Holiday': 2419, 'Elf Power': 2420, 'Billie Holiday & Teddy Wilson & His Orchestra': 2421, 'Islands': 2422, 'Owls & Crows': 2423, 'The New Pornographers': 2424, 'Copeland': 2425, 'I See Stars': 2426, 'Teddy Geiger': 2427, 'Kyo': 2428, 'Architects': 2429, 'From First to Last': 2430, 'Luxuria': 2431, 'Porcelain and the Tramps': 2432, 'Coeur de Pirate': 2433, 'A Cursive Memory': 2434, 'Aloha From Hell': 2435, 'Keith Urban': 2436, 'Martina McBride': 2437, 'Montana Skies': 2438, 'Rascal Flatts': 2439, 'Juanes': 2440, 'Celtic Woman': 2441, 'Garth Brooks': 2442, 'Little Big Town': 2443, 'Billy Joel': 2444, 'Trace Adkins': 2445, 'Howard Shore': 2446, 'Phil Vassar': 2447, 'Jo Dee Messina': 2448, 'Brooks & Dunn': 2449, 'Trisha Yearwood': 2450, 'Josh Turner': 2451, 'Laura Sullivan': 2452, 'Tim McGraw': 2453, 'Faith Hill': 2454, 'Toby Keith': 2455, 'Dierks Bentley': 2456, 'Lonestar': 2457, 'Nat King Cole': 2458, 'Glenn Miller': 2459, 'João Gilberto': 2460, 'Benedetti & Svoboda': 2461, 'Reik': 2462, 'Boston': 2463, 'Selena Cross': 2464, 'Alison Krauss': 2465, 'Vince Gill': 2466, 'George Strait': 2467, 'Alan Jackson': 2468, 'Peter Gabriel': 2469, 'Throbbing Gristle': 2470, 'Current 93': 2471, 'Foetus': 2472, 'Fantômas': 2473, 'Insane Clown Posse': 2474, 'Captain Beefheart & His Magic Band': 2475, 'Renaldo and The Loaf': 2476, 'The Legendary Pink Dots': 2477, 'Danny Elfman': 2478, 'Twiztid': 2479, 'Suicide': 2480, 'The Birthday Party': 2481, 'Whitehouse': 2482, 'King Missile': 2483, 'Peeping Tom': 2484, 'Anybody Killa': 2485, 'Psychic TV': 2486, 'Happy Mondays': 2487, 'Public Image Ltd.': 2488, 'Kaada': 2489, 'The Specials': 2490, 'Mike Patton': 2491, 'FM Einheit': 2492, 'Mr. Bungle': 2493, 'Monte Cazazza': 2494, 'Half Japanese': 2495, 'Kid606': 2496, 'IOSYS': 2497, 'Basshunter': 2498, 'Wiklund': 2499, 'Scooter': 2500, 'REDALiCE': 2501, 'Nightcore': 2502, 'dj TAKA': 2503, 'YMCK': 2504, 'Bloody Vomit Bukkake': 2505, 'Morandi': 2506, '初音ミク': 2507, 'Rocco': 2508, 'Eric Prydz': 2509, '반야': 2510, 'Lucky Twice': 2511, 'KOTOKO': 2512, 'Millenium': 2513, 'Shaun Baker': 2514, 'Agnieszka Chylińska': 2515, 'I Cavalieri del re': 2516, 'Sonic Alive feat. Kate Lesing': 2517, 'Natalia Lesz': 2518, 'Robyn': 2521, 'Shaggy': 2522, 'Spice Girls': 2523, 'Mando Diao': 2524, 'Kid Rock': 2525, 'Sunrise Avenue': 2526, 'Delorean': 2530, 'Morrissey': 2531, 'Super Furry Animals': 2532, 'The Drums': 2533, 'Wild Nothing': 2534, 'LCD Soundsystem': 2535, 'Los Planetas': 2536, 'Graham Coxon': 2537, 'The Pains of Being Pure at Heart': 2538, 'Beady Eye': 2539, 'Los Punsetes': 2540, 'Best Coast': 2541, 'My Bloody Valentine': 2542, 'Lolene': 2543, 'KT Tunstall': 2544, 'Paula Fernandes': 2545, 'Vanessa Carlton': 2546, 'Hairspray (Soundtrack to the Motion Picture)': 2547, 'Wanessa': 2548, 'Lu Alone': 2549, 'vanessa carllton': 2550, 'Boom Crash Opera': 2551, 'Culture Club': 2552, 'Bay City Rollers': 2553, 'Hall & Oates': 2554, 'Naturally 7': 2555, 'The Power Station': 2556, 'The Unknownn': 2557, 'Toto': 2558, 'Kajagoogoo': 2559, 'Boz Scaggs': 2560, 'Julian Lennon': 2561, 'Arcadia': 2562, 'Graham Bonnet': 2563, 'Ricki-Lee': 2564, 'Extreme': 2565, 'Peter Cox': 2566, 'Paul Young': 2567, 'Billy Connolly': 2568, 'Styx': 2569, 'The Doobie Brothers': 2570, 'Bananarama': 2571, 'Minus the Bear': 2572, 'The Appleseed Cast': 2573, 'The Fall of Troy': 2574, 'This Town Needs Guns': 2575, 'Protest The Hero': 2576, 'Johnny Foreigner': 2577, 'Idiot Pilot': 2578, 'Between the Buried and Me': 2579, 'Biffy Clyro': 2580, 'Fields': 2581, 'Foals': 2582, 'The Most Serene Republic': 2583, 'Rogue Wave': 2584, 'toe': 2585, 'Born of Osiris': 2586, 'Late of the Pier': 2587, 'The Arusha Accord': 2588, 'WinterKids': 2589, 'Auto!Automatic!!': 2590, 'The Maccabees': 2591, 'Hope of the States': 2592, 'Battles': 2593, 'SikTh': 2594, 'Slash': 2595, 'Maria Daniela Y Su Sonido Lasser': 2596, 'Los Concorde': 2597, 'will.i.am': 2598, 'carla morrison': 2599, 'We Are Scientists': 2600, 'Mystery Jets': 2601, 'Delphic': 2602, 'Sel': 2603, 'Gravel': 2604, 'Bonobo': 2605, 'The Stone Roses': 2606, 'The Script': 2607, 'City and Colour': 2608, 'UB40': 2609, 'The Temper Trap': 2610, 'The Vaccines': 2611, 'Newton Faulkner': 2612, 'Mr Hudson & The Library': 2613, 'Razorlight': 2614, 'Cast': 2615, 'Nouvelle Vague': 2616, 'Pierce the Veil': 2617, 'Before Their Eyes': 2618, 'VersaEmerge': 2619, 'Beatallica': 2620, 'We Came As Romans': 2621, 'Pokémon': 2622, 'Nightmare': 2623, 'Frank Zappa': 2624, 'Barenaked Ladies': 2625, 'Randy Newman': 2626, 'Ben Folds': 2627, 'The Weakerthans': 2628, 'Elvis Costello': 2629, 'Paul Simon': 2630, 'Gilbert & Sullivan': 2631, 'Rufus Wainwright': 2632, 'Elvis Costello & The Attractions': 2633, 'Stephen Sondheim': 2634, 'Jason Robert Brown': 2635, 'Paddy Milner': 2636, 'Sublime': 2637, 'Ella Fitzgerald': 2638, 'Ben Folds Five': 2639, 'Neko Case': 2640, 'Calexico': 2641, 'The Mothers of Invention': 2642, 'Thursday': 2643, 'Hayko Cepkin': 2644, 'Alexander Rybak': 2645, 'Manga': 2646, 'Bill': 2647, 'The Beat': 2648, 'Alfonso Moreno-Guitar': 2649, 'Bozkurt': 2650, 'Bilal Serbest': 2651, 'The Classic Crime': 2652, 'A Rocket to the Moon': 2653, 'Bloodbath': 2654, 'Reação em Cadeia': 2655, 'Finley': 2656, 'Sonohra': 2657, 'Studio 3': 2658, 'Modà': 2659, 'Bidê ou Balde': 2660, 'Anberlin': 2661, 'Lost': 2662, 'Acústicos & Valvulados': 2663, 'Lordi': 2664, 'The Cab': 2665, 'This Providence': 2666, 'The Flashbulb': 2667, 'Amon Tobin': 2668, 'µ-Ziq': 2669, 'Chris Clark': 2670, 'Kettel': 2671, 'Clark': 2672, 'Plaid': 2673, 'Boxcutter': 2674, 'Ellen Allien & Apparat': 2675, 'Tycho': 2676, 'Bola': 2677, 'Bong-Ra': 2678, 'Shitmat': 2679, 'Acrnym': 2680, 'The Future Sound of London': 2681, 'Stendeck': 2682, 'Doormouse': 2683, 'Duran Duran Duran': 2684, 'Cardopusher': 2685, 'Knifehandchop': 2686, 'Hrvatski': 2687, 'Wagon Christ': 2688, 'Sickboy': 2689, 'Abfahrt Hinwil': 2690, 'Telefon Tel Aviv': 2691, 'Xanopticon': 2692, 'Sabrepulse': 2693, 'Last Step': 2694, 'Frog Pocket': 2695, 'Bit Shifter': 2696, 'belladonnakillz': 2697, 'Public Enemy': 2698, 'Кровосток': 2699, 'The Speed Freak': 2700, 'Swampyboy': 2701, 'Bondage Fairies': 2702, 'Ed Cox': 2703, 'Рубль': 2704, 'minusbaby': 2705, 'Angerfist': 2706, 'Linde': 2707, 'The Rapture': 2708, 'AleX Tune': 2709, 'Kodek': 2710, 'Parov Stelar': 2711, 'Firebrand Boy': 2712, 'Ноггано': 2713, 'DJ Spinbad': 2714, 'Bonaparte': 2715, 'DJ Shadow': 2716, '64revolt': 2717, 'Rotator': 2718, 'KOSMOPOP2': 2719, 'Electric Dragon': 2720, 'MICROCOBRA': 2721, 'Snork25': 2722, 'Set Your Goals': 2723, 'Otto von Schirach': 2724, '8[bit]chyfruit': 2725, '14 Year Old Girls': 2726, 'Maladroit': 2727, 'Gidropony': 2728, 'Bullfrog': 2729, 'Leviathan': 2730, 'Кажэ Обойма': 2731, 'Кожаный Олень': 2732, 'Uoki-Toki': 2733, 'Neuro Dubel': 2734, 'Ляпис Трубецкой': 2735, 'Бригадный Подряд': 2736, 'Boney neM': 2737, 'Bloodhound Gang': 2738, 'Sacred Steel': 2739, 'Dezperadoz': 2740, 'N.R.M.': 2741, 'Steppenwolf': 2742, 'Ногу Свело!': 2743, 'Machine Head': 2744, 'Robert Miles': 2745, 'Korpiklaani': 2746, 'Дельфин': 2747, 'Катетер': 2748, 'Deathspell Omega': 2749, 'Hate': 2750, 'Watain': 2751, 'Dead Congregation': 2752, 'Antaeus': 2753, 'Funeral Mist': 2754, '1349': 2755, 'Xasthur': 2756, 'Ihsahn': 2757, 'Aosoth': 2758, 'Hour of Penance': 2759, 'Glorior Belli': 2760, 'Akercocke': 2761, 'Aeon': 2762, 'Decapitated': 2763, 'Morbosidad': 2764, 'Vader': 2765, 'Nightbringer': 2766, 'Merrimack': 2767, 'Ulcerate': 2768, 'Anata': 2769, 'Teratism': 2770, 'Russian Circles': 2771, 'Blut aus Nord': 2772, 'Le Scrawl': 2773, 'Dark Funeral': 2774, 'dredg': 2775, 'Unholy Matrimony': 2776, 'Malfeitor': 2777, 'Cryptopsy': 2778, 'Arkhon Infaustus': 2779, 'Lita Ford': 2780, 'Vains of Jenna': 2781, 'Vixen': 2782, 'Lenny Kravitz': 2783, 'Hanoi Rocks': 2784, 'Sixx:A.M.': 2785, 'Janis Joplin': 2786, 'Whitesnake': 2787, 'Joan Jett and the Blackhearts': 2788, 'Velvet Revolver': 2789, 'CRASHDÏET': 2790, \"Slash's Snakepit\": 2791, 'Cheap Trick': 2792, 'THE PARANOID': 2793, 'Alter Bridge': 2794, 'Izzy Stradlin': 2795, 'Sweet': 2796, 'Mr. Big': 2797, 'F.T Island': 2798, 'f(x)': 2799, '이효리': 2800, 'High School Musical': 2801, '현아': 2802, 'MBLAQ': 2803, '손담비': 2804, \"Shy'm\": 2805, 'ZE:A': 2806, '이정현': 2807, '黒木メイサ': 2808, 'Claude Kelly': 2809, 'Distance': 2810, 'Xploding Plastix': 2811, 'Callisto': 2812, 'Dub FX': 2813, 'Little Barrie': 2814, 'Maxïmo Park': 2815, 'Superturbo': 2816, 'Cult of Luna': 2817, 'The Bloody Beetroots': 2818, 'Plastician': 2819, 'Sakura': 2820, 'The Dead Weather': 2821, 'Fuzzy Pets': 2822, 'Eagles of Death Metal': 2823, 'Paul Kalkbrenner': 2824, 'Portland Cello Project': 2825, 'The White Trainers Community': 2826, '8th': 2827, 'Red Sparowes': 2828, 'Flobots': 2829, 'Kap Bambino': 2830, 'The Dust Brothers': 2831, 'Черная Экономика': 2832, 'Blind Sinners': 2833, 'Lynyrd Skynyrd': 2834, 'Serj Tankian': 2835, 'Scars on Broadway': 2836, 'The Reign Of Kindo': 2837, 'Manowar': 2838, 'Automatic Loveletter': 2839, 'Dashboard Confessional': 2840, 'Gym Class Heroes': 2841, 'Stevie Ray Vaughan': 2842, 'Trapt': 2843, 'Tuatha De Danann': 2844, 'Closure In Moscow': 2845, 'Nonpoint': 2846, 'Emarosa': 2847, 'Ultraje a Rigor': 2848, 'The Scorpions': 2849, 'Underoath': 2850, 'Powerman 5000': 2851, 'Jim Sturgess': 2852, 'Thin Lizzy': 2853, 'Free': 2854, 'Cream': 2855, 'Night Ranger': 2856, 'Donovan': 2857, 'Jace Everett': 2858, 'Warrant': 2859, 'Jim Sturgess & Joe Anderson': 2860, 'Rod Stewart': 2861, 'Dudley Taft': 2862, 'Kirk Fletcher': 2863, 'Stevie Ray Vaughan and Double Trouble': 2864, 'Anders Osborne': 2865, 'Curtis Salgado': 2866, 'Lance Lopez': 2867, 'Andy Egert Blues Band': 2868, 'Canned Heat': 2869, 'Jeff Beck with Terry Bozzio and Tony Hymas': 2870, 'Rory Gallagher': 2871, 'Tab Benoit': 2872, 'Joe Bonamassa': 2873, 'Eric Jerardi': 2874, 'Rusty Zinn': 2875, 'Ann Rabson': 2876, 'Wes Jeans': 2877, 'Finis Tasby': 2878, 'Ace Moreland': 2879, 'The Beat Daddys': 2880, 'Texas Red': 2881, \"Devon Allman's Honeytribe\": 2882, 'John Mayall & The Bluesbreakers Featuring Buddy Guy': 2883, 'MORBLUS - Funky Blues Band': 2884, 'John Lyons Band': 2885, 'The Vaughan Brothers;Stevie Ray Vaughan;Jimmy Vaughan': 2886, 'Dennis Gruenling': 2887, 'Elvin Bishop, George Thorogood': 2888, 'Chris Dair': 2889, 'Rod Piazza & The Blues Instigators': 2890, 'Bobby Greenshoes Parker': 2891, 'GT & The Bandits': 2892, 'Van Morrison': 2893, 'Buddy Guy': 2894, 'Peter Green': 2895, 'Albert Collins': 2896, 'Tutu Jones': 2897, 'Humble Pie': 2898, 'The Animals': 2899, \"Shakin' Stevens\": 2900, 'ZZ Top': 2901, 'Buddy Holly': 2902, 'Chino XL': 2903, 'Stack Bundles': 2904, 'P. Diddy': 2905, 'Royce da 5\\'9\"': 2906, 'Redman': 2907, 'Large Professor': 2908, 'Canibus': 2909, \"Cam'ron\": 2910, 'EPMD': 2911, 'Aries Spears': 2912, 'Joe Budden': 2913, 'Ras Kass': 2914, 'Kool G Rap': 2915, 'Lloyd Banks': 2916, 'The Diplomats': 2917, 'KMD': 2918, 'Busta Rhymes': 2919, 'Juelz Santana & Lil Wayne': 2920, 'Ghostface Killah': 2921, 'LL Cool J': 2922, 'Lupe Fiasco': 2923, 'G-Unit': 2924, 'O.C.': 2925, 'Main Source': 2926, 'Jadakiss': 2927, 'Uncle Murda': 2928, 'Eric B. & Rakim': 2929, 'Big Punisher': 2930, 'Talib Kweli': 2931, 'Skee-Lo': 2932, 'Five Star': 2933, 'Milk Inc.': 2934, 'Iris': 2935, 'A Flock of Seagulls': 2936, 'Naked Eyes': 2937, 'Echo & The Bunnymen': 2938, 'JLS': 2939, 'Dead by April': 2940, 'Hinder': 2941, 'Kiana': 2942, 'Twisted Method': 2943, 'Machinae Supremacy': 2944, 'Dommin': 2945, 'Tread': 2946, 'Destrophy': 2947, 'Engel': 2948, 'Saidian': 2949, 'Blowsight': 2950, 'All Ends': 2951, 'Azam Ali': 2952, 'myGRAIN': 2953, 'Ambeon': 2954, 'Bury Your Dead': 2955, 'Adema': 2956, 'Queen of the damned ost': 2957, 'The Cyan Velvet Project': 2958, 'Eyes Set to Kill': 2959, 'Renegade Five': 2960, 'Pain': 2961, 'Devin Townsend Project': 2962, 'Norther': 2963, 'Strapping Young Lad': 2964, 'The Devin Townsend Band': 2965, 'Insomnium': 2966, 'Murderdolls': 2967, 'Elias Viljanen': 2968, 'Wintersun': 2969, 'Hypocrisy': 2970, 'Animals as Leaders': 2971, 'Star One': 2972, 'Dokken': 2973, 'Skyfire': 2974, 'Firewind': 2975, 'Chamillionaire': 2976, 'Kris Allen': 2977, 'Dead by Sunrise': 2978, 'Jessica Andrews': 2979, 'Cassie Steele': 2980, 'Christina Perri': 2981, 'The Band Perry': 2982, 'Detonautas Roque Clube': 2983, 'Claudia Leitte': 2984, 'Hannah Montana ft. Jonas Brothers': 2985, 'Rosa De Saron': 2986, 'HEVO84': 2987, 'Maria Gadú': 2988, 'Rihanna (feat. Drake)': 2989, 'Shontelle': 2990, 'Fats Waller': 2991, 'Bix Beiderbecke': 2992, 'Lionel Hampton': 2993, 'Sidney Bechet': 2994, 'Chick Webb': 2995, 'Uncle Dave Macon': 2996, 'Charlie Christian': 2997, 'Slim Gaillard': 2998, 'Wynonie Harris': 2999, 'Doc Watson': 3000, 'The Carter Family': 3001, 'Fletcher Henderson': 3002, 'Duke Ellington': 3003, 'Sonny Rollins': 3004, 'Louis Jordan': 3005, 'Slim & Slam': 3006, 'Iftin': 3007, 'Cab Calloway': 3008, 'Jack Teagarden': 3009, 'Drum Rudiments': 3010, 'The Stooges': 3011, 'Count Basie': 3012, 'Jimmie Lunceford': 3013, 'Milton': 3014, 'Benny Goodman': 3015, 'Jimmie Rodgers': 3016, 'Eddie Bo': 3017, 'Botswana Music Guitar': 3018, 'Louis Armstrong': 3019, 'Earl Hines': 3020, 'Charlie Barnet': 3021, 'Clarence Ashley': 3022, 'Buell Kazee': 3023, 'T-Bone Walker': 3024, 'Ritual': 3025, 'The Whitest Boy Alive': 3026, 'Evergreen Terrace': 3027, 'Converge': 3028, 'The Ghost Inside': 3029, 'Bombay Bicycle Club': 3030, 'The Ghost of a Thousand': 3031, 'Comeback Kid': 3032, 'The Scene Aesthetic': 3033, 'K.I.Z.': 3034, 'Huss und Hodn': 3035, 'Frittenbude': 3036, 'Raised Fist': 3037, 'Northcape': 3038, 'Die Orsons': 3039, 'La Dispute': 3040, 'Polar Bear Club': 3041, 'This Is Hell': 3042, 'Have Heart': 3043, 'The Answering Machine': 3044, 'Бачинский и Стиллавин': 3045, 'Zемфира': 3046, 'Би-2': 3047, 'Misao Senbongi, Shusaku Uchiyama': 3048, 'Смысловые Галлюцинации': 3049, 'Biohazard': 3050, 'Submersed': 3051, 'Сектор Газа': 3052, 'Кино': 3053, 'Виктор Цой': 3054, 'Сергей Шнуров': 3055, 'Ночные Снайперы': 3056, 'Regina Spektor': 3057, 'The Puppini Sisters': 3058, 'Los Shakers': 3059, 'Sin Bandera': 3060, 'Leonel García': 3061, 'Emmanuel': 3062, 'Luis Miguel': 3063, 'Leon Polar': 3064, 'Ringo Starr': 3065, 'Santo & Johnny': 3066, 'Bonnie Tyler': 3067, 'St. Vincent': 3068, 'El Cuarteto de Nos': 3069, 'Carpenters': 3070, 'Paul McCartney & Wings': 3071, 'Nicho Hinojosa': 3072, 'Jesse & Joy': 3073, 'Jay Vaquer': 3074, 'Amy Pearson': 3075, 'Matt Wertz': 3076, 'Luigi Masi': 3077, 'Relient K': 3078, 'The Click Five': 3079, \"Colby O'Donis\": 3080, 'Sara Bareilles': 3081, 'Framing Hanley': 3082, 'Crazy Lixx': 3083, 'Sick Puppies': 3084, 'Faktion': 3085, 'Eighteen Visions': 3086, 'Dope Stars Inc.': 3087, 'Black Tide': 3088, 'The Confession': 3089, 'Babylon Bombs': 3090, 'Crash Anthem': 3091, 'Decyfer Down': 3092, 'Crucified Barbara': 3093, 'The Exies': 3094, 'Slaughter': 3095, 'Gemini Five': 3096, 'Matchbox Twenty': 3097, 'Jump, Little Children': 3098, 'Jay Clifford': 3099, 'Natalie Walker': 3100, 'Duncan Sheik': 3101, 'Meiko': 3102, 'Arcanum': 3103, 'Seal': 3104, 'Guster': 3105, 'Remy Zero': 3106, 'David Poe': 3107, 'Greg Laswell': 3108, 'Sneaker Pimps': 3109, 'Fiona Apple': 3110, 'Slow Runner': 3111, 'Sean Lennon': 3112, 'Lindsey Buckingham': 3113, 'Jonatha Brooke': 3114, 'South': 3115, 'The Dissociatives': 3116, 'Pete Yorn': 3117, 'Jude Cole': 3118, 'Suzanne Vega': 3119, 'Sun-60': 3120, 'Skye': 3121, 'Emily Wells': 3122, 'Myah Marie': 3123, 'We Are the Fallen': 3124, 'Megh Stock': 3125, 'Dionne Bromfield': 3126, 'BarlowGirl': 3127, 'Lenka': 3128, 'Courtney Love': 3129, 'Jackie Mittoo': 3130, 'Augustus Pablo': 3131, 'DJ Krush': 3132, 'Scientist': 3133, 'Horace Andy': 3134, 'The Gladiators': 3135, 'Tsunami Wazahari': 3136, \"Aston 'Familyman' Barrett\": 3137, 'Dennis Brown': 3138, 'Johnny Clarke': 3139, 'Ondubground': 3140, 'DJ Drez': 3141, 'Linval Thompson': 3142, 'Barry Brown': 3143, 'Himuki': 3144, 'King Tubby': 3145, 'Prince Far I': 3146, 'Lee \"Scratch\" Perry': 3147, 'Alpha & Omega': 3148, 'John Holt': 3149, 'Eek-A-Mouse': 3150, 'The Orientalist': 3151, 'Junior Delgado': 3152, 'Adrian Sanchez': 3153, 'YouDub': 3154, 'Prince Jazzbo': 3155, 'Astrud Gilberto': 3156, 'Hugh Mundell': 3157, 'Sébastien Tellier': 3158, 'Kanka': 3159, \"Booker T. & The MG's\": 3160, 'Jah Shaka': 3161, 'Jorge Reyes': 3162, 'Sugar Minott': 3163, 'Flunk': 3164, 'Wayne Jarrett': 3165, 'Don Carlos': 3166, 'Jacob Miller': 3167, 'King Earthquake': 3168, 'DJ Vadim': 3169, 'Rockamovya': 3170, 'James Morrison': 3171, 'Claudia Leitte - As Máscaras - 2O1O': 3172, 'Ivete Sangalo': 3173, 'Banda Da Loirinha': 3174, 'Coletânea Elas Internacional': 3175, 'Kelly Key': 3176, 'Anniela': 3177, 'Whitney Duncan': 3178, 'Kimberly Wyatt': 3179, 'Afrojack ft. Eva Simons': 3180, 'Latino': 3181, 'Ministério Adoração e Vida': 3182, 'Ashbury Heights': 3183, \"L'Âme Immortelle\": 3184, 'Repo! The Genetic Opera': 3185, 'Vive la Fête': 3186, 'Kudai': 3187, 'Terminal Choice': 3188, 'All Gone Dead': 3189, 'Suicidal Romance': 3190, 'Diorama': 3191, 'Solar Fake': 3192, 'Belanova': 3193, 'Paradiso Girls': 3194, 'Inkubus Sukkubus': 3195, 'Alice in Videoland': 3196, 'Theatre of Tragedy': 3197, 'Dangerous Muse': 3198, 'Patrick Nuo': 3199, 'Cansei de Ser Sexy': 3200, 'Kate Bush': 3201, 'Charlotte Gainsbourg': 3202, 'Oh No Oh My': 3203, 'Biquini Cavadão': 3204, 'Mallu Magalhães': 3205, 'The Bird and The Bee': 3206, 'Jon Brion': 3208, 'Tomandandy': 3209, 'Michael Andrews': 3213, 'John Cage': 3216, '近藤浩治': 3217, 'Fleshgod Apocalypse': 3221, 'Slagsmålsklubben': 3222, 'Dr. Octagon': 3225, 'Wu-Tang Clan': 3227, 'The Moody Blues': 3230, 'The Polyphonic Spree': 3231, 'Candiria': 3234, 'Eths': 3236, 'Hey': 3237, 'Coma': 3238, 'Otep': 3239, 'Drowning Pool': 3240, 'Bloodsimple': 3241, 'Wednesday 13': 3242, 'Zornik': 3243, 'Deathstars': 3244, '40 Below Summer': 3245, 'Dry Kill Logic': 3246, 'Family Force 5': 3247, 'Electric President': 3248, 'Radical Face': 3249, 'Midlake': 3250, 'Utah': 3251, 'Kashmir': 3252, 'Figurines': 3253, 'Peter Adams': 3254, 'Athlete': 3255, 'Rickolus': 3256, 'The Rumour Said Fire': 3257, 'The Shins': 3258, 'Blonde Redhead': 3259, 'Woods': 3260, 'January Jaunt': 3261, 'Treefight For Sunlight': 3262, 'Kunek': 3263, 'Marillion': 3264, 'Francesco De Gregori': 3265, 'The Ark': 3266, 'Fabrizio De André': 3267, 'CapaRezza': 3268, 'Fish': 3269, 'Matia Bazar': 3270, 'Enrico Ruggeri': 3271, 'Steven Wilson': 3272, 'The Feeling': 3273, 'Paul Heaton': 3274, 'Fastball': 3275, 'Burnt Fur': 3276, 'ADULT.': 3277, 'HK119': 3278, 'The Jesus and Mary Chain': 3279, 'Cocteau Twins': 3280, \"The B-52's\": 3281, 'The Sundays': 3282, 'Close Lobsters': 3283, 'Daniel Ouellette': 3284, 'My Life with the Thrill Kill Kult': 3285, 'His Name Is Alive': 3286, 'Throwing Muses': 3287, 'Annie': 3288, 'Front 242': 3289, 'Cranes': 3290, 'The Creatures': 3291, 'The Glove': 3292, 'Black Kids': 3293, 'Galaxie 500': 3294, 'The Wolfgang Press': 3295, 'The Primitives': 3296, 'Turkish Delight': 3297, 'The Sugarcubes': 3298, 'The Fall': 3299, 'Robots in Disguise': 3300, 'Julio Iglesias': 3301, 'Phil Collins': 3302, 'Barry White': 3303, 'Barbra Streisand': 3304, 'Nana Mouskouri': 3305, 'Neil Diamond': 3306, 'Eros Ramazzotti': 3307, 'Supertramp': 3308, 'Lena Horne': 3309, 'Édith Piaf': 3310, 'Michael Bolton': 3311, 'Michel Sardou': 3312, 'The Jackson 5': 3313, 'Mýa': 3314, 'Sisqó': 3315, 'Sean Paul': 3316, 'Drake': 3317, 'Trey Songz': 3318, 'Diana Vickers': 3319, 'Lee Ryan': 3320, 'Brooke White': 3321, 'Pete Yorn & Scarlett Johansson': 3322, '和田光司': 3323, '安室奈美恵': 3324, '放課後ティータイム': 3325, 'Dal★shabet': 3326, 'Brie Larson': 3327, 'HorrorPops': 3328, 'Vanessa Oliveira': 3329, 'Tata Young': 3330, 'Jordan Knight': 3331, 'Sandy e Junior': 3332, 'The Distillers': 3333, 'Fat Jon': 3334, \"Cap'n Jazz\": 3335, 'xrin arms': 3336, 'ANONTRON': 3337, 'Shwayze': 3338, 'Best Fwends': 3339, 'The Planet Smashers': 3340, 'Motion City Soundtrack': 3341, 'Realicide': 3342, 'Choking Victim': 3343, 'Japanther': 3344, 'I Killed Techno!': 3345, 'Cyne': 3346, 'Andrew Jackson Jihad': 3347, 'KESSENCHU': 3348, 'The Dead Milkmen': 3349, 'yatagarasu': 3350, 'Melt-Banana': 3351, 'Metaform': 3352, 'XÄCKSECKS': 3353, 'Black Flag': 3354, \"Ol' Dirty Bastard\": 3355, 'goreshit': 3356, 'Notorious B.I.G.': 3357, 'The Mad Conductor': 3358, 'Rapeman': 3359, 'Blitzkid': 3360, 'Bearbot': 3361, ':(': 3362, 'Wind & Fire Earth': 3363, 'Fugazi': 3364, 'Captain Chaos': 3365, 'A1 Bassline': 3366, 'Cinema Bizarre': 3367, 'Betty Curse': 3368, 'New Years Day': 3369, 'Hockey': 3370, 'Peter Doherty': 3371, 'Jinn': 3372, \"Plain White T's\": 3373, 'Diana': 3374, 'Ryan Cabrera': 3375, 'Jota Quest': 3376, 'Banda Eva': 3377, 'Jorge & Mateus': 3378, 'Pimentas do Reino': 3379, 'Vander Lee': 3380, 'Alarido': 3381, 'Os Paralamas do Sucesso': 3382, 'Victor e Leo': 3383, 'Chimarruts': 3384, \"D'black\": 3385, 'Seu Jorge': 3386, 'Tomate': 3387, 'Babado Novo': 3388, 'Sorriso Maroto': 3389, 'João Bosco & Vinícius               - www.CdsCompletos.net': 3390, 'Zeca Baleiro': 3391, 'Exaltasamba': 3392, 'Sandy Leah': 3393, 'Wilson Sideral': 3394, 'Nosso Sentimento': 3395, 'Isabella Taviani': 3396, 'Heidi Montag': 3397, '+44': 3398, 'Plastiscines': 3399, 'Jet': 3400, 'Infierno 18': 3401, 'City Sleeps': 3402, 'Emmanuel Horvilleur': 3403, 'Sky Ferreira': 3404, 'Antimatter': 3405, 'Leafblade': 3406, 'Klimt 1918': 3407, 'The Foreshadowing': 3408, 'Petter Carlsen': 3409, 'Dornenreich': 3410, 'M83': 3411, 'Carpark North': 3412, 'Underworld': 3413, 'Immanu El': 3414, 'Warrel Dane': 3415, 'Sentenced': 3416, 'Ulver': 3417, 'Gazpacho': 3418, 'Mely': 3419, 'Pure Reason Revolution': 3420, 'No-Man': 3421, 'Autumn': 3422, 'Dark Suns': 3423, 'Elane': 3424, 'After Forever': 3425, 'KC and the Sunshine Band': 3426, 'Goo Goo Dolls': 3427, 'A Static Lullaby': 3428, 'Krypteria': 3429, 'The Cramps': 3430, 'Alien Sex Fiend': 3431, 'Christian Death': 3432, 'Sex Gang Children': 3433, 'Rudimentary Peni': 3434, '45 Grave': 3435, 'The Damned': 3436, 'Dayglo Abortions': 3437, 'Fields of the Nephilim': 3438, 'Demented Are Go!': 3439, 'Ween': 3440, 'Peter Murphy': 3441, 'Crass': 3442, 'Butthole Surfers': 3443, 'Dead Kennedys': 3444, 'Danzig': 3445, 'The Brides': 3446, 'Big Black': 3447, 'Specimen': 3448, 'Eat Your Make-Up': 3449, 'The Gun Club': 3450, 'Love and Rockets': 3451, 'Hasil Adkins': 3452, 'Samhain': 3453, 'Corpus Delicti': 3454, 'Nekromantix': 3455, 'The Adicts': 3456, 'London Festival Orchestra/Peter Knight/The Moody Blues': 3457, 'The Byrds': 3458, 'Five for Fighting': 3459, 'Sheryl Crow': 3460, 'Phantom Planet': 3461, '[unknown]': 3462, \"Christina,Lil' Kim,Mya,Pink\": 3463, 'Counting Crows': 3464, 'Carole King': 3465, 'Sarah McLachlan': 3466, 'Caesars': 3467, 'The Magic Numbers': 3468, 'Supergrass': 3469, 'Rainbow': 3470, 'Quiet Riot': 3471, 'Litfiba': 3472, 'David Lee Roth': 3473, 'Danger Danger': 3474, 'Wolfmother': 3475, 'Saxon': 3476, 'Ugly Kid Joe': 3477, 'Luciano Ligabue': 3478, 'Treat': 3479, 'L.A. Guns': 3480, 'Yes': 3481, 'America': 3482, '鈴木亜美': 3483, 'Crystal Kay': 3484, '伊藤由奈': 3485, 'melody.': 3486, 'アンジェラ・アキ': 3487, 'Corinne Bailey Rae': 3488, 'Michelle Branch': 3489, 'Utada': 3490, 'Agnes': 3491, 'Natasha Thomas': 3492, 'Dana Glover': 3493, 'Tommy february6': 3494, 'Leigh Nash': 3495, 'Lindsay Pagano': 3496, 'Jordan Pruitt': 3497, 'Paula DeAnda': 3498, 'Charlotte Perrelli': 3499, 'Edyta Górniak': 3500, 'Mylène Farmer': 3501, 'Róisín Murphy': 3502, 'Tarkan': 3503, 'Fennesz': 3504, 'John Zorn': 3505, 'Ryoji Ikeda': 3506, 'Nurse With Wound': 3508, 'Bathory': 3509, 'Ash Ra Tempel': 3510, 'Amon Düül II': 3511, 'Coph Nia': 3512, 'Head of David': 3513, 'Gnaw Their Tongues': 3517, 'Biosphere': 3520, 'Seefeel': 3521, 'Godflesh': 3523, 'Zoviet France': 3527, 'Bohren & der Club of Gore': 3528, 'Supersilent': 3529, 'Clock DVA': 3530, 'Merzbow': 3531, 'Techno Animal': 3532, 'Akufen': 3534, 'Lustmord': 3536, 'Final': 3537, 'A Forest Mighty Black': 3539, 'Discharge': 3540, 'Alva Noto': 3541, 'Theatres des Vampires': 3542, 'Blood Stain Child': 3543, 'Bloodparade': 3544, 'Light This City': 3545, 'Deadstar Assembly': 3546, 'Omega Lithium': 3547, 'iwrestledabearonce': 3548, 'Mnemic': 3549, 'Imagica': 3550, 'Unter Null': 3551, '℃-ute': 3552, 'Chibi': 3553, 'Berryz工房': 3554, 'Boy Hits Car': 3555, 'Scarling.': 3556, 'Aqua': 3557, 'Jack Off Jill': 3558, 'The Immortals': 3559, 'Mary Elizabeth McGlynn': 3560, 'Breaking Point': 3561, 'Lords of Acid': 3562, 'Saliva': 3563, 'Helalyn Flowers': 3564, 'Silent Descent': 3565, 'Doomsday Refreshment Committee': 3566, 'Schoolyard Heroes': 3567, 'Brian Littrell': 3568, 'Jay Brannan': 3569, 'Danny': 3570, 'Digimon': 3571, 'Ola': 3572, 'ATC': 3573, 'Carly Smithson': 3574, 'Blake Lewis': 3575, 'New Kids on the Block': 3576, 'Casey James': 3577, 'C21': 3578, 'Danny Noriega': 3579, 'O-Town': 3580, 'Alabama': 3581, 'Restless Heart': 3582, 'Luke Bryan': 3583, 'Jason Aldean': 3584, 'Blake Shelton': 3585, 'Mark Wills': 3586, 'Gary Allan': 3587, 'Kenny Chesney': 3588, 'Billy Currington': 3589, 'Clay Walker': 3590, 'Andy Griggs': 3591, 'Chris Cagle': 3592, 'Joe Nichols': 3593, 'Jessie Farrell': 3594, 'Aaron Lines': 3595, 'Jake Owen': 3596, 'Dan Seals': 3597, 'Julianne Hough': 3598, 'Aaron Tippin': 3599, 'Emerson Drive': 3600, 'Montgomery Gentry': 3601, 'Ronnie Milsap': 3602, 'Sara Evans': 3603, 'Cledus T. Judd': 3604, 'Lee Ann Womack': 3605, 'SHeDaisy': 3606, 'Trailer Choir': 3607, 'Travis Tritt': 3608, 'Clint Black': 3609, 'Larry Stewart': 3610, 'Hank Williams Jr.': 3611, 'Bell X1': 3612, 'Toad the Wet Sprocket': 3613, 'Hootie & the Blowfish': 3614, 'Dave Matthews & Tim Reynolds': 3615, 'Brand New': 3616, 'Ray LaMontagne': 3617, 'The Swell Season': 3618, 'Josh Ritter': 3619, \"Gov't Mule\": 3620, 'Coheed and Cambria': 3621, 'Matthew Good Band': 3622, 'Chris Michaud': 3623, 'Acid Drinkers': 3624, 'Kazik': 3625, 'Lao Che': 3627, 'Hunter': 3628, 'Monty Python': 3635, 'Kat': 3636, 'Ektomorf': 3637, 'Defekt Muzgó': 3638, 'The Analogs': 3640, 'Kazik Staszewski': 3645, 'Dezerter': 3646, 'Włochaty': 3648, 'T.Love': 3650, 'Spięty': 3655, 'Laurel Aitken': 3657, 'Finntroll': 3660, 'GAGA': 3662, 'Devil Doll': 3663, 'Zielone Żabki': 3664, 'New Radicals': 3665, 'The Hold Steady': 3666, 'Will Smith': 3667, 'Andrzej Grabowski': 3668, '60 minut na godzinę': 3669, 'Matisyahu': 3670, 'Jaromír Nohavica': 3671, 'Scarlett Johansson': 3672, 'Girl Talk': 3673, 'Alizée': 3674, 'Huey Lewis & The News': 3675, 'Richard Ashcroft': 3676, 'Brian Wilson': 3677, 'Digable Planets': 3678, 'Koniec Świata': 3679, 'Angus & Julia Stone': 3681, 'Kumka Olik': 3682, 'Strachy Na Lachy': 3683, 'Tyler Kyte': 3684, 'Why?': 3685, 'Caribou': 3686, 'James Blake': 3687, 'cLOUDDEAD': 3688, 'Les Savy Fav': 3689, 'Owen Pallett': 3690, 'Panda Bear': 3691, 'Elle Milano': 3692, 'Grizzly Bear': 3693, 'Liars': 3694, 'Gold Panda': 3695, 'Pantha du Prince': 3696, 'Micachu': 3697, 'Nicolas Jaar': 3698, \"Hymie's Basement\": 3699, 'Atlas Sound': 3700, 'Q and Not U': 3701, 'Baths': 3702, 'Tim Hecker': 3703, 'Portugal. The Man': 3705, 'Broken Bells': 3706, 'Ratatat': 3707, 'Asher Roth': 3708, 'Black Star': 3710, 'DANGERDOOM': 3711, 'The Lonely Island': 3712, 'Yolanda Be Cool & DCUP': 3713, 'Cursive': 3714, 'Wale': 3716, 'Chimaira': 3717, 'Glassjaw': 3718, 'Soulfly': 3719, 'Textures': 3720, 'Norma Jean': 3721, 'Aborted': 3722, 'Disillusion': 3723, 'Cloudkicker': 3724, 'Bar 9': 3725, 'Grenouer': 3726, 'Periphery': 3727, 'Anal Nosorog': 3728, 'Madball': 3729, 'Friendly Fires': 3730, 'Everything Everything': 3731, '311': 3732, 'GOBBLE GOBBLE': 3733, 'The Unseen': 3734, 'Spinnerette': 3735, 'Keith Caputo': 3736, 'Against Me!': 3737, 'Pnau': 3738, 'Hole': 3739, 'Dance of Days': 3740, 'Cazuza': 3741, 'Lobão': 3742, 'Natiruts': 3743, 'Bikini Kill': 3744, 'Chico Science & Nação Zumbi': 3745, 'Ponto de Equilíbrio': 3746, 'Vanguart': 3747, 'Hanson': 3748, 'Gavin DeGraw': 3749, 'Amos Lee': 3750, 'Pat McGee Band': 3751, 'Ingram Hill': 3752, 'Augustana': 3753, 'Third Eye Blind': 3754, 'The Hero Factor': 3755, 'Mat Kearney': 3756, 'Brandi Carlile': 3757, 'Default': 3758, 'Averi': 3759, 'Idina Menzel': 3760, 'Amy Grant': 3761, 'Big & Rich': 3762, 'The Corrs': 3763, 'Mannheim Steamroller': 3764, 'Gretchen Wilson': 3765, 'Philharmonia Orchestra - John Lanchbery': 3766, 'The Horrors': 3767, 'Soft Cell': 3768, 'Shiny Toy Guns': 3769, 'Julian Plenti': 3770, 'Museum': 3771, 'Vienna Boys Choir': 3772, 'Starflyer 59': 3773, 'Uriah Heep': 3774, 'Joy Electric': 3775, 'Funkadelic': 3776, 'Steely Dan': 3777, 'Sly & The Family Stone': 3778, 'Fates Warning': 3779, 'D.R.I.': 3780, 'Violent Femmes': 3781, 'Primordial': 3782, 'Sleep': 3783, 'GBH': 3784, 'Spazz': 3785, 'GWAR': 3786, 'Cross Examination': 3787, 'Cynic': 3788, 'Bad Manners': 3789, 'Impetigo': 3790, 'The Mighty Mighty Bosstones': 3791, 'Bad Brains': 3792, 'The Disco Biscuits': 3793, 'Porcelain Black': 3794, 'Marilyn Monroe': 3795, 'Tila Tequila': 3796, 'Blood Red Shoes': 3797, 'Septic Flesh': 3798, 'Misery Index': 3799, 'Unleashed': 3800, 'Septycal Gorge': 3801, 'Acid Bath': 3802, 'Wolfbrigade': 3803, 'Defeated Sanity': 3804, 'Neurosis': 3805, 'Rotting Christ': 3806, 'State of Mind': 3807, 'Lunar Aurora': 3808, 'Electric Wizard': 3809, 'The Ocean': 3810, 'Infernal Revulsion': 3811, 'The Qemists': 3812, 'Tides From Nebula': 3813, 'Severe Torture': 3814, 'Upcdowncleftcrightcabc+start': 3815, 'Inherit Disease': 3816, 'Maybeshewill': 3817, 'Iron Monkey': 3818, 'Abominable Putridity': 3819, 'Malevolent Creation': 3820, 'Francesco Guccini': 3821, 'Endstille': 3822, 'Pretty Lights': 3823, 'Sinister': 3824, 'Kronos': 3825, 'Celeste': 3826, 'Dolphin': 3827, 'Дубовый Гаайъ': 3828, 'Мишины Дельфины': 3829, 'Крематорий': 3830, 'Аквариум': 3831, 'Morten Harket': 3832, 'Lumen': 3833, 'Блондинка Ксю': 3834, 'Пси(Х)еЯ': 3835, 'Чайф': 3836, 'Алиса': 3837, 'Михей': 3838, 'Чиж': 3839, 'Чичерина': 3840, 'СерьГа': 3841, 'Bonus-Дельфин': 3842, 'Мальчишник': 3843, 'Дельфин feat. Stella': 3844, 'Михей и Джуманджи': 3845, 'The Wailers': 3846, 'Дельфин и Спирали': 3847, 'Машина времени': 3848, 'НАСТЯ': 3849, 'Танцы Минус': 3850, 'Настя': 3851, 'Чиж и Со': 3852, 'Пси(Х)ея': 3853, \"Mo' Horizons\": 3854, 'Andrius Mamontovas': 3855, 'Rob Thomas': 3856, 'Гости Из Будущего': 3857, 'Late Night Alumni': 3858, 'Daughtry': 3859, 'Molly Johnson': 3860, 'Koop': 3861, 'Nino Katamadze & Insight': 3862, 'Blank & Jones': 3863, 'Foje': 3864, 'Nek': 3865, 'Will Young': 3866, 'M People': 3867, 'Kaskade': 3868, 'Jurga': 3869, 'Alina Orlova': 3870, 'Daniel Powter': 3871, 'Atif Aslam': 3872, 'Chris Daughtry': 3873, 'Maria Callas': 3874, 'Nitin Sawhney': 3875, 'Chris de Burgh': 3876, 'Pink Martini': 3877, 'Macy Gray': 3878, 'Elefante': 3879, 'Массква': 3880, 'Lene Marlin': 3881, 'A.R. Rahman': 3882, 'Abhijeet Sawant': 3883, 'Slowdive': 3884, 'Julee Cruise': 3885, 'Angelo Badalamenti': 3886, 'Shoc Corridor': 3887, 'Robert Plant': 3888, 'Chris Isaak': 3889, 'Mazzy Star': 3890, 'Romeo Void': 3891, 'Soda Stereo': 3892, 'This Mortal Coil': 3893, 'Colin Newman': 3894, 'Grand Popo Football Club': 3895, 'Peggy Lee': 3896, 'Manuel García': 3897, 'Javiera Mena': 3898, 'Gepe': 3899, 'Lucybell': 3900, 'The Gathering': 3901, 'CocoRosie': 3902, 'Entre Ríos': 3903, 'Camila Moreno': 3904, 'Jorge Drexler': 3905, 'Happoradio': 3906, 'Neljä Ruusua': 3907, 'Scandinavian Music Group': 3908, 'Bad Boys Blue': 3909, 'Secret Service': 3910, 'Moonlight Affair': 3911, 'Ilkka Alanko': 3912, 'Kaija Kärkinen': 3913, 'Basic Element': 3914, 'PMMP': 3915, 'Silent Circle': 3916, 'Vesterinen yhtyeineen': 3917, 'Fancy': 3918, 'Apulanta': 3919, 'Bryan Ferry': 3920, 'Asia': 3921, 'Tehosekoitin': 3922, 'Olavi Uusivirta': 3923, 'Laura Närhi': 3924, 'Chisu': 3925, 'Jon Peafield': 3926, 'Kutless': 3927, '12 Stones': 3928, 'Seether (Feat. Amy Lee)': 3929, 'Marli': 3930, 'Evan Taubenfeld': 3931, 'Tamara Angel': 3932, 'The Cab ft. Hey Monday': 3933, '10cc': 3934, 'Francis Dunnery': 3935, 'It Bites': 3936, 'Retro': 3937, 'Wings': 3938, 'RealTobacco': 3939, 'Riverside': 3940, 'The Associates': 3941, 'Jellyfish': 3942, 'Skindred': 3943, 'Hundred Reasons': 3944, 'Feeder': 3945, 'Puddle of Mudd': 3946, 'DJ BoBo': 3947, 'Alcazar': 3948, 'Double You': 3949, 'DJ Calboy': 3950, 'Mr. President': 3951, 'Joy Salinas': 3952, 'Alexia': 3953, 'Corona': 3954, 'E-Rotic': 3955, 'Schnuffel': 3956, 'The Soundlovers': 3957, 'Jenny Berggren': 3958, 'ASAP': 3959, 'Whigfield': 3960, 'SNZ': 3961, 'LaVive': 3962, 'J.K.': 3963, 'Masterboy': 3964, 'Leilah Moreno': 3965, 'Modern Talking': 3966, 'Taleesa': 3967, 'Conexão Midi': 3968, 'No Mercy': 3969, 'Alex C': 3970, 'Undercover': 3971, '2 Brothers on the 4th Floor': 3972, 'Vengaboys': 3973, 'Fun Factory': 3974, 'DJ Ötzi': 3975, 'Ice MC': 3976, 'Andrew Sixty': 3977, 'Haddaway': 3978, 'Fourteen 14': 3979, 'Dr. Alban': 3980, \"Paps 'N' Skar\": 3981, 'Eiffel 65': 3982, 'Rosenstolz': 3983, 'Miss Papaya': 3984, \"Gigi D'Agostino\": 3985, 'Final Selection': 3986, 'Tom Jones': 3987, 'Mesh': 3988, 'Бригада С': 3989, 'Lou Reed & John Cale': 3990, 'Bertine Zetlitz': 3991, 'Everything but the Girl': 3992, 'Shocking Blue': 3993, 'Tanita Tikaram': 3994, 'Blockhead': 3995, 'Sexepil': 3996, 'Veil of Maya': 3997, 'PMtoday': 3998, 'The Contortionist': 3999, 'Circle of Contempt': 4000, 'Last Chance To Reason': 4001, 'Within The Ruins': 4002, 'After the Burial': 4003, 'The Faceless': 4004, 'The Intake of Glass': 4005, 'Conducting From the Grave': 4006, 'Kakuna Vs Metapod': 4007, 'Arbiter': 4008, 'Scale The Summit': 4009, 'City In The Sky': 4010, 'Children of Nova': 4011, 'Across The Sun': 4012, 'Make Them Suffer': 4013, 'In:aviate': 4014, 'Bulb': 4015, 'Rings Of Saturn': 4016, 'CENTURIES APART': 4017, 'An Obscure Signal': 4018, 'Volumes': 4019, 'Structures': 4020, 'Ion Dissonance': 4021, 'Midnight Juggernauts': 4022, 'DJ Risk One': 4023, 'Benny Benassi': 4024, 'The Presets': 4025, 'Monarchy': 4026, 'Mr. Oizo': 4027, 'Chromeo': 4028, 'Boys Noize': 4029, 'We Are Terrorists': 4030, 'Freddie Mercury': 4031, 'Glass Candy': 4032, 'Surkin': 4033, 'JDP': 4034, 'Major Lazer': 4035, 'Ferry Corsten': 4036, 'Gipsy Kings': 4037, 'Grafton Primary': 4038, 'DatA': 4039, 'Penguin Prison': 4040, 'Thomas Bangalter': 4041, 'Damn Arms': 4042, '2 Unlimited': 4043, 'Soap&Skin': 4044, 'Ampop': 4045, 'Metallic Falcons': 4046, 'Chinawoman': 4047, 'Scout Niblett': 4048, 'MUM': 4049, 'Catch The Clouds': 4050, 'Morphine': 4051, \"Dead Man's Bones\": 4052, 'Mount Eerie': 4053, 'Paul Cantelon': 4054, 'Лист': 4055, 'Liquid Divine': 4056, 'Paavoharju': 4057, 'The Brian Jonestown Massacre': 4058, 'The Black Angels': 4059, 'The Warlocks': 4060, 'The Lucid Visions': 4061, 'Fela Kuti': 4062, 'Warpaint': 4063, 'Spiritualized': 4064, 'Martin Carthy & Dave Swarbrick': 4065, 'The Shortwave Set': 4066, 'Darker My Love': 4067, 'The Rutles': 4068, 'The Dandy Warhols': 4069, 'Paper Fortress': 4070, 'Chatham Rise': 4071, 'Denison Marrs': 4072, 'Brendan Benson': 4073, 'Silversun Pickups': 4074, 'Your Vegas': 4075, 'Imaad Wasif': 4076, 'Sun City Girls': 4077, 'Pylon': 4078, 'Wilco': 4079, 'The Heads': 4080, 'Secret Chiefs 3': 4081, 'Spacemen 3': 4082, 'I Create': 4086, 'Raul Seixas': 4087, 'Cold War Kids': 4089, 'Shikari': 4091, 'Dinosaur Jr.': 4092, 'John Fahey': 4094, 'Trumans Water': 4095, 'The Chariot': 4096, 'The Flatliners': 4097, 'This Is Menace': 4098, 'Cancer Bats': 4099, 'He Is Legend': 4100, 'Heavy Heavy Low Low': 4101, 'Maylene and the Sons of Disaster': 4102, 'From Autumn to Ashes': 4103, 'Scary Kids Scaring Kids': 4104, 'KoЯn': 4105, 'Exit Ten': 4106, 'Some Girls': 4107, 'Emancipator': 4108, 'Badly Drawn Boy': 4109, '光田康典': 4110, 'Acid House Kings': 4111, 'Lamb': 4113, 'Ben Kweller': 4114, 'The Vines': 4115, 'The Cinematics': 4116, 'Saltillo': 4117, 'The Postal Service': 4118, 'VETO': 4119, 'Bosques de mi Mente': 4121, 'Dirty Elegance': 4122, 'Mike Oldfield': 4123, 'UFO': 4124, 'Status Quo': 4125, 'Vangelis': 4126, 'Flash and the Pan': 4127, 'Porter Band': 4128, 'The Jam': 4129, 'Foreigner': 4130, 'Smokie': 4131, 'The Hooters': 4132, 'Traveling Wilburys': 4133, 'Claire Voyant': 4134, 'Xandria': 4135, \"Leaves' Eyes\": 4136, 'Sirenia': 4137, 'Hungry Lucy': 4138, 'Cardamon': 4139, 'Twilight Soundtrack': 4140, 'Now': 4141, 'Shadowplay': 4142, 'Agua de Annique': 4143, 'Chandeen': 4144, 'Mar de Grises': 4145, 'Six Magics': 4146, 'Liv Kristine': 4147, 'Foundation': 4148, 'Fobia': 4149, 'Octavia Sperati': 4150, 'Anneke van Giersbergen': 4151, 'Kari Rueslåtten': 4152, 'Télépopmusik': 4153, 'WIZO': 4154, 'Die Ärzte': 4155, 'Die Toten Hosen': 4156, 'Os Pedrero': 4157, 'Terrorgruppe': 4158, 'Månegarm': 4159, 'Merda': 4160, 'Turmion Kätilöt': 4161, 'Lacrimas Profundere': 4162, 'Asesino': 4163, 'Gramofocas': 4164, 'Poison': 4165, 'Confide': 4166, 'Life in Your Way': 4167, 'Woe, Is Me': 4168, 'Blessed by a Broken Heart': 4169, 'Demon Hunter': 4170, 'Disarmonia Mundi': 4171, 'In Irons': 4172, 'Stigmata': 4173, 'Kyte': 4174, 'LeCrae': 4175, 'Vinnie Paz': 4176, 'Switchfoot': 4177, 'Nightrage': 4178, 'Staind': 4179, 'Europe': 4180, 'Nero': 4181, 'ColdWorld': 4182, 'Lucero': 4183, 'The Bouncing Souls': 4184, 'Lifetime': 4185, 'Ann Beretta': 4186, 'The Lawrence Arms': 4187, 'Jawbreaker': 4188, 'Alkaline Trio': 4189, 'Jets to Brazil': 4190, 'Hot Water Music': 4191, 'A Radio With Guts': 4192, 'The Loved Ones': 4193, 'Descendents': 4194, 'Chris Mills': 4195, 'The Gaslight Anthem': 4196, 'Dillinger Four': 4197, 'The Suicide Machines': 4198, 'The Thermals': 4199, 'The Broadways': 4200, 'The Get Up Kids': 4201, 'The Swellers': 4202, 'The Anniversary': 4203, 'Bane': 4204, 'Zolof the Rock & Roll Destroyer': 4205, 'The Hard Lessons': 4206, 'Bear vs. Shark': 4207, 'Streetlight Manifesto': 4208, '7Seconds': 4209, 'River City Rebels': 4210, 'H2O': 4211, 'Common Rider': 4212, 'Operation Ivy': 4213, 'Angry Samoans': 4214, 'The Satin Peaches': 4215, 'Reel Big Fish': 4216, 'Defiance, Ohio': 4217, 'Pennywise': 4218, 'Off With Their Heads': 4219, 'Bombshell Rocks': 4220, 'Bop Star': 4221, 'Strung Out': 4222, 'The Spill Canvas': 4223, 'The Queers': 4224, 'Мои Ракеты Вверх': 4225, '7раса': 4226, 'The New Law': 4227, 'Everything Is Made in China': 4228, 'Адаптация Пчёл': 4229, 'The American Dollar': 4230, 'ITAKDALEE': 4231, 'Caspian': 4232, 'Мои Любимые Игры': 4233, 'Линия': 4234, 'Slot': 4235, 'Preslee': 4236, 'NEVERSMILE': 4237, 'Rout': 4238, 'Scotch': 4239, 'Eye Alaska': 4240, 'Комната': 4241, 'QUEST PISTOLs': 4242, 'Perfume Genius': 4243, 'Loc-Dog': 4244, 'Tesla Boy': 4245, '100 Bitches': 4246, 'Audio Bullys': 4247, 'The Author': 4248, 'Netsky': 4249, 'The Undertones': 4250, 'The Yardbirds': 4251, 'Paloma Faith': 4252, 'Lila Downs': 4253, 'Marion Raven': 4254, 'Kill Hannah': 4255, 'Descartes a Kant': 4256, 'Ronan Keating': 4257, 'Marit Larsen': 4258, 'Cauterize': 4259, 'Julieta Venegas': 4260, 'Stefanie Heinzmann': 4261, 'Taking Back Sunday': 4262, 'Stanfour': 4263, 'Every Avenue': 4264, 'Deicide': 4265, 'Deströyer 666': 4266, 'Vintersorg': 4267, 'Entombed': 4268, 'Nargaroth': 4269, 'Borknagar': 4270, 'Burzum': 4271, 'Darkthrone': 4272, 'Celtic Frost': 4273, 'Nihilist': 4274, 'Obituary': 4275, 'Krisiun': 4276, 'Possessed': 4277, 'Girlschool': 4278, 'Chrome Division': 4279, 'Cathedral': 4280, 'Silencer': 4281, 'Glittertind': 4282, 'Sarcófago': 4283, 'Rebel Meets Rebel': 4284, 'Arcturus': 4285, 'Doro': 4286, 'Hellhammer': 4287, 'Mütiilation': 4288, 'The Carburetors': 4289, 'Dissection': 4290, 'Drake Bell': 4291, 'Hayden Panettiere': 4292, 'Wolf Eyes & Black Dice': 4293, 'Corbin Bleu': 4294, 'Andy Fletcher': 4295, 'Minerve': 4296, 'Линда': 4297, 'Валерий Меладзе': 4298, 'Браво': 4299, 'Christian Eigner': 4300, 'Дмитрий Маликов': 4301, 'Гости из будущего': 4302, 'Daggers': 4303, 'Alpinestars': 4304, 'Timofey & Bartosz Brenes vs Terri B!': 4305, 'Timo Maas': 4306, 'Trash Palace': 4307, 'Client': 4308, 'Akcent': 4309, 'Babylonia': 4310, 'Ian Brown': 4311, 'Frozen Plasma': 4312, 'Nephew': 4313, 'Adriano Celentano': 4314, 'Digital Machine': 4315, 'Tricky': 4316, 'Melotron': 4317, \"Evil's Toy\": 4318, 'Dark Moor': 4319, 'Derdian': 4320, 'Galneryus': 4321, 'Freedom Call': 4322, 'Fairyland': 4323, 'Heavenly': 4324, 'Nocturnal Rites': 4325, 'Labyrinth': 4326, 'Altaria': 4327, 'Dreamtale': 4328, 'Secret Sphere': 4329, 'Aina': 4330, 'Edenbridge': 4331, 'Royal Hunt': 4332, 'Silent Force': 4333, \"Luca Turilli's Dreamquest\": 4334, 'Elvenking': 4335, 'Vision Divine': 4336, 'Lost Horizon': 4337, 'Domine': 4338, 'Symphonity': 4339, 'Aquaria': 4340, 'At Vance': 4341, 'Dream Evil': 4342, 'Battlelore': 4343, 'Damian Marley': 4344, 'Echidna': 4345, 'Walls of Jericho': 4346, 'Morodo': 4347, 'Jermaine Jackson': 4348, 'Barão Vermelho': 4349, 'Rouge': 4350, 'Lionel Richie': 4351, 'É o Tchan': 4352, \"Jimmie's Chicken Shack\": 4353, 'Toadies': 4354, 'Wiser Time': 4355, 'Clutch': 4356, 'Alice Donut': 4357, 'The Steepwater Band': 4358, 'Mudhoney': 4359, 'General Patton vs. The X-Ecutioners': 4360, 'Jars of Clay': 4361, 'American Skathic': 4362, 'Gerry Rafferty': 4363, 'Liquid Motor Commission': 4364, 'The Tea Party': 4365, 'Ours': 4366, 'Green Romance Orchestra': 4367, 'Tantric': 4368, 'Tom Petty and the Heartbreakers': 4369, 'Brother Cane': 4370, 'Gin Blossoms': 4371, 'Broadzilla': 4372, 'Cry of Love': 4373, 'Ruth Ruth': 4374, 'MxPx': 4375, 'Poster Children': 4376, 'Marc Ford': 4377, 'Garden of souls': 4378, 'Weather Report': 4379, 'Rebecca St. James': 4380, 'Villa Nah': 4381, 'Sohodolls': 4382, 'The Crash': 4383, 'The Raveonettes': 4384, 'Hellogoodbye': 4385, 'Gentle Touch': 4386, 'Does It Offend You, Yeah?': 4387, 'Juvelen': 4388, 'Junior Senior': 4389, 'Uusi Fantasia': 4390, 'Vinylshakerz': 4391, 'Sue and The Unicorn': 4392, \"SynthPop Isn't Coool\": 4393, 'Foxboro Hot Tubs': 4394, 'Lungbutter': 4395, 'HealeyIsland': 4396, 'Angry Petunias': 4397, 'Krackatoa': 4398, 'Burrito': 4399, 'Fugdale': 4400, 'Corrientes': 4401, 'Ugress': 4402, 'Rymdkraft': 4403, 'The Peach Tree': 4404, 'Frank Zappa & Captain Beefheart': 4405, 'Pixieguts': 4406, 'A Band Featuring Instruments': 4407, 'Joe Soup': 4408, 'Idiots of Idiocy (I.O.I.)': 4409, 'Glejs': 4410, 'Milo Moesche': 4411, 'Giant Sand': 4412, 'Illicit Love Parade': 4413, 'Remergence': 4414, 'The Mental Attack': 4415, 'Electromagnetic Impulses': 4416, 'Subliminal Attraction': 4417, 'Kyn3ticXR': 4418, 'Nessie & Her Beard': 4419, 'Friends of redhalo': 4420, 'Darius Greene': 4421, 'The Review Board': 4422, 'Sergei Rachmaninoff': 4423, 'Ray Manzarek': 4424, 'Tutu, No Pushen Eto': 4425, 'Jūdas graši': 4426, 'Sky Eats Airplane': 4427, 'Smile Empty Soul': 4428, 'Dakota Star': 4429, 'BACK-ON': 4430, 'Stephanie': 4431, 'Our Lady Peace': 4432, 'Greenwheel': 4433, 'The Ataris': 4434, 'The Bravery': 4435, 'Marianas Trench': 4436, '梶浦由記': 4437, 'Us5': 4438, 'Dishwalla': 4439, 'twin cities': 4440, 'Tulsa': 4441, 'Ryan Adams & The Cardinals': 4442, 'Yuck': 4443, 'Doves': 4444, 'Bad Veins': 4445, 'Stephen Fretwell': 4446, 'Beth Orton': 4447, 'Tame Impala': 4448, 'The Folk Implosion': 4449, 'The Acorn': 4450, 'The Twilight Singers': 4451, 'Black Drawing Chalks': 4452, 'Sky Fetish': 4453, 'Diego Maraschin': 4454, 'Paul Stanley': 4455, 'Turbonegro': 4457, 'Ace Frehley': 4458, 'Forgotten Boys': 4459, 'Cinderella': 4460, 'Inimigos da HP': 4461, 'Jeito Moleque': 4462, 'Fernando & Sorocaba': 4463, 'Turma do Pagode': 4464, 'Edson & Hudson': 4465, 'Armandinho': 4466, 'Pixote': 4467, 'Darvin': 4468, 'Chiclete Com Banana': 4469, 'João Bosco e Vinícius': 4470, 'João Bosco & Vinícius': 4471, 'Victor e Léo': 4473, 'Luan Santana': 4474, 'Sharpay & Ryan': 4480, 'Leslie Mills': 4481, 'hugo pena e gabriel': 4484, 'Grupo Revelação': 4486, 'Jon McLaughlin': 4487, 'Marié Digby': 4488, 'Jennifer Love Hewitt': 4489, 'Josh Kelley': 4490, 'Joe McElderry': 4491, 'Ashley Roberts': 4492, 'The Bangles': 4493, 'Joe Jackson': 4494, 'Dusty Springfield': 4495, 'Grade 8': 4496, 'The Acacia Strain': 4497, 'Dysphoria': 4498, 'The Last Of Lucy': 4499, 'Pro-Pain': 4500, 'Фактор Страха': 4501, 'Слот': 4502, 'Oceano': 4503, 'Terror': 4504, 'Паровоз На Резиновом Ходу': 4505, 'Немоляев-Селезнев': 4506, 'La Vida Cuesta Libertades': 4507, 'My Autumn': 4508, 'Skorbut': 4509, 'Smaxone': 4510, 'Silent Decay': 4511, 'Jay-Z, Bono, The Edge & Rihanna': 4512, 'Catch Side': 4513, 'Diwali': 4514, 'JYJ': 4515, 'S.M. THE BALLAD': 4516, 'TEEN TOP': 4517, 'JoMo': 4518, 'War Party': 4519, 'Hank Williams': 4520, 'Uncle Tupelo': 4521, 'Kris Kristofferson': 4522, 'Jana Lewitová/Rudolf Merinský/Pavel Plánka/Hana Fleková/Ingeborg Žadná': 4523, 'Gillian Welch': 4524, 'Kajto': 4525, 'The Flying Burrito Brothers': 4526, 'Kaj Tiel Plu': 4527, 'Meven': 4528, 'The Handsome Family': 4529, 'Steve Earle': 4530, 'Lucinda Williams': 4531, \"Bonnie 'Prince' Billy\": 4532, 'NPR': 4533, 'Jacques Yvart': 4534, 'Loretta Lynn': 4535, 'Hank Williams III': 4536, 'Guy Clark': 4537, 'The Band': 4538, 'Billy Bragg & Wilco': 4539, 'Dolchamar': 4540, 'Lou Reed': 4541, 'George Jones': 4542, 'Willie Nelson': 4543, 'Gram Parsons': 4544, 'Emmylou Harris': 4545, 'Seleshe Damessae': 4546, 'ABC Radio National': 4547, 'Yasemin Mori': 4548, 'Nick Black': 4549, 'In Fear and Faith': 4550, 'Liberty X': 4551, 'Res': 4552, 'Lisa Miskovsky': 4553, 'Leon Jackson': 4554, 'K': 4555, 'Brad Kavanagh': 4556, 'NLT': 4557, 'Wonder Girls': 4558, 'Busted': 4559, 'Brooke Hogan': 4560, 'Edward Maya': 4561, 'Jason Derülo': 4562, 'Wynter Gordon': 4563, 'Tinie Tempah': 4564, 'Doda': 4565, 'Amerie': 4566, 'O.N.A.': 4567, 'Virgin': 4568, 'Maria Peszek': 4569, 'Nosowska': 4570, 'Isis Gee': 4571, 'Chylińska': 4572, 'Natalia Kukulska': 4573, 'Ania': 4574, 'Rebecca Black': 4575, 'www.djrobsonmichel.com': 4576, 'Moda': 4577, 'Stefani': 4578, 'Lady Gaga VS Christina Aguilera': 4579, 'Shareefa': 4580, 'Dougie Poynter': 4581, 'Greyson Chance': 4582, 'Azax Syndrom': 4583, 'Xeg': 4584, 'Method Man': 4585, 'RZA': 4586, 'GMS': 4587, 'CPU': 4588, 'Peter Bailey & Richie Santana': 4589, 'Afrika Bambaataa': 4590, 'Invisibl Skratch Piklz': 4591, 'The Coup': 4592, 'Menog': 4593, 'Rinkadink': 4594, 'Sirius Isness': 4595, 'E-40': 4596, 'dead prez': 4597, 'Naughty by Nature': 4598, 'Dubfire': 4599, 'Astrix': 4600, 'Penta': 4601, 'XSI': 4602, 'Gravediggaz': 4603, 'Kalisia': 4604, 'Moonsorrow': 4605, 'Forefather': 4606, 'MARY ROSE': 4607, 'Equilibrium': 4608, 'Brainstorm': 4609, 'Into Eternity': 4610, 'Alcest': 4611, 'In Mourning': 4612, 'Orphaned Land': 4613, 'The Morningside': 4614, 'Obscura': 4615, 'Jamie Cullum': 4616, 'Bow Wow': 4617, 'Ingrid Michaelson': 4618, 'Jazmine Sullivan': 4619, 'Cat Stevens': 4620, 'Desaparecidos': 4621, \"The La's\": 4622, 'Pimsleur': 4623, 'Louis La Roche': 4624, 'Tribraco': 4625, 'Unnaddarè': 4626, 'Neo': 4627, 'Mini k Bros': 4628, 'Neilos': 4629, 'Pink Puffers': 4630, 'Snakeprint': 4631, 'Spiral69': 4632, 'Tubax': 4633, 'Goodphellas': 4634, 'Solar Orchestra': 4635, 'Zu': 4636, 'Thrangh': 4637, 'SUPERiO': 4638, 'Squartet': 4639, 'The Recyclers': 4640, 'The Flatlands Collective': 4641, 'Zu & Mats Gustafsson': 4642, \"Mark O'Leary\": 4643, 'Rossano Baldini': 4644, 'Steve Lacy With Don Cherry': 4645, 'Zloty Dawai': 4646, \"Henry Threadgill's Zooid\": 4647, '[Br]om': 4648, 'Franco Battiato': 4649, 'Diatribes': 4650, 'Black Bear Combo': 4651, 'Last Exit': 4652, 'The Ganelin Trio': 4653, 'paxit': 4654, 'C.S.I.': 4655, \"Wadada Leo Smith's Golden Quartet\": 4656, 'Fred Anderson': 4657, 'Plaistow': 4658, 'Ellery Eskelin': 4659, 'Henry Threadgill & Make a Move': 4660, 'John Tchicai': 4661, 'The Flying Luttenbachers': 4662, 'CCCP – Fedeli Alla Linea': 4663, 'Wozzeck': 4664, 'Tripleplay': 4665, 'Peter Brötzmann': 4666, 'Necrophagist': 4669, 'Evergrey': 4670, 'Adagio': 4671, 'Camel': 4675, 'Psycroptic': 4678, 'Luca Turilli': 4679, 'Blaze': 4680, 'Andromeda': 4681, 'Потап и Настя Каменских': 4685, 'Arash': 4686, 'Пара Нормальных': 4687, 'МакSим': 4688, 'Игра Слов': 4689, 'Green Carnation': 4690, 'My Dying Bride': 4691, 'The Old Dead Tree': 4692, 'Nightingale': 4693, 'Avec Tristesse': 4694, 'Winds': 4695, 'The-Dream': 4696, 'María José': 4697, 'Ana Victoria': 4698, 'Barbara Muñoz': 4699, 'Playa Limbo': 4700, 'Mala Rodríguez': 4701, 'Marta Sánchez': 4702, 'JotDog': 4703, 'Ladyhawke': 4704, 'All Saints': 4705, 'Sam Sparro': 4706, 'Gabriella Cilmi': 4707, 'Tiago Iorc': 4708, 'Roberta Sá': 4709, 'John Legend': 4710, 'Lizz Wright': 4711, 'Ministério Luz': 4712, 'Teairra Mari': 4713, 'Vanessa da Mata': 4716, 'Tulipa Ruiz': 4717, 'Negra Li': 4719, \"2 Many DJ's\": 4720, 'Batmobile': 4722, 'Messer Chups': 4723, 'The Meteors': 4724, 'Tiga': 4725, 'In Flagranti': 4726, 'Kavinsky': 4727, 'Vitalic': 4728, 'Brazilian Girls': 4731, 'Fischerspooner': 4732, 'Sebastian': 4733, 'Trentemøller': 4734, 'Junior Boys': 4735, 'Vivian Girls': 4736, 'Revis': 4737, 'Static Cycle': 4738, 'Silvergun': 4739, 'Big Dismal': 4740, 'A Change of Pace': 4741, 'Ash': 4742, 'Radial Angel': 4743, 'Green River Ordinance': 4744, 'Starfield': 4745, 'Sanctus Real': 4746, 'Fireflight': 4747, 'SEGA': 4748, 'Fighting Instinct': 4749, 'Jeremy Camp': 4750, 'Rains': 4751, 'Alive Inside': 4752, 'Vonray': 4753, 'Silverstone': 4754, 'doubleDrive': 4755, 'Quietdrive': 4756, 'Old Man Shattered': 4757, 'Rush of Fools': 4758, 'Closure': 4759, 'Adelitas Way': 4760, 'Desperation Band': 4761, 'Acceptance': 4762, 'Cutting Pink with Knives': 4763, 'Bedford': 4764, 'Marina Łuczenko': 4765, 'Mrozu': 4766, 'Aura Dione': 4767, 'Robert M': 4768, 'Gosia Andrzejewicz': 4769, 'Katerine Avgoustakis': 4770, 'Troels B. Folmann': 4771, 'Alvin és a Mókusok': 4772, 'Krystal Meyers': 4773, 'Adept': 4774, 'Gareth Emery': 4775, 'Richy Nix': 4776, 'Depresszió': 4777, 'GG Allin': 4778, 'Aesop Rock': 4779, 'Jim Croce': 4780, 'Anal Cunt': 4781, 'Rick Wakeman': 4782, 'That Handsome Devil': 4783, 'Emerson, Lake & Palmer': 4784, 'The Ventures': 4785, 'Sweatshop Union': 4786, 'Atheist': 4787, 'Coprofago': 4788, 'Brendon Small': 4789, 'Gentle Giant': 4790, 'Ratos de Porão': 4791, 'The Vibrators': 4792, 'Cachorro Grande': 4793, 'Violator': 4794, 'The Modern Lovers': 4795, 'Tim Maia': 4796, 'Street Bulldogs': 4797, 'Bandas Gaúchas -  www.DownsMtv.com': 4798, 'Pata de Elefante': 4799, 'Planet Hemp': 4800, 'Graforréia Xilarmônica': 4801, 'Ida Maria': 4802, 'S.O.D.': 4803, 'Menstruação Anarquika': 4804, 'The Exploited': 4805, 'Moreira da Silva': 4806, 'New York Dolls': 4807, 'Validuaté': 4808, 'The Saints': 4809, 'The Pipettes': 4810, 'Cody Simpson': 4811, 'N-Dubz': 4812, 'Roxanne Emery': 4813, 'Natalia Kills': 4814, 'Kristin Chenoweth': 4815, 'Eddie': 4816, 'La Oreja de Van Gogh': 4817, 'Nando Reis': 4818, 'Fernanda Takai': 4819, 'Lagwagon': 4820, 'NOFX': 4821, 'No Use for a Name': 4822, 'Cueio Limão': 4823, 'Slick Shoes': 4824, 'Cólera': 4825, 'Rufio': 4826, 'Me First and the Gimme Gimmes': 4827, 'Forfun': 4828, 'SK84': 4829, 'Belvedere': 4830, 'Display': 4831, 'Mest': 4832, 'Less Than Jake': 4833, 'Carbona': 4834, 'Bad Astronaut': 4835, 'Fenix TX': 4836, 'The Starting Line': 4837, 'Rodox': 4838, 'Aditive': 4839, 'Killi': 4840, 'Hardneja Sertacore': 4841, 'Porcos Cegos': 4842, 'Mutação': 4843, 'Houdini': 4844, 'Blind Pigs': 4845, 'Fistt': 4846, 'Face to Face': 4847, 'Gritando HC': 4848, 'Ira!': 4849, 'Strike': 4850, 'Elton': 4851, 'Red Snapper': 4852, 'Cujo': 4853, 'Aoki Takamasa': 4854, 'Tequilajazzz': 4855, 'Pasobionic': 4856, 'Sven Weisemann': 4857, 'KAVver.': 4858, 'Alissid Jazz!': 4859, 'Aoki Takamasa + Tujiko Noriko': 4860, 'Drumcorps': 4861, 'Крихітка Цахес': 4862, 'Funki Porcini': 4863, 'electro jazz divas': 4864, 'ISAN': 4865, 'Gabriel o Pensador': 4866, 'Thaeme Mariôto': 4867, 'Luiza Possi': 4868, 'Cheiro de Amor': 4869, 'Lorena Simpson': 4870, 'Project Pitchfork': 4871, 'Deine Lakaien': 4872, 'Panzer AG': 4873, 'Imperative Reaction': 4874, 'Leæther Strip': 4875, 'In Strict Confidence': 4876, 'Decoded Feedback': 4877, 'Jewelry': 4878, 'Selena Gomez & Demi Lovato': 4879, 'Sandra': 4880, 'Britney Spears vs Avril Lavigne': 4881, 'Miley Cyrus攀': 4882, 'TLC': 4883, 'Crazy Loop': 4884, 'Mini Viva': 4885, 'Demi Lovato Ft. Miley Cyrus Ft. Selena Gomez Ft. Jonas Brothers': 4886, 'Гражданская Оборона': 4887, 'missis Garrison': 4888, 'Flёur': 4889, 'Идефикс': 4890, '4ре Апреля': 4891, 'Лион': 4892, 'Ассаи': 4893, 'Cubique Music Band': 4894, 'Янка Дягилева': 4895, 'П.Т.В.П.': 4896, 'Легион': 4897, 'Across Five Aprils': 4898, 'Идефикс и Ганза': 4899, 'МС Молодой': 4900, 'Егор и Опизденевшие': 4901, 'Торба-На-Круче': 4902, 'Птаха feat. Ua': 4903, 'Blue London': 4904, 'Мультfильмы': 4905, 'Сурганова и Оркестр': 4906, 'ПолитЗек': 4907, 'Wax Angel': 4908, 'Кедровая Фитобочка': 4909, 'E.S.T.': 4910, 'Ландыши': 4911, 'E Nomine': 4912, 'Berliner Philharmoniker': 4913, 'СЛОТ': 4914, 'Paula Abdul': 4915, 'The Champions': 4916, 'Klaus Badelt': 4917, 'Nicholas Hooper': 4918, 'La Toya Jackson': 4919, 'James Horner': 4920, 'Lebo M': 4921, '久石譲': 4922, 'Alexandre Desplat': 4923, 'Luisana Lopilato': 4924, 'Tyra Banks': 4925, 'Анастасия Приходько': 4926, 'Patrick Doyle': 4927, 'Eric Serra': 4928, 'Noa': 4929, 'Elton John & Hans Zimmer & Lebo M & South African Chorus': 4930, 'Jelonek': 4931, 'Rebbie Jackson': 4932, 'Apathy': 4933, 'Killwhitneydead': 4934, 'I Declare War': 4935, 'Dr. Acula': 4936, 'And Hell Followed With': 4937, 'Attila': 4938, 'Beneath the Sky': 4939, 'War From a Harlots Mouth': 4940, 'Across the Universe': 4941, 'Upon A Burning Body': 4942, 'King Conquer': 4943, 'Molotov Solution': 4944, 'Salt The Wound': 4945, 'The Tony Danza Tapdance Extravaganza': 4946, 'Deez Nuts': 4947, 'Misery Signals': 4948, 'Novembre': 4949, 'Apatheia': 4950, 'The Real Tuesday Weld': 4951, 'TrollfesT': 4952, 'Valentina Dorme': 4953, 'Caninus': 4954, 'Giuni Russo': 4955, 'Monumentum': 4956, 'Argine': 4957, 'Kyrie': 4958, 'Rome': 4959, 'Aarni': 4960, 'Deinonychus': 4961, 'Cesare Cremonini': 4962, 'Offlaga Disco Pax': 4963, 'Sombre Chemin': 4964, 'Anaal Nathrakh': 4965, 'Storm of Capricorn': 4966, 'Ivan Cattaneo': 4967, 'Ad Hominem': 4968, 'Danny Cavanagh': 4969, 'Drudkh': 4970, 'Kalmah': 4971, 'Jocelyn Pook': 4972, 'CCCP Fedeli alla linea': 4973, 'Gazebo': 4974, 'Cutting Crew': 4975, 'Claudio Baglioni': 4976, 'Nick Kamen': 4977, 'Mr. Mister': 4978, 'Peter Godwin': 4979, 'Olivia': 4980, 'Glenn Medeiros': 4981, 'Bryan Ferry & Roxy Music': 4982, 'Elissa': 4983, 'Wael Kfoury': 4984, 'To/Die/For': 4985, 'Fares Karam': 4986, 'Najwa Karam': 4987, 'Chris Spheeris': 4988, 'To Die For (www.Sarzamin.org)': 4989, 'عمر دياب': 4990, 'Cesária Évora': 4991, 'Elite Force': 4992, 'Black': 4993, 'Team Sleep': 4994, 'Destroy Rebuild Until God Shows': 4995, 'Тихий Джа': 4996, 'Yoav': 4997, 'Esthetic Education': 4998, 'Ocean Colour Scene': 4999, 'Take That': 5000, 'One Night Only': 5001, 'Wakey!Wakey!': 5002, 'Vinnie Vincent Invasion': 5003, 'Pretty Boy Floyd': 5004, 'Nikki Sixx': 5005, 'Dirty Penny': 5006, 'Shotgun Messiah': 5007, 'Nitro': 5008, 'Blackrain': 5009, 'Faster Pussycat': 5010, 'Alleycat Scratch': 5011, 'Swedish Erotica': 5012, 'Headplate': 5013, 'Towers of London': 5014, 'Reckless Love': 5015, 'Bonfire': 5016, 'F.L.A.B': 5017, 'Mattafix': 5018, 'ЗЕМФИРА': 5019, 'Queen + Paul Rodgers': 5020, 'Ber-linn': 5021, 'Sound': 5022, 'BAK XIII': 5023, 'Kromvele': 5024, 'Snatch.': 5025, 'Eraplee Noisewall Orchestra': 5026, 'Le Tigre': 5027, 'Kid Koala': 5028, 'Trash Fashion': 5029, 'The Pigeon Detectives': 5030, 'Twisted Wheel': 5031, 'Britt Nicole': 5032, 'The Rubyz': 5033, 'Dennis': 5034, 'Charlotte Sometimes': 5035, 'Raven-Symoné': 5036, 'Grubson': 5038, 'Tede': 5039, 'Necro': 5040, 'Eldo': 5041, 'Grzegorz Turnau': 5042, 'Lusine': 5043, 'PIH': 5044, 'Basement Jaxx': 5045, 'The Streets': 5048, 'Ten Typ Mes': 5049, 'Tears Run Rings': 5050, 'Rychu Peja SoLUfka': 5051, 'Kangding Ray': 5052, 'Tor Lundvall': 5053, 'Pezet/Małolat': 5055, 'Fokus': 5057, 'Sido': 5058, 'Spor': 5060, 'Calyx & Teebee': 5061, 'Dieselboy': 5062, 'Noisia': 5063, 'ILS': 5064, 'Aiden': 5065, 'Preschool Tea Party Massacre': 5066, 'I Set My Friends On Fire': 5067, 'Elysia': 5068, 'Black Sun Empire': 5069, 'The Agony Scene': 5070, 'Chase & Status': 5071, 'Paul Oakenfold': 5072, 'Juno Reactor': 5073, 'Rob Dougan': 5074, 'Dance Club Massacre': 5075, 'X JAPAN': 5076, 'hide': 5077, 'ZARD': 5078, 'Emilie Autumn': 5079, 'KAT-TUN': 5080, 'AAA': 5081, 'アンティック-珈琲店-': 5082, 'モーニング娘。': 5083, '清春': 5084, \"Cristina D'Avena\": 5085, 'YOSHIKI': 5086, 'LUNA SEA': 5087, 'Lucio Battisti': 5088, '大塚愛': 5089, 'hitomi': 5090, 'SADS': 5091, '883': 5092, 'KOKIA': 5093, '倉木麻衣': 5094, 'ポルノグラフィティ': 5095, 'DJ OZMA': 5096, 'X-Patriate (Alan J. Lipman)': 5097, 'Scala & Kolacny Brothers': 5098, 'Train': 5099, 'Shadows Fall': 5100, 'Throwdown': 5101, 'Maldita': 5102, '陰陽座': 5103, 'Full Blown Chaos': 5104, 'Cavalera Conspiracy': 5105, \"L'Esprit du Clan\": 5107, 'Dio - Distraught Overlord': 5110, 'Modwheelmood': 5111, 'Ferrum': 5112, 'Cinema Strange': 5113, 'Black Heaven': 5114, 'X-Fusion': 5115, 'Ze Smetana': 5116, 'Xe-NONE': 5117, 'Сны Моего Неба': 5118, 'Marcelo D2': 5119, 'Xutos & Pontapés': 5120, 'Glee Cast\\uf800': 5121, 'Dennis Ferrer': 5122, 'Survivor': 5123, 'Kenny Loggins': 5124, 'Shemales From outta Space of Death': 5125, 'Chelsea Grin': 5126, 'Mein Hünd Morder': 5127, 'Karma Fox pre': 5128, 'His Statue Falls': 5129, 'Eskimo Callboy': 5130, 'Asphix': 5131, 'Karma Fox': 5132, '69 enfermos': 5133, 'Betraying The Martyrs': 5134, 'A Plea for Purging': 5135, 'Autogestion': 5136, 'Delux': 5137, 'PMX': 5138, 'The Fire Restart': 5139, 'Panda': 5140, 'Texas in July': 5141, 'Citoyens': 5142, 'Sienna Skies': 5143, 'Power Francers and D-Bag': 5144, 'Fuertes Convicciones': 5145, 'Popcorn': 5146, 'Sleigh Bells': 5147, 'ELECTRIC LADY LAB': 5148, 'Uffie': 5149, 'Janelle Monáe': 5150, 'ZAZ': 5151, 'Fujiya & Miyagi': 5152, 'Auf der Maur': 5153, 'Miami Horror': 5154, 'A.S.A.P.': 5155, 'Eddie Money': 5156, 'Accept': 5157, 'Blaze Bayley': 5158, 'Autograph': 5159, 'Don Dokken': 5160, 'The Entire Population Of Hackney': 5161, 'Numbers From The Beast': 5162, 'Glenn Tipton': 5163, 'Psycho Motel': 5164, 'White Lion': 5165, 'Desmond Child': 5166, 'Britt Black': 5167, 'Bob Seger': 5168, 'Living Colour': 5169, 'Scandal': 5170, 'Geddy Lee': 5171, 'Grand Funk Railroad': 5172, 'Ozric Tentacles': 5173, 'Fulano': 5174, 'Roger Waters': 5175, 'StoneBridge': 5176, 'Solu Music': 5177, 'Booty Luv': 5178, 'Junior Jack': 5179, 'Lovage': 5180, 'Supreme Beings of Leisure': 5181, 'Martina Topley-Bird': 5182, 'Soulsearcher': 5183, '8mm': 5184, 'Smoke City': 5185, 'Esthero': 5186, 'Hott 22': 5187, 'Shapeshifters': 5188, 'Haji & Emanuel': 5189, 'No Halo': 5190, 'DJ Cam': 5191, 'Bent': 5192, 'Thunderball': 5193, 'Joey Negro': 5194, 'Shakedown': 5195, 'Kings of Tomorrow': 5196, 'Halou': 5197, 'Milk & Sugar': 5198, 'Karmacoda': 5199, 'Kid Loco': 5200, 'Fractured Visions': 5201, 'InMe': 5202, 'Reuben': 5203, 'Brigade': 5204, 'Refused': 5205, 'Pulled Apart By Horses': 5206, 'Rooster': 5207, 'Hell Is for Heroes': 5208, 'Jon Gomm': 5209, 'Chickenhawk': 5210, 'Further From The Truth': 5211, 'Rick Wright': 5212, 'My Awesome Compilation': 5213, 'Dry Rise': 5214, 'Skunk Anansie': 5215, 'Alien Ant Farm': 5216, 'Fuel': 5217, 'S.M.E.S.': 5218, 'Sabbat': 5219, 'Lacerated Tissue': 5220, 'Putrefaction Pestilence': 5221, 'Pathology': 5222, 'Cerebral Incubation': 5223, 'Purulent Wormjizz': 5224, 'Pyaemia': 5225, 'O Rappa': 5226, 'Mortician': 5227, 'Elliott Yamin': 5228, 'The Field Mice': 5229, 'Professor Green': 5232, 'Noah and the Whale': 5233, 'Andrés Calamaro': 5235, 'Enrique Bunbury': 5236, 'Gustavo Cerati': 5237, 'Fito Páez': 5238, 'Calle 13': 5239, 'Janio Lora': 5240, 'Charly García': 5241, 'Afterhours': 5242, 'Joaquín Sabina & Fito Páez': 5243, 'Toque Profundo': 5244, 'Alex Ferreira': 5245, 'Pescado Rabioso': 5246, 'Robi Draco Rosa': 5247, 'Vicentico': 5248, 'Alejandro Sanz': 5249, 'Luis Alberto Spinetta': 5250, 'Juango Dávalos': 5251, 'Spinetta y los Socios del Desierto': 5252, 'eatmewhileimhot!': 5253, 'Falco': 5254, \"The Go-Go's\": 5255, 'Jan Hammer': 5256, 'Nancy Sinatra': 5257, 'Adam Ant': 5258, 'Funky Bunch': 5259, 'Adam and the Ants': 5260, 'Quarterflash': 5261, 'Reagan Youth': 5262, 'Nancy Sinatra & Lee Hazlewood': 5263, 'Rick Springfield': 5264, \"Charlie's Angels\": 5265, 'Kellie Pickler': 5266, 'Miranda Lambert': 5267, 'Lea Michele': 5268, 'Asher Book': 5269, 'Matthew Morrison': 5270, 'Naturi Naughton': 5271, 'Amber Riley': 5272, 'Naturi Naughton & Collins Pennie': 5273, 'Garrett Hedlund': 5274, 'Cory Monteith': 5275, 'Naturi Naughton, Asher Booke & Kay Panabaker': 5276, 'Kerry Muzzey': 5277, 'Mark Salling': 5278, 'Jayma Mays': 5279, 'Jenna Ushkowitz': 5280, 'Kristin Chenoweth & Matthew Morrison': 5281, 'Hopsin, Ak\\'sent, Tynisha Keli & Donte \"Burger\" Winston': 5282, 'Raney Shockne Feat. Stella Moon': 5283, 'Collins Pennie Feat. Ashleigh Haney': 5284, 'Megan Mullally': 5285, 'Anjulie': 5286, 'Raney Shockne Feat. Oren Waters': 5287, 'Rachael Sage': 5288, 'Raney Shockne': 5289, 'Garrett Hedlund & Leighton Meester': 5290, 'Jesse Lee': 5291, 'Kevin McHale': 5292, 'Nikki Williams': 5293, 'Finn': 5294, 'Faust': 5295, 'Hawkwind': 5296, 'Van der Graaf Generator': 5297, 'Neu!': 5298, 'Swans': 5299, 'Rare Bird': 5300, 'Focus': 5301, 'Gong': 5302, 'Soft Machine': 5303, 'MC Lars': 5304, 'mc chris': 5305, 'Dropkick Murphys': 5306, 'Hyper Crush': 5307, 'Dot Dot Curve :)': 5308, 'Juliet Simms': 5309, 'Zebrahead': 5310, 'Mercy Mercedes': 5311, 'Bob Schneider': 5312, 'Amber Pacific': 5313, 'nickasaur!': 5314, 'MC Frontalot': 5315, 'Iglu & Hartly': 5316, 'Jon Lajoie': 5317, 'MC Lars & YTCracker': 5318, 'Nexilva': 5319, 'The Dollyrots': 5320, 'OPM': 5321, 'School Boy Humor': 5322, 'Phineas and Ferb Theme Song': 5323, 'Army of Freshmen': 5324, 'Kaya Project': 5325, 'Dissidenten': 5326, 'Kuba': 5327, 'Eraser vs Yöjalka': 5328, 'Shulman': 5329, 'Haltya': 5330, 'Crazy Ducks': 5331, 'Polysics': 5332, 'Sundial Aeon': 5333, 'Salakavala': 5334, '相川七瀬': 5335, 'Ocelot': 5336, 'Pitch Black': 5337, 'Bedouin Soundclash': 5338, 'Sienis': 5339, 'Bodhisattva 13:20': 5340, 'Headphonics': 5341, 'Eat Static': 5342, 'Tripswitch': 5343, 'Sundial': 5344, 'Kiwa': 5345, 'Ott': 5346, 'Abakus': 5347, 'Younger Brother': 5348, 'Talpa': 5349, 'Adham Shaikh': 5350, 'Psilodump': 5351, 'Jean-Jacques Perrey': 5352, 'Buju Banton': 5353, 'Mauxuam': 5354, 'Hibernation': 5355, 'Raappana': 5356, 'Insaneacyde': 5357, 'Vibrasphere': 5358, 'Phutureprimitive': 5359, 'Bluetech': 5360, 'Gus Till': 5361, 'Tamlin': 5362, 'Gåte': 5363, 'Raz': 5364, 'Diamond Head': 5365, 'Sadus': 5366, 'The G-Men RVA': 5367, 'Buck Griffin': 5368, 'Alvis Wayne': 5369, 'The Strangeloves': 5370, 'the ring of fire': 5371, 'Hoyt Johnson': 5372, 'Eddie Bond': 5373, 'Danny Dean and the Homewreckers': 5374, 'Eddie Cochran': 5375, 'Sleepy LaBeef': 5376, 'The Riptones': 5377, 'Cave Catt Sammy': 5378, 'Larry Donn': 5379, 'Arty Hill and the Long Gone Daddys': 5380, 'Jonathan Richman and the Modern Lovers': 5381, 'Gene Vincent': 5382, 'High Noon': 5383, 'Dave Travis': 5384, 'Tommy Blake': 5385, 'The Knickerbockers': 5386, 'Andy Anderson': 5387, 'The Rockats': 5388, 'Bernie Early': 5389, 'Josie Kreuzer': 5390, 'DICKY DIXON LAKE RECORDS': 5391, 'Jack Scott': 5392, 'Ronnie Hawkins': 5393, 'Matchbox': 5394, 'Sonny Burgess': 5395, 'Ray Campi': 5396, 'Dale Hawkins': 5397, 'Narvel Felts': 5398, 'Johnny Kidd & The Pirates': 5399, 'Autry Inman': 5400, 'Billy J. Kramer & The Dakotas': 5401, 'Walt Solek': 5402, 'The Dave Clark Five': 5403, 'Mickey Hawks': 5404, 'Hicksville Bombers': 5405, 'Ernie Barton': 5406, 'Frank Yankovic and His Yanks': 5407, 'Doug Wilshire': 5408, 'Duane Eddy': 5409, 'The Sugarplastic': 5410, 'Tujiko Noriko': 5411, 'The Go! Team': 5412, 'My Little Airport': 5413, 'Camera Obscura': 5414, 'Cibo Matto': 5415, 'Os Mutantes': 5416, \"The 5.6.7.8's\": 5417, 'Vashti Bunyan': 5418, 'Sons and Daughters': 5419, 'Nico': 5420, 'Rasputina': 5421, 'Spaghetti Vabune!': 5422, '...And You Will Know Us by the Trail of Dead': 5423, 'Faun Fables': 5424, 'Diante do Trono': 5425, 'My American Heart': 5426, 'André Valadão': 5427, 'Jack Peñate': 5428, 'Good Shoes': 5429, 'The Small Faces': 5430, 'Toque No Altar': 5431, 'Bread': 5432, 'Peter & Gordon': 5433, 'The Zombies': 5434, 'Self Against City': 5435, 'The Searchers': 5436, 'The Hush Sound': 5437, 'Lázaro': 5438, 'Hot Hot Heat': 5439, 'The Zutons': 5440, 'Lenine': 5441, 'Guinga': 5442, 'João Bosco': 5443, 'Andy McKee': 5444, 'Ney Conceição': 5445, 'Ben Harper': 5446, 'The Dave Brubeck Quartet': 5447, 'Yamandú Costa': 5448, 'Nosso Trio': 5449, 'Motorocker': 5450, 'Velhas Virgens': 5451, 'Chicago': 5452, 'Pouca Vogal': 5453, 'Frejat': 5454, 'RPM': 5455, 'Michael Kiske': 5456, 'Rádio Taxi': 5457, 'Marina Lima': 5458, 'Delain': 5459, 'Kristine Elezaj': 5460, 'ReVamp': 5461, 'Sellyy': 5462, 'Blake McGrath': 5463, 'Joe Brooks': 5464, 'Marie-Mai': 5465, 'Indica': 5466, 'Mash': 5467, 'Valentine': 5468, 'The Dark': 5469, 'Rita Lee & Tutti Frutti': 5470, 'The Only Ones': 5471, 'Ryan Star': 5472, 'The Joy Formidable': 5473, 'Nneka': 5474, 'Blue Foundation': 5475, 'Foster the People': 5476, 'Linas Adomaitis': 5477, 'Stateless': 5478, 'Anapilis': 5479, 'Frou Frou': 5480, 'Hilltop Hoods': 5481, 'Bas Tajpan': 5482, 'Composition Of Sound': 5483, 'Lowe': 5484, 'Dżem': 5485, 'Michael Hutchence': 5486, 'Kasia Kowalska': 5487, 'Natural Dread Killaz': 5488, 'Perfidious Words': 5489, 'Ras Luta': 5490, 'Liquid Soul': 5491, 'Ticon': 5492, 'Jaïa': 5493, 'Symphonix': 5494, 'Antix': 5495, 'Hilight Tribe': 5496, 'Total Eclipse': 5497, 'Protoculture': 5498, 'SBK': 5499, 'System 7': 5500, 'Perfect Stranger': 5501, 'Deep Dive Corp.': 5502, 'The Orb': 5503, 'S-Range': 5504, 'Sun Control Species': 5505, 'Flowjob': 5506, 'Ace Ventura': 5507, 'lemonchill': 5508, 'Peter Gun': 5509, 'Neelix': 5510, 'Jay Lumen': 5511, 'Human Blue': 5512, 'Doof': 5513, 'Dousk': 5514, 'N.A.S.A.': 5515, 'Lish': 5516, 'Fatali': 5517, 'Motion Drive': 5518, 'Tristan': 5519, 'SoLaNo': 5520, 'Man With No Name': 5521, 'Bamboo Forest': 5522, 'Rocky': 5523, 'Aerospace': 5524, 'Mutiny Within': 5525, 'Black Stone Cherry': 5526, 'Devlin': 5528, 'Cher Lloyd': 5529, 'Roll Deep': 5530, 'Nadine': 5531, 'Boyzone': 5532, 'Nadine Coyle': 5533, 'Alexis Jordan': 5534, 'Matt Cardle': 5535, 'Example': 5536, 'Aggro Santos': 5537, 'Toni Collette & the Finish': 5538, 'O+S': 5539, 'Aqueduct': 5540, 'The Polyphonics': 5541, 'Sophie Zelmani': 5542, 'Maria Taylor': 5543, 'Copacabana Club': 5544, 'Mark Snow': 5545, 'Ambulance LTD': 5546, 'Passion Pit': 5547, 'Katie Herzig': 5548, 'Yo La Tengo': 5549, 'The Pretenders': 5550, 'The Sweet Serenades': 5551, 'Michael Danna & Various': 5552, 'Cary Brothers': 5553, 'Joy Williams': 5554, 'Butterfly Boucher': 5555, 'Correatown': 5556, 'Diva Gash': 5557, 'Faded Paper Figures': 5558, 'Crystal Waters': 5559, 'GIRL NEXT DOOR': 5560, '샤이니': 5561, 'V6': 5562, '後藤真希': 5563, 'AKB48': 5564, 'Clazziquai Project': 5565, '신화': 5566, 'w-inds.': 5567, 'SE7EN': 5568, 'Sweetbox': 5569, 'Banana Girl': 5570, 'KinKi Kids': 5571, '林俊傑': 5572, 'TOKIO': 5573, '蔡依林': 5574, 'SS501': 5575, 'Sweet Vacation': 5576, 'Karelia': 5577, 'Inactive Messiah': 5578, 'Illnath': 5579, 'Epochate': 5580, 'Aesthetic Perfection': 5581, '2 Times Terror': 5582, 'Ruoska': 5583, 'Miss Construction': 5584, 'Masterplan': 5585, 'Collide': 5586, 'www.baixarsertanejo.com': 5587, 'Santorine': 5588, 'Humberto & Ronaldo': 5589, 'April Matson': 5590, 'Janaynna Targino': 5591, 'Aluto': 5592, 'Franco Levine': 5593, 'Maria Cecília & Rodolfo': 5594, 'kenneth e Danilo': 5595, 'SMA': 5596, 'Lionheart': 5597, 'Embraced by Hatred': 5598, 'Backfire!': 5599, 'Agnostic Front': 5600, 'TRIC & PEST': 5601, 'For My Enemy': 5602, 'Prong': 5603, 'In Blood We Trust': 5604, '植松伸夫': 5605, 'Fozzy': 5606, 'Fard': 5607, 'Taktloss': 5608, 'Emigrate': 5609, 'Samsas Traum': 5610, 'Ö²ËÉÉì·ò': 5611, 'Seryoga': 5612, 'Anno 1602': 5613, 'Marco Masini': 5614, 'Elisa': 5615, 'Gianluca Grignani': 5616, 'Gianna Nannini': 5617, 'Piero Pelù': 5618, 'Roberto Vecchioni': 5619, 'Bluvertigo': 5620, 'Christiane F.': 5621, 'LigaJovaPelù': 5622, 'Loredana Bertè': 5623, 'Fiorella Mannoia': 5624, 'Reese Witherspoon': 5625, 'Joaquin Phoenix & Reese Witherspoon': 5626, 'Jerry Reed': 5627, 'The Cool Kids': 5628, 'The Nitty Gritty Dirt Band': 5629, 'Dead Fish': 5630, 'A Wilhelm Scream': 5631, 'Verse': 5632, 'RANCORE': 5633, 'colligere': 5634, 'This Is a Standoff': 5635, 'Propagandhi': 5636, 'Reffer': 5637, 'Strike Anywhere': 5638, 'Mukeka Di Rato': 5639, 'Nitrominds': 5640, 'Envydust': 5641, 'Garage Fuzz': 5642, 'Chuva Negra': 5643, 'Zander': 5644, 'The Aggrolites': 5645, 'Que Fim Levou Valdir?': 5646, 'presto?': 5647, 'Nunca Inverno': 5648, 'Zac Brown Band': 5649, 'Over the Rhine': 5650, 'Eric Church': 5651, 'The Blow': 5652, 'Kidneythieves': 5653, 'Joseph Israel': 5654, 'Yael Naïm': 5655, 'The Benjy Davis Project': 5656, \"Margot & the Nuclear So and So's\": 5657, 'Black Tape for a Blue Girl': 5658, 'Leadbelly': 5659, 'Robert Johnson': 5660, 'Everybody Else': 5661, 'Hem': 5662, 'Adrienne Pierce': 5663, 'Lady & Bird': 5664, 'Skip James': 5665, 'Volbeat': 5666, 'The Agonist': 5667, 'Warlock': 5668, 'Warrior Soul': 5669, 'Zombie Girl': 5670, 'Taking Dawn': 5671, 'White Zombie': 5672, 'Deadlock': 5673, 'Haftbefehl': 5674, 'Kollegah': 5675, 'Farid Bang': 5676, 'Massiv': 5677, 'Mr Hudson': 5678, 'Marteria': 5679, 'Kanye West & Jay-Z': 5680, 'Kyle Andrews': 5681, 'Waka Flocka Flame': 5682, 'Tinchy Stryder': 5683, 'Ferras': 5684, 'Willow': 5685, 'Heaven & Hell': 5688, 'Candlemass': 5689, 'Sortilège': 5690, 'Manilla Road': 5691, 'Roger Glover': 5692, 'Pen of Chaos': 5693, 'Virgin Steele': 5694, 'Iommi': 5695, 'Reverend Bizarre': 5696, 'Black Country Communion': 5697, 'Subheim': 5698, 'C-Lekktor': 5699, 'Kick Bong': 5700, 'Snow in Mexico': 5701, 'Other Day': 5702, 'Neuromantik': 5703, 'Alien Produkt': 5704, 'Fantazja': 5705, 'Endraum': 5706, 'All My Faith Lost ...': 5707, 'Stillife': 5708, 'Kirlian Camera': 5709, 'Dargaard': 5710, 'Acylum': 5711, 'In My Rosary': 5712, 'Magna Canta': 5713, 'Scream Silence': 5714, 'Painbastard': 5715, 'ночные грузчики': 5716, 'Mantus': 5717, 'Arcana': 5718, 'Disfuncion Organica': 5719, 'Proyecto Crisis': 5720, 'stereomotion': 5721, 'Preemptive Strike 0.1': 5722, 'NSYNC': 5723, 'Goya': 5724, 'Magda Wójcik': 5725, 'Donkeyboy': 5726, 'Słoń': 5727, 'Marina': 5728, 'Deep Insight': 5729, 'Play Attenchon': 5730, 'O-Zone': 5731, 'Libido': 5732, 'Magaly Solier': 5733, 'Radu': 5734, 'Young Love': 5735, 'Alternosfera': 5736, 'Rosita de Espinar': 5737, 'Pintura Roja': 5738, 'El Otro Yo': 5739, 'Agua Bella': 5740, 'Tonka': 5741, 'Uchpa': 5742, 'Narcosis': 5743, 'Devdas': 5744, 'Elis Regina': 5745, 'Robert Pattinson': 5746, 'Dakota Fanning and Kristen Stewart': 5747, 'Fused': 5748, 'Restart': 5749, 'Chay Suede': 5750, 'Charity Vance': 5751, 'One Direction': 5752, 'Josiah Leming': 5753, 'Eliza Doolittle': 5754, 'Steve Moakler': 5755, 'Benton Paul': 5756, 'Operator Please': 5757, 'Matt Morris': 5758, 'Electric Valentine': 5759, 'Tim Urban': 5760, 'Julia Gama': 5761, 'Bebo Norman': 5762, 'Boy Talks Trash': 5763, 'Pédecôco': 5764, 'Bloodberry': 5765, 'Maria Willson': 5766, 'LeAnn Rimes': 5767, 'Anouk': 5768, 'Regine Velasquez': 5769, 'The Rembrandts': 5770, 'Phoebe Buffay': 5771, 'Mamonas Assassinas': 5772, 'O Melhor Internacional de Novelas': 5773, 'Chiquititas': 5774, 'Xuxa': 5775, 'House Boulevard Feat. Samara': 5776, 'By Hugo Pontes': 5777, 'Kevin Federline': 5778, 'Barry Harris': 5779, '4 Non Blondes': 5780, 'Buffy the Vampire Slayer': 5781, 'Jay Reatard': 5782, 'Priestess': 5783, 'Unwritten Law': 5784, 'Buzzcocks': 5785, 'Cecilia Bartoli': 5786, 'Diana Krall': 5787, 'CORE OF SOUL': 5788, 'Lauryn Hill': 5789, 'Aimee Mann': 5790, 'Mark Morgan': 5791, 'Matt Uelmen': 5792, 'Exxasens': 5793, 'Derek Duke': 5794, 'Белые Флаги Зажигайте Медленно': 5795, 'Toma': 5796, 'Albinobeach': 5797, 'Valve': 5798, 'If These Trees Could Talk': 5799, 'Андрей Климковский': 5800, 'Atlantis': 5801, 'Ben Houge': 5802, 'Banco de Gaia': 5803, 'Sleepmakeswaves': 5804, 'Aaron Marshall': 5805, 'John Murphy': 5806, 'Jeremy Soule': 5807, 'I Hear Sirens': 5808, 'Barón Rojo': 5809, 'Original Broadway Cast': 5810, 'F.K.Ü.': 5811, 'Krokus': 5812, 'Hellhounds': 5813, 'Helena Bonham Carter': 5814, 'Helena Bonham Carter & Johnny Depp': 5815, 'Ángeles del Infierno': 5816, 'Trust': 5817, 'Exciter': 5818, 'Masacre': 5819, 'Riot': 5820, 'Aria': 5821, 'Edward Sanders & Helena Bonham Carter': 5822, 'Anvil': 5823, 'Excel': 5824, 'Muro': 5825, 'Alan Rickman & Johnny Depp': 5826, 'Transmetal': 5827, 'Jayne Wisener': 5828, 'Jamie Campbell Bower': 5829, 'Edward Sanders, Helena Bonham Carter and Johnny Depp': 5830, 'Sacha Baron Cohen': 5831, 'The Dolphin Brothers': 5832, 'David Sylvian': 5833, 'Lion': 5834, 'Bruce Faulconer': 5835, 'Mark Ronson & The Business Intl': 5836, '浜田麻里': 5837, \"Yngwie J. Malmsteen's Rising Force\": 5838, 'Nine Horses': 5839, 'Takeshi Miura, Hijiri Anze, Sanae Kasahara': 5840, 'Winger': 5841, 'Elvira': 5842, 'Charles Bernstein': 5843, 'Jefferson Airplane': 5844, 'Vavamuffin': 5845, 'Izrael': 5846, 'EastWest Rockers': 5847, 'Ziggy Marley': 5848, 'Diana King': 5849, 'Bunny Wailer': 5850, 'Oneohtrix Point Never': 5851, 'Mohave Triangles': 5852, 'The Skaters': 5853, 'Emeralds': 5854, 'Bee Mask': 5855, 'Dolphins Into the Future': 5856, 'Axolotl': 5857, 'Shuttle 358': 5858, 'High Wolf': 5859, 'Off Minor': 5860, 'Raccoo-oo-oon': 5861, 'Oidupaa Vladimir Oiun': 5862, 'Xiphiidae': 5863, 'Extra Life': 5864, 'Sky Limousine': 5865, 'Lurker of Chalice': 5866, 'Natural Snow Buildings': 5867, 'Teebs': 5868, 'Depakote': 5869, 'Sean McCann': 5870, 'Ricardo Villalobos': 5871, 'Hetero Skeleton': 5872, '1000names': 5873, 'Hive': 5874, 'Monopoly Child Star Searchers': 5875, 'Don Caballero': 5876, 'Pendulums': 5877, 'Josh Burke': 5878, \"Ariel Pink's Haunted Graffiti\": 5879, 'Ampere': 5880, 'I Wrote Haikus About Cannibalism in Your Yearbook': 5881, 'Forest Swords': 5882, 'Oh No': 5883, 'Yoga': 5884, 'Ø': 5885, 'Realms': 5886, 'Group Doueh': 5887, 'Infinity Window': 5888, 'QARPA': 5889, 'Elbow': 5890, 'I Monster': 5891, 'The Weeknd': 5892, 'Chris Corner': 5893, 'The Brand New Heavies': 5894, 'Frank Marino': 5895, 'Frank Marino & Mahogany Rush': 5896, 'Chickenfoot': 5897, 'Mahogany Rush': 5898, 'Halford': 5899, 'Blue Murder': 5900, 'Bachman-Turner Overdrive': 5901, 'Captain Beyond': 5902, 'Ataraxia': 5903, 'Hearts Fail': 5904, 'Dead Leaf Echo': 5905, 'Unto Ashes': 5906, 'Blacklist': 5907, 'The Names': 5908, 'Shiloe': 5909, 'Romance': 5910, 'Catherine Wheel': 5911, 'Sad Lovers and Giants': 5912, 'The Chameleons': 5913, 'My Brightest Diamond': 5914, 'Joy Disaster': 5915, 'Scarlet Youth': 5916, 'The Comsat Angels': 5917, 'The Danse Society': 5918, 'Chants of Maldoror': 5919, 'The Passage': 5920, 'The Search': 5921, 'Narkotiki': 5922, 'Катя Чехова': 5923, 'Manicure': 5924, 'Peter Bjorn and John': 5925, 'The Sounds': 5926, 'Bang Gang': 5927, 'Sunshine': 5928, 'The Organ': 5929, 'Cheese People': 5930, 'Apartment': 5931, 'Pogo': 5932, 'Dasaev': 5933, 'Bonde do Rolê': 5934, 'A.F.I.': 5935, 'Sage Francis': 5936, 'Rev Theory': 5937, 'Revelation Theory': 5938, 'SR-71': 5939, 'Mercy Drive': 5940, 'Aubrey Ashburn': 5941, 'Civil Twilight': 5942, 'Divide The Day': 5943, 'Downstait': 5944, 'Evan Jones': 5945, 'Cage 9': 5946, 'LMFAO': 5947, 'Fefe Dobson': 5948, 'The White Tie Affair': 5949, 'Cash Cash': 5950, '1-800-ZOMBIE': 5951, 'The Stunners': 5952, 'Kid Sister': 5953, 'Tiffany Giardina': 5954, 'Prima J': 5955, 'Spongebob Squarepants': 5956, 'Priscilla Renea': 5957, 'The Summer Set': 5958, 'Jessie Malakouti': 5959, 'Hanni Kohl': 5960, 'House vs. Hurricane': 5961, 'Handshakes And Highfives': 5962, 'Dungeon Elite [**]': 5963, '100DEADRABBITS!!!': 5964, 'Bubblegum Octopus': 5965, 'Circa Survive': 5966, \"2 0' Clock Girlfriend\": 5967, 'Stray From the Path': 5968, 'Drop Dead, Gorgeous': 5969, 'iamerror': 5970, 'FlyKKiller': 5971, 'Mute Math': 5972, 'Angélica': 5973, 'Liah': 5974, \"Grey's Anatomy Cast\": 5975, 'Vespertine': 5976, 'Aiden Grimshaw': 5977, 'Neon Trees': 5978, 'Thiago Pethit': 5979, 'Anna Tsuchiya': 5980, 'Nathalie': 5981, 'Giuseppe Verdi': 5982, 'Marco Mengoni': 5983, 'Semi Precious Weapons': 5984, 'Alessandra Amoroso': 5985, 'Ke$ha - Dlera.Com': 5986, 'Hick': 5987, 'Nelly': 5988, 'Beyoncé e Alicia Keys': 5989, 'Ciara Ft The Dream': 5990, 'Beyoncé/Big Boi/Sleepy Brown': 5991, 'Kanye West, Beyoncé & Charlie Wilson': 5992, 'Shakira feat. Kid Cudi & Benny': 5993, 'Anda Adam': 5994, 'Sofia Nizharadze': 5995, 'Rhianna': 5996, 'Καιτη Γαρμπη': 5997, 'Madonna feat. Justin Timberlake': 5998, 'Zombie': 5999, 'LanzamientosMp3.es': 6000, 'Shamur': 6001, 'Juliana Pasha': 6002, 'ınna': 6003, 'Mr. Scruff': 6004, '110': 6005, 'Trading Yesterday': 6006, 'Michael Silverman': 6007, 'Innerpartysystem': 6008, 'Helia': 6009, 'Devil Sold His Soul': 6010, 'Nevea Tears': 6011, 'One Morning Left': 6012, 'Dividing The Line': 6013, 'Arsonists Get All The Girls': 6014, 'A Hope For Home': 6015, 'Greeley Estates': 6016, 'One Last Hero': 6017, 'A Black Rose Burial': 6018, 'Her Demise My Rise': 6019, 'The Beverly Secret': 6020, 'Many Things Untold': 6021, 'Belie My Burial': 6022, 'Aprildead': 6023, 'Oh The Blood': 6024, 'Abandon All Ships!': 6025, 'A Song For You My Dear': 6026, \"You Love Her Coz She's Dead\": 6027, 'The Handshake Affair': 6028, 'A Midsky Surrender': 6029, 'Antonio Meliveo': 6030, 'Valery & The Greedies': 6031, 'HEALTH': 6032, 'Татьяна Зыкина': 6033, 'Upstation': 6034, 'Magic Wands': 6035, 'Гайтана': 6036, 'Motorama': 6037, 'Gil Scott-Heron and Jamie xx': 6038, 'Handsome Furs': 6039, 'My Dad Is Dead': 6040, 'The Little Hands of Asphalt': 6041, 'Chinese Man': 6042, 'Birdy Nam Nam': 6043, 'old boy': 6044, 'Wax Tailor': 6045, 'Nujabes': 6046, 'Yuksek': 6047, 'Godspeed You! Black Emperor': 6048, 'Don Rimini': 6049, 'Tepr': 6050, 'Daniel Licht': 6051, 'E.S. Posthumus': 6052, 'DJ Mehdi': 6053, 'Goose': 6054, 'College': 6055, 'Frank Klepacki': 6056, 'Zodiac': 6057, '伊福部昭': 6058, 'Klaus Doldinger': 6059, \"Patrick O'Hearn\": 6060, 'J.S.R': 6061, 'Synergy': 6062, 'PUFFY': 6063, 'Nena': 6064, 'Men Without Hats': 6065, 'INTELLIGENTSIA': 6066, 'JSR': 6067, 'Jerry Martin': 6068, 'When in Rome': 6069, 'Animotion': 6070, 'Klaus Wunderlich': 6071, 'Shinji Miyazaki': 6072, 'Missing Persons': 6073, 'Pacific!': 6074, '坂本龍一': 6075, 'Huepow00': 6076, \"Martin O'Donnell & Michael Salvatori\": 6077, 'donkey kong country 2': 6078, 'Kanako Kakino': 6079, 'Akira Senju/Akira Senju': 6080, 'Powerglove': 6081, 'Huepow00 (DJ EAR)': 6082, 'Kenichiro Fukui': 6083, 'Eriko Imura': 6084, 'Jeff Williams': 6085, 'Safri Duo': 6086, 'EAR': 6087, 'Cruze & Breaks': 6088, 'Scott Brown': 6089, 'Kazuhiko Uehara, Harumi Ueko': 6090, \"Martin O'Donnell\": 6091, 'Stephen Rippy': 6092, 'Lee UHF & Andy Freestyle': 6093, 'Shirou Hamaguchi': 6094, 'Mutato Muzika': 6095, 'MegaDriver': 6096, '境亜寿香': 6097, 'George Carlin': 6098, 'Gammer': 6099, 'DJ Ear': 6100, 'Donkey Kong Country': 6101, 'Clay Moffatt': 6102, 'Katsuro Tajima': 6103, 'Global Stage Orchestra': 6104, 'Kanako Kakino, Yoshinori Kawamoto, Kazuhiro Nakamura': 6105, 'Eufeion': 6106, 'Junko Ozawa': 6107, 'Goemon Production Team': 6108, 'Yuji Masubuchi': 6109, 'Tetsukazu Nakanishi': 6110, 'SIGN/dot Hack/dot Hack': 6111, 'Styles & Breeze': 6112, 'Hiromi Shibano': 6113, 'Renard': 6114, 'Darwin & Fracus featuring Ant': 6115, 'Dougal & Gammer': 6116, 'DJ Kurt': 6117, 'Re-Con': 6118, 'Wanessa Camargo': 6119, 'CPM 22': 6120, 'Scracho': 6121, 'Madame Machado': 6122, 'Roupa Nova': 6123, 'Patrick Stump': 6124, 'Flyswatter': 6125, 'Helmet': 6126, 'Vanilla Sky': 6127, 'Sportfreunde Stiller': 6128, 'The Berzerker': 6129, 'Filter': 6130, 'Injected': 6131, 'Beeshop': 6132, 'Roadrunner United': 6133, 'Fair to Midland': 6134, 'The Jealous Sound': 6135, 'Your Yellow Dress': 6136, 'Antônio Carlos Jobim': 6137, 'Ola Podrida': 6138, 'The Nightwatchman': 6139, 'John Denver': 6140, 'Baden Powell': 6141, 'Benni Hemm Hemm': 6142, 'John Stoneham': 6143, 'Bowerbirds': 6144, 'Vierivä Viiksiportieeri': 6145, 'Sebadoh': 6146, 'Pública': 6147, 'Johnny Cash & Willie Nelson': 6148, 'Marbury': 6149, 'Tangerine Dream': 6150, 'Stars of the Lid': 6151, 'Atom™': 6152, 'Cluster': 6153, 'Keith Fullerton Whitman': 6154, 'Windy & Carl': 6155, 'Belong': 6156, 'Ignatz': 6157, 'Michael Rother': 6158, 'Eluvium': 6159, 'Loscil': 6160, 'Arvo Pärt': 6161, 'Pan•American': 6162, 'William Basinski': 6163, 'Aix Em Klemm': 6164, 'Ten Years After': 6165, 'Harmonia': 6166, 'Brian McBride': 6167, 'Morton Feldman': 6168, 'Labradford': 6169, 'Oren Ambarchi': 6170, 'Chamber Choir of Europe': 6171, 'Agitation Free': 6172, 'The Dead Texan': 6173, 'Peter Wright': 6174, 'Martin Budd': 6175, 'Penguin Cafe Orchestra': 6176, 'Chicane': 6177, 'Chihei Hatakeyama': 6178, 'Set Fire to Flames': 6179, 'Jona Lewie': 6180, 'Clannad': 6181, 'Grandaddy': 6182, 'The Incredible String Band': 6183, 'Thought Bandit': 6184, 'Christ.': 6185, 'Ugly Casanova': 6186, 'Jonny Greenwood': 6187, 'The Beta Band': 6188, 'Bibio': 6189, 'Lemon Jelly': 6190, 'Armor for Sleep': 6191, 'Carl Barât': 6192, 'Crazy Town': 6193, 'Leathermouth': 6194, 'Cock Sparrer': 6195, 'Box Car Racer': 6196, 'The Young Veins': 6197, 'Kettcar': 6198, 'The Vegas Wake Up': 6199, 'Böhse Onkelz': 6200, 'Flipsyde': 6201, 'The Veils': 6202, 'Delays': 6203, 'Shearwater': 6204, 'The Clientele': 6205, 'Fionn Regan': 6206, 'John Grant': 6207, 'Jacob Golden': 6208, 'School of Seven Bells': 6209, 'Girls': 6210, 'The Leisure Society': 6211, 'Puressence': 6212, 'Gravenhurst': 6213, 'Emily Haines & the Soft Skeleton': 6214, 'Villagers': 6215, 'Gliss': 6216, 'The Radio Dept.': 6217, 'The Bony King of Nowhere': 6218, 'Sad Day For Puppets': 6219, 'Johnny Flynn & the Sussex Wit': 6220, 'Jeremy Messersmith': 6221, 'Guillemots': 6222, 'The Automatic': 6223, 'Jenny Lewis': 6224, 'Head Automatica': 6225, 'N*E*R*D': 6226, 'Boy Kill Boy': 6227, 'Nightmare of You': 6228, 'Frightened Rabbit': 6229, '¡Forward, Russia!': 6230, 'The Perishers': 6231, 'BWO': 6232, 'Saving Jane': 6233, 'Оберманекен': 6234, 'Negative': 6235, 'BIANIK CITY': 6236, 'Nurzery [Rhymes]': 6237, 'Elin': 6238, 'Мастер': 6239, '7000$': 6240, 'Klaus Nomi': 6241, 'Кукрыниксы': 6242, 'Tiesto & Sneaky Sound System': 6243, 'I.F.K.': 6244, 'Мумий Тролль': 6245, 'Plazma': 6246, 'Sugarcult': 6247, 'nintendo ost': 6248, 'Theory of a Deadman': 6249, 'Globus': 6250, 'Art of Dying': 6251, 'Tyler Bates': 6252, 'Kiara Rocks': 6253, 'The Mayfield Four': 6254, 'Viewtiful Joe': 6255, 'Rob Zombie': 6257, 'Summoning': 6258, 'TSA': 6259, 'Simon LeBon': 6261, \"Girls Can't Catch\": 6262, 'Кипелов': 6263, 'Coroner': 6264, 'Найк Борзов': 6265, 'Blitzkrieg': 6266, 'ДДТ': 6267, 'Headhunter': 6268, 'Кипелов и Маврин': 6269, 'Дубинин, Холстинин': 6270, 'Grip Inc.': 6271, 'Юрий Шевчук': 6272, 'Samson': 6273, 'Музыка к фильму': 6274, 'Red Elvises': 6275, 'Tea': 6276, 'Sentinel': 6277, 'Lujuria': 6278, 'Aerobitch': 6279, 'Easy Rider': 6280, 'Grass': 6281, 'Mägo de Oz': 6282, 'Demonios': 6283, 'Avalanch': 6284, 'Piramid': 6285, 'Twilight': 6286, '3 Inches of Blood': 6287, 'Tech N9ne': 6288, 'Kataklysm': 6289, 'Persuader': 6290, 'Richie Sambora': 6291, 'Jon Bon Jovi': 6292, 'Straylight Run': 6293, 'Saves the Day': 6294, 'Pinback': 6295, 'Fanfarlo': 6296, 'Sondre Lerche': 6297, 'Something Corporate': 6298, 'Freelance Whales': 6299, 'Matt Costa': 6301, 'Jenny Lewis with The Watson Twins': 6302, 'Starfucker': 6303, 'Conor Oberst': 6305, 'The Good Life': 6307, 'Nick Lachey': 6308, 'Lady GaGa Ft. Beyoncé': 6309, 'Madonna & Justin': 6310, 'Brick & Lace': 6311, \"Che'nelle\": 6312, 'Pussycat Dolls': 6313, 'Jennifer Lopez ft. Pitbull': 6314, 'Aventura': 6317, 'Bárbara Muñoz': 6318, 'Franco de Vita': 6319, 'Danny!': 6320, 'The Pharcyde': 6321, 'The Foreign Exchange': 6322, 'X-Clan': 6323, '3rd Bass': 6324, 'Jungle Brothers': 6325, 'Shad': 6326, 'Da Lench Mob': 6327, 'Da Bush Babees': 6328, 'One Be Lo': 6329, 'J-Live': 6330, 'Ugly Duckling': 6331, 'Pete Rock': 6332, 'Quarteto em Cy': 6333, 'Son of Bazerk': 6334, 'El-P': 6335, 'NOMAK': 6336, 'Company Flow': 6337, 'Psyche Origami': 6338, 'Pete Rock & C.L. Smooth': 6339, 'The Last Poets': 6340, 'Prince Paul': 6341, 'Dream Warriors': 6342, 'Brother Ali': 6343, 'eMC': 6344, 'Little Dragon': 6345, 'Soulja Boy': 6346, 'Shu-Bi-Dua': 6347, 'Dizzy Mizz Lizzy': 6348, 'De Nattergale': 6349, 'TV-2': 6350, 'Tina Dickow': 6351, 'Kim Larsen & Kjukken': 6352, 'Kim Larsen': 6353, 'Four Jacks': 6354, 'Lars Lilholt': 6355, \"Dodo And The Dodo's\": 6356, 'Celina Ree': 6357, 'Peter Belli': 6358, 'Inside the Whale': 6359, 'Jive Bunny & The Mastermixers': 6360, 'Press Play on Tape': 6361, 'Slade': 6362, 'The Blues Brothers': 6363, 'Kim Larsen & Bellami': 6364, 'Magtens Korridorer': 6365, 'Anders \"Anden\" Matthesen´s': 6366, 'Hayseed Dixie': 6367, 'Anna David': 6368, 'The Storm': 6369, 'Simone': 6370, 'DR Julekalendere': 6371, 'Julie': 6372, 'Tyler Adam': 6373, 'Peaches': 6374, 'Ray J': 6375, 'Missy Elliott': 6376, 'Timbaland & Magoo': 6377, 'Marsha Ambrosius': 6378, 'Kiley Dean': 6379, 'Fagget Fairys': 6380, 'James Fauntleroy': 6381, 'Coconut Records': 6382, 'Mya': 6383, 'Ginuwine': 6384, 'Tweet': 6385, 'Lonny Breaux': 6386, 'Bubba Sparxxx': 6387, 'Lisa \"Left Eye\" Lopes': 6388, 'Robin Thicke': 6389, 'Bear McCreary': 6390, 'The Living End': 6391, 'Kevin Riepl': 6392, 'Sam Hulick': 6393, 'Jack Wall': 6394, 'Cold Chisel': 6395, 'Bill Brown': 6396, 'Harry Gregson-Williams': 6397, 'Joel Goldsmith': 6398, 'Jimmy Barnes': 6399, 'Powderfinger': 6400, 'Jason Hayes': 6401, 'Grinspoon': 6402, 'The Highwaymen': 6403, 'Nobukazu Takemura': 6404, 'Lullatone': 6405, 'Cornelius': 6407, '嶺川貴子': 6408, 'Black Moth Super Rainbow': 6409, 'Grouper': 6410, 'Asobi Seksu': 6414, 'Dosh': 6416, 'Mirah': 6417, 'Superchunk': 6421, 'Mates of State': 6422, 'Cloud Cult': 6424, 'Meryl Streep': 6426, 'Romy Low': 6427, 'RuPaul': 6428, 'Kate Ryan': 6429, 'Chris Colfer': 6430, 'ПопКорн': 6431, 'Marakesh': 6432, 'THE JAVERS': 6433, 'Dozavtra': 6434, 'Ideя Fix': 6435, \"medusa'scream\": 6436, 'Ангус': 6437, 'Larespark': 6438, 'Animal ДжаZ': 6439, 'Kambodge': 6440, 'Nuteki': 6441, 'Сюрприз': 6442, 'Angus': 6443, 'When Roses Die': 6444, 'Multipass': 6445, 'Сэйсорри': 6446, 'Слёзы Эмили': 6447, 'Blood on the Dance Floor': 6448, 'Провода': 6449, 'The Dangerous Summer': 6450, 'ГДР': 6451, 'Everclear': 6452, 'The Academy Is...': 6453, 'Anna Nalick': 6454, 'Adrian Johnston': 6455, 'Megan McCauley': 6456, 'The Abbey School Choir': 6457, 'The Ronettes': 6458, 'Selena': 6459, 'The J. Geils Band': 6460, 'I Am Ghost': 6461, 'G. Love & Special Sauce': 6462, 'Manchester Orchestra': 6463, '1990s': 6464, 'Onision': 6465, 'Groundation': 6466, 'Dezarie': 6467, 'song': 6468, 'Mato Seco': 6469, 'Planta e Raiz': 6470, 'Sem Compromisso': 6471, 'Djavan': 6472, 'Edu ribeiro': 6473, 'Filosofia Reggae': 6474, 'Leões de Israel': 6475, 'Trio Virgulino': 6476, 'Circuito Reggae 12': 6477, 'Banda Realize': 6478, 'Fundo de Quintal': 6479, 'Victor & Leo': 6480, 'Maria Rita (Samba Meu 2008)': 6481, 'Trio Virgulino - forrotemquesercoladinho.blogspot.com': 6482, 'Falamansa': 6483, 'Tribo De Jah': 6484, 'circuito reggae 11': 6485, 'Circuladô de Fulô': 6486, 'Alceu Valença': 6487, \"Hobson's Choice\": 6488, 'Dubioza Kolektiv': 6489, 'Đubrivo': 6490, 'Kultur Shock': 6491, 'Defence': 6492, 'Legion of the Damned': 6493, 'Bogamber': 6494, 'D.O.A.': 6495, 'Brain Forest Rytual': 6496, '王菲': 6497, '盧巧音': 6498, '莫文蔚': 6499, 'Ibrahim Ferrer': 6500, 'Jesse Cook': 6501, '陳奕迅': 6502, 'Armik': 6503, 'Jon Secada': 6504, 'Estopa': 6505, 'Paco de Lucía': 6506, '蕭亞軒': 6507, 'S.H.E': 6508, 'Domo': 6509, '楊千嬅': 6510, 'Piero Mazzocchetti': 6511, '徐懷鈺': 6512, '周華健': 6513, '伍佰': 6514, 'Валерий Леонтьев': 6515, 'Chambao': 6516, 'Κώστας Μαρτάκης': 6517, 'Alejandro Magno': 6518, '孫燕姿': 6519, 'Иракли': 6520, 'Miranda': 6521, 'Miguel Bosé': 6522, 'Angelfish': 6523, 'Mirror': 6524, 'Ensemble Orchestral Synaxis': 6525, 'Los Prisioneros': 6526, 'Miranda!': 6527, 'The Wanted': 6528, 'Natalia Lafourcade': 6529, 'Dirt Nasty': 6530, 'Bratmobile': 6531, '7 Year Bitch': 6532, 'Beauti': 6533, '2ois': 6534, 'Dominatrix': 6535, 'Granada': 6536, 'Runaways': 6537, 'O Surto': 6538, 'Juliette and The Licks': 6539, 'Hans Zimmer & James Newton Howard': 6540, 'Jeff Beck': 6541, 'Angelspit': 6542, 'Millionaires': 6543, 'Freezepop': 6544, 'Zee Avi': 6545, 'Die So Fluid': 6546, 'Blaqk Audio': 6547, 'I:Scintilla': 6548, 'Crispin Hellion Glover': 6549, 'Bitch Brigade': 6550, 'Jakalope': 6551, 'Cady Groves': 6552, 'Darkbuster': 6553, 'Allister': 6554, 'Fertig, Los!': 6555, 'The Lemonheads': 6556, 'Üebermutter': 6557, 'American Hi-Fi': 6558, 'Abrasive Wheels': 6559, 'Good Riddance': 6560, 'Jimmy And The Punks': 6561, 'Electrik Red': 6562, 'Светлана Лобода': 6563, 'En Vogue': 6564, 'Club RАЙ': 6565, 'Brooke Valentine': 6566, 'Diddy': 6567, 'Khia': 6568, '3': 6569, 'Oceansize': 6570, 'Adrian Belew': 6571, 'Gavin Harrison & 05Ric': 6572, 'Giles, Giles & Fripp': 6573, 'Demians': 6574, \"Fredrik Thordendal's Special Defects\": 6575, 'Enslaved': 6576, 'Astra': 6577, 'blld': 6578, 'Beardfish': 6579, 'Tracey Thorn': 6580, 'RJD2': 6581, 'Ulrich Schnauss': 6582, 'Cut Chemist': 6583, 'Palos De Fuego': 6584, 'Gus Gus': 6585, 'Giorgio Moroder': 6586, 'Screaming Females': 6587, 'Dorothy Ashby': 6588, 'Jonathan Goldman': 6589, 'CJ Holland': 6590, 'Lina Morgana': 6591, 'Lelia Broussard': 6592, 'Port Blue': 6593, 'The Secret Handshake': 6594, 'The Downtown Fiction': 6595, 'Kill Paradise': 6596, 'Rediscover': 6597, 'Breathe Electric': 6598, 'Show Me The Skyline': 6599, 'The Rocket Summer': 6600, 'Artist Vs. Poet': 6601, 'Mae': 6602, 'The Bigger Lights': 6603, 'Swimming With Dolphins': 6604, 'Call the Cops': 6605, 'Boys Will Be Boys': 6606, 'HeyHiHello!': 6607, 'My Favorite Highway': 6608, 'The Title': 6609, 'Goodnight Sunrise': 6610, \"Let's Get It\": 6611, 'Chase Coy': 6612, 'Holiday Parade': 6613, 'There For Tomorrow': 6614, 'PlayRadioPlay!': 6615, 'Red Car Wire': 6616, 'Sparks The Rescue': 6617, 'D12': 6618, 'Obie Trice': 6619, 'Young Buck': 6620, 'Xzibit': 6621, 'Tony Yayo': 6622, 'Cashis': 6623, 'Eminem & Royce Da 5\\'9\"': 6624, 'DJ Whoo Kid & Tony Yayo': 6625, 'DMX': 6626, 'Stat Quo': 6627, '50 Cent, Eminem, Ca$his & Lloyd Banks': 6628, 'Method Man & Redman': 6629, 'Westside Connection': 6630, 'Fabolous': 6631, 'Proof': 6632, 'Three 6 Mafia': 6633, 'Benzino': 6634, 'Trick Trick': 6635, \"Lil' Scrappy\": 6636, 'Afroman': 6637, 'Noel Rosa': 6638, 'Os Seminovos': 6639, 'Carmen Miranda': 6640, 'Luigi Tenco': 6641, 'Dorival Caymmi': 6642, 'Samba Maria': 6643, 'Garfunkel and Oates': 6644, 'Meiko Kaji': 6645, 'Xuxa Verde': 6646, 'Luxúria': 6647, 'Ordo Rosarius Equilibrio': 6648, 'Karjalan Sissit': 6649, 'Dernière Volonté': 6650, 'Blood Axis': 6651, 'Der Blutharsch': 6652, 'A Challenge of Honour': 6653, 'Allerseelen': 6654, 'Desiderii Marginis': 6655, 'In Slaughter Natives': 6656, 'Of the Wand and the Moon': 6657, 'Lifelover': 6658, 'Atrium Carceri': 6659, 'Von Thronstahl': 6660, 'Velvet Cacoon': 6661, 'Sieben': 6662, 'Naevus': 6663, 'Sonne Hagal': 6664, 'Der Blaue Reiter': 6665, 'Deutsch Nepal': 6666, 'Spiritual Front': 6667, 'Leger des Heils': 6668, 'Front Sonore': 6669, 'Ghosts of Breslau': 6670, 'Sol Invictus': 6671, 'Darkwood': 6672, 'Boyd Rice and Friends': 6673, 'Ordo Rosarius Equilibrio & Spiritual Front': 6674, 'Kammarheit': 6675, \"raison d'être\": 6676, 'Bif Naked': 6677, 'The John Butler Trio': 6678, 'Claude-Michel Schönberg': 6679, 'Harry and the Potters': 6680, 'The Cloud Room': 6681, 'Albert Alexander': 6682, 'Talkdemonic': 6683, 'Showtime Cast': 6684, 'The Ditty Bops': 6685, 'Intermediate Japanese': 6686, 'The Unicorns': 6687, 'Matt Caplan': 6688, 'KABRIANA': 6689, 'Livvi Franc': 6690, 'Edward Maya & Mia Martina': 6691, 'Blackfrost of WHP': 6692, 'Kevin Rudolf': 6693, 'Maino': 6694, 'Super8 & Tab': 6695, 'Mara Maravilha': 6696, 'Dana International': 6697, 'Laura Branigan': 6698, 'Deniece Williams': 6699, 'Blue Angel': 6700, 'Cristina Mel': 6701, 'Anna Nicole Smith': 6702, 'Frida': 6703, 'Victoria Silvstedt': 6704, 'Arabesque': 6705, 'Cassiane': 6706, 'Angel X': 6707, 'Boney M.': 6708, 'Per Gessle': 6709, 'Carly Simon': 6710, 'Espen Lind': 6711, 'Célia Sakamoto': 6712, 'Aline Barros': 6713, 'Belinda Carlisle': 6714, 'Elaine De Jesus': 6715, 'Eduardo Verastegui': 6716, 'Benny Ibarra': 6717, 'Eyshila': 6718, 'Tagträumer': 6719, 'As Marcianas': 6720, 'Daniela Mercury': 6721, 'Air Supply': 6722, 'Cídia e Dan': 6723, 'John Frusciante': 6724, 'Albert Hammond, Jr.': 6726, 'James': 6728, 'Voicst': 6729, 'Mark Lanegan': 6730, 'Big Country': 6732, 'Savoy': 6733, 'Then Jerico': 6734, 'Brother Beyond': 6735, \"T'Pau\": 6736, 'Wet Wet Wet': 6737, 'Josh Logan': 6738, 'Magne F': 6739, 'Haircut 100': 6740, 'Bridges': 6741, 'Propaganda': 6742, 'Aztec Camera': 6743, 'Timbersound': 6744, 'Drum Theatre': 6745, 'Dogs Die in Hot Cars': 6746, 'FSB': 6747, 'Axel Rudi Pell': 6748, 'Isihia': 6749, 'Gravity Co.': 6750, 'Epizod': 6751, 'Biomechanical': 6752, 'Animassacre': 6753, 'Level 70 Elite Tauren Chieftain': 6754, 'Kellplanet': 6755, 'Amiina': 6756, 'port-royal': 6757, 'Stafrænn Hákon': 6758, 'This Will Destroy You': 6759, 'Conjure One': 6760, 'Gregor Samsa': 6761, 'Helios': 6762, 'Susumu Yokota': 6763, 'Harold Budd': 6764, 'The Dear Hunter': 6765, 'Envy on the Coast': 6766, 'UnderØath': 6767, 'The Sleeping': 6768, 'Cartel': 6769, 'The Audition': 6770, \"Gatsby's American Dream\": 6771, 'Emery': 6772, 'Say Anything': 6773, 'Edison Glass': 6774, 'Harry Potter audio books': 6775, 'Book of Love': 6776, 'Olivia Newton-John': 6777, 'Boy George': 6778, 'Josie Cotton': 6779, 'Altered Images': 6780, 'Jane Wiedlin': 6781, 'Tim Finn': 6782, 'Stimulator': 6783, 'Squeeze': 6784, 'VHS or Beta': 6785, 'Liam Finn': 6786, 'The Swingers': 6787, 'Schnell Fenster': 6788, 'Passengers': 6789, 'John Taylor': 6790, 'Phil Judd': 6791, 'Hateen': 6792, 'Under Line': 6793, 'Drive': 6794, 'Leela': 6795, 'Fatale': 6796, 'Torture Killer': 6797, 'Shade Empire': 6798, 'Fractal Gates': 6799, 'Scorngrain': 6800, 'Kill the Romance': 6801, 'Breach The Void': 6802, 'Pulse Ultra': 6803, 'Herrschaft': 6804, 'Rotten Sound': 6805, 'Fear Of Domination': 6806, 'Goresoerd': 6807, 'Grave': 6808, 'Asphyx': 6809, 'The Sin:Decay': 6810, 'Zonaria': 6811, 'UnSun': 6812, 'Illdisposed': 6813, 'The Zombi': 6814, 'Deathchain': 6815, 'Dying Fetus': 6816, 'Vomitory': 6817, 'Belphegor': 6818, 'Clawfinger': 6819, 'Universum': 6820, 'Satariel': 6821, 'Hateform': 6822, 'Clinic': 6823, 'Guided by Voices': 6824, 'Arj Barker, Doug Benson & Tony Camin': 6825, 'Todd Glass': 6826, 'The Nation of Ulysses': 6827, 'The Fucking Champs': 6828, 'Scharpling & Wurster': 6829, 'Pelican': 6830, 'Esquivel': 6831, 'Chisel': 6832, 'The Wedding Present': 6833, 'Patton Oswalt': 6834, 'mclusky': 6835, 'Ted Leo and The Pharmacists': 6836, 'Oh, Sleeper': 6837, 'Amanda Woodward': 6838, 'Children of Fall': 6839, 'Dylan & Robyn Chaos': 6840, 'Soularis': 6841, 'The Four. Slam!': 6842, 'Rashamba': 6843, 'Chaos of the heart': 6844, '.crrust': 6845, 'Rosaline': 6846, 'White Rose Movement': 6847, 'Беременный Трамвайчик': 6848, 'Stretch Arm Strong': 6849, 'Such a Beautiful Day': 6850, 'Antonio Birabent': 6851, 'The Charlatans': 6852, 'Alexi Murdoch': 6853, 'Robert Gordon': 6854, 'Patricio Rey y sus Redonditos de Ricota': 6855, 'Jeanette': 6856, 'Grégory Lemarchal': 6857, 'Andrew Lawson': 6858, 'Antti Tuisku': 6859, 'Declan Galbraith': 6860, 'Jessica Mauboy': 6861, 'Hanna Pakarinen': 6862, 'Sibel': 6863, 'Дмитрий Колдун': 6864, 'Dean Geyer': 6865, 'Jedward': 6866, 'Linda Teodosiu': 6867, 'Gjoko Taneski': 6868, 'Jason Castro': 6869, 'Dioxyde': 6870, 'Aslan Faction': 6871, 'Die Sektor': 6872, 'Alien Vampires': 6873, 'FGFC820': 6874, 'Nachtmahr': 6875, 'Heimataerde': 6876, 'Life Cried': 6877, 'Soman': 6878, 'Uberbyte': 6879, 'Wax': 6880, 'Modulate': 6881, 'Distorted Memory': 6882, 'Modern English': 6883, 'Go West': 6884, 'Papoose': 6885, 'Styles P': 6886, 'AZ': 6887, 'M.O.P.': 6888, 'Cassidy': 6889, 'A-Team': 6890, 'Re-Up Gang': 6891, 'The LOX': 6892, 'Memphis Bleek': 6893, 'Cuban Link': 6894, 'Beanie Sigel': 6895, 'Saigon': 6896, 'Cormega': 6897, 'Ali Vegas': 6898, 'J.R. Writer': 6899, 'The Alchemist': 6900, 'Big L': 6901, 'Clipse': 6902, 'Twista': 6903, 'Children of the Corn': 6904, 'Freeway': 6905, 'Owen': 6906, 'Keaver & Brause': 6907, 'Dining With The Bolsheviks': 6908, 'Kona Triangle': 6909, 'The Books': 6910, 'Joan of Arc': 6911, 'Malk De Koijn': 6912, 'Spleen United': 6913, 'Sharon Jones and the Dap-Kings': 6914, 'Hercules and Love Affair': 6915, 'Pryda': 6916, 'L.O.C.': 6917, 'The Wong Boys': 6918, 'Tommy Sparks': 6919, 'Glasvegas': 6920, 'The Blue Van': 6921, 'The Broken Beats': 6922, 'A': 6923, 'Ten Sharp': 6924, 'Andru Donalds': 6925, 'Color Theory': 6926, 'Jonteknik featuring Martyn Bailey': 6927, 'Kristian Valen': 6928, 'LOVE IS REASON': 6929, 'Jay-Jay Johanson': 6930, 'Kurt Nilsen': 6931, 'A-Ha - www.power-portal.to': 6932, 'Bloom 06': 6933, 'Morten Harket/Earth Affair': 6934, 'YeDish': 6935, 'Eirik Hansen og Ove Randow': 6936, 'Beat Factory': 6937, 'Atlantic Popes': 6938, 'Marian Gold': 6939, 'The Twins': 6940, 'earth affair feat. morten harket': 6941, 'Film Symphomy Orchestra Praha': 6942, 'Janusz Radek': 6943, 'Gabry Ponte': 6944, 'Kara Güneş': 6945, 'Kesmeşeker': 6946, 'Kazım Koyuncu': 6947, 'Norrda': 6948, 'Yonderboi': 6949, 'Jim Morrison': 6950, 'Gevende': 6951, 'Siya Siyabend': 6952, 'Anima': 6953, 'Koptu Kervan': 6954, 'Karapaks': 6955, 'Nekropsi': 6956, 'Steve Vai': 6957, 'Robert Cray': 6958, 'Gary Moore': 6959, 'Tony Gatlif': 6960, 'Grup Yorum': 6961, 'Troum': 6962, 'Halo Manash': 6963, 'Aeoga': 6964, 'Exit in Grey': 6965, 'Yen Pox': 6966, 'Maeror Tri': 6967, 'MIGUEL A. RUIZ': 6968, 'Archon Satani': 6969, 'Blood Box': 6970, 'Pneumatic Detach': 6971, 'Rukkanor': 6972, 'MZ.412': 6973, 'Brighter Death Now': 6974, 'Haus Arafna': 6975, 'kirov orchestra': 6976, 'Morgenstern': 6977, \"Raison d'ętre\": 6978, 'Arditi': 6979, 'Between Interval': 6980, 'Thomas Köner': 6981, 'Staruha Mha': 6982, 'Cock and Ball Torture': 6983, 'Hideg Roncs': 6984, 'Asmorod': 6985, '_Algol_': 6986, 'Contagious Orgasm': 6987, 'Flint Glass': 6988, 'Endura': 6989, 'Robert Rich': 6990, 'Psychic Ills': 6991, 'Carburator vs. Dark Clitoris Philosofum': 6992, 'Letum': 6993, 'Nega': 6994, 'DELUHI': 6995, 'lynch.': 6996, 'The Casualties': 6997, '愛狂います。': 7002, 'Infernal War': 7003, 'De-Phazz': 7007, 'Пилот': 7008, 'Rachel Portman': 7009, 'Magnitarus': 7010, 'Blind Divine': 7011, 'Ab Ovo': 7012, 'Lusine ICL': 7013, 'Phaeleh': 7014, 'All India Radio': 7015, 'Bad Sector': 7016, 'H.U.V.A. Network': 7017, 'Hol Baumann': 7018, 'Silencide': 7019, 'ksandr and I.M.M.U.R.E.': 7020, 'Aes Dana': 7021, 'Noto': 7022, 'Oval': 7023, 'Jagjit Singh': 7024, 'Anúna': 7025, 'Nino Katamadze': 7026, 'Spiraal Aurel': 7027, 'R.D.Burman': 7028, 'Asura': 7029, 'Si': 7030, 'ksandr': 7031, 'Nina Karlsson': 7032, 'EugeneKha': 7033, 'Alva Noto + Ryuichi Sakamoto with Ensemble Modern': 7034, 'Orsten': 7035, 'Arbre Noir': 7036, 'Komet': 7037, 'Akurat': 7038, 'Big Brother & The Holding Company': 7039, 'Leniwiec': 7040, 'USA for Africa': 7041, 'Wilki': 7042, 'Coven': 7043, 'Kotiteollisuus': 7044, 'Black Widow': 7045, 'Klamydia': 7046, 'Pentagram': 7047, 'Jimmy Page': 7048, 'Phideaux': 7049, 'Coverdale/Page': 7050, 'OSI': 7051, \"King's X\": 7052, 'Alamaailman Vasarat': 7053, 'The Alan Parsons Project': 7054, 'Shining': 7055, 'B.B. King': 7056, 'Le Orme': 7057, 'Anja Garbarek': 7058, 'Sylvan': 7059, 'Jaga Jazzist': 7060, 'Bonde da Stronda': 7061, 'Deja Vue': 7062, \"Katherine's Favorites\": 7063, 'The K': 7064, 'The \"K\"': 7065, 'Crown Electric Company': 7066, 'The K.O. Kid': 7067, 'Alison Moyet': 7068, 'The Blow Monkeys': 7069, 'Imagination': 7070, 'The Teenagers': 7071, 'Pornomotora': 7072, 'Kinky': 7073, 'British Sea Power': 7074, 'Mylo': 7075, 'Gang of Four': 7076, 'Babasónicos': 7077, 'Zeromancer': 7078, 'Moderat': 7079, 'Snog': 7080, 'Tomahawk': 7081, 'Meg Lee Chin': 7082, 'Rapazolla': 7083, 'Hugo Pena & Gabriel': 7084, 'João Neto & Frederico': 7085, 'Hori': 7086, 'Maria Cecília e Rodolfo AO VIVO': 7087, 'Gusttavo Lima': 7088, 'Cheiro de Amor . Acústico': 7089, 'Estudio Base': 7090, 'Michel Teló': 7091, 'Jorge e Mateus (Ao Vivo 2009)': 7092, 'Belo': 7093, 'Jammil e uma Noites': 7094, 'Diwali & Bonde da Stronda': 7095, 'Michael Nyman': 7096, 'Rata Blanca': 7097, 'WarCry': 7098, 'Amberian Dawn': 7099, 'Haggard': 7100, 'Shaman': 7101, 'Kathleen Battle': 7102, 'Brother Firetribe': 7103, 'Barilari': 7104, 'Anneke van Gierbergen & Agua d': 7105, 'Nightwish - Helsinki 2007': 7106, 'Saratoga': 7107, 'Tierra Santa': 7108, 'Sumi Jo': 7109, 'Nuclear Blast Allstars': 7110, 'Gabriel Fauré': 7111, 'Hardline': 7112, 'Dark Age': 7113, 'Carach Angren': 7114, 'Mors Principium Est': 7115, 'Eternal Tears of Sorrow': 7116, 'Sebastian Bach': 7117, 'Keep of Kalessin': 7118, 'Johannes Brahms': 7119, 'Тараканы!': 7120, \"Billy's Band\": 7121, '天門': 7122, 'Chet Baker': 7123, '川井憲次': 7124, 'Single Cell Orchestra': 7125, 'The Seatbelts': 7126, 'Carlos Santana': 7127, 'David Holmes': 7128, 'Grand Avenue': 7129, 'Joe Dassin': 7130, 'Ann Lee': 7131, 'Anna Reynolds, Philip Langridge; Neville Marriner: Academy Of St. Martin In The Fields': 7132, 'Afro Celts': 7133, 'Roberto Paternostro: Berlin Radio Symphony Orchestra': 7134, 'Strauss Family': 7135, 'Anna Jantar': 7136, 'Yael Naim': 7137, 'Band Aid': 7138, 'The Motherhood': 7139, 'Eva Cassidy': 7140, 'Hyper vs. the Crystal Method': 7141, 'Afro Celt Sound System': 7142, 'Gomez': 7143, 'Camper Van Beethoven': 7144, 'Robyn Hitchcock': 7145, 'Cracker': 7146, 'My Morning Jacket': 7147, 'John Barry': 7148, 'Spouse': 7149, 'Mystics Anonymous': 7150, 'Sloan': 7151, 'Thomas Newman': 7152, 'Cowboy Junkies': 7153, 'Robyn Hitchcock and The Egyptians': 7154, 'Luna': 7155, 'Jerry Goldsmith': 7156, 'Loreena McKennitt': 7157, 'Junya Nakano, Masashi Hamauzu & Nobuo Uematsu': 7158, '崎元仁': 7159, '下村陽子': 7160, 'Nature Sound Collection': 7161, 'Nature Ambience': 7162, 'Pupa': 7163, 'Lee Holdridge': 7164, '湯川潮音': 7165, 'AmIEvil': 7166, 'Michael Stearns': 7167, 'Na Fili': 7168, 'Noel Quinlan': 7169, '浜渦正志': 7170, 'Nature Sounds': 7171, 'Enam': 7172, 'Doug Carroll': 7173, 'Loveholic': 7174, '志方あきこ': 7175, 'Chuck Jonkey': 7176, 'Cage the Elephant': 7177, 'Nine Black Alps': 7178, 'Eight Legs': 7179, 'The Rifles': 7180, 'Harlem': 7181, 'The Fashion': 7182, 'Carolina Liar': 7183, 'Goldheart Assembly': 7184, 'The Morning Benders': 7185, 'Reverend and The Makers': 7186, 'Hard-Fi': 7187, 'The Airborne Toxic Event': 7188, 'The Broken West': 7189, 'The View': 7190, 'Nemesea': 7191, 'Umbanda': 7192, 'Sonique': 7193, 'Aqualung': 7194, 'Rita Ribeiro': 7195, 'La Rue Kétanou': 7196, 'Renaud': 7197, 'Ridan': 7198, 'Déportivo': 7199, 'La Tordue': 7200, \"Lo'Jo\": 7201, 'Gérard Blanchard': 7202, 'Tryo': 7203, 'Mes Souliers Sont Rouges': 7204, 'Jacques Higelin': 7205, 'Georges Brassens': 7206, 'Les Wriggles': 7207, 'Boris Vian': 7208, 'Les Blérots de R.A.V.E.L': 7209, 'Batlik': 7210, 'Olivia Ruiz': 7211, 'Hubert-Félix Thiéfaine': 7212, 'Java': 7213, 'Téléphone': 7214, 'Jean-Louis Aubert': 7215, 'Alexis HK': 7216, 'Matmatah': 7217, 'Teri Moïse': 7218, 'Louise Attaque': 7219, 'Les VRP': 7220, 'Léo Ferré': 7221, 'The Krewmen': 7222, 'Didier Super': 7223, 'The Brian Setzer Orchestra': 7224, 'Tom Poisson': 7225, 'Chamboultou': 7226, 'Alain Bashung': 7227, 'Boby Lapointe': 7228, 'Tété': 7229, 'Allain Leprest': 7230, 'Laurent Voulzy': 7231, 'Jean-Jacques Goldman': 7232, 'Alain Souchon': 7233, 'Les Garçons Bouchers': 7234, 'Brian Setzer': 7235, 'Soldat Louis': 7236, 'Luke': 7237, 'Cali': 7238, 'Stray Cats': 7239, 'Marcel et son Orchestre': 7240, 'Marc Lavoine': 7241, 'Stephan Eicher': 7242, 'Emmy Rossum': 7243, 'English Chamber Orchestra/Jean-Yves Thibaudet': 7244, 'Sam Phillips': 7245, 'Emmy Rossum & Gerard Buttler': 7246, 'Minnie Driver': 7247, 'Joe Cocker': 7248, 'Paulo César Baruk': 7249, 'Jack Black': 7250, 'Komeda': 7251, 'Fernanda Brum': 7252, 'Wax Poetic': 7253, 'Harry Potter Movie Theme': 7254, 'Michael Dulin': 7255, 'Adiemus': 7256, 'Tuck Everlasting Soundtrack': 7257, 'Ayakashi Japanese Classic Horror': 7258, 'Gil Scott-Heron': 7259, 'Flogging Molly': 7260, 'Vega': 7261, 'Duman': 7262, 'Cruachan': 7263, 'Daniel Johnston': 7264, 'Bill Hicks': 7265, 'Pete Townshend': 7266, 'Junichi Masuda, Go Inchinose': 7267, 'Alex Gaudino': 7268, 'Black Cards': 7269, 'Dj Rafael Lelis': 7270, 'Annie Stela': 7271, 'Jenny Owen Youngs': 7272, 'Damhnait Doyle': 7273, 'Ben Lee': 7274, 'Carly Rae Jepsen': 7275, 'Anya Marina': 7276, 'Cory Lee': 7277, 'Lex Land': 7278, 'Terra Naomi': 7279, 'Toby Lightman': 7280, 'Erin McKeown': 7281, 'Katie Costello': 7282, 'Krezip': 7283, 'Kendall Payne': 7284, 'Rosey': 7285, 'Chantal Kreviazuk': 7286, 'Charlotte Martin': 7287, 'Erin McCarley': 7288, 'Bree Sharp': 7289, 'Lucie Silvas': 7290, 'Elise Estrada': 7291, 'Lene': 7292, 'David Vendetta': 7293, 'Buy Now': 7294, 'Atrocite feat. Mque': 7295, 'Erick E': 7296, 'Chris Lake': 7297, 'Axwell': 7298, 'S and H Project': 7299, 'Axwell & Dirty South feat. Rudy': 7300, 'Ian Carey': 7301, 'Gaelle': 7302, 'Punch Exciters': 7303, 'Steve Angello & Laidback Luke': 7304, 'Chris Lake & Micky Slim': 7305, 'Jack White & Alicia Keys': 7306, 'Wideboys feat. Shaznay Lewis': 7307, 'Steve Angello & Sebastian Ingrosso': 7308, 'Robin S vs Steve Angello & Laidback Luke': 7309, 'David Vendetta vs. Keith Thompson': 7310, '129- FLY PROJECT & TOM BOXER & ANCA PARGHEL': 7311, 'Âme': 7312, 'Selda': 7313, 'Didier Sinclair feat. Lidy V': 7314, 'Yves Larock': 7315, 'Rank 1': 7316, \"Who's Who\": 7317, 'Matt Nathanson': 7318, 'Frank Turner': 7319, 'The Holloways': 7320, 'Howie Day': 7321, 'Cidadão Quem': 7322, 'Get Cape. Wear Cape. Fly': 7323, 'Empire of the Sun': 7324, 'Elastica': 7325, 'Plan B': 7326, 'The Black Ghosts': 7327, 'Sugar Kane': 7328, 'Goldfinger': 7329, 'Pelebrói Não Sei?': 7330, 'Suicidal Tendencies': 7331, 'The Dirty Heads': 7332, 'Transplants': 7333, 'Relespública': 7334, 'OSKÃO': 7335, 'Ballyhoo!': 7336, 'Long Beach Dub All Stars': 7337, 'Pepper': 7338, 'AbraSKAdabra': 7339, 'Jay Sean': 7340, 'Eläkeläiset': 7341, 'Wall of Voodoo': 7342, 'Fad Gadget': 7343, 'Boytronic': 7344, 'Pete Shelley': 7345, 'The Icicle Works': 7346, 'Blancmange': 7347, 'Brigitte Bardot': 7348, 'Oh Land': 7349, 'Zaza Fournier': 7350, 'Mademoiselle K': 7351, 'Madeleine Peyroux': 7352, 'Eiffel': 7353, 'Madsen': 7354, 'Naast': 7355, 'Limp Wrist': 7356, 'Plasmatics': 7357, 'Ежи И Петруччо': 7362, 'Ежи и Петруччо': 7363, '7Б': 7364, 'Иван Купала': 7365, 'Маша и Медведи': 7366, 'эСМэС': 7367, 'Приключения Электроников': 7368, 'Жанна Агузарова': 7369, 'Bugotak': 7370, 'Майя Кристалинская': 7371, 'МС Вспышкин': 7372, 'Ёлочные Игрушки': 7373, 'Polvo': 7374, 'Shellac': 7375, 'Slint': 7376, 'LITE': 7377, 'S.O.M.A.': 7378, 'Amusement Parks on Fire': 7379, 'Herod Layne': 7380, 'Killing Chainsaw': 7381, 'Efterklang': 7382, 'Gray Strawberries': 7383, 'Lisabö': 7384, 'The Benedictine Monks of Santo Domingo De Silos': 7385, 'Igorrr': 7386, 'Glenn Branca': 7387, 'Scratch Acid': 7388, 'U.D.R.': 7389, 'Vanilla Ninja': 7390, 'Zac Efron': 7391, 'Zac Efron and Cast': 7392, 'Bianca Ryan': 7393, 'Clique Girlz': 7394, 'Amy Diamond': 7395, 'Troy & Gabriella': 7396, 'Alyson Stoner': 7397, 'Hairspray': 7398, 'Emma Roberts': 7399, 'Disney Channel Circle of Stars': 7400, 'Connie Talbot': 7401, 'Madeline Powell': 7402, 'Gabriella': 7403, \"K's Choice\": 7404, 'Ken Kolodner, Laura Risk, Robin Bullock.': 7405, 'Fountains of Wayne': 7406, 'Meat Puppets': 7407, 'George Thorogood': 7408, 'The London Philharmonic Orchestra': 7409, 'Link Wray': 7410, 'Buffalo Springfield': 7411, 'Faun': 7412, 'Damh the Bard': 7413, 'Omnia': 7414, 'Corvus Corax': 7415, 'Gaia Consort': 7416, 'Moving Breath': 7417, 'Inmigrantes': 7418, 'Corrosion of Conformity': 7419, 'Viking Skull': 7420, 'Gama Bomb': 7421, 'Evile': 7422, 'Down': 7423, 'Noël Coward': 7424, 'Liam Lynch': 7425, 'Marek Grechuta': 7426, 'Judy Garland': 7427, 'Espers': 7428, 'Robert Downey Jr.': 7429, 'Al Jolson': 7430, 'John Barrowman': 7431, 'Al Bowlly': 7432, 'Hugh Laurie': 7433, 'The Rocky Horror Picture Show': 7434, 'Tesco Value': 7435, 'Fred Astaire': 7436, 'Artie Shaw': 7437, 'Eugeniusz Bodo': 7438, 'Adam Mickiewicz': 7439, 'Kay Starr': 7440, 'Neoangin': 7441, 'Bomb the Bass': 7442, 'Anxieteam': 7443, 'frYars': 7444, 'Reni Jusis': 7445, 'Smolik': 7446, 'Stephanie McIntosh': 7447, 'Ana Johnsson': 7448, 'Lillix': 7449, 'Luka': 7450, 'Enrolados(Brasileiro)': 7451, 'Danni Carlos': 7452, 'Eliana': 7453, 'Snakeskin': 7454, 'Pettinellis': 7455, 'Detektivbyrån': 7456, 'Illuminate': 7457, 'Dreams of Sanity': 7458, 'La Banda de los Sueños de Quiebrespejos': 7459, 'Seven Nations': 7460, 'Jane': 7461, 'DJ Willis (williswho.com)': 7462, 'Cadaveria': 7463, 'Kerli Kõiv': 7464, 'Slander Fall': 7465, 'VHS Head': 7466, 'milky toad': 7467, 'Gescom': 7468, 'Caustic Window': 7469, 'LFO': 7470, 'Gary McKill': 7471, 'Odd Nosdam': 7472, 'Polygon Window': 7473, 'Yrrow': 7474, 'Lego Feet': 7475, 'Monster Rally': 7476, 'Orange_T': 7477, 'Locust Toybox': 7478, 'Com Truise': 7479, 'EU': 7480, 'The Tuss': 7481, 'ARM Author': 7482, 'Multigen': 7483, 'Kashmir Boots': 7484, 'GAK': 7485, 'Bradley Strider': 7486, 'Slag Boom Van Loon': 7487, 'Ren & Stimpy': 7488, 'Shobaleader One': 7489, 'Squarepusher (aka Tom Jenkinson)': 7490, 'Squarepusher (aka Chaos A.D.)': 7491, 'Soma Sonic': 7492, 'Luke Vibert': 7493, 'Universal Indicator': 7494, 'France & Dom': 7495, 'Paracat': 7496, 'Mike & Rich': 7497, 'Hell Interface': 7498, 'Jorge Vercilo': 7499, 'Edward Cullen': 7500, 'Beverley Knight': 7501, 'Chris Garneau': 7502, 'Florence + The Machine & Dizzee Rascal': 7503, 'Dave Days': 7504, 'Karen O and the Kids': 7505, 'Bond': 7506, 'Graeme Revell': 7507, 'Virgin Black': 7509, 'Jesus Was Homeless': 7511, 'Faderhead': 7512, 'NorthBorne': 7513, 'KLOQ': 7514, 'The Whip': 7515, 'Fixmer/McCarthy': 7516, 'Wast3': 7517, 'Diskonnekted': 7518, 'Project/Reject': 7519, 'T. Raumschmiere': 7520, 'autoclav1.1': 7521, 'Destroid': 7522, 'Giuliano Palma & The Bluebeaters': 7523, 'Hepcat': 7524, 'Paul Weller': 7525, 'Desorden Público': 7526, 'The Slackers': 7527, 'Bitty McLean': 7528, 'Yatu': 7529, 'Café Tacuba': 7530, 'Adrenalina Caribe': 7531, 'Los Fabulosos Cadillacs': 7532, \"Sinéad O'Connor\": 7533, 'Los Cafres': 7534, 'Sentimiento Muerto': 7535, 'La Vida Bohème': 7536, 'The Hotknives': 7537, 'Alpha Boy School': 7538, 'Vic Ruggiero': 7539, 'Cultura Profética': 7540, 'Flavio Mandinga Project': 7541, \"Alphonso S'Entrega\": 7542, 'Wahala': 7543, 'Max Tannone': 7544, 'Los Rodríguez': 7545, 'La Misma Gente': 7546, 'Los Paranoias': 7547, 'The English Beat': 7548, 'Luz Verde': 7549, 'Ulises Hadjis': 7550, 'Fidel Nadal': 7551, 'Octavio Suñé': 7552, 'The International Beat': 7553, 'The Dualers': 7554, 'Dermis Tatú': 7555, 'Femi Kuti': 7556, 'Tony Allen': 7557, 'Salif Keita': 7558, 'Manu Dibango': 7559, 'Hugh Masekela': 7560, 'Orchestra Baobab': 7561, 'King Sunny Ade': 7562, 'Antibalas Afrobeat Orchestra': 7563, 'Keji Hamilton & the Exousia Band': 7564, 'Baaba Maal': 7565, 'Mahmoud Ahmed': 7566, 'BLO': 7567, 'Peter King': 7568, 'Boubacar Traoré': 7569, 'Orlando Julius': 7570, 'Chicago Afrobeat Project': 7571, 'Tunji Oyelana and the Benders': 7572, 'Sir Victor Uwaifo': 7573, 'The Daktaris': 7574, 'Africando': 7575, 'Chief Stephen Osita Osadebe': 7576, 'Mulatu Astatke': 7577, 'Rokia Traoré': 7578, 'Ofo The Black Company': 7579, 'Nomo': 7580, 'Ali Farka Touré': 7581, 'Ali Farka Touré & Toumani Diabaté': 7582, 'Geraldo Pino': 7583, 'Oneness of Juju': 7584, 'Dele Sosimi': 7585, \"Youssou N'Dour\": 7586, 'Angélique Kidjo': 7587, 'Awa-Klash': 7588, 'Gasper Lawal': 7589, 'Osibisa': 7590, 'Oscar Sulley & the Uhuru Dance Band': 7591, 'Toto Bona Lokua': 7592, 'Moussa Doumbia': 7593, 'Majek Fashek': 7594, 'Dorothy Masuka': 7595, 'Mory Kanté': 7596, 'William Onyeabor': 7597, 'Konono Nº1': 7598, 'Monomono': 7599, 'Ghetto Blaster': 7600, 'Bantu': 7601, '2Face Idibia': 7602, 'The Budos Band': 7603, 'Schelmish': 7604, 'WWE & Jim Johnston (feat. Downstait)': 7605, 'WWE & Jim Johnston (feat. Story Of The Year)': 7606, 'WWE & Jim Johnston (feat. Adelitas Way)': 7607, 'WWE & Jim Johnston (feat. Cage 9)': 7608, 'Petr Elfimov': 7609, 'Тома': 7610, 'AySel & Arash': 7611, 'Allegro': 7612, '이수영(여)': 7613, '張震嶽': 7614, 'MC Sniper': 7615, '李玟': 7616, 'Xhelazz': 7617, 'Macaco': 7618, 'Rain': 7619, '비': 7620, '¹Ì³ª': 7621, '이수영(여);': 7622, 'Jarabe de Palo': 7623, 'Yoshitaka Hirota, Yasunori Mitsuda': 7624, 'The Presidents of the United States of America': 7625, 'Mina': 7626, 'Celtas Cortos': 7627, 'El Hombre Gancho': 7628, 'Paco Bello': 7629, 'Motoo Fujiwara': 7630, 'Fede Comin y Fran Fernandez': 7631, 'Mina/심지환/최지호': 7632, 'Naomi Yohani': 7633, 'CKY': 7634, 'Spiderbait': 7635, 'Bullets and Octane': 7636, 'Биопсихоз': 7637, 'The Real McKenzies': 7638, 'Mudvayne': 7639, 'Blind Passengers': 7640, 'Thom Hell': 7641, 'Tocotronic': 7642, 'Clueso': 7643, 'Anna Ternheim': 7644, 'Friska Viljor': 7645, 'Ensemble Orchestral Synaxis, Fréhel, Russ Columbo': 7646, 'The Grand Island': 7647, 'Tomte': 7648, 'Whitey': 7649, 'Beatsteaks': 7650, 'Thomas Dybdahl': 7651, 'Peter and the Wolf': 7652, \"Port O'Brien\": 7653, 'Blod, snått & juling': 7654, 'Amanda Jenssen': 7655, 'E.M.D.': 7656, 'Big Japan': 7657, 'Carolina Wallin Pérez': 7658, 'Tove Styrke': 7659, 'I Blame Coco': 7660, 'The Trash Can Sinatras': 7661, 'The Cold Napoleons': 7662, 'The Futureheads': 7663, 'Ryan DeRobertis': 7664, 'Toro y Moi': 7665, 'Hungry Kids of Hungary': 7666, 'Tahiti 80': 7667, 'Wouter Hamel': 7668, 'Little Red': 7669, 'The Chills': 7670, 'Field Music': 7671, 'Das Pop': 7672, 'The Ruby Suns': 7673, 'Smith Westerns': 7674, 'Beulah': 7675, 'We Are Virgins': 7676, 'Patti Page': 7677, 'Zombina and the Skeletones': 7678, 'The Creepshow': 7679, 'Marilyn Manson & The Spooky Kids': 7680, 'Imelda May': 7681, 'Kalabrese': 7682, 'Rhythm & Sound': 7683, \"Christian Prommer's DrumLesson\": 7684, 'Jamie Lidell': 7685, 'Tunng': 7686, 'Move D': 7687, 'Lawrence': 7688, 'Quiet Village': 7689, 'Efdemin': 7690, 'Ahmad Jamal': 7691, 'Air France': 7692, 'Pole': 7693, 'SCSI-9': 7694, 'Deadbeat': 7695, 'Morgan Geist': 7696, 'Seelenluft': 7697, 'März': 7698, 'Matthew Herbert': 7699, 'Tosca': 7700, 'My My': 7701, 'Melanie Madge': 7702, 'Mad Ciccone': 7703, \"Disney's Friends For Change\": 7704, 'Back Miller': 7705, 'Gaiola Das Popozudas': 7706, 'Threshold': 7707, 'Эпидемия': 7708, 'Conception': 7709, 'Борис Моисеев': 7710, 'Grey Daze': 7711, 'Border Cross': 7712, 'Ark': 7713, 'А. Сапковский': 7714, 'Adam Skorupa': 7715, 'Paweł Błaszczak': 7716, 'Terry Scott Taylor': 7717, 'М. А. Булгаков': 7718, 'Maven': 7719, 'Paweł Błaszczak / Adam Skorupa': 7720, 'Nakaido \"Chabo\" Reichi': 7721, 'Rootwater': 7722, 'Between the Trees': 7723, 'The Almost': 7724, 'Semisonic': 7725, 'Offer Nissim': 7727, 'Toše Proeski': 7728, 'Amber': 7730, 'Rhian Sheehan': 7733, 'Magnus Carlsson': 7734, 'This Is Seb Clarke': 7735, 'The Novellos': 7736, 'The Jacobins': 7737, 'The Rumble Strips': 7738, 'Tommy Turbo and The Turbervilles': 7739, 'iko': 7740, 'Snowden': 7741, 'Department of Eagles': 7742, 'Jamie T': 7743, 'Little Man Tate': 7744, 'Young Knives': 7745, 'Rob Dickinson': 7746, 'And What Will Be Left of Them?': 7747, 'Pull Tiger Tail': 7748, 'Countryside': 7749, 'The Filthy Youth': 7750, 'inbirdseye': 7751, 'Deborah Harry': 7752, 'Donny Hathaway': 7753, 'Third Day': 7754, 'Casting Crowns': 7756, 'Bushido': 7759, 'Glamour Of The Kill': 7760, 'Chingy': 7766, 'Faithful Darkness': 7767, '10 Years': 7775, 'Kids In Glass Houses': 7776, 'Scouting for Girls': 7777, 'Blink 182攀': 7778, 'gravação fenix': 7779, 'Scott Stapp': 7780, 'Clare Maguire': 7781, 'Diddy - Dirty Money': 7782, 'Sabonetes': 7787, 'Tower of Power': 7789, 'Eloy': 7791, \"Manfred Mann's Earth Band\": 7792, 'Casa das Máquinas': 7793, 'Módulo 1000': 7794, 'Sir Lord Baltimore': 7795, 'Bang': 7796, 'Steve Hackett': 7797, 'Dust': 7798, 'O Terço': 7799, 'Traffic': 7800, 'Espíritu': 7801, 'Premiata Forneria Marconi': 7802, 'Andromeda (60s)': 7803, 'Solaris': 7804, 'Crucis': 7805, 'Pholhas': 7806, 'Toad': 7807, 'Aera': 7808, \"Aphrodite's Child\": 7809, 'Elsiane': 7810, 'Crustation': 7811, 'Fino Coletivo': 7812, 'Katia B': 7813, 'Afterlife': 7814, 'Marcela Mangabeira': 7815, '21 hertz': 7816, 'Claudia Dorei': 7817, 'Phantogram': 7818, 'Nina Becker': 7819, 'Anthea': 7820, 'Mandalay': 7821, 'The Films': 7822, 'Jorge Ben Jor': 7823, 'Lucas Santtana': 7824, 'The Engine Room': 7825, 'The Weepies': 7826, 'Twin Sister': 7827, 'Alcoholic Faith Mission': 7828, '[re:jazz]': 7829, 'Gisa Alves': 7830, 'Sleeping With Sirens': 7831, 'Abril': 7832, 'Replace': 7833, 'Esteban': 7834, 'Fake Number': 7835, 'Astrid Hadad': 7836, 'Mecano': 7837, 'Alejandro Fernández': 7838, 'Tin Tan': 7839, 'Edith Márquez': 7840, 'Guadalupe Pineda': 7841, 'Marco Antonio Vázquez': 7842, 'Yuri & Mijares': 7843, 'Toñita': 7844, 'Mijares': 7845, 'La Quinta Estación': 7846, 'Oscar Chávez': 7847, 'Ana Torroja y Miguel Bosé': 7848, 'Susana Zabaleta': 7849, 'CHAYITO VALDEZ': 7850, 'Juan Gabriel': 7851, 'Mario Frangoulis': 7852, 'Dina Buendia': 7853, 'Miguel Angel': 7854, 'OperaBabes': 7855, 'Chava Flores': 7856, 'Pete Murray': 7857, 'Vitor Araújo': 7858, 'Silvertide': 7859, 'Strep': 7860, 'Hair': 7861, 'Paul Potts': 7862, 'GRUPO 05': 7863, 'Charice': 7864, 'Maite Perroni': 7865, 'Orange Caramel': 7866, '소녀시대 ＆ 2PM': 7867, 'Mike Posner': 7868, 'Caro Emerald': 7869, 'Alisa Jones': 7870, 'Billy Corgan': 7871, 'Ikuko Kawai': 7872, 'Brian Roebuck': 7873, 'Xavier Naidoo': 7874, 'MIND:|:SHREDDER': 7875, 'Violet Indiana': 7876, 'Julie London': 7877, 'Pale Saints': 7878, 'Robin Guthrie': 7879, 'Bow Wow Wow': 7880, 'Warren Haynes': 7881, 'Edgar Broughton Band': 7882, 'Ananda Shake': 7883, 'Sesto Sento': 7884, 'Zeigeist': 7885, \"L'elan Vital\": 7886, 'Zoot Woman': 7887, 'Barcelona': 7888, 'Mint': 7889, 'Logh': 7890, 'Sans Arc': 7891, 'Girls in Hawaii': 7892, 'Mêlée': 7893, 'September Malevolence': 7894, 'Kwoon': 7895, 'Hazen Street': 7896, 'Go:Audio': 7897, 'SafetySuit': 7898, 'Warmen': 7899, 'The Black Mages': 7900, 'Alph Lyla': 7901, 'Marty Friedman': 7902, 'Barren Earth': 7903, 'El Perro del Mar': 7904, 'Michiru Yamane': 7905, 'Narziss': 7906, 'Hum': 7907, 'Desert Sessions': 7908, 'Wellwater Conspiracy': 7909, 'Dax Riggs': 7910, 'Joe Strummer and The Mescaleros': 7911, 'John Paul Jones': 7912, 'Darkened Nocturn Slaughtercult': 7913, 'Opera IX': 7914, \"Grand Belial's Key\": 7915, 'Argentum': 7916, 'Inquisition': 7917, 'Nokturnal Mortum': 7918, 'Demonoid': 7919, 'Astarte': 7920, 'Stormlord': 7921, 'Falkenbach': 7922, 'Xibalba': 7923, 'Onslaught': 7924, 'Tsjuder': 7925, 'Austin TV': 7926, 'Men at Work': 7927, 'The Connells': 7928, 'Procol Harum': 7929, 'Perfect': 7930, 'I Santo California': 7931, 'Jane Birkin & Serge Gainsbourg': 7932, 'Serge Gainsbourg & Brigitte Bardot': 7933, 'The Beloved': 7934, 'The Monkees': 7935, 'Czerwone Gitary': 7936, 'Bill Haley': 7937, 'Agent Orange': 7938, 'Breakout': 7939, '7th Floor': 7940, 'The Haunted': 7941, 'Punk Goes...': 7942, 'Low Shoulder': 7943, 'Mark Schultz': 7944, 'Lissy Trullie': 7945, 'Rookie Of The Year': 7946, 'Evans Blue': 7947, 'Cytech': 7948, 'Numek': 7949, 'Antichristus': 7950, 'Raiden': 7951, 'Gasmask 71': 7952, 'Core Corp': 7953, 'Audio': 7954, 'Evol Intent': 7955, 'Donny': 7956, 'Hemoglobin': 7957, 'SPL': 7958, 'Mystification': 7959, 'Counterstrike': 7960, 'Ekaros': 7961, 'Unabomber': 7962, 'Cooh': 7963, 'Lorcscyric': 7964, 'snaper': 7965, 'DJ Hidden': 7966, 'Resonant Evil': 7967, 'Coresplittaz': 7968, 'Rawtekk': 7969, 'Reemo': 7970, 'T.Z.A.': 7971, 'B Soul': 7972, 'ZuBCoRe': 7973, 'AXiS & Trank': 7974, 'iDOLEAST': 7975, 'Skynet': 7976, 'ScreamerClauz': 7977, 'Fizyk': 7978, 'The Panacea': 7979, 'Peter Kurten': 7980, 'Technical Itch': 7981, 'Dylan': 7982, 'Paul B': 7983, 'Krusha': 7984, 'Temulent': 7985, 'Plejik': 7986, 'Vector Burn': 7987, 'Submerged': 7988, 'ogonek': 7989, 'Switch Technique': 7990, 'DJ floorclearer': 7991, 'Digital Soul': 7992, 'Necron99': 7993, 'Sergey Lazarev': 7994, 'Smash!!': 7995, 'Иван Ургант': 7996, 'Ирония судьбы': 7997, 'Бригада': 7998, 'Ирония Судьбы. Продолжение': 7999, 'Сергей Безруков': 8000, 'Валерия': 8001, 'Сергей Лазарев': 8002, 'Город 312': 8003, 'к/ф Адмиралъ': 8004, 'Danny Saucedo feat. Therese': 8005, 'Leonid Rudenko': 8006, 'Прожекторперисхилтон': 8007, 'Полина Гагарина': 8008, 'Ласковый Май': 8009, 'Phish': 8012, 'Petra': 8013, 'Gravity Kills': 8014, 'Party Ben': 8015, 'Five Iron Frenzy': 8016, 'Velvet': 8017, 'Natalia': 8018, 'The Black Eyed Peas': 8019, 'Giusy Ferreri': 8020, 'Elena Gheorghe': 8021, 'Star Pilots': 8022, 'Demet Akalın': 8023, 'Samira Said': 8024, 'Elliot': 8025, 'Fuck Buttons': 8026, 'Jónsi & Alex': 8027, '__MaX__': 8028, 'Mark Sherry pres Outburst': 8029, 'The Antlers': 8030, 'Nico Muhly': 8031, 'James Blunt栀': 8032, '7 Skies': 8033, 'Coordinated Chaos': 8034, 'Kyle Gabler': 8035, 'Zack Hemsey': 8036, 'James Blunt\\u20c0': 8037, 'Nicolaus Esterhazy Sinfonia': 8038, 'Audio Network': 8039, 'Blazer Force': 8040, 'Arty': 8041, 'Live': 8042, 'Idlewild': 8043, 'The Longcut': 8044, 'Tapping the Vein': 8045, 'Great Northern': 8046, 'Plumb': 8047, 'Screaming Lights': 8048, 'Beyond the Void': 8049, 'Le Mystère des voix Bulgares': 8050, 'Jia Peng Fang': 8051, 'Madonna & Justin Timberlake & Timbaland': 8052, 'Cocoon': 8053, 'The Dø': 8054, 'M': 8055, 'Charlie Winston': 8056, 'Tin Machine': 8057, 'Gail Ann Dorsey': 8058, 'Adam Ficek': 8059, 'Soan': 8060, 'Flea': 8061, 'Revolver': 8062, 'Minuscule Hey': 8063, 'David Bowie &Moby': 8064, 'Zombie Ghost Train': 8065, 'Squirrel Nut Zippers': 8066, 'Estelle': 8067, 'Moloko': 8068, 'Texas': 8069, 'Voodoo Zombie': 8070, 'Ryan Leslie': 8071, 'Bobby Valentino': 8072, 'Mashonda': 8073, 'Teedra Moses': 8074, 'Ny': 8075, 'Nivea': 8076, 'Tiffany Villarreal': 8077, 'Megan Rochell': 8078, 'Keshia Chanté': 8079, 'Black Buddafly': 8080, 'Lloyd': 8081, 'Asia Cruise': 8082, 'Cheri Dennis': 8083, 'Baby Bash': 8084, 'jhene': 8085, 'Rhea': 8086, 'Drew Sidora': 8087, 'Dondria': 8088, 'Nasri': 8089, 'Jovan Dais': 8090, \"Tha' Rayne\": 8091, 'Mila J': 8092, 'Auburn': 8093, 'Steph Jones': 8094, 'Brandon Hines': 8095, 'Dawn Richard': 8096, 'Latrelle': 8097, 'Court Yard Hounds': 8098, 'Patty Griffin': 8099, 'Lee Brice': 8100, 'Jamey Johnson': 8101, 'Robert Plant & Alison Krauss': 8102, 'Ryan Bingham': 8103, 'Crystal Bowersox': 8104, 'Jerrod Niemann': 8105, 'Terri Clark': 8106, 'Justin Townes Earle': 8107, 'The Derek Trucks Band': 8108, 'The Avett Brothers': 8109, 'Susan Tedeschi': 8110, 'The Allman Brothers Band': 8111, 'Ollabelle': 8112, 'Duane Allman': 8113, 'Freddie King': 8114, 'Little Feat': 8115, 'The Persuasions': 8116, 'Jimmy Herring': 8117, 'Hound Dog Taylor & the House Rockers': 8118, 'The Meters': 8119, 'Taj Mahal': 8120, 'Toots and the Maytals': 8121, 'Derek and the Dominos': 8122, 'Albert King': 8123, \"Keb' Mo'\": 8124, 'Joe Pug': 8125, 'Little Walter': 8126, 'The Campbell Brothers': 8127, 'Barrelhouse': 8128, 'JJ Grey & Mofro': 8129, 'Townes Van Zandt': 8130, 'Danger': 8136, 'Dubstar': 8140, 'The Golden Filter': 8141, 'Ted Neely, Yvonne Elliman & Others': 8142, 'Kish Mauve': 8143, 'Rinôçérôse': 8144, 'Orchestra': 8145, 'Warren Suicide': 8146, 'Coco Electrik': 8147, 'Krause': 8148, 'Beborn Beton': 8149, 'Red Lorry Yellow Lorry': 8150, 'Nordstrøm': 8151, 'Jane Monheit': 8152, 'Harry Connick, Jr.': 8153, 'Rychard Century': 8154, 'Justin Nozuka': 8155, 'Roberta Sa e Trio Madeira Brasil': 8156, 'WWO': 8157, 'Bun B': 8158, \"Lil' Flip\": 8159, 'Slim Thug': 8160, 'T-Pain': 8161, 'Bizarre': 8162, 'Lady Pank': 8163, 'Peja': 8164, 'Borysewicz-Kukiz': 8165, 'Junior Caldera': 8166, 'HiFi Banda': 8167, 'DJ 600V': 8168, 'Michael Jackson & Paul McCartney': 8169, 'Slums Attack': 8170, 'Natalie Bassingthwaighte': 8171, 'Tata Golosa': 8172, 'The Notorious B.I.G.': 8173, 'Bad Balance': 8174, 'Black Violin': 8175, 'Zion I & The Grouch': 8176, 'MC Lyte': 8177, \"Lil' Kim\": 8178, 'Reks': 8179, 'A-Alikes': 8180, 'Slick Rick': 8181, 'Onyx': 8182, 'maritza rodriguez': 8183, 'Fugees': 8184, '8Ball & MJG': 8185, 'Инна Steel и Михей': 8186, 'Big Syke': 8187, 'Queen Latifah': 8188, 'Rap P': 8189, 'WC': 8190, 'Square': 8191, 'DOYOULIKE?': 8192, 'レミオロメン': 8193, 'V.O.W.E': 8194, 'Tihuana': 8195, 'No Core': 8196, 'Believe': 8197, 'Aly & Fila': 8198, 'The Dining Rooms': 8199, 'Freakpower': 8200, 'Boozoo Bajou': 8201, 'Tape Five': 8202, 'Shawn Lee & Clutchy Hopkins': 8203, 'Gare du Nord': 8204, 'Nekta': 8205, 'A Vida Azul': 8206, 'Shawn Lee': 8207, 'Saint Privat': 8208, '!deladap': 8209, 'The Dears': 8210, 'Snot': 8211, 'Alphawezen': 8212, 'Modular': 8213, 'Gonjasufi': 8214, 'Datarock': 8215, 'General Elektriks': 8216, 'Micatone': 8217, 'Berry Weight': 8218, 'Minus 8': 8219, 'Congo Norvell': 8220, 'Gabin': 8221, 'Digital Alkemist': 8222, 'Vermillion Lies': 8223, 'Club Des Belugas': 8224, 'Hidden Orchestra': 8225, 'Skeewiff': 8226, 'Watcha Clan': 8227, 'Дети Picasso': 8228, 'Astor Piazzolla': 8229, 'Oi Va Voi': 8230, 'Soulsavers': 8231, 'Up, Bustle and Out': 8232, 'Expatriate': 8233, 'Kronos Quartet': 8234, 'Kronos Quartet & Mogwai': 8235, 'Michael Galasso': 8236, 'Louis Garrel & Clothilde Hesme': 8237, 'Happy Together Wong Kar Wai OST': 8238, 'Shantel': 8239, 'Dutch': 8240, 'Solvent': 8241, 'Isles & Glaciers': 8242, 'Ariana Grande': 8243, 'FM Static': 8244, 'Parachute': 8245, 'The Crown': 8246, 'Hatesphere': 8247, 'Blood Red Throne': 8248, 'Raging Speedhorn': 8249, 'Laxative': 8250, 'Six Feet Under': 8251, 'Occult': 8252, 'Debauchery': 8253, 'SOiL': 8254, 'Dew-Scented': 8255, 'Halo Effect': 8256, 'Terror 2000': 8257, 'Emil Bulls': 8258, 'Damageplan': 8259, 'Final Breath': 8260, 'Burning Skies': 8261, 'Donavon Frankenreiter': 8262, 'Park': 8263, 'William Fitzsimmons': 8264, 'Pavel Nuñez': 8265, 'Chris Botti': 8266, 'Kaki King': 8267, 'Aleks Syntek': 8268, 'Nature Living': 8269, 'Rx Bandits': 8270, 'This Day & Age': 8271, 'Jean Baudin': 8272, 'Nuclear Rabbit': 8273, 'Lydia': 8274, 'Catch 22': 8275, 'Choke': 8276, 'For the Fallen Dreams': 8277, 'Antoine Dufour': 8278, 'Jake Shimabukuro': 8279, 'Moneen': 8280, 'RoBERT': 8281, 'Ariel Ramírez': 8282, 'Vanessa Paradis': 8283, 'Püdelsi': 8284, 'Henning Pauly': 8285, 'KSU': 8286, 'Jenifer': 8287, 'Zazie': 8288, 'Wolna Grupa Bukowina': 8289, 'Natasha St-Pier': 8290, 'Nick Cave': 8291, 'Takanashi Yasuharu': 8292, 'Sumatra': 8293, 'American Me': 8294, 'The Armed': 8295, 'Here Comes The Kraken': 8296, 'The Korea': 8297, 'Korea': 8298, 'МегамасС': 8299, 'Hester Prynne': 8300, 'I Shot The Sheriff': 8301, '+\\\\-': 8302, 'Ruiner': 8303, 'Making April': 8304, 'Worthless Without': 8305, 'старов': 8306, 'Waking Ashland': 8307, 'Johnny Hallyday': 8308, 'Jerry Lee Lewis': 8309, 'Danielle Peck': 8310, 'Tom Petty': 8311, 'John Mellencamp': 8312, 'John Fogerty': 8313, 'The Everly Brothers': 8314, 'Vince Taylor': 8315, 'Dick Rivers': 8316, 'The Sunny Cowgirls': 8317, 'The McClymonts': 8318, 'Taake': 8319, 'Dominia': 8320, 'Angis': 8321, 'Amžius': 8322, 'Obtest': 8323, 'Nahash': 8324, 'Thundertale': 8325, 'Satanic Warmaster': 8326, 'Altorių Šešėliai': 8327, 'Krabaras': 8328, 'Diktatūra': 8329, 'Teurgia': 8330, 'Excrementory Grindfuckers': 8331, 'Luctus': 8332, 'Gorefest': 8333, 'MaturzFrum': 8334, 'egredior': 8335, 'Mirties Dvelksmas': 8336, 'Dusk': 8337, 'D.A.R': 8338, 'Anakron': 8339, 'George Thorogood & The Destroyers': 8340, 'Beherit': 8341, 'Šėtonistai': 8342, 'Urgehal': 8343, 'Anubi': 8344, 'Pastetai': 8345, 'Sorrow': 8346, 'Mushroomhead': 8347, 'Passenger': 8348, 'St. Thomas': 8349, 'Taproot': 8350, 'Zakk Wylde': 8351, 'ourlastbreath': 8352, 'Lillasyster': 8353, 'Tommy Emmanuel': 8354, 'Takida': 8355, 'Jason Walker': 8356, 'Juego De Dos': 8357, 'Tristan Prettyman': 8358, 'The Simpsons': 8359, 'Ximbica': 8360, 'Hawk Nelson': 8361, 'Chaves': 8362, 'Flora': 8363, 'Sean Kingston': 8364, 'Seu Cuca': 8365, 'Holdcut': 8366, 'EMF': 8367, 'Neneh Cherry': 8368, 'Faith and the Muse': 8369, 'Axel Fernando': 8370, 'Maná': 8371, 'Ricardo Arjona': 8372, 'Banda El Recodo': 8373, 'Luciano Pereyra': 8374, 'Alex Ubago': 8375, 'Nick Jonas': 8376, 'La Arrolladora Banda El Limón': 8377, 'Demi Lovato & Joe Jonas': 8378, 'Chaqueño Palavecino': 8379, 'Carlos Baute': 8380, 'Deep kick': 8381, 'Bumblefoot': 8382, 'Marcus Miller': 8383, 'Hopes Die Last': 8384, 'Mathewmaokh': 8385, 'Metal Church': 8386, 'Solitude Aeturnus': 8387, 'Viking Quest': 8388, 'The Bogmen': 8389, 'she': 8390, 'Do As Infinity': 8392, 'D': 8394, '12012': 8396, 'VIDOLL': 8397, 'Alice Nine': 8398, 'Silver Forest': 8400, 'FACT': 8401, 'Anamanaguchi': 8403, 'Sadie': 8404, 'Schandmaul': 8405, 'Plastic Tree': 8407, 'm-flo': 8408, 'Bebe': 8409, 'Coiffeur': 8410, 'Deplasticoverde': 8411, 'María Zion': 8412, 'Score Deseos Ocultos': 8413, 'Score Sonámbulos': 8414, 'Christopher Young': 8415, 'Nathaniel Mechaly': 8416, 'theaudience': 8417, 'The Sunshine Underground': 8418, 'Lake of Tears': 8420, 'Meat Loaf': 8422, 'Great White': 8423, 'Khaled Mouzanar': 8424, 'Kardeş Türküler': 8425, 'Barış Güney': 8426, 'Birsen Tezer': 8427, 'Akın Eldes': 8428, 'Replikas': 8429, 'bajar': 8430, 'Erkan Oğur': 8431, 'Quadro Nuevo': 8432, 'Golden Horn Ensemble': 8433, 'Şinasi Çilden & Şebnem Orhan': 8434, 'Vedat Yıldırım, Özgür Akgül, Mehmet Erdem': 8435, 'Yaşar Kurt': 8436, 'Fatih Yaşar': 8437, 'Beth Gibbons & Rustin Man': 8438, 'Metin & Kemal Kahraman': 8439, 'Asfalt Dünya': 8440, 'Xavier Cugat': 8441, 'Ahmad Pejman': 8442, 'Orient Expressions': 8443, 'Pinhani': 8444, 'Niyaz': 8445, 'Peyman Yazdanian': 8446, 'Mikail Aslan': 8447, 'Mohammad Reza Aligholi': 8448, 'Andrea Guerra': 8449, 'Tülay German': 8450, 'Peter Soleimanipour': 8451, 'Hossein Alizadeh': 8452, 'Cihat Aşkın': 8453, 'Bülent Ortaçgil': 8454, 'Taksim Trio': 8455, \"Farhad As'adian\": 8456, 'Br00talizer': 8457, 'Daïtro': 8458, 'mewithoutYou': 8459, 'Footnotes': 8460, 'Sunny Day Real Estate': 8461, 'Destroy The Runner': 8462, 'Love Like... Electrocution': 8463, 'Every Time I Die': 8464, 'Suis La Lune': 8465, 'MellowHype': 8466, 'American Football': 8467, 'The Bled': 8468, 'The Promise Ring': 8469, 'The (International) Noise Conspiracy': 8470, 'Still Remains': 8471, 'Earl Sweatshirt': 8472, 'Memphis May Fire': 8473, 'Tyler, The Creator': 8474, 'Mihai Edrisch': 8475, 'Something for Kate': 8476, 'brandun deshay': 8477, 'Tigers Jaw': 8478, 'Nada Surf': 8479, 'Sleep Party People': 8480, 'The Mynabirds': 8481, 'The Black Box Revelation': 8482, 'Avi Buffalo': 8483, 'The Makes Nice': 8484, \"The Record's\": 8485, 'Datahowler': 8486, 'LoveLikeFire': 8487, 'The Vacation': 8488, 'The Kissaway Trail': 8489, 'The Cheaters': 8490, 'Ty Segall & Mikal Cronin': 8491, 'Fu Manchu': 8492, 'Sambassadeur': 8493, 'Quasi': 8494, 'Marco Borsato': 8495, 'AoW': 8496, 'Sash!': 8497, 'Tina Cousins': 8498, 'Ibens': 8499, 'Josh Woodward': 8500, 'Red Warszawa': 8501, 'Psyched Up Janis': 8502, 'Dúné': 8503, 'Joshua Radin': 8504, 'Love Shop': 8505, 'Flowers From the Man Who Shot Your Cousin': 8506, 'Sune Rose Wagner': 8507, 'Death by Kite': 8508, 'Jahcoozi': 8509, 'Modeselektor': 8510, 'Voces en el Plasma': 8511, 'Aeon Spoke': 8512, 'Fila Brazillia': 8513, 'Si*Sé': 8514, 'Last Days of Humanity': 8515, 'Gallhammer': 8516, 'Thorns': 8517, 'Ossastorium': 8518, 'Poccolus': 8519, 'Disiplin': 8520, 'Morbid': 8521, 'Meressin': 8522, 'Mc Dexnyz': 8523, 'Seagull Overseas': 8524, 'Dissimulation': 8525, 'Forgotten Tomb': 8526, 'Haeiresis': 8527, 'Dehydrated Goat': 8528, 'Skepticism': 8529, 'Nocturnal Depression': 8530, 'Argharus': 8531, 'Mutiilation': 8532, 'Shape of Despair': 8533, 'Surdr': 8534, 'Raven (pre-Shape Of Despair)': 8535, 'Fallen': 8536, 'SC': 8537, 'žemkentys. CO': 8538, 'Budrūs': 8539, 'Prakeikimas': 8540, 'AMBIREP': 8541, 'G&G Sindikatas': 8542, 'Prism': 8543, 'Jan & Dean': 8544, 'Bill Haley and the Comets': 8545, 'The Hollies': 8546, 'The Royal Guardsmen': 8547, 'Paul Revere & the Raiders': 8548, 'Badfinger': 8549, 'Lauren Nichols': 8550, 'Sha Na Na': 8551, 'The Partridge Family': 8552, 'Los Straitjackets': 8553, 'The Surfites': 8554, 'Pat Benatar': 8555, 'The Lettermen': 8556, 'Marty Stuart': 8557, 'The Association': 8558, \"Herman's Hermits\": 8559, 'Wanda Jackson': 8560, 'Van Zant': 8561, 'Ralph Rebel': 8562, 'Charlie Daniels Band': 8563, 'Del Shannon': 8564, 'The Grass Roots': 8565, 'Steve Gaines': 8566, 'Dick Dale and His Del-Tones': 8567, '1910 Fruitgum Company': 8568, 'Kincade': 8569, 'The Merseybeats': 8570, 'The Crew Cuts': 8571, 'Randy & The Rainbows': 8572, 'The Archies': 8573, 'Lobo': 8574, 'The Swinging Blue Jeans': 8575, 'The Cowsills': 8576, 'De Jeugd van Tegenwoordig': 8577, 'Jasper Erkens': 8578, 'Oblique': 8579, 'Heavens': 8580, 'The Similou': 8581, 'Miss Kittin': 8582, 'Neon Neon': 8583, 'Chicks on Speed': 8584, 'Northern Kind': 8585, 'Kleerup': 8586, 'Blackbird Blackbird': 8587, 'Vonda Shepard': 8588, 'Frankmusik': 8589, 'Ocean Reid': 8590, 'Josh Rouse': 8591, 'Rachael Yamagata': 8592, 'Bob Dylan and The Band': 8593, 'Joni Mitchell': 8594, 'Joe Purdy': 8595, 'Neverending White Lights': 8596, 'OIH': 8597, 'Kirk Hammett': 8598, 'Xentrix': 8599, 'Nino Rota': 8600, 'Ryashon': 8601, 'Tynisha Keli': 8602, 'Nicole Wray': 8603, 'Richgirl': 8604, 'Melanie Fiona': 8605, 'Yummy Bingham': 8606, 'KOMHATA 101': 8607, 'Keny Arkana': 8608, 'Соль Земли': 8609, 'KRec': 8610, 'Записки Неизвестного': 8611, 'Встреча Рыбы': 8612, 'Телевизор': 8613, 'Ryan Harvey': 8614, \"ОБЪ'ЛОМКИ\": 8615, 'Deviation': 8616, 'What We Feel': 8617, 'Типси Тип': 8618, 'True Star': 8619, 'Invisible Border': 8620, 'Young Heretics': 8621, 'Nekby & Інквізиція': 8622, 'naj one': 8623, 'Триада': 8624, 'макулатура': 8625, 'Алина Сиппс': 8626, 'Дядя Женя': 8627, 'Проверочная Линейка': 8628, 'Владимир Высоцкий': 8629, 'Витек, Акустик, Джордан Саддам': 8630, 'Розовые очки от ferre': 8631, '11.43': 8632, 'Dianogah': 8633, 'Moscow Death Brigade': 8634, 'Klowns': 8635, 'Диета!': 8636, 'Паук (http:/www.XXLife.ru)': 8637, 'ClockworkPanda': 8638, 'Больше Серого': 8639, 'Blok B': 8640, 'Vanich': 8641, 'Grammatics': 8642, 'Alexis Blue': 8643, 'Juno (Music from the Motion Picture)': 8644, 'Hydria': 8645, 'Elis': 8646, 'Ari Koivunen': 8647, 'Lyriel': 8648, 'Kimya Dawson': 8649, 'Trevor Morris': 8650, 'T-ara': 8651, 'Im Tae Kyung': 8652, 'Davichi': 8653, 'Kelly Sweet': 8654, 'Sick Animation': 8655, 'Mansun': 8656, 'Buck 65': 8657, 'The Pineapple Thief': 8658, 'The Cooper Temple Clause': 8659, 'Anekdoten': 8660, 'Khoma': 8661, 'Killers': 8662, 'Levellers': 8663, 'Icon & the Black Roses': 8664, 'All About Eve': 8665, 'Gothacoustic Ensemble': 8666, 'all:my:faults': 8667, 'The Mission': 8668, 'Dark One': 8669, '譚盾': 8670, 'Propellerheads': 8671, 'Ride': 8672, 'The Feelies': 8673, 'The Naked and Famous': 8674, 'Van She': 8675, 'Au Revoir Simone': 8676, 'Wilderness': 8677, 'Neon Indian': 8678, 'Mañana': 8679, 'Chapterhouse': 8680, 'Close Your Eyes': 8681, 'This Romantic Tragedy': 8682, 'Broadway': 8684, 'Karunesh': 8689, 'Aghora': 8690, 'Agatha': 8691, 'Anomaly': 8692, 'Lörihen': 8693, 'Rita Indiana y Los Misterios': 8694, 'Gordian Knot': 8695, 'Pestilence': 8696, 'La Ley': 8697, 'Ricardo Montaner': 8698, 'Vas': 8699, 'Cinnamon Chasers': 8700, 'jj': 8701, 'How to Dress Well': 8702, 'Cold Cave': 8703, 'Teengirl Fantasy': 8704, 'No Age': 8705, 'Twin Shadow': 8706, 'Ludov': 8707, 'Autoramas': 8708, 'Ednardo': 8709, 'Moptop': 8710, 'Martha Wainwright': 8711, 'Arnaldo Antunes': 8712, 'Rock Rocket': 8713, 'Belchior': 8714, 'Milla Jovovich': 8715, 'Glen Hansard & Markéta Irglová': 8716, 'Måns Zelmerlöw': 8718, 'Shane Mack': 8721, 'Everlast': 8722, 'Nívea Soares': 8724, 'Quatro Por Um': 8725, 'Pleymo': 8726, 'Leeland': 8727, 'Oficina G3': 8728, 'Fiction Family': 8729, 'Times of Grace': 8730, 'Take It Back!': 8731, 'Fernandinho': 8732, 'Nengo Vieira': 8733, 'Daniel Alencar': 8734, 'Head': 8735, '桜庭統': 8736, 'He Is We': 8737, 'Darius Rucker': 8738, '岩垂徳行': 8739, '木村明美': 8740, 'South Park': 8741, 'Gwyneth Paltrow': 8742, 'REO Speedwagon': 8743, 'Sugimori Masakazu': 8744, 'Mafalda Veiga': 8745, 'Tim McGraw and Gwyneth Paltrow': 8746, 'Massacre': 8747, 'Serú Girán': 8748, 'On a Friday': 8749, 'Philip Selway': 8750, 'Justin Vernon': 8751, 'Frakkur': 8752, 'Nick Mason': 8753, 'André Previn': 8754, 'Evan Rachel Wood': 8755, 'Mercedes Sosa': 8756, 'John Lennon & Yoko Ono': 8757, 'Garou': 8758, 'Varius Manx': 8759, 'Patrizio Buanne': 8760, 'Patrycja Markowska': 8761, 'Feel': 8762, 'Tina Arena': 8763, 'Bajm': 8764, 'Justyna Steczkowska': 8765, 'Patrick Fiori': 8766, 'Michał Lorenc': 8767, 'Kasia Cerekwicka': 8768, 'Pete Vyler': 8769, 'Sourire Kabyle': 8770, 'Shaka Ponk': 8771, 'Rockabye Baby!': 8772, 'Les Wampas': 8773, 'Nashville Pussy': 8774, 'The BellRays': 8775, 'Hellsongs': 8776, 'DJ Ph0X': 8777, 'C418': 8778, 'DJ Dean': 8779, 'DJ Markski': 8780, 'BT': 8781, 'Bassnectar': 8782, 'MC Mario': 8783, 'Morgan Page': 8784, 'INPHINITY': 8785, 'Kelly Bailey': 8786, 'Babak': 8787, 'Dover': 8788, 'Darude': 8789, 'Junkie XL': 8790, 'Dead Celebrity Status': 8791, 'freshcut': 8792, 'Los Abuelos de la Nada': 8793, 'Nazareth': 8794, 'Foghat': 8795, 'Juha Tapio': 8796, 'Pete Parkkonen': 8797, 'Popeda': 8798, 'Scars on 45': 8799, 'Johnny Flynn': 8800, 'Todd Hunter Band': 8801, 'Kitaro': 8802, 'The Platters': 8803, 'Miguel Aceves Mejía': 8804, 'Luther Allison': 8805, 'The Drifters': 8806, 'Brenda Lee': 8807, 'B.B. King & Eric Clapton': 8808, 'Rita Pavone': 8809, 'The Royal Philharmonic Orchestra': 8810, 'Pat Boone': 8811, 'Fats Domino': 8812, 'Clarence \"Gatemouth\" Brown': 8813, 'Mike Dowling': 8814, 'Willie Dixon': 8815, 'Toto Cutugno': 8816, 'Big Mama Thornton / Muddy Waters Blues Band': 8817, 'Harry Belafonte': 8818, 'Alberto Lizzio/Baroque Festival Orchestra': 8819, 'Commodores': 8820, 'Charlie Musselwhite': 8821, 'Gigliola Cinquetti': 8822, 'Al Bano & Romina Power': 8823, 'Carlos Gardel': 8824, 'Julio Sosa': 8825, 'The Chamber Strings': 8826, 'Dorian': 8827, 'Georges Delerue': 8828, '梅林茂': 8829, 'The Coral': 8830, 'The House of Love': 8831, 'Beach Fossils': 8832, 'Javier Barría': 8833, 'Love of Lesbian': 8834, 'La Sonrisa de Julia': 8835, 'Rökkurró': 8836, 'Charlie Parker': 8837, 'Sigur Rós & Steindór Andersen': 8838, 'Los Tres': 8839, 'Cajun Dance Party': 8840, 'Sigur Rós / Hilmar Örn Hilmarsson': 8841, 'Siavash': 8842, 'Glenn Gould': 8843, 'Charlotte Church': 8844, 'Sara Gazarek': 8845, 'George Papavgeris': 8846, 'Chiara Civello': 8847, 'Hayley Westenra': 8848, 'Laura Fygi': 8849, 'Amici Forever': 8850, 'Arturo Benedetti Michelangeli': 8851, 'Vladimir Horowitz': 8852, 'Secret Garden': 8853, 'Lesiëm': 8854, 'Patrizia Laquidara & Hotel Rif': 8855, 'Tierney Sutton': 8856, 'Silje Nergaard': 8857, 'Filippa Giordano': 8858, 'Sviatoslav Richter': 8859, 'Lesley Garrett': 8860, 'Nnenna Freelon': 8861, 'Lucio Dalla': 8862, 'Cast of Camp Rock 2': 8863, 'Club 8': 8864, 'The Innocence Mission': 8865, 'Red House Painters': 8866, 'Blueboy': 8867, 'I Am Robot and Proud': 8868, 'Speedmarket Avenue': 8869, 'Loss of a Child': 8870, 'The Postmarks': 8871, 'Matchbook Romance': 8873, 'Last Winter': 8876, 'Moulin Rouge': 8878, 'Solution .45': 8881, 'Solerrain': 8882, 'Pezet': 8883, 'Madina Lake': 8884, 'Pezet-Noon': 8885, 'Buka': 8886, 'Marika': 8887, 'MBrother': 8888, 'Double Nation': 8889, 'Alchemist Project': 8890, 'BRITNEY & MADONNA': 8891, 'DJ Magic': 8892, 'Beattraax': 8893, 'Discotronic': 8894, 'John Marks': 8895, 'C-Bool': 8896, 'Activ': 8897, 'DJ Remo': 8898, 'Alex C. feat. Yass': 8899, 'East West Rockerz': 8900, 'Jeckyll & Hyde': 8901, '美少女戦士セーラームーンシリーズ': 8902, 'Pretty Soldier Sailormoon Series': 8903, 'Dog Fashion Disco': 8904, 'Ventana': 8905, 'Polkadot Cadaver': 8906, 'Motograter': 8907, 'wc olo garb': 8908, 'Pitch Black Forecast': 8909, 'Electric Six': 8910, 'The Alter Boys': 8911, 'Crossbreed': 8912, 'El-Creepo!': 8913, 'Jeffrey Nothing': 8914, 'How to Destroy Angels': 8915, 'Jonathan Davis': 8916, 'Authority To Proceed': 8917, 'Demagolka': 8918, 'Trent Reznor': 8919, 'Moanaa': 8920, 'Youth of Today': 8921, 'The Wonder Years': 8925, 'Paint It Black': 8927, 'Del tha Funkee Homosapien': 8929, 'Earth Crisis': 8930, 'Cruel Hand': 8931, 'The Mongoloids': 8932, 'Lemuria': 8933, 'Screeching Weasel': 8934, 'Sam & Dave': 8936, 'Carry On': 8937, 'Minor Threat': 8945, 'Death Before Dishonor': 8947, 'Kids Like Us': 8948, 'Ceremony': 8951, 'ShamRain': 8953, 'Estatic Fear': 8954, 'Hossein Panahi': 8955, 'Googoosh': 8956, 'AaRON': 8957, '127 Band': 8958, 'Aida Shamlou': 8959, 'Eisblume': 8960, 'Nasser Cheshmazar': 8961, 'Javier Navarrete': 8962, 'Mano Solo': 8963, 'O-HUM': 8964, 'Zooey Deschanel': 8965, 'Nina': 8966, 'Rebbecca': 8967, 'Rebecca': 8968, 'Nas featuring Will.I.Am': 8969, 'Timbaland featuring Justin Timberlake': 8970, 'Elisa Hale': 8971, 'The Flawboreds': 8972, 'Snoop Dogg, Charlie Wilson & Justin Timberlake': 8973, 'Harbor feast': 8974, 'Bobby Womack': 8975, 'Melissa Manchester': 8976, 'Raul Midón': 8977, 'Nicole Takahashi': 8978, 'Rufus': 8979, 'Christina Mason': 8980, 'Marcy Marxer': 8981, 'Timbaland Featuring Justin Timberlake & Nelly Furtado': 8982, 'Randy Crawford': 8983, 'Brothers Johnson': 8984, 'Nat King Cole & Natalie Cole': 8985, 'The King of France': 8986, 'The Polynesians': 8987, 'Prince & The Revolution': 8988, 'Prince and the New Power Generation': 8989, 'Jayne Mansfield': 8990, 'Boyz II Men': 8991, 'Bobby Brown': 8992, 'Cameo': 8993, 'Loverboy': 8994, 'Andy Taylor': 8995, 'Wa Wa Nee': 8996, 'Jill Jones': 8997, 'Kool & The Gang': 8998, 'аутside': 8999, 'Beat Hackers': 9000, 'ZeRo-BaSs': 9001, 'Meg': 9002, 'W.K.?': 9003, 'AphelionX': 9004, 'Дети Олимпиады': 9005, 'Yogo!Yogo!': 9006, 'Anoraak': 9007, 'Breakbot': 9008, 'Ou Est Le Swimming Pool': 9009, 'Grum': 9010, 'Filthy Dukes': 9011, 'Music Go Music': 9012, '鷺巣詩郎': 9013, 'Manca Špik': 9014, 'Preslava': 9015, 'Halina Frąckowiak': 9016, 'Irena Jarocka': 9017, 'Five Colors': 9018, 'Borys': 9019, 'Halina Benedyk': 9020, 'Hera Björk': 9021, 'Code Red': 9022, 'Helena Vondráčková': 9023, 'Sofia Rotaru': 9024, 'Urszula Sipińska': 9025, 'Candy Girl': 9026, 'Paulla': 9027, 'Army of Lovers': 9028, 'DQ': 9029, \"Mad'House\": 9030, 'Urban Symphony': 9031, 'France Gall': 9032, 'Man Meadow': 9033, 'Bimbo Boy': 9034, 'Krystyna Giżowska': 9035, 'Magda Femme & Iwona Węgrowska': 9036, 'Baccara': 9037, 'Krzysztof Krawczyk': 9038, 'Kristína': 9039, 'Maryla Rodowicz': 9040, \"L'Ham de Foc\": 9041, 'Ünol Büyükgönenç': 9042, 'Irfan': 9043, 'Mara Aranda & Solatge': 9044, 'Bandista': 9045, 'Visa': 9046, 'CIRЯUS': 9047, 'Lhasa de Sela': 9048, 'Trio Soulaÿrès': 9049, 'Sema': 9050, 'Düşbaz': 9051, 'Cantodiscanto': 9052, \"Houria Aïchi & L'Hijâz'Car\": 9053, 'Fikret Kızılok': 9054, 'maliétès': 9055, 'Aziza Mustafa Zadeh': 9056, 'MELIKE': 9057, 'Round Mountain': 9058, 'Esra Dalfidan': 9059, 'Akli D': 9060, 'Tanju Duru': 9061, 'Oneira': 9062, 'Almora': 9063, 'Mor Karbasi': 9064, 'Anita Livstrand': 9065, 'Hava Narghile': 9066, 'Alamut': 9067, 'Vlada Tomova': 9068, 'Nawel & Lilabox': 9069, 'Cécile Corbel': 9070, 'Heval': 9071, 'Los Desterrados': 9072, 'Shezar': 9073, 'Aljub + Krama': 9074, 'Eleni Karaindrou': 9075, 'Yavuz Çetin': 9076, 'Ojos de Brujo': 9077, 'Adissabeba': 9078, 'Bethany Joy Lenz': 9079, 'Dr. Horrible Cast': 9080, 'Umbrellas': 9081, 'Thriving Ivory': 9082, 'Jackson Waters': 9083, 'Tyler Hilton': 9084, 'Radford': 9085, 'NEEDTOBREATHE': 9086, '島みやえい子': 9087, 'Cocco': 9088, '川田まみ': 9089, 'スピッツ': 9090, 'Lia': 9091, '平原綾香': 9092, '奥井雅美': 9093, '下川みくに': 9094, 'angela': 9095, '樹海': 9096, '박정현': 9097, 'day after tomorrow': 9098, '米倉千尋': 9099, 'FictionJunction YUUKA': 9100, '夏川りみ': 9101, 'Suara': 9102, 'BeForU': 9103, 'GARNET CROW': 9104, 'Every Little Thing': 9105, 'HΛL': 9106, '佐藤ひろ美': 9107, 'Sowelu': 9108, '石川智晶': 9109, '彩音': 9110, '工藤静香': 9111, 'スガシカオ': 9112, '有里知花': 9113, '彩菜': 9114, '栗林みな実': 9115, '絢香': 9116, 'Themselves': 9117, 'Eyedea & Abilities': 9118, 'Swami Niranjanananda Saraswati': 9119, 'Iron Lung': 9120, 'Corn on Macabre': 9121, 'Insect Warfare': 9122, 'Agents Of Abhorrence': 9123, 'Sole': 9124, 'Cage': 9125, 'Eyedea': 9126, 'art doom': 9127, 'Magrudergrind': 9128, 'Cannabis Corpse': 9129, 'The Art of Fact': 9130, 'Boom Bip & Doseone': 9131, 'Elefant': 9132, 'Catupecu Machu': 9133, 'Tanghetto': 9134, 'Bad Lieutenant': 9135, 'Varios(Bajofondo)': 9136, 'Odd Nordstoga': 9137, 'Beats Antique': 9138, 'Roy Harper': 9139, 'The Upper Egypt Ensemble': 9140, 'Android Lust': 9141, 'Solace': 9142, 'Arcangelo Corelli': 9143, 'Switchblade Symphony': 9144, 'Raquy and the Cavemen': 9145, 'Steve Roach': 9146, 'And Also the Trees': 9147, 'Hildegard von Bingen': 9148, 'Guillaume de Machaut': 9149, 'Knossos': 9150, 'The Vanishing': 9151, 'David Helpling & Jon Jenkins': 9152, 'Victor & Léo': 9153, 'Rafael Wanyer': 9154, 'Diego Boneta': 9155, 'Libra': 9156, 'Nicole Natalino': 9157, 'Sum': 9158, 'Kishe': 9159, 'Mark Ronson': 9160, 'Ewelina Flinta': 9161, 'Kenna': 9162, 'Fox': 9163, 'Ao Cubo': 9164, 'Sam Tsui & Christina Grimmie': 9165, 'Marcos e Belutti': 9166, 'Leandro Lopes': 9167, 'Sampa Crew': 9168, 'Sam Tsui': 9169, 'Só Pra Contrariar': 9170, 'Mc Martinho': 9171, 'Bonde da Stronda & Diwali': 9172, 'Bonde da Stronda & Mr.Catra': 9173, 'Dbs E A Quadrilha': 9174, 'Salaam-E-Ishq': 9175, 'Justin Bieber  ft Rascal Flatts': 9176, 'ProJota': 9177, 'Super Junior M': 9178, 'CD Sertanejo 2010 - NusinhoCDS': 9179, 'Bonde da Stronda e DH (CINE)': 9180, 'Living Language': 9181, 'Fiel a la Vega': 9182, 'El Canto del Loco': 9183, 'Arautos do Rei': 9184, 'Resgate': 9185, 'Novo Tom': 9186, 'Hillsong United': 9187, 'Carlinhos Félix': 9188, 'Raiz Coral': 9189, 'Dave Koz': 9190, 'Coral Resgate': 9191, 'Salzburg Chamber Soloists': 9192, 'Vertical Horizon': 9193, 'Kirk Whalum': 9194, 'Ludmila Ferber': 9195, 'DJ Antoine': 9196, 'Kleber Lucas': 9197, '레인보우': 9198, '나르샤': 9199, '남녀공학': 9200, 'Dark Prince': 9201, 'Glass Vaults': 9202, 'ETERNITY ∞': 9203, 'Fischer-Z': 9204, 'Simon Beckett': 9205, 'Frank Black': 9206, 'Haemorrhage': 9207, 'Cripple Bastards': 9208, 'Von': 9209, 'Archgoat': 9210, 'Ahumado Granujo': 9211, 'Autopsy': 9212, 'Terrorizer': 9213, 'Impaled': 9214, 'Repulsion': 9215, 'Folkearth': 9216, 'Dragonball & Dragonball Z': 9217, 'Anal Vomit': 9218, 'Kroda': 9219, 'Lividity': 9220, 'Nunslaughter': 9221, 'Windir': 9222, 'Birdflesh': 9223, 'Mutilator': 9224, 'Anal Blast': 9225, 'Horna': 9226, 'Absurd': 9227, 'Zé Ramalho': 9228, 'Ventania': 9229, 'Gram': 9230, 'Soccx': 9231, 'beFour': 9232, 'Die Happy': 9233, 'Lasgo': 9234, 'Lady Dana': 9235, 'Manos de Topo': 9236, 'Sr. Chinarro': 9237, 'Rabones': 9238, 'Naughty Zombies': 9239, 'Putilatex': 9240, 'ディル アン グレイ': 9241, 'Kittie': 9242, 'Gufi': 9243, 'Txus Di Fellatio': 9244, 'Stina Nordenstam': 9245, 'Mono Mono': 9246, 'A Palo Seko': 9247, 'Tronic': 9248, 'Manu Gavassi': 9249, 'Lee DeWyze': 9250, 'Cee Farrow': 9251, 'Zaine Griff': 9252, 'Classix Nouveaux': 9253, 'Tik and Tok': 9254, 'Wang Chung': 9255, 'Asylum Party': 9256, 'Ceca': 9257, 'Nataša Bekvalac': 9258, 'Ana Nikolić': 9259, 'Kylesa': 9260, 'Institute': 9261, 'Gavin Rossdale': 9262, 'ASP': 9263, 'Ray Wilson': 9264, 'Lesbian Bed Death': 9265, 'Tigertailz': 9266, 'Parálisis Permanente': 9267, 'Décima Víctima': 9268, 'H. Zombie': 9269, 'EROTIC SEXY MUSIC': 9270, 'Franz Schubert': 9271, 'Steve Stevens': 9272, 'The Jim Jones Revue': 9273, 'Jason Becker': 9274, 'Play Dead': 9275, 'Stiv Bators': 9276, 'Across The Universe Soundtrack': 9277, 'Paulino Chacon': 9278, '33Miles': 9279, 'De Oliveira, Daniel': 9280, 'Beyoncé e Lady Gaga': 9281, 'David Quinlan': 9282, 'Igreja Batista da Lagoinha': 9283, 'Adrian Lux': 9284, 'Jamie Woon': 9285, 'The Tornados': 9286, 'Ricky Nelson': 9287, 'Bucks Fizz': 9288, 'Wendy Carlos': 9289, 'Glenda Collins': 9290, 'The Brady Bunch': 9291, 'Silver Convention': 9292, 'The Pete Best Band': 9293, 'Goto80': 9294, 'Billy Murray': 9295, 'The Buggles': 9296, 'Herb Alpert and The Tijuana Brass': 9297, 'The Pete Best Combo': 9298, 'Lesley Gore': 9299, 'The Fourmost': 9300, 'Dinah Shore': 9301, 'Bing Crosby': 9302, 'Torley Wong': 9303, 'I Heart Hiroshima': 9304, 'An Horse': 9305, 'Jenny and Johnny': 9306, 'Emmy the Great': 9307, 'Iron On': 9308, 'char2d2': 9309, 'Reverie In Me': 9310, 'The Jealous Girlfriends': 9311, 'Chris Lambert': 9312, 'Camp Out': 9313, \"Grey's Anatomy\": 9314, 'Letters From a Tinman': 9315, 'Fences': 9316, 'Holly Miranda': 9317, 'A.C. Newman': 9318, 'Ohbijou': 9319, 'The Muffs': 9320, 'The The': 9321, 'Sigue Sigue Sputnik': 9322, 'T3CHN0PH0B1A': 9323, 'Ian McCulloch': 9324, 'Michigan': 9325, 'Jason Ferris': 9326, 'Myrmidon Process': 9327, 'The Hannibals': 9328, 'The Pinker Tones': 9329, 'Sister Machine Gun': 9330, 'Great Lakes Myth Society': 9331, 'The Breeders': 9332, 'Rho': 9333, 'Tesla': 9334, 'The Samples': 9335, 'Saxon Shore': 9336, 'Tardiss': 9337, 'The Church': 9338, 'orange crush': 9339, 'Lynch Mob': 9340, 'Marconi Union': 9341, 'The Evpatoria Report': 9342, 'Airbag': 9343, 'Screaming Trees': 9344, 'Babylon A.D.': 9345, 'Temple of the Dog': 9346, 'Bad Company': 9347, 'Stevie Nicks': 9348, 'Paul Rodgers': 9349, 'The Firm': 9350, 'Page & Plant': 9351, 'The Jeff Healey Band': 9352, 'Entheogenic': 9353, 'Zero Cult': 9354, 'Alpha': 9355, 'Ishq': 9356, 'Androcell': 9357, 'Sensorica': 9358, 'Bauri': 9359, 'Sweet Coffee': 9360, 'Jon Kennedy': 9361, 'dZihan & Kamien': 9362, 'X-Ray Dog': 9363, 'Future World Music': 9364, 'Aereda': 9365, 'Kenny G': 9366, 'Martin Phipps': 9367, 'Pfeifer Broz. Music': 9368, 'Charlie Clouser': 9369, 'Clay Aiken': 9370, 'Fugative': 9371, 'Kesha ft. 30H!3': 9372, 'Glee䮥': 9373, 'Britney Spears㞦': 9374, 'Britney Spears⊼': 9375, 'Timbiriche': 9376, 'Screen Biers': 9377, 'Rihannà': 9378, 'Thayruka': 9379, 'Britney Spears씨': 9380, 'Rick Aziago': 9381, 'Yelawolf': 9382, 'Native Deen': 9383, 'Young Money': 9384, 'EMINƎM': 9385, 'Abou Elleef': 9386, 'Nancy Ajram': 9387, 'Slaughterhouse': 9388, 'Yo Gotti': 9389, 'Tamer Hosny': 9390, 'Juelz Santana': 9391, 'Dam': 9392, 'Donnis': 9393, 'Paul Wall': 9394, 'Ziad Borji': 9395, 'ئلبي وعمري': 9396, 'Ramallah Underground': 9397, 'Carole Samaha': 9398, 'David Arkenstone': 9399, 'tobyMac': 9400, 'Boomkat': 9401, 'Alan Menken': 9402, 'Karmina': 9403, 'Dario Marianelli': 9404, 'Lifescapes': 9405, 'Alexandre Desplat & Aaron Zigman': 9406, 'Burning Brides': 9407, 'ozzy': 9408, 'Marilyn Mansoon': 9409, 'Blinded Colony': 9410, 'Arthur Brown': 9411, 'Daath': 9412, '{F.B.R}': 9413, 'April March': 9414, 'fbrlist.com - My Chemical Romance': 9415, 'Urge Overkill': 9416, 'Don Henley': 9417, 'Three Dog Night': 9418, '.38 Special': 9419, 'The Mavericks': 9420, 'Seals & Crofts': 9421, 'Órla Fallon': 9422, 'Steve Miller Band': 9423, 'Tommy James & The Shondells': 9424, 'Carlene Carter': 9425, 'Joe Walsh': 9426, \"The Lovin' Spoonful\": 9427, 'Dan Fogelberg': 9428, 'Little River Band': 9429, 'Pure Prairie League': 9430, 'Elvin Bishop': 9431, 'Michael Buble & Holly Palmer': 9432, 'James Taylor': 9433, 'Nicholas Gunn': 9434, 'The Marshall Tucker Band': 9435, 'Lisa Kelly': 9436, 'Jackson Browne': 9437, 'Khanate': 9438, 'Wolf Eyes': 9439, 'High on Fire': 9440, 'Melvins/Lustmord': 9441, 'Goatsnake': 9442, 'Big Business': 9443, 'Ground Zero': 9444, 'Earth': 9445, 'Black Dice': 9446, 'Thrones': 9447, 'Om': 9448, 'Oxbow': 9449, 'Harvey Milk': 9450, 'Shora': 9451, 'The Locust': 9452, 'Behold... the Arctopus': 9453, 'El Grupo Nuevo de Omar Rodriguez Lopez': 9454, 'Sun Ra': 9455, 'Masada': 9456, 'Lightning Bolt': 9457, 'Hella': 9458, 'The Quireboys': 9459, 'Vince Neil': 9460, 'Lee Aaron': 9461, 'Steel Panther': 9462, 'Megattack': 9463, 'AB/CD': 9464, 'Michael Angelo Batio': 9465, 'Missing Tide': 9466, 'Veruca Salt': 9467, 'Babes in Toyland': 9468, 'X-Ray Spex': 9469, 'Poe': 9470, 'CrashDďet': 9471, 'Hot Rod Crimson': 9472, 'Korn | www.arcannos.net': 9473, '06 Children Of The Cross': 9474, 'Phemon': 9475, 'Nico Stai': 9476, 'The Little Ones': 9477, 'Chad & Jeremy': 9478, 'Collin Raye': 9479, 'Portastatic': 9480, 'Cass McCombs': 9481, 'Outfunk': 9482, 'Funky 4 + 1': 9483, 'The Duke Spirit': 9484, 'Voxtrot': 9485, 'Scarlet Soho': 9486, 'Love Is All': 9487, 'Oppenheimer': 9488, 'Primus Inter Pares': 9489, 'A.M. Architect': 9490, 'The Ultrasonics': 9491, 'Tartar Lamb': 9492, '(We Are) Performance': 9493, 'Donnie Klang': 9494, 'iiO': 9495, 'Terence Fixmer': 9496, '12 Rounds': 9497, 'Miss Kittin & The Hacker': 9498, 'Anders Manga': 9499, 'Violet Stigmata': 9500, 'The Rorschach Garden': 9501, \"I Love You But I've Chosen Darkness\": 9502, 'Neon': 9503, 'Spectra Paris': 9504, 'The Neon Judgement': 9505, 'Ceramic Hello': 9506, 'Tobias Bernstrup': 9507, 'IGO': 9508, 'CETI': 9509, 'Helix': 9510, 'Monstrum': 9511, 'Tokyo Blade': 9512, 'Budka Suflera': 9513, 'Richard Clayderman': 9514, 'Lower Definition': 9515, 'Of Machines': 9516, 'Inner Side': 9517, 'Guilherme Zucconi': 9518, 'Tiffany Evans': 9519, 'Deceptikon': 9520, 'Blues Traveler': 9521, 'John Popper': 9522, 'Cacophony': 9523, 'Divine Weeks': 9524, '串田アキラ': 9525, 'The Blues Brothers 2000': 9526, 'One Day as a Lion': 9527, 'Sonny & Cher': 9528, 'Elf': 9529, 'Saturnus': 9530, 'Luna Amara': 9531, 'Vama Veche': 9532, 'Yoshihisa Hirano and Hideki Taniuchi': 9533, 'Negură Bunget': 9534, 'The Felice Brothers': 9535, 'Dan Bern': 9536, 'John Prine': 9537, 'The Duke & The King': 9538, 'Indigo Girls': 9539, 'Nox Arcana': 9540, 'Monsters of Folk': 9541, 'Bill Callahan': 9542, 'Neil Young & Crazy Horse': 9543, 'Conor Oberst and the Mystic Valley Band': 9544, 'Smog': 9545, 'Sara Bareilles & Ingrid Michaelson': 9546, 'Mariza': 9547, 'Angélico & Diana': 9548, 'Hope': 9549, 'Ahmed Bukhatir': 9550, 'Leonard J. Paul': 9551, 'Gustav Mahler': 9552, 'Sheila Chandra': 9553, 'Jai Uttal': 9554, '芸能山城組': 9555, 'Sami Yusuf': 9556, 'Geinoh Yamashiro-gumi': 9557, 'Auktyon': 9558, 'Emad Sayyah': 9559, 'Lester Flatt & Earl Scruggs': 9560, 'Trancendental Anarchists': 9561, 'David Arnold': 9562, 'Warner Bros.': 9563, \"Dinesh D'Souza\": 9564, 'Frank Luntz': 9565, '土屋アンナ': 9566, 'BONNIE PINK': 9567, 'ayaka': 9568, 'Angela Aki': 9569, '아이비': 9570, 'Mindless Faith': 9571, '坂本美雨': 9572, 'Hironosuke Satou': 9573, 'SoulJa': 9574, 'Jackie Chan & Kim': 9575, \"ANNA TSUCHIYA inspi' NANA (BLACK STONES)\": 9576, 'Spin Aqua': 9577, 'Ivy': 9578, 'B2K': 9579, 'MISIA': 9580, 'Jin-Roh': 9581, 'Twinkle': 9582, 'Caroline': 9583, 'Alize': 9584, '椎名林檎': 9585, '姫神': 9586, '東京事変': 9587, '笹川美和': 9588, 'Symarip': 9589, 'The Pioneers': 9590, 'Prince Buster': 9591, 'The Offenders': 9592, 'Derrick Morgan': 9593, 'The Kingstonians': 9594, 'Desmond Dekker': 9595, 'Alton Ellis': 9596, 'The Ethiopians': 9597, 'Jimmy Cliff': 9598, 'Scrapy': 9599, 'The Clarendonians': 9600, 'Judge Dread': 9601, 'The Upsessions': 9602, \"The Kings of Nuthin'\": 9603, 'Perkele': 9604, 'Hub City Stompers': 9605, 'The Upsetters': 9606, 'The Tennors': 9607, 'Justin Hinds & The Dominoes': 9608, 'The Techniques': 9609, 'Phyllis Dillon': 9610, 'Clancy Eccles': 9611, 'Mr. Symarip': 9612, 'Skarface': 9613, 'Dandy Livingstone': 9614, 'The Hot Rod All Stars': 9615, 'Slim Smith': 9616, 'The Blues Busters': 9617, 'Evil Conduct': 9618, 'Loikaemie': 9619, 'The Pepper Pots': 9620, 'The Maytals': 9621, '8°6 Crew': 9622, 'Stomper 98': 9623, 'Pat Kelly': 9624, 'Dr. Ring-Ding & The Senior Allstars': 9625, 'The Melodians': 9626, 'The Versatiles': 9627, 'The Silvertones': 9628, 'Edwyn Collins': 9629, 'The Gutter Twins': 9630, 'The Divine Comedy': 9631, 'Kula Shaker': 9632, 'Brett Anderson': 9633, 'Mono Inc.': 9634, 'Peter Fox': 9635, 'Jesus on Extasy': 9636, 'Zeraphine': 9637, 'Joachim Witt': 9638, 'End of Green': 9639, 'Manuel Antoni': 9640, 'mono inc. & lisa middelhauve': 9641, 'Transvision Vamp': 9642, 'Eisheilig': 9643, 'The Dreamside': 9644, 'Schock': 9645, 'Karat': 9646, 'Manfred Mann': 9647, 'The Butterfly Effect': 9648, 'Baroness': 9649, 'Stone Gods': 9650, 'stonecollar': 9651, 'Ірина Білик': 9652, 'Quentin Mosimann': 9653, 'Natalia Oreiro': 9654, 'Amanda Lepore': 9655, 'Patricia Kaas': 9656, 'Крихітка': 9657, 'Despina Vandi': 9658, 'Лама': 9659, 'Danny Gokey': 9660, 'Alex Lambert': 9661, 'Michael Johns': 9662, 'Matt Willis': 9663, 'Mackenzie 1st': 9664, 'Flotation Toy Warning': 9665, 'Moving Mountains': 9666, 'Au4': 9667, 'Ctrl-Alt-Delete': 9668, 'Chris Bathgate': 9669, 'Todd Barry': 9670, 'Border Patrol': 9671, 'Lights Out Asia': 9672, 'The Helio Sequence': 9673, 'Elvis Crespo': 9674, 'Pedra': 9675, 'Varias': 9676, 'Sonny Black & Frank White': 9677, 'Pyranja': 9678, 'Chakuza': 9679, 'Sookee': 9680, 'Kool Savas': 9681, 'The Rock': 9682, 'Lili': 9683, 'Travie McCoy': 9684, 'Jan Delay': 9685, 'Samy Deluxe': 9686, 'Absolute Beginner': 9687, 'FILMharmonic Orchestra Prague': 9688, \"Israel Kamakawiwo'ole\": 9689, 'Dynamite Deluxe': 9690, 'Dale Schacker': 9691, 'Bodo Wartke': 9692, 'Das Bo': 9693, 'Azad': 9694, 'Russell Watson': 9695, 'Beginner': 9696, 'Curse': 9697, 'Grand Magus': 9698, 'Joan Baez': 9699, 'Nara Leão': 9700, 'Francisca Valenzuela': 9701, 'Griffin House': 9702, 'Etana': 9703, 'Joan Baez & Bob Dylan': 9704, '8 Femmes': 9705, 'Violeta Parra': 9706, 'Ceumar': 9707, 'Judy Collins': 9708, 'J. Tillman': 9709, 'Rosario Mena': 9710, 'Rose': 9711, 'Luz Casal': 9712, 'Milton Nascimento': 9713, 'Tim and Eric': 9715, 'Buckethead': 9716, 'Paul Gilbert': 9717, 'Magnetic Man': 9718, 'Beth Ditto': 9719, 'Natacha Atlas': 9720, 'Johanna Kurkela': 9721, 'Birdy': 9722, 'Ensemble': 9723, 'Anika Moa': 9724, 'Diana Navarro': 9725, 'Rosanna': 9726, 'Wild Beasts': 9727, 'The Overtones': 9728, 'Sunday Girl': 9729, 'Benjamin Francis Leftwich': 9730, 'Christian Walz': 9731, 'Fenech-Soler': 9732, 'Jai Paul': 9733, 'Mustafa Sandal': 9734, 'Edvin Marton': 9735, 'Untouchable': 9736, 'Superbus': 9737, 'dragon ball z': 9738, 'Move': 9739, '周杰倫': 9740, 'Afshin': 9741, 'Najoua Belyzel': 9742, 'Zero Assoluto': 9743, 'Initial D': 9744, 'Etienne Daho': 9745, 'Saurom': 9746, 'The Murmurs': 9747, 'Davut Güloğlu': 9748, 'Killerpilze': 9749, 'Marius': 9750, 'The Kelly Family': 9751, 'Stunt': 9752, 'B.o.B  ft. Hayley Williams': 9753, 'Маша Фокина': 9754, 'Алина Гросу': 9755, 'Макс Барских': 9756, 'Наталья Могилевская': 9757, 'REAL O': 9758, 'Потап и Настя': 9759, 'Павел Зибров': 9760, 'Raunchy': 9761, 'Darkstar': 9762, 'FaltyDL': 9763, 'Autopilot Off': 9764, 'Element Eighty': 9765, 'Gui Boratto': 9766, 'The Legion of Doom': 9767, 'Dead and Divine': 9768, 'Sydney': 9769, 'The Morning Of': 9770, 'The Holly Springs Disaster': 9771, 'Farewell to Freeway': 9772, 'Boys Night Out': 9773, 'Everlea': 9774, 'Straight Reads The Line': 9775, 'Sonny Moore': 9776, 'Pereza': 9777, 'Omar A. Rodriguez-Lopez': 9779, 'Dhal': 9780, 'los ex': 9781, 'Holy Molar': 9782, 'The Kilimanjaro Darkjazz Ensemble': 9783, 'The Ganjas': 9784, 'House of Low Culture': 9785, 'Hielo Negro': 9786, '夢中夢': 9787, 'Карандаш': 9788, 'СД': 9789, 'AL Hammer': 9790, 'Смоки Мо': 9791, 'LiCK MY SCaRS': 9792, 'MaryJane': 9793, 'Fireworks': 9794, 'A Loss For Words': 9795, 'Trash Talk': 9796, 'The Years Gone By': 9797, 'Ligeia': 9798, 'Just Surrender': 9799, 'Daggermouth': 9800, 'Cold World': 9801, 'Deny Everything': 9802, 'Heart To Heart': 9803, 'MyChildren MyBride': 9804, 'Another Breath': 9805, 'Jungle Fever': 9806, 'Man Overboard': 9807, 'Dead Hearts': 9808, 'Act As One': 9809, 'Lions Lions': 9810, 'Heartsounds': 9811, 'Crucial Dudes': 9812, 'Carpathian': 9813, '50 Lions': 9814, 'Let Down': 9815, 'Cockpunch!': 9816, 'Bravo': 9817, 'Mother Love Bone': 9818, 'Tuff': 9819, 'Diego Torres': 9820, 'Run-D.M.C.': 9821, 'Firehouse': 9822, 'Teenage Fanclub': 9823, 'The Smithereens': 9824, 'Big Star': 9825, 'Del Amitri': 9826, 'Cosmic Rough Riders': 9827, 'Mercenary': 9828, 'Steel Pulse': 9829, 'Ky-Mani Marley': 9830, 'Soldiers of Jah Army': 9831, 'Black Uhuru': 9833, 'Israel Vibration': 9834, 'Gregory Isaacs': 9836, 'Sizzla': 9837, 'Anthony B': 9838, 'Burning Spear': 9839, 'Gentleman': 9840, 'Barrington Levy': 9843, 'Karl Wolf': 9844, 'Outlandish': 9845, 'Cameron Cartio': 9846, 'Kardinal Offishall': 9847, 'Shreya Ghoshal & Shaan': 9848, 'Miley Cyrus and Billy Ray Cyrus': 9849, 'K.K.': 9850, 'Sunidhi Chauhan': 9851, 'Sense Field': 9852, 'אריק ברמן': 9853, 'CPM 22 -  MTV AO VIVO': 9854, 'Garotos Podres': 9855, 'U2 and Green Day': 9856, 'Visite [www.musikawarez.com]': 9857, 'Republica': 9858, 'Red Red Groovy': 9859, 'Felix da Housecat': 9860, 'The Shamen': 9861, 'Meat Beat Manifesto': 9862, 'Tones on Tail': 9863, 'The Cuts': 9864, 'B-Movie': 9865, 'Kombi': 9866, 'Ice Machine': 9867, 'Peter Heppner': 9868, 'Elegant Machinery': 9869, 'Reveille': 9870, 'Basko Sthlm': 9871, 'Fear': 9872, 'Black Oak Arkansas': 9873, 'Hjaltalín': 9874, 'Sudden Weather Change': 9875, 'Sin Fang Bous': 9876, \"I'm from Barcelona\": 9877, 'Útidúr': 9878, 'Sprengjuhöllin': 9879, 'Agent Fresco': 9880, 'Laura Veirs': 9882, 'Raz, Dwa, Trzy': 9886, 'Agnieszka Osiecka': 9887, 'Die Fantastischen Vier': 9888, 'Verba': 9889, '25 LAT LISTY PRZEBOJÓW TRÓJKI': 9890, 'vir': 9891, 'Roger Sanchez': 9892, 'KSM': 9893, 'Robh Hokum': 9894, 'Taylor Swfit ft. Tyler Hilton': 9895, 'Calogero': 9896, 'Hednoize': 9897, 'ENUR feat. Natasja': 9898, 'Timbaland ft.Nelly Furtado and Soshy': 9899, 'Rick GhraphiXxX': 9900, 'Rick Ross': 9901, 'Young Jeezy': 9902, 'Fred Hammond': 9903, 'Raheem DeVaughn': 9904, 'Plies': 9905, 'Bilal': 9906, 'R. Kelly': 9907, 'Black&Mouse': 9908, 'Fred Hammond & Radical for Christ': 9909, 'Jay-Z & Coldplay': 9910, 'Freddie Jackson': 9911, 'Q-Tip': 9912, 'Andre 3000': 9913, 'Jay-Blaze': 9914, 'Truckfighters': 9915, 'Colour Haze': 9916, 'Monkey3': 9917, 'Hermano': 9918, 'Triumph': 9919, 'Brant Bjork': 9920, 'Nebula': 9921, 'The Atomic Bitchwax': 9922, 'Astroqueen': 9923, 'Blind Dog': 9924, 'Rotor': 9925, 'Ted Nugent': 9926, 'Jacek Kaczmarski': 9927, 'Stare Dobre Małżeństwo': 9928, '石井妥師': 9929, 'Kabaret Starszych Panów': 9930, 'The Mighty Boosh': 9931, 'Grabaż i Strachy Na Lachy': 9932, 'Bielizna': 9933, 'The Amity Affliction': 9934, 'Yashin': 9936, 'Yasuharu Takanashi': 9940, 'Endeverafter': 9941, 'Vanna': 9943, 'Egypt Central': 9944, 'Beans on Toast': 9947, 'Willy Mason': 9948, 'The Arcade Fire': 9951, 'Tellison': 9952, 'The Dykeenies': 9953, 'The Twilight Sad': 9955, 'The Stills': 9959, 'Tiger Army': 9960, 'Nasty': 9961, 'Deadbolt': 9962, 'Your Demise': 9963, 'The Lively Ones': 9964, 'The Ghastly Ones': 9965, 'Bigwig': 9966, 'Discharger': 9967, 'November Növelet': 9968, 'Bronski Beat': 9969, 'Flesh & Space': 9970, 'Nina Nastasia': 9971, 'Pride of Mind': 9972, 'FabrikC': 9973, 'Amorphous Androgynous': 9974, 'Ice Ages': 9975, 'Nerina Pallot': 9976, 'The Hoosiers': 9977, 'Subway to Sally': 9978, 'Tanzwut': 9979, 'Anne Clark': 9980, 'Geoff Zanelli': 9981, 'Evermore': 9982, 'Christian Bruhn': 9983, 'goJA moon ROCKAH': 9984, 'HANSA ROSTOCK': 9985, 'Jesper Kyd': 9986, 'Pulsedriver': 9987, 'West End Girls': 9988, 'Pet Shop Boys ft Brandon Flowers Lady GaGa': 9989, 'Steve Winwood': 9990, 'Andrew Gold': 9991, 'Mel & Kim': 9992, 'The Korgis': 9993, 'Arrowwood': 9994, 'Шмели': 9995, 'Ruxpin': 9996, 'Pan Sonic': 9997, 'múm & Úrú Búrú Sextettinn': 9998, 'Mortiis': 9999, 'Mantis Psi': 10000, 'Kría Brekkan': 10001, 'Hildur Guðnadóttir': 10002, 'aho': 10003, '#2 Orchestra': 10004, 'Borko': 10005, 'klyxn': 10006, 'Dvar': 10007, 'novemthree': 10008, 'Múm Músikvatur': 10009, 'Camerata Mediolanense': 10010, 'Solanaceae': 10011, 'OST Tension': 10012, 'Ocarina': 10013, 'Ólöf Arnalds': 10014, 'Yerzmyey': 10015, 'Nikka Costa': 10016, 'Michel Polnareff': 10017, 'Beautiful Small Machines': 10020, 'Amy Jo Johnson': 10022, 'Emma Lahana': 10023, 'The Left Rights': 10024, 'Max Tundra': 10025, 'Richard Cheese': 10026, 'Ike & Tina Turner': 10027, 'Zélia Duncan': 10028, 'Naive New Beaters': 10029, 'Digimortal': 10030, 'Shiva in Exile': 10031, 'ТЕХНИКА : НЕИСПРАВНА': 10032, 'The Death Set': 10033, 'Evo': 10034, 'InVekTiva': 10035, 'Breakdown Of Sanity': 10036, 'BiopsyhoZ': 10037, 'Young Guns': 10038, 'A Silent Film': 10039, 'Days of the New': 10040, 'The Four Tops': 10041, 'Collective Soul': 10042, 'Grammatik': 10043, 'Trzeci Wymiar': 10044, 'Fenomen': 10045, 'AbradAb': 10046, 'Kasia Wilk': 10047, 'Mesajah': 10048, 'Andiman': 10049, 'Kaliber 44': 10050, 'Junior Stress': 10051, 'W Witrynach Odbicia': 10052, 'Dna & Gal': 10053, 'Bas Tajpan & Miuosh': 10054, 'Scarface': 10055, 'Daz Dillinger': 10056, 'Jaime Camil': 10057, 'Daniela Herrero': 10058, 'Bandana': 10059, 'Lucy Walsh': 10060, 'Las Pastillas del Abuelo': 10061, 'Fabiana Cantilo': 10062, 'Subsonica': 10063, 'Rain Tree Crow': 10064, 'Motel Connection': 10065, 'David Sylvian & Robert Fripp': 10066, 'Devils': 10067, 'The Bastard Sons of Dioniso': 10068, 'Finger Eleven': 10069, 'Gob': 10070, 'Mariottide': 10071, 'Prozac+': 10072, 'Лаванда': 10073, 'Дима Билан': 10074, 'Чи-Ли': 10075, 'Giorgia': 10076, 'Negrita': 10077, 'Jovanotti': 10078, 'The Tears': 10080, 'Dies Irae': 10086, 'The Witcher Soundtrack': 10087, 'One Man Army and the Undead Quartet': 10088, 'Post Scriptum': 10089, 'Maigra': 10090, 'Diablo': 10091, 'Sonic Mayhem': 10092, 'Heroes Of Might & Magic III Soundtrack': 10093, 'Yattering': 10094, 'Vital Remains': 10095, 'Gothic II Soundtrack': 10096, 'Inon Zur': 10097, 'Pitbulls In The Nursery': 10098, 'Suffocation': 10099, 'Abysmal Dawn': 10100, 'Trauma': 10101, 'Revocation': 10102, 'Jung jae hwan': 10103, 'Amorphous': 10104, 'The Sound': 10105, 'Stockholm Monsters': 10106, 'Tear Down The Lies!': 10107, 'Real Estate': 10108, 'The Male Pattern Band': 10109, 'Electrelane': 10110, 'The Durutti Column': 10111, 'MP Band/ Tear Down The Lies!': 10112, 'Alex Chilton': 10113, 'John Leyton': 10114, 'Minny Pops': 10115, 'Tamaryn': 10116, 'Dean Wareham': 10117, 'Longview': 10118, 'Chris Bell': 10119, 'E.S.G.': 10120, 'Anni Rossi': 10121, 'Small Black': 10122, 'The Raincoats': 10123, 'Zumbis do Espaço': 10124, 'Axxis': 10125, 'Attaque 77': 10126, 'The Toy Dolls': 10127, 'Matell': 10128, 'Shirley Bassey': 10129, 'The Supremes': 10130, 'Thomas Nicholas': 10131, 'Sylvester': 10132, 'Diana Ross and The Supremes': 10133, 'Lou Rawls': 10134, 'Robin Thicke & Mary J. Blige': 10135, 'Chaka Khan Album': 10136, 'Victor Matell': 10137, 'Diana Ross, Michael Jackson & Quincy Jones': 10138, 'Diana Ross and Lionel Richie': 10139, 'Charlie Wilson': 10140, 'Barbra Streisand & Barry Gibb': 10141, 'Dionne Warwick': 10142, 'Stephanie Mills': 10143, 'Tyrone Davis': 10144, 'George Benson': 10145, 'Karyn White': 10146, 'Ashford & Simpson': 10147, 'MaFadden & Whitehead': 10148, 'Roberta Flack & Donny Hathaway': 10149, 'Patti LaBelle': 10150, 'Gladys Knight & The Pips': 10151, 'Barry Gibb': 10152, 'Mary J Blige & C.L. Smooth': 10153, 'MICHAAEL JACKSON': 10154, 'Elton John & Leon Russell': 10155, 'Ce Ce Peniston': 10156, 'S.O.S. Band': 10157, 'Dino': 10158, 'Sylvia': 10159, 'The Noise Affinity': 10160, 'Scorn': 10161, 'Pig': 10162, 'Chemlab': 10163, 'Muslimgauze': 10164, 'Chris & Cosey': 10165, 'Richard H. Kirk': 10166, 'Premature Ejaculation': 10167, 'Combat Astronomy': 10168, \"Z'EV\": 10169, 'Elektric Music': 10170, 'Uniform': 10171, 'Pati Yang': 10172, 'Älymystö': 10173, 'Severed Heads': 10174, 'Marius Müller-Westernhagen': 10176, 'Virginia Jetzt!': 10181, 'Herbert Grönemeyer': 10182, 'Lorrie Morgan': 10184, 'Steve Appleton': 10185, 'Zac Efron, Cast of High School Musical': 10186, 'Kevin Bazinet': 10187, 'Maria Lawson': 10188, 'Cipes And The People': 10189, 'Greg Raposo': 10190, 'Joseph LoDuca': 10191, 'Terramara': 10192, 'Cepia': 10193, 'Epic45': 10194, 'Halloween, Alaska': 10195, 'Dungen': 10196, 'Fiction Plane': 10197, 'Mason Jennings': 10198, 'The Jayhawks': 10199, 'Alicia Wiley': 10200, 'Galactic': 10201, 'Kiln': 10202, 'David Ford': 10203, 'An Explorer': 10204, 'Adam Johnson': 10205, 'Arc Angels': 10206, 'The Pines': 10207, '梶芽衣子': 10208, 'Heitor Villa-Lobos': 10209, 'Dengue Fever': 10210, 'Popol Vuh': 10211, 'Nathan Barr': 10212, 'Sergei Prokofiev': 10213, 'Sleater-Kinney': 10214, 'Manfred Hübler & Siegfried Schwab': 10215, 'Kaname Kawachi': 10216, 'Bernard Herrmann': 10217, 'Abel Korzeniowski': 10218, 'Fabio Frizzi': 10219, 'Montage': 10220, 'Philippe Rombi': 10221, 'Elliot Goldenthal': 10222, 'Jo Yeong-wook': 10223, 'Giacomo Puccini': 10224, 'Georges Bizet': 10225, '鈴木あみ': 10226, 'けちゃっぷmania': 10227, '水樹奈々': 10228, 'オレスカバンド': 10229, 'Ketchup Mania': 10230, 'HALCALI': 10231, 'YUKI': 10232, 'Buono!': 10233, 'Yum!Yum!ORANGE': 10234, '田村ゆかり': 10235, 'Puukko-Allu': 10236, 'HINOIチーム': 10237, 'Paffendorf': 10238, '岡本玲': 10239, 'Julma-Henri & Syrjäytyneet': 10240, 'ステレオポニー': 10241, '詩月カオリ': 10242, 'やなわらばー': 10243, 'misono': 10244, 'S.E.S.': 10245, 'Satou Rina & Inoue Marina & Chihara Minori': 10246, 'RIP SLYME': 10247, 'Lo-Fi-Fnk': 10248, 'Akeboshi': 10249, 'Şevval Sam': 10250, 'Uma Thurman': 10251, 'Pamela': 10252, 'Kıraç': 10253, 'Ayla Dikmen': 10254, 'Murat Kekilli': 10255, 'GÜlay': 10256, 'Şenay': 10257, 'Hatice': 10258, '13': 10259, 'Füsun Önal': 10260, 'Intizar': 10261, 'Gül Erda': 10262, 'Rafet El Roman': 10263, 'Yui Makino': 10264, 'Elveda Rumeli': 10265, 'Nil Burak': 10266, 'İntizar': 10267, 'İclal Aydın': 10268, 'Guelay74': 10269, 'paylas.de': 10270, 'Hakan Peker': 10271, 'KiraÇ': 10272, 'Kader': 10273, 'Cici Kızlar': 10274, 'SİNAN ÖZEN': 10275, 'Tabir': 10276, 'Zeynep Başkan': 10277, 'Murat Kekİllİ': 10278, 'BariŞ ManÇo': 10279, 'Sessizlik': 10280, 'Ebru Yaşar': 10281, 'Cansu Koç': 10282, 'Fisz': 10289, 'Jeden Osiem L': 10295, 'Corpore': 10299, 'Tourniquet': 10300, 'Skunk D.F.': 10301, 'Hamlet': 10302, 'SKIZOO': 10303, 'Marcos Witt': 10304, 'Sôber': 10305, 'dc Talk': 10306, 'Tired Of Waiting': 10307, 'Savia': 10308, 'The Red Chord': 10309, 'Sevendust': 10310, 'Stravaganzza': 10311, 'Govinda': 10312, 'Francis and the Lights': 10313, 'Chairlift': 10314, 'Mugison': 10315, 'Allstar Weekend': 10316, 'Joe Jonas': 10317, 'The Friday Night Boys': 10318, 'Lady Gaga feat Beyoncé': 10319, 'Helge Schneider': 10320, 'Ginger Ninja': 10321, 'O.A.R.': 10322, 'The Floor Is Made Of Lava': 10323, 'Moi Caprice': 10324, 'Absynthe Minded': 10325, 'Yevgueni': 10326, 'Air Traffic': 10327, 'Admiral Freebee': 10328, 'Waii': 10329, 'มาช่า วัฒนพานิช': 10330, 'Alan Hawkshaw': 10331, 'Keith Mansfield': 10332, 'Piero Umiliani': 10333, 'Peter Thomas': 10334, 'Syd Dale': 10335, 'Hugo Montenegro': 10336, 'Piero Piccioni': 10337, 'Armando Trovaioli': 10338, 'Gianni Ferrio': 10339, 'Bruno Nicolai': 10340, 'Perrey & Kingsley': 10341, 'James Clarke': 10342, 'Johnny Pearson': 10343, 'Gert Wilden & Orchestra': 10344, 'Stelvio Cipriani': 10345, 'The Digs': 10346, 'Emitt Rhodes': 10347, 'David Lindup': 10348, 'Peter Thomas Sound Orchestra': 10349, 'Brian Bennett': 10350, 'Lalo Schifrin': 10351, 'First Moog Quartet': 10352, 'Laurie Johnson': 10353, 'Steve Gray': 10354, 'François de Roubaix': 10355, 'Pino Donaggio': 10356, 'Alan Moorhouse': 10357, 'Henry Mancini': 10358, 'Bruce Haack': 10359, 'Roy Budd': 10360, 'Nelson Riddle': 10361, 'Mort Garson': 10362, 'Martin Denny': 10363, 'Dennis Coffey': 10364, 'Walter Wanderley': 10365, 'Francesco De Masi': 10366, 'The Millennium': 10367, 'John Schroeder': 10368, 'Burt Bacharach': 10369, 'Goblin': 10370, 'Margo Guryan': 10371, 'John Carpenter': 10372, 'John Buzon Trio': 10373, 'David Axelrod': 10374, 'Al Caiola': 10375, 'Gil Trythall': 10376, 'Alain Goraguer': 10377, 'girls in the eighties': 10378, 'Teen Daze': 10379, 'The Wagner logic': 10380, 'Entertainment For The Braindead': 10381, 'False Awakening': 10382, 'Esben and the Witch': 10383, 'Memoryhouse': 10384, 'A Place to Bury Strangers': 10385, 'Eternal Summers': 10386, 'Vanda.': 10387, 'seabright': 10388, 'Trent Reznor and Atticus Ross': 10389, 'Hurt': 10390, 'Coyote Clean Up': 10391, 'Jay Dee': 10392, 'Jean Grae': 10393, 'Curtis Mayfield': 10394, 'Roots Manuva': 10395, 'Citizen Cope': 10396, 'Cool Calm Pete': 10397, 'Reflection Eternal': 10398, 'Jay Electronica': 10399, 'Jehst': 10400, 'The Vincent Black Shadow': 10401, 'Mad Sin': 10402, 'Bloodsucking Zombies From Outer Space': 10403, 'Calabrese': 10404, 'Nim Vind': 10405, 'Rezurex': 10406, 'Bert Jansch': 10407, 'The Crimson Ghosts': 10408, 'Kaddisfly': 10409, 'Frankenstein Drag Queens From Planet 13': 10410, 'THE VICKERS': 10411, 'Crosby, Stills, Nash & Young': 10412, 'Tom Zé': 10413, 'The Gerbils': 10414, 'Orquestra Imperial': 10415, 'Katchafire': 10416, 'Impacto Cinco': 10417, 'Novos Baianos': 10418, 'Firebug': 10419, 'Do Amor': 10420, '2AM Club': 10421, 'Nonpalidece': 10422, 'Elza Soares': 10423, 'Silvia Machete': 10424, 'El Efecto': 10425, 'Red Dons': 10426, '3 na Massa': 10427, 'Thinking Fellers Union Local 282': 10428, 'Alexandra Stan': 10429, 'Otto Dix': 10430, 'Слава': 10431, 'Aya Ueto': 10432, \"Bomfunk MC's\": 10433, 'Izumi Katou': 10434, 'Мара': 10435, 'Dune': 10436, 'Kabát': 10437, 'Chaoskinder': 10438, 'Shakira Ft. Lil Wayne & Timbaland': 10439, 'Dschinghis Khan': 10440, 'The Heart Attacks': 10441, 'Glorious Bankrobbers': 10442, 'Falling Red': 10443, 'The Heartbreakers': 10444, 'Graveyard': 10445, 'Addiction For Destruction': 10446, 'Peter Pan Speedrock': 10447, 'OFF!': 10448, 'Orchid': 10449, 'Panzer Princess': 10450, 'Cowboy Prostitutes': 10451, 'Night Fever': 10452, 'Magnum': 10453, 'Argent': 10454, 'Michael Schenker Group': 10455, 'Masters of Reality': 10456, 'The Union': 10457, 'The Reasoning': 10458, 'Fábio Jr.': 10459, 'LS Jack': 10460, 'Jazzkantine': 10461, 'Söhne Mannheims': 10462, 'BAP': 10463, 'Dub Incorporation': 10464, 'Alliance Ethnik': 10465, 'Fonky Family': 10466, 'IAM': 10467, 'Incognito': 10468, 'Wolf Maahn': 10469, 'Pride of Lions': 10470, 'Bob Catley': 10471, 'The Flower Kings': 10472, 'Redemption': 10473, 'Liza Marklund': 10474, 'Pretty Maids': 10475, 'Arena': 10476, 'The Crowns': 10478, 'Spinvis': 10479, '40 УКВ': 10482, 'Свиньи В Космосе': 10483, 'Torment Day': 10484, 'Газон': 10485, 'Пурген': 10486, '40 градусов': 10487, 'Стингер': 10488, 'Фантастика': 10489, 'The Joystick': 10490, 'Кирпичи': 10491, 'Molecul': 10492, 'Sektor Gaza': 10493, 'Элизиум': 10494, 'Dёргать!': 10495, 'Karate High School': 10496, 'БРИГАДНЫЙ ПОДРЯД': 10497, 'Plush Fish': 10498, 'Паразиты': 10499, 'Ray': 10500, 'MUTAGEN': 10501, 'ГРЕЧКА': 10502, '10-20 БЕЗ ВЫХОДНЫХ': 10503, 'Король И Шут': 10504, 'Таке-Тшо': 10505, 'Адаптация': 10506, 'Насморк': 10507, 'Marselle': 10508, 'Duff McKagan': 10509, 'Ricky Martin & Christina Aguilera': 10510, 'Great Expectations': 10511, 'E. Górniak /  M. Szcześniak': 10512, 'Kate Winslet': 10513, 'Anna Maria Jopek': 10514, 'dEUS': 10515, 'Murcof': 10516, 'Dntel': 10517, 'Nathan Fake': 10518, 'Skalpel': 10519, 'Soldout': 10520, 'Bitcrush': 10521, 'Mouse on Mars': 10522, 'Gustavo Santaolalla': 10523, 'Death in Vegas': 10524, 'Spineshank': 10525, 'Crash Test Dummies': 10526, 'Parque En El Espacio': 10527, 'PerroZompopo': 10528, 'Federico Miranda': 10529, 'María Pretiz': 10530, 'José Capmany': 10531, 'Santos & Zurdo': 10532, 'Editus': 10533, 'Gandhi': 10534, 'The Music': 10535, 'Úztari': 10536, 'Mad Season': 10537, 'Malpaís': 10538, 'Kurt Dyer': 10539, 'Inconsciente Colectivo': 10540, 'Fernando Delgadillo': 10541, 'Sao Paulo Futebol Clube': 10542, 'Joaquin Phoenix': 10543, 'Vibe Tribe': 10544, 'Stolen Babies': 10545, 'Mezo i Kasia Wilk': 10546, 'TOKiMONSTA': 10547, 'Epik High': 10548, 'Lil B': 10549, 'Freddie Joachim': 10550, 'Knxwledge': 10551, 'Blu': 10552, 'Panacea': 10553, 'Shoji Meguro': 10554, 'Curren$y': 10555, 'Cannibal Ox': 10556, 'Michita': 10557, 'Hudson Mohawke': 10558, 'Crown City Rockers': 10559, 'Shin-Ski': 10560, 'Samiyam': 10561, 'Dibiase': 10562, 'Trapped Under Ice': 10563, 'Big D and the Kids Table': 10564, 'Teenage Bottlerocket': 10565, 'Down to Nothing': 10566, 'International Superheroes of Hardcore': 10567, 'True Colors': 10568, 'Kingdom': 10569, 'Blood for Blood': 10570, 'Mustard Plug': 10571, 'Guttermouth': 10572, 'All For Nothing': 10573, 'Jaya the Cat': 10574, 'Righteous Jams': 10575, 'Frostbite': 10576, 'Internal Affairs': 10577, 'Hellmouth': 10578, 'The Vandals': 10579, 'Furious Styles': 10580, 'All Or Nothing H.C.': 10581, 'LM.C': 10582, 'ORANGE RANGE': 10583, 'Cliff Burton': 10584, 'Turisas': 10585, 'Jesus Christ Superstar O.S.T.': 10586, 'Gustav Holst': 10587, 'Ian Anderson': 10588, 'Trop Tard': 10589, 'Ludovic': 10590, 'Vzyadoq Moe': 10591, 'Nene Altro & O Mal de Caim': 10592, 'DODDODO': 10593, 'Norma Loy': 10594, 'Sick Terror': 10595, 'Poésie Noire': 10596, 'One Less Reason': 10597, 'The Gossip': 10598, 'Fabian Buch': 10599, 'Mario Vazquez': 10600, 'Joseph Vincent': 10601, 'Digga': 10602, 'Massari': 10603, 'Juli': 10604, 'ashe watson': 10605, 'Taio Cruz Feat. Kylie Minogue': 10606, 'Tinie Tempah feat. Kelly Rowland': 10607, 'Mario': 10608, 'Titus Andronicus': 10609, 'Menomena': 10610, 'Fang Island': 10611, 'Das Racist': 10612, \"Carissa's Wierd\": 10613, 'High Places': 10614, 'Wavves': 10615, 'Bear in Heaven': 10616, 'Superguidis': 10617, 'Shout Out Louds': 10618, 'Gluecifer': 10619, 'MC5': 10620, 'Paul Anka': 10621, 'Welle:Erdball': 10622, 'Beverly Kenney': 10623, 'Joni James': 10624, 'Andy Bell': 10625, 'Cliff Richard': 10626, 'Andy Williams': 10627, 'Doris Day': 10628, 'T.O.Y.': 10629, 'Neil Sedaka': 10630, 'Vacuum': 10631, 'Jo Stafford': 10632, 'Marc and the Mambas': 10633, 'Engelbert Humperdinck': 10634, '!DISTAIN': 10635, 'Dark Voices': 10636, 'Pernilla Wahlgren': 10637, 'Connie Francis': 10638, 'Slimmy': 10639, 'Lesley Roy': 10640, 'Savannah Outen': 10641, 'N-O-D': 10642, 'M.A.N.': 10643, 'Tenkan': 10644, 'M.A.N': 10645, 'Icon In Me': 10646, 'Synthetic Breed': 10647, 'Stuck In Kaos': 10648, 'Blooms': 10649, 'Oceana': 10650, 'TriaGrutriKa': 10651, 'Au Pairs': 10652, 'Dion & The Belmonts': 10653, 'Mongrel': 10654, 'Dominic Chianese': 10655, 'Ben E. King': 10656, 'The Like': 10657, 'Cassius': 10658, 'Juj': 10659, 'Coockoo': 10660, 'The Cadillacs': 10661, 'Hüsker Dü': 10662, 'Easy Star All-Stars': 10663, 'Drakula': 10664, 'Alex Band': 10668, 'Taylor Lautner': 10670, 'Jason Derulo': 10671, 'Voivod': 10672, 'Steve Von Till': 10673, 'Tragedy': 10674, 'maudlin of the Well': 10675, 'Wolves in the Throne Room': 10676, 'The Wreckers': 10677, 'I Nine': 10678, 'Jessica Harp': 10679, 'Joanna Pacitti': 10680, 'Morningwood': 10681, 'Jonna Lee': 10682, 'Daisy Dares You': 10683, 'Colette Carr': 10684, 'Electrocute': 10685, 'U.D.O.': 10686, 'Blue Tears': 10687, 'Baton Rouge': 10688, 'Kix': 10689, 'Catch the Rainbow': 10690, 'Madredeus': 10691, 'Canto dos Malditos na Terra do Nunca': 10693, 'Bobina': 10694, 'Jan A.P. Kaczmarek': 10695, 'Tiesto pres. Alone In The Dark': 10696, 'Audible': 10697, 'System F': 10698, 'Antoine Clamaran': 10699, 'J:МОРС': 10700, 'Dash Berlin Feat Solid Sessions': 10701, 'Nadia Ali': 10702, 'Dakota': 10703, 'Cosmic Gate feat. Emma Hewitt': 10704, 'The Sound of Arrows': 10705, 'Tiesto feat. Charlotte Martin': 10706, 'Tiesto feat. Christian Burns': 10707, 'Lyapis Trubetskoy': 10708, 'Laurent Wolf': 10709, 'Moonbeam feat. Avis Vox': 10710, 'Tasadi': 10711, 'Hotwire': 10712, 'Sapo Banjo': 10713, 'New Artist (91)': 10714, 'The Outfield': 10715, 'Synesthesia': 10716, 'Juan Luis Guerra': 10717, 'The Datsuns': 10718, 'Arms and Sleepers': 10719, 'We Have Band': 10720, 'Sexy Sushi': 10722, 'Ken': 10724, 'Gotye': 10729, 'Деси Слава': 10730, 'Галена': 10731, 'Преслава': 10732, 'Анелия': 10733, 'Камелия': 10734, 'Райна': 10735, 'Trouble Over Tokyo': 10736, 'Blindside': 10737, 'Lali Puna': 10738, 'F.A.Q.': 10739, 'Blackmail': 10740, 'Kaukázus': 10741, 'The Germs': 10742, 'Dolly Mixture': 10743, 'The Spits': 10744, 'The Standells': 10745, 'The Weirdos': 10746, 'Marine Girls': 10747, 'The Seeds': 10748, 'The Sex Pistols': 10749, 'The Lurkers': 10750, 'The Barbarians': 10751, 'Ian Hunter': 10752, 'Sham 69': 10753, 'The Music Machine': 10754, 'The Templars': 10755, 'Television Personalities': 10756, 'Slaughter and The Dogs': 10757, 'The Carpettes': 10758, 'Adolescents': 10759, 'Link Wray & the Raymen': 10760, 'The Adverts': 10761, 'The Litter': 10762, 'Big Boys': 10763, 'The Dictators': 10764, 'D.I.': 10765, 'The Monochrome Set': 10766, 'Richard Hell & The Voidoids': 10767, 'Razor': 10768, 'Evildead': 10769, 'Raven': 10770, 'Holy Moses': 10771, 'Dark Angel': 10772, 'Tank': 10773, 'Protector': 10774, 'Whiplash': 10775, 'Tygers of Pan Tang': 10776, 'Angel Witch': 10777, \"Aubrey O'Day\": 10778, 'Demi Lovato, Alyson Stoner, Anna Maria Perez de Taglé & Char Ligera': 10779, 'Kim Kardashian': 10780, 'Demi Lovato, Meaghan Martin, Jordan Francis, Alyson Stoner, Matthew \"Mdot\" Finley & Roshon Fegan': 10781, 'Aaron Doyle, Demi Lovato & Meaghan Martin': 10782, 'The Coverband': 10783, 'LoveHateHero': 10784, 'XIII. Století': 10785, 'Michale Graves': 10793, 'X-Mal Deutschland': 10794, 'Cinedisco': 10797, 'Phone Trio': 10798, 'Polara': 10799, 'Dandara': 10800, 'Discoteque': 10801, 'Noção de Nada': 10802, 'Deluxe Trio': 10803, 'Blitz': 10804, 'Malni': 10805, 'Dibob': 10806, 'SuG': 10807, 'Travis Garland': 10808, 'miss A': 10809, '島谷ひとみ': 10810, 'Janne Da Arc': 10811, 'Jarboe': 10812, 'John Parish and Polly Jean Harvey': 10814, 'Aereogramme': 10820, 'Beyoncé (I Am Tour@Edmonton)': 10821, 'Wilmie': 10822, 'Michele Adamson': 10823, 'David Hodges': 10824, 'Noctura': 10825, 'Solstice': 10826, 'Amy Lee': 10827, 'Mostly Autumn': 10828, 'Pekka Pohjola': 10829, 'Ass': 10830, 'Amesoeurs': 10831, 'Cathis Ord': 10832, 'Edge of Sanity': 10833, 'Hiroshi Miyagawa': 10834, 'Gösta Berlings Saga': 10835, 'Working for a Nuclear Free City': 10836, 'Matthew Good': 10837, 'Santerna': 10838, 'Gaia': 10839, 'Olivier Deriviere': 10840, 'Michael Tsukerman': 10841, 'The Blizzard': 10842, 'Rolfe Kent': 10843, 'Susana': 10844, 'Capcom Sound Team': 10845, 'III': 10846, 'The Replacements': 10847, 'Minutemen': 10848, 'Daisuke Ishiwatari': 10849, 'William Lane Craig': 10850, 'Soul Asylum': 10851, 'Guns N Roses &Alice Cooper': 10852, 'Mr. Lawrence': 10853, 'Tinyfolk': 10854, 'Richard Gibbs': 10855, 'ZYGONOCK!': 10856, 'Stabbing Westward': 10857, 'Wuffles': 10858, 'Orgy': 10859, 'Halo33': 10860, 'Ike Yoshihiro': 10861, 'Entwine': 10864, 'Lunatica': 10865, 'For My Pain...': 10867, 'Beseech': 10870, 'D-Bo': 10871, 'Tua': 10872, 'Nazar & Raf Camora': 10873, 'RAF Camora': 10874, 'Maeckes': 10875, 'Bizzy Montana': 10876, 'Taichi': 10877, 'Shiml': 10878, 'Saad': 10879, 'Kay One': 10880, 'Tua und Vasee': 10881, 'Maeckes und Plan B': 10882, 'Nate57': 10883, 'Sonny Black und Frank White': 10884, 'Fler': 10885, 'Aggro Berlin': 10886, 'Claudio Monteverdi': 10889, 'Amenra': 10890, 'Charles Mingus': 10891, 'Tesa': 10892, 'Viktor Vaughn': 10893, 'Peste Noire': 10894, 'Gorod': 10895, 'Farben Lehre': 10897, 'Zespół Reprezentacyjny': 10898, 'Łąki Łan': 10899, 'Insite': 10900, 'Thermo': 10901, 'Shirobon': 10902, 'Elli Noise': 10903, 'Course for teenagers': 10904, 'hummersqueal': 10905, 'Peter Cincotti': 10906, 'Damien Saez': 10907, 'Hindi Zahra': 10908, 'Djezma': 10909, 'Keziah Jones': 10910, 'Hugh Coltman': 10911, 'Balkan Beat Box': 10912, 'Matt Dusk': 10913, 'Hocus Pocus': 10914, 'Harcsa Veronika': 10915, 'Cheikh Sidi Bemol': 10916, 'David Garrett': 10917, 'Bebel Gilberto': 10918, 'Artist Vs Poet': 10919, 'Scenes And Sirens': 10920, 'Josephine Collective': 10921, 'Watchout! Theres Ghosts': 10922, 'Brighten': 10923, 'Sing It Loud': 10924, '黃立行': 10925, 'ALI PROJECT': 10926, 'Acoustic Cafe': 10927, 'Mario Galaxy Orchestra': 10928, '有澤孝紀': 10929, 'Lemon Room Project': 10930, '分島花音': 10931, 'Bishoujo Senshi': 10932, '河野伸': 10933, '劉德華': 10934, '서태지': 10935, 'Yo-Yo Ma': 10936, 'HAKUEI': 10937, 'Mr.': 10938, 'Vanilla Unity': 10939, '闇の末裔': 10940, 'school food punishment': 10941, '菅野祐悟': 10942, 'Chester French': 10943, 'Ultima Thule': 10952, 'Dimension Zero': 10953, 'Imperanon': 10954, 'Andrew W.K.': 10955, 'Before the Dawn': 10956, 'Wolfchant': 10957, 'Helltrain': 10958, 'Missing Hours': 10959, 'Jam & Spoon': 10960, 'Embrace': 10961, '7 Days Away': 10962, 'Ultraviolet Sound': 10963, 'T. Mills': 10964, 'Rusko Star': 10965, 'Histeria': 10966, 'Chris Crocker': 10967, 'Rino Gaetano': 10968, 'Françoise Hardy': 10969, 'Fairport Convention': 10970, 'Keith Moon': 10971, 'The Mooney Suzuki': 10972, 'Draconian': 10973, 'Beati Mortui': 10974, 'Leandra': 10975, 'The LoveCrave': 10976, 'My Ruin': 10977, 'Dark Princess': 10978, 'Mandragora Scream': 10979, 'Trail of Tears': 10980, 'Betty X': 10981, 'Lullacry': 10982, 'Brendon Urie': 10983, 'Black Gold': 10984, 'Brendon Urie and Dresden Dolls': 10985, 'Paniс At The Disco': 10986, 'Brodka': 10987, 'Kayah': 10988, 'Fantasia': 10989, 'Vanessa Amorosi': 10990, 'Ramona Rey': 10991, 'Swedish House Mafia': 10992, 'Rosa Tattooada': 10993, 'Garotos da Rua': 10994, 'Camisa de Vênus': 10995, 'Uns e Outros': 10996, 'Anthony Hamilton': 10997, 'X-Rx': 10998, 'Hopesfall': 10999, 'Neil Perry': 11000, 'Fim do Silêncio': 11001, 'Bezerra Da Silva': 11002, 'And None of Them Knew They Were Robots': 11003, 'An Albatross': 11004, 'Danse Macabre': 11005, 'Belle Epoque': 11006, 'Spring Awakening Original Broadway Cast': 11007, 'Legally Blonde': 11008, 'Wicked (2003 Original Broadway Cast)': 11009, 'High School Musical Cast': 11010, 'Felipe Dylon': 11011, 'Sandy & Júnior': 11012, 'Eduardo Carnevale': 11013, '2009 Broadway Revival Cast': 11014, 'Nxzero': 11015, 'Wicked Original Broadway Cast': 11016, 'Miss Saigon': 11017, 'TRUSTcompany': 11018, 'Brokenkites': 11019, 'Buddha Bar': 11020, 'Augie March': 11021, 'Xavier Rudd': 11023, 'Brian McFadden': 11024, '†‡†': 11030, 'Tying Tiffany': 11031, 'The Human Abstract': 11032, 'Cookie Monsta': 11033, 'The Bronx': 11034, 'Tower of Rome': 11035, 'The Fartz': 11036, 'Big H': 11037, 'Skepta': 11038, 'Flipper': 11039, 'Durrty Goodz': 11040, 'XBXRX': 11041, 'Circle Jerks': 11042, 'Hell Razah': 11043, 'JME': 11044, 'Masta Killa': 11045, 'Youth Brigade': 11046, 'Jammer': 11047, 'Chillsongs': 11048, 'Saybia': 11049, 'Hannah Fury': 11050, 'Ive Mendes': 11051, 'The Daysleepers': 11052, 'Under Byen': 11053, 'The Matches': 11055, 'The Graduate': 11056, 'Sherwood': 11061, 'Joe': 11062, 'Jagged Edge': 11063, 'Donell Jones': 11064, '112': 11065, 'Jodeci': 11066, 'Tyrese': 11067, 'Keith Sweat': 11068, 'Marques Houston': 11069, 'Brian McKnight': 11070, 'Mint Condition': 11071, 'Case': 11072, 'Silk': 11073, 'Morgan Heritage': 11074, 'Lyfe Jennings': 11075, 'Jaheim': 11076, 'Carl Thomas': 11077, 'SWV': 11078, 'Jon B.': 11079, 'Jamie Foxx': 11080, 'Babyface': 11081, 'Vivian Green': 11082, 'Rahsaan Patterson': 11083, 'Moenia': 11084, 'Marc Anthony': 11085, '5F-X': 11086, 'Hanzel und Gretyl': 11087, 'Monolith': 11088, '100blumen': 11089, 'Ah Cama-Sotz': 11090, 'Empusae': 11091, 'Converter': 11092, '32Crash': 11093, \"This Morn' Omina\": 11094, 'Synapscape': 11095, \"Tzolk'in\": 11096, 'Iszoloscope': 11097, 'Rapoon': 11098, 'Lull': 11099, 'Manufactura': 11100, 'Add N to (X)': 11101, 'Herbst9': 11102, 'Proyecto Mirage': 11103, 'KiEw': 11104, 'Phelios': 11105, 'Punch Inc.': 11106, 'Klinik': 11107, 'P.A.L.': 11108, 'Mathias Grassow': 11109, 'Vromb': 11110, 'Ad·ver·sary': 11111, 'Sam': 11112, 'Tribes of Neurot': 11113, 'Orphx': 11114, 'Geomatic': 11115, 'Totakeke': 11116, 'Imminent Starvation': 11117, 'Air Liquide': 11118, 'Endless Hallway': 11119, 'A Life Once Lost': 11120, 'Children Collide': 11121, 'Strata': 11122, 'AcousmatiK': 11123, 'J.J. Cale': 11124, 'Sinclair': 11125, 'Richard Devine': 11126, 'xxx xxx': 11127, 'Monolake': 11128, 'Boom Bip': 11129, \"Datach'i\": 11130, 'Jega': 11131, 'Gnawa Diffusion': 11132, 'Renan Luce': 11133, 'Mugar': 11134, 'Kora Jazz Trio': 11135, 'Khaled': 11136, 'Dj Nassim': 11137, 'ghouti': 11138, 'Bob Sinclar': 11139, 'Baaziz': 11140, 'Cheb Khaled feat. Cheba Zahouania': 11141, \"John O'Callaghan feat. Audrey Gallagher\": 11142, 'Antony Raijekov': 11143, 'Thierry \"Titi\" Robin': 11144, 'Get Far': 11145, 'John Powell': 11146, 'Алла Пугачёва': 11147, 'Jody Wisternoff': 11148, 'Tom Snare': 11149, 'Julien Doré': 11150, 'John Modena': 11151, 'Armin Van Buuren, DJ Shah feat. Sharon Den Adel': 11152, 'Djamel': 11153, 'Felipe Smu': 11154, 'Uh Huh Her': 11155, 'The O.C. Soundtrack': 11156, 'Tyler Ward': 11157, 'Área restrita': 11158, 'Acid Witch': 11159, 'Коррозия Металла': 11160, 'U.S. Christmas': 11161, 'Vulvectomy': 11162, 'Weedeater': 11163, 'The Burglars': 11164, 'Milking The Goatmachine': 11165, 'Robin Gibb': 11166, 'Hi-Fi': 11167, 'Gala': 11168, 'Леонид Агутин': 11169, 'Король и Шут': 11170, 'Roma Kenga': 11171, 'Русский Размер': 11172, 'SHURA': 11173, 'Nena & Kim Wilde': 11174, 'Борис Гребенщиков': 11175, 'Redrama': 11176, 'Violins': 11177, 'MQN': 11178, 'The Thrills': 11179, 'Fígado Killer': 11180, 'The Walkmen': 11181, 'Nação Zumbi': 11182, 'Quicksand': 11183, 'The Fire Theft': 11184, 'Marcy Playground': 11185, 'Pzychobitch': 11186, 'Yendri': 11187, 'Lola Angst': 11188, 'Cyber Whore meets Krachmaschine': 11189, 'La Magra': 11190, 'Esem': 11191, 'Sanguis et Cinis': 11192, 'Hallucinogen': 11193, 'Melleefresh & Deadmau5': 11194, 'Armageddon Dildos': 11195, 'Altera Forma': 11196, 'cut.rate.box': 11197, 'Z Prochek': 11198, 'In[Perfektion]': 11199, 'Alex Smoke': 11200, 'Jan Jelinek': 11201, 'Marc Houle': 11202, 'GreenGender': 11203, 'Dabrye': 11204, 'Alex Under': 11205, 'The Black Dog': 11206, 'Deepspace': 11207, 'Two Lone Swordsmen': 11208, 'Brothomstates': 11209, 'The Ghost Orchid': 11210, 'Dimlite': 11211, 'Dane Cook': 11213, 'IMA Robot': 11215, 'Hillsong': 11217, 'Planetshakers': 11218, 'Kabah': 11219, 'En espíritu y en verdad': 11220, 'Rojo': 11221, 'Ben Moody': 11222, 'Chris Tomlin': 11223, 'Hillsong London': 11224, 'Brandnew Sunset': 11225, 'Silly Fools': 11226, 'Evita': 11227, 'The Syncope Threshold': 11228, 'Richard Hawley': 11229, 'Bernard Butler': 11230, 'ザ・クロマニヨンズ': 11231, 'McAlmont & Butler': 11232, 'Roddy Frame': 11233, 'Jarvis Cocker': 11234, 'Palace Fires': 11235, 'Superchic[k]': 11236, 'Eberg': 11237, 'Jersey': 11238, 'Kate Earl': 11239, 'Diane Birch': 11240, 'Jessica Lowndes': 11241, 'Samantha Newark': 11242, 'Freur': 11243, 'Youth Group': 11244, 'Leo e giba': 11245, 'Arnaldo & Alexandre': 11246, 'Jovem Pan': 11247, 'Jessy': 11248, 'Bruno & Marrone': 11249, 'Rodrigo e Rogério': 11250, 'Rodrigo e Rogerio': 11251, 'Jessica Sutta': 11252, 'Better Than Ezra': 11253, \"Scotty Don't\": 11254, 'Slightly Stoopid': 11255, 'Infant Sorrow': 11256, 'Phoenix and the Turtle': 11263, 'Flies are Spies from Hell': 11264, 'Морэ & Рэльсы': 11265, 'Message to Bears': 11267, 'Мельница': 11268, 'And So I Watch You From Afar': 11272, 'All Time Low㩺': 11273, 'All Time Low琀': 11274, 'What Looks Like Crazy': 11275, 'emo.': 11276, '王若琳': 11277, 'Keren Ann': 11280, 'Vienna Teng': 11281, 'Three Mile Pilot': 11282, 'Amplifier': 11283, 'Constants': 11284, 'Mission of Burma': 11285, 'Favez': 11286, 'The Dismemberment Plan': 11287, 'Scraps of Tape': 11288, 'A Sunny Day in Glasgow': 11289, 'Pontiak': 11290, 'Us, From Outside': 11291, 'Dubba Jonny': 11292, \"Scarlett O'Hara\": 11293, \"Watchout! There's Ghosts\": 11294, 'UKF Dubstep': 11295, 'Juno': 11296, 'Cantstopwontstop': 11297, 'Dance Party Hazard': 11298, 'Jare & VilleGalle': 11299, 'Mt Eden': 11300, 'Stormwitch': 11301, 'Storm': 11302, 'Aliceffekt': 11303, '凛として時雨': 11304, 'Clubroot': 11305, 'FLOPPY': 11306, 'Access To Arasaka': 11307, '害意': 11308, 'Bruno Coulais': 11309, 'ACIDMAN': 11310, 'J.A.シーザー': 11311, 'AEVEMI': 11312, '新宿ゲバルト': 11313, 'メトロノーム': 11314, 'Deichkind': 11315, 'Vector Lovers': 11316, '核P-MODEL': 11317, 'MarBell': 11318, 'Nookicky': 11319, \"Nero's Day at Disneyland\": 11320, 'Dentaku': 11321, 'SHILFEE AND TULIPCOROBOCKLES': 11322, 'Bola de Neve Church': 11323, 'Tó Brandileone': 11324, 'Kenny G & Chante Moore': 11325, 'Arnaldo Antunes, Carlinhos Brown & Marisa Monte': 11326, '(1962-1966)': 11327, 'Arctic Monkeys vs The Killers': 11328, 'Locksley': 11329, 'Tenek': 11330, 'Marsheaux': 11331, 'Технология': 11332, 'Slave Republic': 11333, 'Lesnikov-16': 11334, 'Parralox': 11335, 'Billy Ocean': 11336, 'Мирбек Атабеков': 11337, 'MFÖ': 11338, 'Jody Watley': 11339, 'R. Carlos Nakai': 11340, 'Султан Садыралиев': 11341, 'Urker': 11342, 'Kargo': 11343, 'Muzart': 11344, \"Alexander O'Neal\": 11345, 'Shahzoda': 11346, 'Elnare': 11347, 'Бекчоро': 11348, 'Ulytau': 11349, 'Ильяз Абдыразаков': 11350, 'Percy Mayfield': 11351, 'oOoOO': 11352, 'Луч': 11358, 'Edan': 11360, 'Malefique': 11365, 'Sensational': 11370, 'Absu': 11372, 'London Elektricity': 11377, 'Free the Robots': 11378, 'DonGURALesko': 11379, '40 Glocc': 11380, 'Spider Loc': 11381, 'Nipsey Hussle': 11382, 'DonGURALesko & Matheo': 11383, 'DonGURALesko & Dj Kostek': 11384, 'Waldemar Kasta': 11385, 'Trav': 11386, 'Mase': 11387, '213': 11388, 'DJ Whoo Kid': 11389, 'DJ Messiah, 50 Cent And Eminem': 11390, 'Havoc': 11391, 'Parabelle': 11392, 'Jonny Craig': 11393, 'November Blessing': 11394, 'Pretty Ricky': 11395, 'Luke Pickett': 11396, 'The Bolshoi': 11397, 'Milton Nascimento & Lô Borges': 11398, 'Trees': 11399, 'Bojan Gorisek': 11400, 'J. Cole': 11401, 'drake and lil wayne': 11402, 'Movetown': 11403, 'LuXuRy-Dj-DioR': 11404, 'Tom Boxer Feat. Antonia': 11405, 'PH Electro - [muz-zone.net]': 11406, 'Kanye West feat. Pusha T MpTri.Net': 11407, 'Dj Sandro Escobar': 11408, 'Radio Killer': 11409, 'Enterprise 3': 11410, 'Eminem feat. Drake, Kanye West, Lil Wayne': 11411, 'Kevin Devine': 11412, 'Bomb the Music Industry!': 11413, 'Bad Banana': 11414, 'Art Sorority for Girls': 11415, 'Gregory and the Hawk': 11416, 'Loudon Wainwright III': 11417, 'The Dopamines': 11418, 'Andrew Samples': 11419, 'David Bazan': 11420, 'Bishop Allen': 11421, 'Field Mouse': 11422, 'Matt Pond PA': 11423, 'Peter Hammill': 11424, 'Caravan': 11425, 'Arrigo Barnabé': 11426, 'Béla Bartók': 11427, 'Harmonium': 11428, 'Fat Mattress': 11429, 'Gatto Marte': 11430, 'Django Reinhardt & Stéphane Grappelli': 11431, 'Airto Moreira': 11432, 'Kevin Ayers': 11433, 'Arnaldo Baptista': 11434, 'Egg': 11435, 'Ragnarök': 11436, 'Rogério Duprat': 11437, 'The Dubliners': 11438, 'Gryphon': 11439, 'Jukka Tolonen': 11440, 'Clube da Esquina': 11441, 'Lindisfarne': 11442, 'Mamma Mia! Cast': 11443, 'Mamma Mia! The Musical Cast': 11444, 'Trem da Alegria': 11445, 'Mamma Mia! på svenska': 11446, 'Susan Sarandon': 11447, 'Chico Buarque de Hollanda': 11448, 'Mamma Mia! Musical en español': 11449, 'Sidney Magal': 11450, 'Floribella': 11451, 'Antonio Banderas': 11452, 'Jonathan Pryce': 11453, 'Mamma Mia! The Movie Cast': 11454, 'Zucchero': 11455, 'Volver': 11456, 'Rótulo': 11457, 'Radiotape': 11458, 'Alceu Valença  [www.hugoteacher.blogspot.com]': 11459, 'Vivendo do Ócio': 11460, 'The Morning Light': 11461, 'Mozart Season': 11462, 'Times New Viking': 11463, 'Gang Gang Dance': 11464, 'Tennis': 11465, 'FM Belfast': 11466, 'Boat Club': 11467, 'The Bridal Shop': 11468, 'Isha': 11469, 'PG': 11470, 'Sophie Madeleine': 11471, 'Os Arrebatados': 11472, 'Catedral': 11473, 'Cidia & Dan': 11474, 'Ef': 11475, 'Dictaphone': 11476, 'Herbie Hancock': 11477, 'Radiola': 11478, 'Tim Exile': 11479, 'Dmitri Shostakovich': 11480, 'パール兄弟': 11481, 'Mouse On The Keys': 11482, 'miaou': 11483, 'Paulinho Moska': 11484, 'Tom Lehrer': 11485, 'The Shangri-Las': 11487, 'Marlene Kuntz': 11489, 'Tiromancino': 11491, 'Verdena': 11492, 'Baustelle': 11494, 'Pambo': 11498, 'Tyketto': 11499, 'Priscilla Ahn': 11500, 'David Coverdale': 11501, 'Richie Kotzen': 11502, 'Alexander Rudin': 11503, 'Ataxia': 11504, 'The Ramones': 11505, 'John Frusciante and Josh Klinghoffer': 11506, 'Stephen Malkmus & The Jicks': 11507, 'Ben Harper & The Innocent Criminals': 11508, 'Ben Harper & Relentless7': 11509, 'Jonathan Coulton': 11510, 'Chroma Key': 11511, 'Rainer Maria': 11512, 'The Lord Weird Slough Feg': 11513, 'Skyclad': 11514, 'The Advantage': 11515, 'Freak Kitchen': 11516, 'Coal Chamber': 11517, 'Godhead': 11518, 'Snake River Conspiracy': 11519, 'Legowelt': 11520, 'Side Liner': 11521, 'Master Margherita': 11522, 'Slackbaba': 11523, 'Prometheus': 11524, 'Flooting Grooves': 11525, 'Cell': 11526, 'The Peaking Goddess Collective': 11527, 'AstroPilot': 11528, 'Sync24': 11529, 'Dymons': 11530, 'Don Peyote': 11531, 'Mystical Sun': 11532, 'Legowelt vs. Orgue Electronique': 11533, 'Omnimotion': 11534, 'Suns of Arqa': 11535, 'Desert Dwellers': 11536, 'The Infinity Project': 11537, 'Bangkok Impact': 11538, 'Dub Trees': 11539, 'Squadra Blanco': 11540, 'Polarius': 11541, 'International Observer': 11542, 'Taruna': 11543, 'Aural Planet': 11544, 'Seahorse Transform': 11545, 'Alden Tyrell': 11546, 'The Honorary Title': 11547, 'The Early November': 11548, 'Pretty Girls Make Graves': 11549, 'The Format': 11550, 'Jesse Lacey': 11551, 'Annuals': 11552, 'The Movielife': 11553, 'Limbeck': 11554, 'Single File': 11555, 'Forgive Durden': 11556, 'Showtek': 11557, 'DJ Frane': 11558, 'Brennan Heart': 11559, 'Kryptic Minds': 11560, 'Anugama': 11561, 'Adore': 11562, 'NiT GriT': 11563, \"Count Dee's Hit Explosion\": 11564, 'Vale': 11565, 'Headhunterz': 11566, 'Atlas Plug': 11567, 'Peatbog Faeries': 11568, 'Informant': 11569, 'Ruth Flowers Mamy Rock': 11570, 'Mocca': 11571, 'Sky Sailing': 11572, 'Jérémy Amelin': 11574, 'Danny Fernandes': 11575, '5ivesta Family': 11576, 'Dirty Money': 11577, 'Hana Pestle': 11578, 'Tribalistas': 11579, 'Ponto Nulo No Céu': 11580, 'Halestorm': 11581, 'Christina Aguilera, Jennifer Hudson, Florence Welch, Martina McBride, Yoland Adams': 11582, 'Adrienne Bailon': 11583, \"Chris Brown (feat. Lil' Wayne & Swizz Beatz)\": 11584, 'Alberto Iglesias': 11587, 'Syd Matters': 11588, 'The Dodos': 11589, 'Disney': 11590, 'Samamidon': 11591, 'Airiel': 11592, 'Tyko': 11593, 'Telefunka': 11594, 'Farhad': 11595, 'Kiosk': 11596, 'Tony Joe White': 11597, 'I Am Kloot': 11598, 'The Pogues': 11602, 'The Gloria Record': 11603, 'Envy': 11604, 'Krallice': 11605, 'Dancing Ghosts': 11606, 'Pulling Teeth': 11607, 'Heaven In Her Arms': 11608, 'Suffocate For Fuck Sake': 11609, \"L'Homme Puma\": 11610, 'Lantlôs': 11611, 'Woe': 11612, 'Nvblado': 11613, 'Pianos Become The Teeth': 11614, 'Omega Massif': 11615, 'United Nations': 11616, 'Supermachiner': 11617, 'Girlfriends': 11618, 'Tall Ships': 11619, 'Kowloon Walled City': 11620, 'Altar of Plagues': 11621, 'The Depreciation Guild': 11622, 'As Tall as Lions': 11623, 'Fall of Efrafa': 11624, 'Rosetta': 11625, 'biggerstronger': 11626, 'Buried Inside': 11627, 'Martha Rossi': 11628, 'Altai Hangai': 11629, 'Edgar Froese': 11630, 'Huun-Huur-Tu': 11631, 'Picture Palace music': 11632, 'Yat-Kha': 11633, 'Nanni Svampa': 11634, 'Laika': 11635, \"Biglietto per l'Inferno\": 11636, 'Ed Bruce': 11637, 'Klaus Schulze': 11638, 'Lata Mangeshkar': 11639, 'Merle Haggard': 11640, 'Ascaron Entertainment': 11641, 'Steven Halpern': 11642, 'Lea Michele and Idina Menzel': 11643, 'B.o.B feat. Eminem & Hayley Williams': 11644, 'Julian Bream': 11645, 'Andrés Segovia': 11646, 'Christopher Parkening': 11647, 'Sharon Isbin': 11648, 'Manuel Barrueco': 11649, 'Paul Desmond': 11650, 'Fernando Sor': 11651, 'Stan Getz': 11652, 'Leo Brouwer': 11653, 'Joaquín Rodrigo': 11654, 'Dexter Gordon': 11655, 'Gerry Mulligan': 11656, 'Gerald Garcia': 11657, 'Sérgio & Odair Assad': 11658, 'Art Pepper': 11659, 'Carlos Barbosa-Lima': 11660, 'Eduardo Fernández': 11661, 'David Russell': 11662, 'Narciso Yepes': 11663, 'Abdullah Ibrahim': 11664, 'Carlos Montoya': 11665, 'Joe Henderson': 11666, 'Cannonball Adderley': 11667, 'Archie Shepp': 11668, 'Sonny Stitt': 11669, 'Ben Webster': 11670, 'Francisco Tárrega': 11671, 'Lara & Reyes': 11672, 'Los Angeles Guitar Quartet': 11673, 'Coleman Hawkins': 11674, 'Hank Mobley': 11675, 'Souad Massi': 11676, 'Eliot Fisk': 11677, 'Lester Young': 11678, 'Andrew Hill': 11679, 'Kazuhito Yamashita': 11680, 'BallakÃ© Sissoko': 11681, 'Wayne Shorter': 11682, 'Alirio Diaz': 11683, 'Lost Sounds': 11684, 'Gucci Mane': 11685, 'Cadence Weapon': 11686, 'B1A4': 11687, '장근석': 11688, '민호': 11689, 'Sabrina': 11690, 'Cinta Laura': 11691, '엠블랙(MBLAQ)': 11692, 'Jang Geun Suk & Park Shin Hye': 11693, 'Beast': 11694, 'Mac Miller': 11695, '2AM': 11696, '미스에이(miss A)': 11697, '애프터 스쿨(After School)': 11698, '安良城紅': 11699, 'Maksim Mrvica': 11700, 'Dirty Little Rabbits': 11701, '제빵왕': 11702, 'Blotted Science': 11703, 'Yndi Halda': 11712, 'Kjartan Sveinsson': 11716, 'Jonathan Groff': 11717, 'Ryan Tedder': 11718, 'Clea': 11719, 'Lisa Scott-Lee': 11720, 'Ákos': 11721, 'Юлия Савичева': 11722, 'Fauxliage': 11723, 'Mark Owen': 11724, 'BBMak': 11725, 'Cherry Ghost': 11726, 'Gary Barlow': 11727, 'Erik Hassle': 11728, 'Lissie': 11729, 'D:Ream': 11730, 'Gypsy & The Cat': 11731, 'Ian Schranz': 11732, 'Jonathan Richman': 11733, 'nosnow/noalps': 11734, 'Daniel  Cassar': 11735, 'Woody Guthrie': 11736, 'The Concretes': 11737, 'White Denim': 11738, 'The Submarines': 11739, 'Bark Bark disco': 11740, 'Jeffrey Lewis': 11741, 'Black Francis': 11742, 'Slow Club': 11743, 'godzillapower': 11744, 'Herman Düne': 11745, 'Ayn Rand': 11746, 'The Reduction Agents': 11747, 'Sore Eros': 11748, 'Luke Buda': 11749, 'Sodaphon': 11750, 'Bored Housewife': 11751, 'Ortega Cartel': 11752, 'Mayer Hawthorne': 11753, 'The Cat Empire': 11754, 'Małpa': 11755, 'Fisz Emade': 11756, 'The Jonesz': 11757, 'Evidence': 11758, 'Theophilus London': 11759, 'Waglewski Fisz Emade': 11760, 'El Da Sensei & Returners': 11761, 'Illa J': 11762, 'Gilberto Gil': 11763, 'Gal Costa': 11764, 'Gotan Project': 11765, 'Nana Caymmi': 11766, \"Mart'nália\": 11767, 'Conway Twitty': 11768, 'Kenny Rogers': 11769, 'The Oak Ridge Boys': 11770, 'Sammy Kershaw': 11771, 'Ricky Van Shelton': 11772, 'Tracy Byrd': 11773, 'Don Williams': 11774, 'Randy Travis': 11775, 'David Hasselhoff': 11776, 'Mickey Gilley': 11777, 'John Michael Montgomery': 11778, 'Waylon Jennings': 11779, 'Tracy Lawrence': 11780, 'Robin Williams': 11781, 'Blackhawk': 11782, 'Gas': 11783, 'Steve Reich': 11784, 'Brutality Will Prevail': 11785, 'Nhor': 11786, 'Touche Amore': 11787, 'Fucked Up': 11788, 'Dam-Funk': 11789, 'Circle of Ouroborus': 11790, 'Ty Segall': 11791, 'Burn Down Rome': 11792, 'Ghosts': 11793, 'SLAPPER': 11794, 'Midtown': 11795, 'Falling Up': 11796, 'The Idan Raichel Project': 11797, 'Moshav': 11798, 'Tyrone Andrew': 11799, 'Alicia Svigals': 11800, 'Iron & Wine and Calexico': 11801, 'Andrei Machado': 11802, 'The Juliana Theory': 11803, 'Marion Harris': 11804, \"African Children's Choir\": 11805, 'David Crowder Band': 11806, 'Amina Alaoui': 11807, \"David D'Or\": 11808, 'The Be Good Tanyas': 11809, 'Mosh Ben Ari': 11810, 'Ben Gibbard': 11811, 'Say Hi to Your Mom': 11812, 'Alsou': 11813, \"Be'lakor\": 11814, 'Duskfall': 11815, 'Hiroshima Will Burn': 11816, 'Sybreed': 11817, 'The Saviorz': 11818, 'Be Your Own Pet': 11819, 'Anthony Stewart Head': 11820, 'Hector': 11821, \"OLIVIA inspi' REIRA (TRAPNEST)\": 11822, 'skankfunk': 11823, 'Styles of Beyond': 11824, '岩崎琢': 11825, 'Prodigy': 11826, 'Overseer': 11827, 'Sharam feat. Daniel Bedingfield': 11828, 'Ikimono-Gakari': 11829, 'ANNA inspi NANA': 11830, 'Tenjou Tenge GREAT DISC 1': 11831, 'T9': 11832, 'Carl Davis': 11833, 'Christafari': 11834, 'Paprika Korps': 11835, 'Elektryczne Gitary': 11836, 'KUD Idijoti': 11837, 'Let 3': 11838, 'Gužva u 16ercu': 11839, 'pasi': 11840, 'JAMOSA': 11841, 'Jonathan Elias': 11842, 'Prima Donna': 11843, '羽毛田丈史': 11844, 'nobodyknows+': 11845, 'CitizensFOB Mixtape': 11846, 'Tomoki Hasegawa': 11847, 'Dead Heart Bloom': 11848, 'The Beautiful South': 11849, 'Hoods': 11850, 'Schizma': 11851, 'Frontside': 11852, '1125': 11853, 'Sworn Enemy': 11854, 'Ringworm': 11855, 'Hard Work': 11856, 'Wisdom in Chains': 11857, 'Do or Die': 11858, 'Blacklisted': 11859, 'Faust Again': 11860, 'Florence and The Machine': 11861, 'Morda': 11862, 'No Turning Back': 11863, 'CDC': 11864, 'Sick of It All': 11865, 'mas4': 11866, 'Michael McDonald': 11871, 'Luminous Orange': 11874, 'ravex': 11875, 'toddle': 11877, 'ミドリ': 11878, 'PINE*am': 11879, 'Rory Block': 11881, 'Rick Caldwell': 11882, 'Jimmie Vaughan': 11883, 'Tampa Red': 11884, 'Johnny Winter': 11885, 'Charley Patton': 11886, 'Grace Potter and the Nocturnals': 11887, 'wheelsoffliberty.com': 11888, 'Niki Haris': 11889, 'Iyaz': 11890, 'Montana Tucker': 11891, 'Blood Ruby': 11892, 'Lycia': 11893, 'Mike Van Portfleet': 11894, 'Spider': 11895, 'Kitchens of Distinction': 11896, 'Bel Canto': 11897, 'Love Spirals Downwards': 11898, 'Hope Sandoval & The Warm Inventions': 11899, 'Low': 11900, 'Loop': 11901, 'Spooncurve': 11902, 'Mahogany': 11903, 'Monster Movie': 11904, 'Destroyalldreamers': 11905, 'Nachtmystium': 11906, 'Keshco': 11907, '黄义达': 11908, 'Fyfe Dangerfield': 11909, 'The Electric Soft Parade': 11910, 'Findlay Brown': 11911, 'RPA & The United Nations of Sound': 11912, 'Todd Rundgren': 11913, 'the gala': 11914, 'Cerys Matthews': 11915, 'Bonnie Raitt': 11916, 'Jonny Lang': 11917, 'John Mayall & The Bluesbreakers': 11918, 'Bessie Smith': 11919, 'R.L. Burnside': 11920, 'James Cotton': 11921, 'Jimmy Rogers': 11922, 'Roy Buchanan': 11923, 'Corey Stevens': 11924, 'Bryan Lee': 11925, 'Dr. John': 11926, 'Ry Cooder': 11927, 'Ric Ocasek': 11928, 'Billy Currie': 11929, 'Toyah': 11930, 'John Foxx & Louis Gordon': 11931, 'Nits': 11932, 'Generation X': 11933, 'Black Dada': 11934, 'Jorge Ben': 11935, 'Nasum': 11936, 'AnnaSophia Robb': 11937, 'Roman Rain': 11938, 'Aaron Zigman': 11939, 'SOUNDTRACK Twilight': 11940, 'Hugh Jackman': 11941, 'magiolalala': 11942, 'Chris Pine': 11943, 'Dan Le Sac vs Scroobius Pip': 11948, 'Taylor Swift & Def Leppard': 11949, 'Bromheads Jacket': 11950, 'Jandek': 11953, 'Lisa Germano': 11954, 'Juliana Hatfield': 11955, 'Tammy Wynette': 11956, 'The Frogs': 11957, 'Vic Chesnutt': 11958, 'Jana Hunter': 11959, 'Negativland': 11960, 'Ray Price': 11961, 'Lower Dens': 11962, 'The Slits': 11963, 'Rusted Shut': 11964, 'The Angels of Light': 11965, 'Robert Fripp': 11966, 'Smegma': 11967, 'Mark Kozelek': 11968, 'Kable': 11969, 'Yoko Ono': 11970, 'Sarah Blasko': 11971, 'Mc Marcelly': 11976, 'Cave In': 11977, 'Torche': 11978, 'Murder by Death': 11979, 'The Diamond Stretch': 11980, 'Pg.99': 11981, 'Doomriders': 11982, 'The Hood Internet': 11983, 'Doug Benson': 11984, 'Grade': 11985, 'Combatwoundedveteran': 11986, 'Coalesce': 11987, 'Smoking Popes': 11988, 'Weekend Nachos': 11989, 'Clouds': 11990, 'David Cross': 11991, 'Khann': 11992, 'Neil on Impression': 11993, 'Trap Them': 11994, 'Electrovamp': 11995, 'Denali': 11998, 'Benoît Pioulard': 11999, 'The Field': 12000, 'Growing': 12001, 'Broadcast': 12002, 'White Rainbow': 12003, 'The Long Winters': 12004, 'Robin Guthrie & Harold Budd': 12005, 'Skazi': 12006, 'Broder Daniel': 12007, 'Nobunny': 12008, 'The Legends': 12009, 'Moto Boy': 12010, 'Telekinesis': 12011, 'Foxes In Fiction': 12012, 'Dan Black': 12013, 'Hunx and His Punx': 12014, 'The King Khan & BBQ Show': 12015, 'Four Seasons': 12016, 'Christian TV': 12017, 'Snoop Dogg feat. Lil Kim': 12018, 'The Sight Below': 12019, 'Yagya': 12020, 'Mariana Aydar': 12021, 'S': 12022, 'Cibelle': 12023, 'Pillowdiver': 12024, 'Audrey': 12025, 'Azure Ray': 12026, 'Building 429': 12027, 'Apocalipse 16': 12028, 'Thalles': 12029, 'Narnia': 12030, 'Rede Ativa': 12031, 'The Benjamin Gate': 12032, 'Eowyn': 12033, 'Seventh Day Slumber': 12034, 'CW7': 12035, 'Gretchen': 12036, 'Alessandra Maestrini': 12037, 'Yuridia': 12038, 'Yolanda Be Cool': 12039, 'JORGE & MATEUS - www.baixarcdscompletos.com': 12040, 'Swollen Members': 12044, 'Mark Farina': 12045, 'Ducktails': 12046, \"Umphrey's McGee\": 12047, 'Cloud.': 12048, 'Los Auténticos Decadentes': 12049, 'La Vela Puerca': 12050, 'Los Pericos': 12051, 'Panteón Rococó': 12052, 'Big Walter Horton': 12053, 'Otis Spann': 12054, 'Los Piojos': 12055, 'Jimmy Reed': 12056, 'Otis Rush': 12057, 'Lowell Fulson': 12058, 'Magic Sam': 12059, 'El Tri': 12060, 'Memphis Slim': 12061, 'Mike Watt': 12062, 'fIREHOSE': 12063, 'Fishbone': 12064, 'Euros Childs': 12065, 'Frank Black and the Catholics': 12066, 'Pailhead': 12067, 'Sam Cooke & the Soul Stirrers': 12068, 'Laskoviy May': 12069, 'Hedwig And The Angry Inch': 12070, 'Francis Cabrel': 12071, 'Bonde das Impostora': 12072, 'Pansy Division': 12073, 'Bulimia': 12074, 'Bénabar': 12075, 'Nunwhore Commando 666': 12076, 'Sleeper': 12077, 'Karine Alexandrino': 12078, 'The Moldy Peaches': 12079, 'Alejandro Sanz y The Corrs': 12080, 'Trouble': 12081, 'Billy Squier': 12082, 'Robin Trower': 12083, 'Gülşen': 12084, 'Bedük': 12085, 'Mustafa Ceceli': 12086, 'Bora Uzer': 12087, 'Göksel': 12088, 'Karin Ström': 12089, 'Tuna Tabu': 12090, 'DFC': 12092, 'Olho Seco': 12093, 'Flema': 12094, 'Villanos': 12095, 'Subhumans': 12096, 'Lache': 12097, 'Britney, Christina, Madonna': 12098, 'Carolina Marquez': 12099, 'Chitãozinho & Xororó e Fresno': 12100, 'Juanes feat.Black Eyed Peas': 12101, 'Sean Paul ft. Rihanna': 12102, 'Netinho': 12103, 'Tópaz': 12104, 'BB Brunes': 12105, 'Left Alone': 12106, 'Valentin': 12107, 'Diana Anaid': 12108, 'Lorie': 12109, 'Josie and the Pussycats': 12110, 'Bill Frisell': 12111, 'John Scofield': 12112, 'Pat Metheny': 12113, 'Medeski, Martin and Wood': 12114, 'Wes Montgomery': 12115, 'Dunham Van Durham': 12116, 'Jimmy Smith': 12117, 'Cameron Mizell': 12118, 'Keith Jarrett': 12119, 'Grant Green': 12120, 'Brad Mehldau': 12121, 'Kenny Burrell': 12122, 'Junior Wells': 12123, 'Little Grey Girlfriend': 12124, 'Montgomery Bruce': 12125, 'Mike Stocksdale': 12126, 'Oscar Peterson Trio': 12127, 'Gyllene Tider': 12128, 'Barry Manilow': 12129, 'Stereo Total': 12130, 'Ike Quebec': 12131, 'Freddie Hubbard': 12132, 'Kadim al Sahir': 12133, 'Apollo Brown': 12134, 'Yusef Lateef': 12135, 'Fadl Shaker': 12136, 'Sérgio Mendes': 12137, 'Ragheb Alama': 12138, 'The Narcicyst': 12139, 'Bud Shank': 12140, 'Melody Gardot': 12141, 'Daniel Tosh': 12142, 'Doug Stanhope': 12143, 'DJ Cam Quartet': 12144, 'Mad Caddies': 12145, 'Wilson Paim': 12149, 'Century': 12150, 'Roxus': 12151, 'Damn Yankees': 12152, 'Whitecross': 12153, 'Os Cascavelletes': 12154, 'Roxy Blue': 12155, 'Rock Candy': 12156, \"Livin' Blues\": 12157, 'Trixter': 12158, 'Gasoline queen': 12159, 'Bad English': 12160, 'Grupo Rodeio': 12161, 'Wolfsbane': 12162, 'Guardian': 12163, 'Amanda Palmer': 12164, 'The Long Blondes': 12165, 'Lunachicks': 12166, 'Drist': 12167, 'Sugarplum Fairy': 12168, 'Kilians': 12169, 'X-Wife': 12170, 'Rodrigo Del Arc': 12171, 'César Menotti & Fabiano': 12172, 'Gustavo Moura & Rafae': 12173, 'Leo e Junior': 12174, 'Henrique e Diego': 12175, 'Luan Santana  Fernando e Sorocaba': 12176, 'Guilherma e santiago': 12177, 'BEAT!BEAT!BEAT!': 12178, 'maria cesilha e rodolfo': 12179, 'The Weird Sisters': 12180, 'Maria Cecilia e Rodolfo - Mato e morro por você': 12181, 'リア・ディゾン': 12182, 'Thao with The Get Down Stay Down': 12183, 'トクマルシューゴ': 12184, 'FREENOTE': 12185, 'Ella Fitzgerald & Louis Armstrong': 12186, '浜口史郎': 12187, 'Niccolò Paganini': 12188, 'Royal Stockholm Philharmonic Orchestra': 12189, 'LOVE PSYCHEDELICO': 12190, 'Yuna Ito': 12191, 'The Rescues': 12192, '福原美穂': 12193, 'Lisa Loeb': 12194, 'Señor Coconut': 12195, 'Holden': 12196, 'Benton Falls': 12197, 'Look Mexico': 12198, \"Mono & World's End Girlfriend\": 12199, 'The Paper and The Plane': 12200, 'Sun Kil Moon': 12201, 'Aloha': 12202, \"Fat Freddy's Drop\": 12203, 'Secondsmile': 12204, 'The Velvet Teen': 12205, 'Penfold': 12206, 'Richard Walters': 12207, 'A Very Potter Sequel Cast': 12208, 'A Very Potter Musical': 12209, 'Me and My Dick Cast': 12210, 'Charlene Kaye': 12211, 'John Mayer Trio': 12212, 'Michael Fordinal': 12213, 'Michael Tolcher': 12214, 'Aslyn': 12215, 'Will Hoge': 12216, 'John Mayer & Taylor Swift': 12217, 'Cheap Mondays': 12218, 'Richard Hell and the Voidoids': 12219, 'Television': 12220, 'Merci Miss Monroe': 12221, 'The Pink rays': 12222, 'The Social': 12223, 'Scarlets': 12224, 'The Dodoz': 12225, 'Charlie Brown Júnior': 12226, 'Lisa Lampanelli': 12227, 'Xymox': 12228, 'Capleton': 12229, 'Turbulence': 12230, 'Chimezia': 12231, 'Lutan Fyah': 12232, 'Junior Kelly': 12233, 'Jah Mason': 12234, 'Natural Black': 12235, 'Chuck Fender': 12236, 'Richie Spice': 12237, 'Chezidek': 12238, 'Bounty Killer': 12239, 'Fantan Mojah': 12240, 'Jah Cure': 12241, 'Gyptian': 12242, 'Beenie Man': 12243, 'Elephant Man': 12244, 'Ras Shiloh': 12245, 'Warrior King': 12246, 'Burro Banton': 12247, 'Wayne Marshall': 12248, 'Pressure': 12249, 'Natty King': 12250, 'Norris Man': 12251, 'Queen Ifrica': 12252, 'Jah Mali': 12253, 'Mavado': 12254, 'Luciano': 12255, 'General Degree': 12256, 'Beres Hammond': 12257, 'Cocoa Tea': 12258, 'Spragga Benz': 12259, 'Tony Rebel': 12260, 'Vybz Kartel': 12261, 'Daville': 12262, 'I Wayne': 12263, 'Munga': 12264, 'Red Rat': 12265, 'Junior Reid': 12266, 'Mad Cobra': 12267, 'Mr. Vegas': 12268, 'Bling Dawg': 12269, 'Busy Signal': 12270, 'Pau Hana': 12271, 'Bugle': 12272, 'Tsunami Bomb': 12273, 'resident hero': 12274, 'Paper Tongues': 12275, 'Holly McNarland': 12276, 'The Action Design': 12277, 'Misty Edwards': 12278, 'Vineyard Music': 12279, 'MiChi': 12280, 'RYTHEM': 12281, 'Juju': 12282, 'Graveworm': 12283, 'Dark Lunacy': 12284, 'XIV Dark Centuries': 12285, 'Krynitza': 12286, 'Nicu Alifantis': 12287, 'James Newton Howard': 12288, 'Bono': 12289, 'Playing For Change': 12290, 'Hawksley Workman': 12291, 'Astonvilla': 12292, 'Bono & The Mdh Band': 12293, 'Bono, Glen Hansard & Damien Rice': 12294, 'Tiger Lou': 12295, 'Coldplay/U2': 12296, 'Clem Snide': 12297, 'The Blue Nile': 12298, 'Gemma Hayes': 12299, 'Karima Francis': 12309, 'Jason Reeves': 12310, 'Ana Cañas': 12311, 'Daughter Darling': 12312, 'maniax memori': 12313, 'Nina Hagen': 12314, 'Zoë Keating': 12315, 'Les Rita Mitsouko': 12316, 'Korouva': 12317, 'Grant Lee Buffalo': 12318, 'Elysian Fields': 12319, 'Laghetto': 12320, 'Geoff Farina': 12321, \"Zimmer's Hole\": 12322, 'Cop Shoot Cop': 12323, 'Codeine': 12324, 'NoMeansNo': 12325, 'Pan.Thy.Monium': 12326, 'Edda': 12327, 'AFFLUENTE': 12328, 'Bedhead': 12329, 'The Black Heart Procession': 12330, 'Eterea': 12331, 'Mariposa': 12332, 'Languis': 12333, 'Funckarma': 12334, 'citizengreen': 12335, 'Hecq': 12336, 'Ilkae': 12337, 'Download': 12338, 'KiloWatts': 12339, 'PlatEAU': 12340, 'Fieldtriqp': 12341, 'Loess': 12342, 'Thomas Fehlmann': 12343, 'Displacer': 12344, 'Lackluster': 12345, 'Quench': 12346, 'Cora': 12347, 'Wirtz': 12348, 'Solomon Burke': 12349, 'Herbstrock': 12350, 'Lisa Stansfield': 12351, 'Snap!': 12352, 'Fernanda Abreu': 12353, 'Hilary Chow': 12356, 'Meredith Brooks': 12357, 'Buffalo Daughter': 12358, 'OOIOO': 12359, 'Zach Hill': 12360, 'ROVO': 12361, 'Giraffes? Giraffes!': 12362, 'DJ Spooky': 12363, 'Supercar': 12364, 'Marnie Stern': 12365, 'Vincent Atmicus': 12366, 'Sleeping People': 12367, 'Scaramanga': 12368, 'Hifana': 12369, 'Lily Chou-Chou': 12370, '高円寺百景': 12371, 'Tony Trischka': 12372, 'Handsomeboy Technique': 12373, 'Peter Horrevorts': 12374, 'Crime In Choir': 12375, 'Ahleuchatistas': 12376, \"ChristinaAguilera/Lil' Kim\": 12377, 'Derb': 12378, 'Ms. Jade': 12379, 'Symphony X - \"V\" The New Mitology Suite': 12380, 'Dream Theater - Score: 20th Anniversary World Tour': 12381, 'Rush - Signals': 12382, 'Rush - Power Windows': 12383, 'You, Me, and Everyone We Know': 12384, 'Mod Sun': 12385, 'My Ticket Home': 12386, 'Craig Owens': 12387, 'サンボマスター': 12388, 'Right Away, Great Captain!': 12389, 'Fighting With Wire': 12390, \"Drewsif Stalin's Musical Endeavors\": 12391, 'Closed For Tonight': 12392, 'S.I.R. Remixes': 12393, 'Chiasm': 12394, 'Seize': 12395, 'Mario Winans': 12396, 'Chrishan': 12397, 'One Chance': 12398, 'De Saloon': 12399, 'Come Undone': 12400, 'Curiosity Killed the Cat': 12401, 'COME UNDONE www.comeundonemusic.com': 12402, 'Ledisi': 12403, 'Tony Matterhorn': 12404, 'Xscape': 12405, 'Chrisette Michele': 12406, 'T.O.K.': 12407, 'Aidonia': 12408, 'Kindred the Family Soul': 12409, 'Howling Bells': 12410, 'трэш-шапито КАЧ': 12412, 'НОМ': 12413, 'Emre Aydın': 12414, 'Sansar': 12415, 'Slumdog Millionaire': 12416, 'Pit10': 12417, 'Şanışer': 12418, 'Pit10 & Müslüm Gürses': 12419, 'Ceza': 12420, '6.Cadde': 12421, 'Şehinşah': 12422, 'Sansar feat. Pit10': 12423, 'Şanışer feat. Atakan': 12424, 'Beta': 12425, 'Rahdan & Sansar': 12426, 'Soundtrack (GLA)': 12427, 'Sibel Alaş': 12428, 'Çilekeş': 12429, 'Şanışer & Bela': 12430, 'Fuat': 12431, 'Fahd Al Kandari': 12432, 'Saud Al-Shuraim': 12433, 'Göksel Baktagir': 12434, 'Mohammed Ibraheem al Luhaydan': 12435, \"Sa'ad Al-Gamidi\": 12436, 'Yansımalar': 12437, 'Ahmad Saud': 12438, 'Kani Karaca': 12439, 'Bezmârâ': 12440, 'Sheikh Mishary Rashed Alafasy': 12441, 'Hasan Cihat Örter': 12442, 'Abdülkadir Şehitoğlu': 12443, 'Ihsan Özgen': 12444, 'Fatih Çollak': 12445, 'Aylin Şengün Taşçı': 12446, 'Mehmet Emin Ay': 12447, 'Abdelbasset Mohamed Abdessamad': 12448, 'Uğur Işılak': 12449, 'Shaik Abu Baker Al-Shatiri': 12450, 'Qari Syed Sadaqat Ali': 12451, 'Sagopa Kajmer': 12452, 'Yahya Hawwa': 12453, 'Mahmut Durgun': 12454, 'Muhammed Celalettin Yüksel': 12455, 'Tweek': 12456, 'Ercan Irmak': 12457, 'Hideo Osaka Ensemble': 12458, 'Trance Istanbul Project - DJ. Kambo': 12459, 'Hasan Hüseyin Varol': 12460, 'Ismail Bülbül': 12461, 'Mohammad Saleh Alem Shah': 12462, 'EBT': 12463, 'Nanae Yoshimura': 12464, 'Traditional music from  Japan': 12465, 'Umekichi': 12466, 'Taikoza': 12467, 'Emin Isak': 12468, 'Smadj, Orhan Osman & Savaş Zurnacı': 12469, 'Brent Lewis': 12470, 'GOCOO': 12471, 'Kyoto Imperial Court Music Orchestra': 12472, 'Tokyo Gakuso': 12473, 'Master Musicians Of The Ikuta School': 12474, 'Kifu Mitsuhashi': 12475, 'Cheikh Abdulbasset Abdussamad': 12476, 'New Boyz': 12477, 'Shea Fisher': 12478, 'Francesqa': 12479, 'Lauren Pritchard': 12480, 'Antsy Pants': 12481, 'Wheatus': 12482, 'P.S. Eliot': 12483, 'Archers of Loaf': 12484, 'Lymbyc Systym': 12485, 'Tiny Hawks': 12486, 'Empire! Empire! (I Was A Lonely Estate)': 12487, 'Teenage Cool Kids': 12488, '1994!': 12489, 'Snowing': 12490, 'Abe Vigoda': 12491, 'Algernon Cadwallader': 12492, 'Broski': 12493, 'Stranger Danger': 12494, 'Casiotone for the Painfully Alone': 12495, 'Beat Happening': 12496, 'The Love of Everything': 12497, 'Faraquet': 12498, 'By Surprise': 12499, 'Grown Ups': 12500, 'Storm the Bastille': 12501, 'M Blanket': 12502, 'The City on Film': 12503, 'Crimson Ivy': 12504, 'cEvin Key': 12505, 'Hilt': 12506, \"Psy'Aviah\": 12507, 'ohGr': 12508, 'Cyberaktif': 12509, 'dev/null': 12510, 'Doubting Thomas': 12511, 'Loli Ripe': 12512, 'Rx': 12513, 'Venetian Snares & Speedranch': 12514, 'Lard': 12515, 'seis35': 12516, 'Tara Perdida': 12517, 'Fernando Rocha': 12518, 'Rouxinol Faduncho': 12519, 'Trinta e Um': 12520, '4Taste': 12521, 'Jaimão': 12522, 'Joyce & Ridge': 12523, 'Mata-Ratos': 12524, 'Sk6': 12525, 'Ukurralle': 12526, 'Ray William Johnson': 12527, 'TwentyInchBurial': 12528, 'Barafunda Total': 12529, 'Devil In Me': 12530, 'Fonzie': 12531, 'ForGodsFake': 12532, 'Pharrell': 12535, 'Bela B.': 12538, 'Angels and Airwaves': 12544, 'Cazwell': 12545, 'Jim Dooley': 12546, 'Lunic': 12547, 'Shannon Wright': 12548, 'Daisybox': 12549, 'Sono': 12550, 'Lily Holbrook': 12551, 'Hypernova': 12552, 'Ha-Ash': 12553, 'Phineas & Ferb': 12554, 'Ximena Sariñana': 12555, 'Brenda Asnicar': 12556, 'Matthew \"Mdot\" Finley & Meaghan Martin': 12557, 'Cast Of HSM': 12558, 'Jolette': 12559, 'Laura Esquivel': 12560, 'Chenoa': 12561, 'Pitty [Des]Concerto Ao Vivo': 12562, 'The Midway State': 12563, 'Empires': 12564, 'Sam Roberts': 12565, 'Daniel Ghattas': 12566, 'The Last Goodnight': 12567, 'Tunisiano': 12568, 'Brian Melo': 12569, 'The Philosopher Kings': 12570, 'Raine Maida': 12571, 'Matt Mays & El Torpedo': 12572, 'Butch Walker': 12573, 'Tom Felton': 12574, 'Elin Lanto': 12575, 'Myriam Hernández': 12576, 'Sagi-Rei': 12577, 'Romanticas en español': 12578, 'Madrugada': 12579, 'Scumbucket': 12580, 'Slut': 12581, 'Harmful': 12582, 'iLiKETRAiNS': 12583, 'Sivert Høyem': 12584, '빅뱅': 12585, 'Camilo Echeverry': 12586, 'G-Dragon (지드래곤)': 12587, 'Baby Rasta & Gringo': 12588, '郭采洁': 12589, 'Marbelle': 12590, '동영배': 12591, 'Baby Rasta': 12592, 'Ximena': 12593, 'A.E': 12594, 'Margarita Rosa de Francisco': 12595, '승리': 12596, 'Adriana Lucia': 12597, 'J Balvin (El Negocio)': 12598, 'Harry Nilsson': 12599, 'Big Dipper': 12600, 'Spider John Koerner': 12601, 'Candy Claws': 12602, \"The dB's\": 12603, 'Stephen Malkmus and the Jicks': 12604, 'Tobacco': 12605, 'Cass Elliot': 12606, 'Seeland': 12607, '{{{Sunset}}}': 12608, 'Pure Saturday': 12612, 'Volcano Choir': 12618, 'Twin Atlantic': 12620, 'Two Steps From Hell': 12621, 'Boyce Avenue (Acoustic Cover)': 12622, 'Peter, Paul & Mary': 12623, 'The Vengers': 12624, 'Chris Salvatore': 12625, 'Julian Sas': 12626, \"Danny Bryant's RedEyeBand\": 12627, \"Dr. Wu'\": 12628, 'The Human Project': 12629, 'Coco Montoya': 12630, 'Albert Cummings': 12631, 'Bill Perry': 12632, 'Kenny Wayne Shepherd Band': 12633, 'Mojo Blues Band': 12634, 'Tommy Castro': 12635, 'Scott Holt': 12636, 'Walter Trout': 12637, 'Beth Hart': 12638, 'The Veldman Brothers': 12639, 'Lara Price Band': 12640, 'Tas Cru': 12641, 'Sonny Moorman': 12642, 'Savoy Brown': 12643, 'Albert Castiglia': 12644, 'Joe Colombo': 12645, 'Don Griffin': 12646, 'Sonny Landreth': 12647, 'Ana Popovic': 12648, 'Chris Duarte & Bluestone co.': 12649, 'Rebel Pride': 12650, 'AJ McLean': 12651, 'Sandy Leah - www.cdlivre.com': 12652, 'Grupo Tradição': 12653, 'MICHEL TELÓ': 12654, 'Machina': 12655, 'bruninho & davi': 12656, 'songstowearpantsto.com': 12657, 'Mendeed': 12658, '배치기': 12659, 'Arcadi Volodos': 12660, 'Impellitteri': 12661, 'Extol': 12662, 'Martha Argerich': 12663, 'Wolfdog': 12664, 'Jope Ruonansuu': 12665, 'タニウチヒデキ': 12666, 'Butterfly Tea': 12667, 'Qntal': 12668, 'Pussycat': 12669, 'Maanam': 12670, 'Omega': 12671, 'Kurtág György': 12672, 'Sting, Eden Karamazov': 12673, 'Francis Lai': 12674, 'Iona Brown; Academy Of St. Martin In The Fields': 12675, 'Maximilian Hecker': 12676, 'Luigi Dallapiccola': 12677, 'Boulez, Ensemble InterContemporain': 12678, 'Philharmonia Orchestra/Sawallisch': 12679, 'Kari Jobe': 12680, 'Glen Campbell': 12681, 'Bill Anderson': 12682, 'Addison Road': 12683, 'Eddy Arnold': 12684, 'Sarah Reeves': 12685, 'Francesca Battistelli': 12686, 'Ashton Shepherd': 12687, 'Catherine Britt': 12688, 'Katie Armiger': 12689, 'Kristy Lee Cook': 12690, 'HB': 12691, 'Manafest': 12692, 'Project 86': 12693, 'Stellar Kart': 12694, 'Mortification': 12695, 'Raízes': 12696, 'VOTA': 12697, '38th Parallel': 12698, 'Bride': 12699, 'Downhere': 12700, 'Eleventyseven': 12701, 'LAREINE': 12702, 'Jeniferever': 12703, '河村隆一': 12704, 'sleepy.ab': 12705, 'Euphoria': 12706, 'This Empty Flow': 12707, '林海': 12708, 'Seven Percent Solution': 12709, 'Johnny Thunders': 12710, 'The Vera Violets': 12711, 'Colour of Fire': 12712, 'Akira Kosemura': 12713, '松たか子': 12714, \"Rin'\": 12715, 'té': 12716, 'Swervedriver': 12717, 'pg.lost': 12718, '惘闻': 12719, 'The Telescopes': 12720, '미인도(美人圖)': 12721, 'fathom 5': 12722, 'Drive-By Truckers': 12723, 'Orange Juice': 12724, 'Hothouse Flowers': 12725, 'Turin Brakes': 12726, 'Marcomé': 12727, 'Trance Atlantic Air Waves': 12728, 'Thom Brennan': 12729, 'Max Corbacho': 12730, 'DAVID FOXX': 12731, 'Max Corbacho & Bruno Sanfilippo': 12732, 'Trevor Rabin': 12733, 'Chloë Agnew': 12734, 'Jeff Greinke': 12735, 'David Helpling': 12736, 'Byron Metcalf': 12737, 'Medwyn Goodall': 12738, 'Frank Van Bogaert': 12739, 'Roger Eno': 12740, 'Marco Torrance': 12741, 'Jon & Vangelis': 12742, 'Gas (Mat Jarvis)': 12743, 'Bekki Williams': 12744, '2002': 12745, 'Strifeii': 12746, 'Emay': 12747, 'Javelin': 12748, 'Tenorio Jr': 12749, 'Muscles': 12750, 'Charles Hamilton': 12751, 'The Temptations': 12752, 'Edward Sharpe & the Magnetic Zeros': 12753, 'Good Luck': 12754, 'Slum Village': 12755, 'Project Pat': 12756, 'Diplo': 12757, 'AFTA-1': 12758, 'Nosaj Thing': 12759, 'Dave House': 12760, 'Jakob': 12761, 'Maserati': 12762, '七瀬光': 12763, 'D.N.Angel': 12764, 'Yuko Fukushima': 12765, 'Caia': 12766, 'Square-Enix': 12767, 'Tsutchie': 12768, 'The Star Onions': 12769, 'Squaredance': 12770, 'Phil Wickham': 12771, '松枝賀子 & 江口貴勅': 12772, 'Revolverheld': 12773, 'Sub7even': 12774, '4LYN': 12775, 'The Sorrow': 12776, 'The Union Underground': 12777, 'Heckross': 12778, 'The Autumn Offering': 12779, 'Threat Signal': 12780, 'Loser': 12781, 'Machinemade God': 12782, 'John 5': 12783, 'PRALAY': 12784, 'Arnab (aimraj.com)': 12785, 'Andy Timmons': 12786, 'Mumm-Ra': 12787, 'Since October': 12788, 'Scenes From A Movie': 12789, 'Grupo Bom Gosto': 12790, 'Ramirez': 12791, 'Sp7': 12792, 'Ministério Trazendo a Arca': 12793, 'A Thorn for Every Heart': 12794, 'Luzmelt': 12795, 'Dark Schneider': 12796, '摩天楼オペラ': 12797, 'ゾロ': 12798, 'Administrator': 12799, '平成維新': 12800, 'Megaromania': 12801, 'Lycaon': 12802, 'ViViD': 12803, 'Phantasmagoria': 12804, 'SCREW': 12805, 'DaizyStripper': 12806, '少女-ロリヰタ-23区': 12807, 'アヲイ': 12808, 'amber gris': 12809, 'キャンゼル': 12810, 'UnsraW': 12811, '9GOATS BLACK OUT': 12812, 'THE KIDDIE': 12813, 'ケミカルピクチャーズ': 12814, 'auncia': 12815, 'ギルティア': 12816, 'The Communards': 12817, 'Bronski Beat & Marc Almond': 12818, '[WwW.PotenciaDance.CoM]': 12819, 'Phillip Boa & The Voodooclub': 12820, 'Telepathe': 12821, 'Children of the CPU': 12822, 'Ashra': 12823, 'Beangrowers': 12824, 'OVERROCKET': 12825, 'Donna Regina': 12826, 'Johannes Schmoelling': 12827, 'Peter Baumann': 12828, 'True Colour of Blood': 12829, 'Mizca': 12830, 'Harem Scarem': 12831, 'Parni Valjak': 12832, 'Crvena Jabuka': 12833, 'Brad': 12834, 'Stone Gossard': 12835, 'Prljavo Kazalište': 12836, 'Logistics': 12837, 'Caspa': 12838, 'Sub Focus': 12839, 'Mistabishi': 12840, 'The Sect': 12841, 'Borgore': 12842, 'Dogs on Crack vs Katz on K': 12843, 'Datsik, Flux Pavillion': 12844, 'Cervello Elettronico': 12845, 'Seba': 12846, 'Ganja Kru': 12847, 'Quantum Soul': 12848, 'Counterstrike & Current Value': 12849, '16bit': 12850, 'TriaMer': 12851, 'Current Value & Limewax': 12852, 'M!ndFuck': 12853, 'High Contrast': 12854, 'Mimosa': 12855, 'Skream b2b Benga': 12856, 'State Of Mind & PNC': 12857, 'Current Value & Donny': 12858, 'Predatorz Potcast 03': 12859, 'State Of Mind & Trei': 12860, 'c9h13no3': 12861, 'Limewax & The Panacea': 12862, 'Maldini, Vegas & D-Bridge': 12863, 'Rufige Kru': 12864, 'Nanotek': 12865, 'Der WaldläUfer': 12866, 'Union Jack': 12867, 'Quantic': 12868, 'Nova': 12869, 'Solar-Wind': 12870, 'Pit Baumgartner/Adax Dorsam': 12871, 'Dyke & The Blazers': 12872, 'Waldläufer': 12873, 'der waldäufer': 12874, 'Lauren': 12875, 'Matt Darey': 12876, 'Gabi Newman feat. Nikol': 12877, 'abyssal plains': 12878, 'Poets of Rhythm': 12879, 'Fabulous Souls': 12880, 'Rex Garvin & The Mighty Cravers': 12881, 'Salt': 12882, 'Johnny Jones And The King Casuals': 12883, 'Vern Blair Debate': 12884, 'Ganga': 12885, 'The Five Du-Tones': 12886, 'Johnny Jones & The King Casuals': 12887, 'Mind Soup': 12888, 'Super Pulse': 12889, 'Bliss': 12890, 'Duck Sauce': 12897, 'Rakim': 12902, 'The Parlor Mob': 12909, 'The Answer': 12911, 'Vetusta Morla': 12915, 'The Ropes': 12917, 'Band of Skulls': 12918, 'Waikiki': 12919, 'Malu': 12920, 'Amaral': 12921, 'Sergio Dalma': 12922, 'Fito & Fitipaldis': 12923, 'El Sueño de Morfeo': 12924, 'LanzamientosMp3 & Mixermusic': 12925, 'Pastora Soler': 12926, 'Merche': 12927, 'Keiko Matsui': 12928, 'M. Bulteau': 12929, '岩代太郎': 12930, 'Roger Subirana': 12931, 'Itzhak Perlman': 12932, 'Brian Eno & David Byrne': 12933, 'Black Rain': 12934, 'Steelheart': 12935, 'Keel': 12936, 'London': 12937, 'Roxx': 12938, 'Lizzy Borden': 12939, 'Peep Show': 12940, 'Among the Debris': 12943, 'Doom Unit': 12944, 'Jesus Culture': 12945, 'Ministério Vida de Adoração': 12946, 'Shawn McDonald': 12947, 'Day of Fire': 12948, 'Mainstay': 12949, 'Delirious?': 12950, 'Jonah33': 12951, 'Livres para Adorar': 12952, 'Audio Adrenaline': 12953, 'Spoken': 12954, 'Casa de Davi': 12955, 'Adoração & Adoradores': 12956, 'Lucas Souza': 12957, 'Austin Drage': 12958, 'Amanda Seyfried': 12959, 'Hunter Parrish': 12960, 'Zizi Possi': 12961, 'Pia Toscano': 12962, 'Eoghan Quigg': 12963, '3-11 Porter': 12964, 'Moony': 12965, 'Burhan G': 12966, 'BOB': 12967, 'Mary J Blige': 12968, 'Timbaland feat. Keri Hilson & Sebastian': 12969, 'Timbaland feat. Sebastian & Attitude': 12970, 'N.E.R.D.': 12971, 'Timbaland feat. Keri Hilson & D.O.E.': 12972, 'Babyland': 12973, 'Love of Diagrams': 12974, '16Volt': 12975, 'Zola Jesus': 12976, 'The Prids': 12977, 'Dum Dum Girls': 12978, 'Machine Drum': 12979, 'Anthony Green': 12980, 'I Would Set Myself on Fire for You': 12981, 'Runsfasterscared': 12982, 'Ataque Verbal': 12983, 'Fangoria': 12984, 'Denise Murz': 12985, 'D-MODE': 12986, 'Global Deejays': 12987, 'Thea Gilmore': 12988, 'Lisa Hannigan': 12989, 'Laura Izibor': 12990, 'Sarah Jaffe': 12991, 'Kathryn Williams': 12992, 'Anna Calvi': 12993, 'Deee-Lite': 12994, 'Sleeping In The Aviary': 12995, 'delicious pastries': 12996, 'Cotton Mather': 12997, 'Superdrag': 12998, 'New Shouts': 12999, 'Love': 13000, 'Mariage Blanc': 13001, 'The Bees': 13002, 'Meeting Of Important People': 13003, 'The Soft Boys': 13004, 'Ultra Orange & Emmanuelle': 13005, 'Laminated Cat': 13006, 'Walter Meego': 13007, \"Natalie Portman's Shaved Head\": 13008, 'Bag Raiders': 13009, 'Shitdisco': 13010, 'Rex the Dog': 13011, 'Platinum Blonde': 13012, 'Tony Bennett': 13013, 'Tom Cochrane & Red Rider': 13014, 'Go': 13015, 'Blade Loki': 13016, 'Habakuk': 13017, 'Honor': 13018, 'Zabili Mi Żółwia': 13019, 'Zeus': 13020, 'Nauka o gównie': 13021, 'Cela Nr 3': 13022, 'The Bill': 13023, 'Kastracja': 13024, 'Pięć Dwa Dębiec': 13025, 'Komety': 13026, 'Konkwista 88': 13027, 'Brudne Dzieci Sida': 13028, 'Ramzes & The Hooligans': 13029, 'Uliczny Opryszek': 13030, '天空のエスカフローネ': 13031, 'Bruno Coulais, Mathilde Pellegrini, Helene Breschand, Hungrarian Symphony Orchestra Budapest & Laurent Petitgirard': 13032, 'Lulu Rouge': 13033, 'Ilan Eshkeri': 13034, 'Miriam Stockley': 13035, 'Cybo': 13036, '鼓童': 13037, 'Kurt Vile': 13038, 'Crystal Stilts': 13039, 'Fresh Cherries From Yakima': 13040, 'Tiny Vipers': 13041, 'The Sandwitches': 13042, 'Sleeping States': 13043, 'Silver Jews': 13044, 'Women': 13045, 'Minks': 13046, 'Rio en Medio': 13047, 'Valet': 13048, 'The Fresh & Onlys': 13049, 'Papercuts': 13050, 'Sic Alps': 13051, 'Julian Lynch': 13052, 'Thee Oh Sees': 13053, 'Lotus Plaza': 13054, 'WHITE FENCE': 13055, 'Dirty Beaches': 13056, 'Grass Widow': 13057, 'Nullset': 13058, 'Humberto Gessinger Trio': 13059, 'SoundGarden | www.CdsCompletos.net': 13060, 'Infectious Grooves': 13061, 'Green River': 13062, 'Cheyenne Kimball': 13063, 'Jordan McCoy': 13064, 'Moxy Früvous': 13065, 'Dr. Dog': 13066, 'Howstuffworks.com': 13067, 'Broadway Cast Recording': 13068, 'Ray Davies': 13069, 'Jim Gaffigan': 13070, 'The Rosewood Thieves': 13071, 'Bijelo Dugme': 13072, 'Indexi': 13073, 'Divlje Jagode': 13074, 'Zabranjeno Pušenje': 13075, 'Gibonni': 13076, 'Osmi Putnik': 13077, 'Smak': 13078, 'Haustor': 13079, 'The Grapes of Wrath': 13084, 'Spoons': 13085, 'Chalk Circle': 13086, 'The Sword': 13087, '100dBs': 13089, 'Dusty Fingers': 13090, 'Dj Eleven': 13091, 'Bochum Welt': 13092, 'Metal Fingers': 13093, 'Jaylib': 13094, 'Diamond and the Psychotic Neurotics': 13095, 'Angelo Elle': 13096, 'la guerra delle formiche': 13097, 'LaPingra': 13098, 'Don Turbolento': 13099, 'Honeybird & the Birdies': 13100, 'Vinegar Socks': 13101, 'Scott Matthews': 13102, 'The Abramson Singers': 13103, 'zero gravity toilet': 13104, 'Eva Mon amour': 13105, 'Kiss My Ass, Deeply': 13106, 'Arakain': 13107, 'Zbynda Slepička': 13108, 'Krausberry': 13109, 'Alkehol': 13110, 'Votchi': 13111, 'Ian Gillan': 13112, 'Horkýže Slíže': 13113, 'Tři Sestry': 13114, 'Blue Effect': 13115, 'Karel Kryl': 13116, 'Katapult': 13117, 'Brutus': 13118, 'Jan Jiroušek': 13119, 'Jiří Schelinger': 13120, 'Hudba Praha': 13121, 'Jára Cimrman': 13122, 'Blue Cheer': 13123, 'Totální Nasazení': 13124, 'Šimek & Grossmann': 13125, 'Saga': 13126, 'Seventh Wonder': 13127, 'The Gourishankar': 13128, 'Enchant': 13129, 'Dominici': 13130, 'Aditus': 13131, 'Dreamscape': 13132, 'Shawn Lane': 13133, 'Agora': 13134, 'Los Rabanes': 13135, 'Chichi Peralta': 13136, 'Pastora': 13137, 'Ok que': 13138, 'The Jelly Jam': 13139, 'Guillermo Cides': 13140, 'Mermelada Bunch': 13141, 'Solid Vision': 13142, 'MullMuzzler': 13143, 'Manolo García': 13144, 'Alaska In Winter': 13145, 'Sea Wolf': 13147, 'The Alarm': 13151, 'Mike Peters': 13152, 'Grand National': 13153, 'Любэ': 13154, 'Bachelor Girl': 13155, 'Kirsty MacColl': 13156, 'Stephen Duffy': 13157, 'Gowan': 13158, 'Simon Le Bon': 13159, 'Glass Tiger': 13160, 'Private': 13161, 'Geneva Jacuzzi': 13162, 'Clara Rockmore': 13163, 'Jane Birkin': 13164, 'Kas Product': 13165, 'El Aviador Dro': 13166, 'John Maus': 13167, 'Telex': 13168, 'Marlene Dietrich': 13169, 'Lio': 13170, 'Marianne Faithfull': 13171, 'Jeremy Jay': 13172, 'Thieves Like Us': 13173, 'Modern Witch': 13174, 'Bernard Fevre': 13175, 'Trans-X': 13176, 'Lizzy Mercier Descloux': 13177, 'The Motels': 13178, 'DJ Sharpnel': 13179, 'Apartment 26': 13180, 'Magic Man': 13181, 'e-gens': 13182, 'Electro Spectre': 13183, 'Analog Angel': 13184, 'B! Machine': 13185, 'Jens Bader': 13186, 'Ien Oblique': 13187, 'Zartbitter 16': 13188, 'KAJ': 13189, 'Simulator': 13190, 'Sharon Next': 13191, 'depressive minds': 13192, 'Mphase': 13193, 'Sea of Sin': 13194, 'Dynamic Masters': 13195, 'The High-Dolls': 13196, 'Halovox': 13197, 'Raindancer': 13198, 'TheTrees': 13199, 'Tourdeforce': 13200, 'Intricated': 13201, 'Carved Souls': 13202, 'Vision Talk': 13203, 'Fake The Envy': 13204, 'Joy Serene': 13205, 'Modern Thieves': 13206, 'Low Technicians': 13207, 'Stargraph': 13208, 'Double Thumb': 13209, 'Rational Youth': 13210, 'James LaBrie': 13211, 'ANew Revolution': 13212, 'Confession': 13213, 'The Letter Black': 13214, 'Éowyn': 13215, 'Amie Miriello': 13216, 'Elizabeth & The Catapult': 13217, 'Eric Hutchinson': 13218, 'Andrea Corr': 13219, 'Richard Joo': 13220, 'Attack In Black': 13221, 'Canterbury': 13222, 'Adrina Thorpe': 13223, 'Joan as Police Woman': 13224, 'Smoosh': 13225, 'Charlie Dée': 13226, 'Room Eleven': 13227, 'Immaculate Machine': 13228, 'Heidi Happy': 13229, 'Pinewood Derby': 13230, 'Phildel': 13231, 'The Devlins': 13232, 'Title Fight': 13233, 'Transit': 13234, 'THE KOBANES': 13235, 'Such Gold': 13236, 'This Time Next Year': 13237, 'The Lillingtons': 13238, 'Agent': 13239, 'Shook Ones': 13240, 'The 20 Belows': 13241, 'Huntingtons': 13242, 'My Heart To Joy': 13243, 'Chixdiggit!': 13244, 'Johnie 3': 13245, 'The Manges': 13246, 'Riverdales': 13247, 'The Invalids': 13248, 'the peabodys': 13249, 'Balance and Composure': 13250, 'Hightide Hotel': 13251, 'The Steinways': 13252, 'The Copyrights': 13253, 'Iron Chic': 13254, 'House Boat': 13255, 'Midwest Pen Pals': 13256, 'Parasites': 13257, 'Castevet': 13258, 'Cletus': 13259, 'Latterman': 13260, 'Get Bent': 13261, 'Carridale': 13262, 'teenage bubblegums': 13263, 'Crime in Stereo': 13264, 'Anna Abreu': 13265, 'A1': 13266, 'Wallis Bird': 13267, 'Willy DeVille': 13268, \"Lightnin' Hopkins\": 13269, 'The Paul Butterfield Blues Band': 13270, 'Buddy Guy & Junior Wells': 13271, 'John Mayall': 13272, 'Koko Taylor': 13273, 'Popa Chubby': 13274, 'Kumm': 13275, 'Cargo': 13276, 'Dreadful Shadows': 13277, 'Gladiator Theme': 13278, 'Vaya Con Dios': 13279, 'Codeine Velvet Club': 13280, 'Sibel Can': 13281, 'Companhia do Calypso': 13282, 'Parangolé': 13283, 'PSIRICO': 13284, 'Teresa Salgueiro': 13285, 'Baby do Brasil': 13286, 'Oz Bambaz': 13287, 'Dead Meadow': 13289, 'Divididos': 13291, 'Don Omar': 13292, 'Jowell & Randy': 13293, 'Arcangel': 13294, 'Toxic Crow': 13295, 'Zion': 13296, 'El LAPIZ CONCIENTE': 13297, 'Monkey Black': 13298, 'Vakero': 13299, 'Eddie Dee': 13300, 'joa': 13301, 'Lito y Polaco': 13302, 'Tego Calderon': 13303, 'Don Chezina': 13304, 'Eldad  Lidor': 13305, 'Eldad Lidor': 13306, 'Sporting Club': 13307, 'Leszek Możdżer': 13308, 'Tamburada': 13309, 'Circumnavigate': 13310, 'Pterodata': 13311, 'Cybophonia': 13312, 'Sauli Hirvi': 13313, 'The Wood For The Trees': 13314, 'Sicilian AV project': 13315, 'Arild Andersen': 13316, 'Terry Riley': 13317, 'Erik Truffaz': 13318, 'Egberto Gismonti': 13319, 'Jaco Pastorius': 13320, 'Wilhelm Stegmeier': 13321, 'Shadowtransit': 13322, 'Halosenchanted': 13323, 'Oregon': 13324, 'Machinefabriek': 13325, 'Nick Loew': 13326, 'Contemporary Noise Quintet': 13327, 'Kenji Watanabe': 13328, 'BrainStorm Operations': 13329, 'Gendrickson Mena': 13330, 'Hermeto Pascoal': 13331, 'Uakti': 13332, 'Armand Amar': 13333, 'John Barrett': 13334, 'k-shan': 13335, 'DoubleUIM': 13336, 'Mark Isham': 13337, 'Jeff Tweedy': 13338, 'Astral Projection': 13339, 'Cosma': 13340, 'Pink Turns Blue': 13341, 'No Tears': 13342, 'Diaframma': 13343, 'Martial Canterel': 13344, 'Lowlife': 13345, 'Project:KOMAKINO': 13346, 'Frank the Baptist': 13347, 'Suspiria': 13348, 'Les Modules Etranges': 13349, 'PGR': 13350, 'Paola & Chiara': 13351, 'Chiara Iezzi': 13352, 'Dual Sessions': 13353, 'Bodies Without Organs': 13354, 'Rodrigo Leão': 13355, 'Ivri Lider': 13356, 'Thomas Anders': 13357, 'Above&Beyond Presents Oceanlab': 13358, 'Enigmatic Obsession': 13359, 'Гости из Будущего': 13360, 'Борис Апрель': 13361, 'Ysa Ferrer': 13362, 'Christophe Willem': 13363, 'Mark Medlock': 13364, 'Common Rotation': 13365, 'Erik Wøllo': 13366, 'Academy Of St. Martin-In-The-Fields Under Neville Marriner': 13367, 'Mediæval Bæbes': 13368, 'Altan': 13369, 'Essence': 13370, 'Karl Jenkins': 13371, 'Blue Man Group': 13372, 'Richard Bone': 13373, 'Clandestine': 13374, 'Steve Aoki': 13375, 'Gyroscope': 13376, 'Birds of Tokyo': 13377, 'Hladno Pivo': 13378, 'Urban & 4': 13379, 'Lollobrigida': 13380, 'Daleka Obala': 13381, 'Azra': 13382, 'The Beat Fleet': 13383, 'Jinx': 13384, 'Partibrejkers': 13385, 'Darko Rundek': 13386, 'Juana Molina': 13387, 'Sidestepper': 13388, 'Bomba Estéreo': 13389, 'Gondwana': 13390, 'Boston Symphony Ozawa': 13391, 'Choc Quib Town': 13392, 'Bitter:Sweet': 13393, 'Madita': 13394, 'Vinicius de Moraes': 13395, 'Crippled Black Phoenix': 13396, 'Nick Cave & Warren Ellis': 13397, 'Made Out of Babies': 13398, 'HṚṢṬA': 13399, 'The Eighties Matchbox B-Line Disaster': 13400, 'Lou Barlow': 13401, 'Louis XIV': 13406, 'Cairokee': 13409, 'Mohammed El-Hakim': 13410, 'Skambankt': 13411, 'Boom Boom Kid': 13412, 'Dolly': 13413, 'Nina Gordon': 13414, 'Neurotic Outsiders': 13415, 'Billy Bragg': 13416, 'The Lucksmiths': 13417, 'The Housemartins': 13418, 'Trembling Blue Stars': 13419, 'Darren Hanlon': 13420, 'My Life Story': 13421, 'Roger Miller': 13422, 'Salad': 13423, 'Reeves & Mortimer': 13424, 'The Ordinary Boys': 13425, 'R.O. Manse': 13426, 'Josef K': 13427, 'Would-Be-Goods': 13428, 'Paul F. Tompkins': 13429, 'After The Sirens': 13430, 'Dead Poetic': 13431, 'The Crash Moderns': 13432, 'LostAlone': 13433, 'Пелагея': 13434, 'Sissel Kyrkjebø': 13435, 'Anna Netrebko': 13436, 'Máiréad Nesbitt': 13437, 'Earth Affair': 13438, 'Cortes': 13439, 'Amaury Vassili': 13440, 'Guillermo Capetillo': 13441, 'Jonathan Clay': 13442, 'Anneli Drecker': 13443, 'George Bruns': 13444, 'Liz Callaway': 13445, 'India.Arie': 13446, 'Conya Doss': 13447, 'John Legend & The Roots': 13448, 'Mariah Carey & Whitney Houston': 13449, 'The Coasters': 13450, 'Die Form': 13451, 'Chris Whitley': 13452, 'Juluka': 13453, 'Woven Hand': 13454, 'The Fools': 13455, 'Dynamix II': 13456, 'Chipmunk': 13458, 'Katy B': 13460, 'Nickel Creek': 13463, 'Farewell': 13468, 'Austere': 13478, 'Airs': 13491, 'Aviões do Forró': 13497, 'Murat Esmer': 13498, 'Cahit Berkay': 13499, 'Nileppez': 13500, 'Sophiatonic': 13501, 'Gökhan Kırdar': 13502, 'İncesaz': 13503, 'Fahir Atakoğlu': 13504, 'Janet & Jak Esim': 13505, 'Nugo Sebil': 13506, 'Moonhill': 13507, 'The Rorschach Audio': 13508, 'Hariçten Gazelciler': 13509, 'Kurban': 13510, 'Evanthia Reboutsika': 13511, 'Saltuk Erginer': 13512, 'Mickey Gang': 13513, 'Hot Rod Circuit': 13514, 'Texas Is the Reason': 13515, 'Maritime': 13516, 'Whiskeytown': 13517, 'Caithlin De Marrais': 13518, 'The Commercials': 13519, 'Push To Talk': 13520, 'Reggie and the Full Effect': 13521, 'Jeremy Enigk': 13522, 'Sparta': 13523, 'The New Amsterdams': 13524, 'Hey Mercedes': 13525, 'Dear and the Headlights': 13526, 'No Knife': 13527, 'Further Seems Forever': 13528, 'Sid Vicious': 13529, 'Trio': 13530, 'Concrete Blonde': 13531, 'The Rezillos': 13532, 'Ebba Grцn': 13533, 'Pencey Prep': 13534, 'Thomas Godoj': 13535, 'Kyosuke Himuro Feat. Gerard Way': 13536, 'Der W': 13537, 'Nevio': 13538, 'Her Space Holiday': 13539, 'Russian Red': 13540, 'Adymus': 13541, 'serani': 13542, 'Nina Sky': 13543, 'David Forbes & Mallorca Lee': 13544, 'Tami Chynn': 13545, 'Drew Seeley': 13546, 'Darin Zanyar': 13547, 'Alcione': 13548, 'Anthony Callea': 13549, 'Shiri Maimon': 13550, 'Buffy the Vampire Slayer Cast': 13551, 'Diogo Nogueira': 13552, 'Padre Fábio de Melo': 13553, 'Scorpions & Berliner Philharmoniker': 13554, 'Rhapsody': 13555, 'The Milo': 13556, 'Homogenic': 13557, 'The Lightning Seeds': 13558, 'Efek Rumah Kaca': 13559, 'Hollywood Nobody': 13560, 'Barry likumahuwa': 13561, 'The Trees & The Wild': 13562, 'Tristan Feldbauer': 13563, 'Mueller/Feldbauer': 13564, 'Maia Haag-Wackernagel, Alan Mueller & Tristan Feldbauer': 13565, 'ConeCrewDiretoria': 13566, 'Send More Paramedics': 13567, 'Flicts': 13568, 'Catatonia': 13575, 'Dave Melillo': 13579, 'Bo Burnham': 13580, 'Permanent Me': 13581, \"Adler's Appetite\": 13582, 'Izzy Stradlin and the Ju Ju Hounds': 13583, 'Angelo Branduardi': 13584, 'Maria del Mar Bonet': 13585, 'Joan Manuel Serrat': 13586, 'Jordi Savall': 13587, 'George Winston': 13588, 'Los Brincos': 13589, 'Henry Purcell': 13590, 'Capella De Ministrers': 13591, 'Benito Lertxundi': 13592, 'John Renbourn': 13593, 'Lisa Ekdahl': 13594, 'Georg Philipp Telemann': 13595, 'Shirley Rumsey': 13596, 'Jean-Baptiste Lully': 13597, 'Steeleye Span': 13598, 'The Left Banke': 13599, 'Porta': 13600, 'Camilo Sesto': 13601, 'María Daniela y su Sonido Lasser': 13602, 'Los Bunkers': 13603, 'Konami': 13604, 'Bob Seger & the Silver Bullet Band': 13605, 'Debbie Davies': 13606, 'John Entwistle': 13607, 'Lulu': 13608, 'The High Numbers': 13609, 'Headlights': 13610, 'Loma Prieta': 13611, 'His Hero Is Gone': 13612, 'Austin Lucas': 13613, 'Reversal of Man': 13614, 'Merchandise': 13615, 'Integrity': 13616, 'Tim Barry': 13617, 'Funeral Diner': 13618, 'Transistor Transistor': 13619, 'Dolarhyde': 13620, 'Warren Zevon': 13621, 'Assück': 13622, 'Small Brown Bike': 13623, 'Colin Hay': 13624, 'Les Paul': 13625, 'Government Warning': 13626, 'Hatred Surge': 13627, 'Socially Retarded': 13628, 'Raein': 13629, 'Blessure Grave': 13630, 'Battle Of Wolf 359': 13631, 'Dikta': 13632, 'Devics': 13633, 'Gavin Friday': 13634, 'Futon': 13635, 'Johnny Marr + the Healers': 13636, 'Fire On Dawson': 13637, 'Indukti': 13638, 'The-Dream f. Kanye West': 13639, 'Sleepy Rebels': 13640, 'Jamie Foxx feat. Kanye West and The-Dream': 13641, 'Ya Boy': 13642, 'LMNTL Feat Angell Mclusky': 13643, 'Jeremiah': 13644, 'Meg & Dia': 13645, 'Benga': 13646, 'Another Electronic Musician': 13647, 'VANILLA BEANS': 13648, 'Boc Scadet': 13649, 'Cylob': 13650, 'Benn Jordan': 13651, 'Guther': 13652, 'Human Action Network': 13653, 'Maps And Diagrams': 13654, 'Piana': 13655, 'Flexe': 13656, 'o9': 13657, 'Pictureplane': 13659, 'French Kicks': 13660, 'Thurston Moore': 13664, 'Triángulo De Amor Bizarro': 13665, 'Los Fresones Rebeldes': 13666, 'Carrie': 13667, 'Porter': 13668, 'Silvio Rodríguez': 13669, 'Monocordio': 13670, 'Alcian Blue': 13671, 'Adorable': 13672, 'Malsain': 13673, 'Iperyt': 13674, 'Imperial Crystalline Entombment': 13675, 'Gehenna': 13676, 'Moëvöt': 13677, \"Old Man's Child\": 13678, 'Celestia': 13679, 'Final Sacrifice': 13680, 'Scars of Life': 13681, 'Kayzen': 13682, 'Disgorge': 13683, 'Necros Christos': 13684, 'Ljå': 13685, 'GrimSkunk': 13686, 'Vulgaires Machins': 13687, 'Joseph Arthur': 13688, 'James Murdoch': 13689, 'Jeremy Fisher': 13690, 'Joseph Arthur & the Lonely Astronauts': 13691, 'Champion': 13692, 'Anik Jean': 13693, 'Race': 13694, 'Xavier Caféïne': 13695, 'Colin Moore': 13696, 'The Gin Club': 13697, \"The Wailin' Jennys\": 13698, 'Tagada Jones': 13699, 'Mano Negra': 13700, 'Jason Kent': 13701, 'Daniel Lanois': 13702, 'Dumas': 13703, 'M. Pyres': 13704, 'Lewis & Clarke': 13705, 'Avey Tare and Panda Bear': 13706, 'King Tut': 13707, 'Volta Do Mar': 13708, 'Heather Nova': 13709, 'Francesca Reggio and Blue Shift': 13710, 'Sarah Slean': 13711, 'Leona Naess': 13712, 'The Trews': 13713, 'Inara George': 13714, 'Ayọ': 13715, 'Wonkavision': 13716, 'Monique Kessous': 13717, 'Chico Pinheiro': 13718, 'Paula Lima': 13719, 'Meaghan Martin': 13720, 'Jordan Francis': 13721, 'Aaron Doyle/Demi Lovato/Meaghan Martin': 13722, 'Cast of Camp Rock': 13723, 'White Rabbits': 13724, 'João Brasil': 13725, 'This Ending': 13726, 'I': 13727, 'Slumber': 13728, 'Sore': 13729, 'Lustral': 13730, 'Amanda Somerville': 13731, 'Lucy Lawless': 13732, 'Amelia Brightman': 13733, 'Kiske/Somerville': 13734, 'Vitamin C': 13735, 'Samantha Ronson': 13736, 'The Beautiful Girls': 13737, 'Mojave 3': 13738, 'Eiza Gonzalez': 13739, 'Liz Lee': 13740, 'Stan Walker': 13741, 'Mariana Rios': 13742, 'PeeWee': 13743, 'Johnossi': 13744, 'The Reindeer Section': 13748, 'Knob': 13749, 'Kristin Hersh': 13750, 'The Kleptones': 13751, 'Los Natas': 13752, 'Fatso Jetson': 13753, 'Pigface': 13754, 'Grinderman': 13755, 'Gary Revel': 13756, 'Koffin Kats': 13757, 'Harris Tweed': 13758, 'Maini Sorri': 13759, 'Jon Schmidt': 13760, 'The Manhattan Transfer': 13761, 'Willie Nelson & Ray Price': 13762, 'ＬｕＬｕ': 13763, 'Paulina Lenda': 13764, 'Dreamgirls (Motion Picture Soundtrack)': 13765, 'Karina': 13766, 'Ilian Filipov': 13767, 'Sensei & Edinaka': 13768, 'Tommy Vee And Scumfrog': 13769, 'Upsurt': 13770, 'Denyo': 13771, 'B.T.R.': 13772, 'Dis': 13773, 'Moth Feat. Engeline': 13774, 'Claude VonStroke': 13775, 'Aveniu': 13776, 'Toni Storaro': 13777, 'The Soundtrack of Our Lives': 13778, 'Heartless Bastards': 13779, 'シド': 13780, 'ダウト': 13782, 'Soso': 13790, 'Mansbestfriend': 13791, 'Noah23': 13792, 'Pugslee Atomz': 13793, 'Thesis Sahib': 13794, 'Eibol': 13795, 'Ceschi': 13796, 'Ancient Mith': 13797, 'Radioinactive and Antimc': 13798, 'Flux Axiom': 13799, 'Dead Poet & Wildcard': 13800, 'Lotek': 13801, 'Def Tex': 13802, 'Ira Lee': 13803, 'Project Dark': 13804, 'Wildcard': 13805, 'Brzowski': 13806, 'Mike Clouds': 13807, 'The Shape Shifters': 13808, 'Animal Nation': 13809, 'Sole and the Skyrider Band': 13810, 'Def 3 + Moka Only': 13811, 'Kurtis Blow': 13812, 'Lonnie Liston Smith': 13813, 'The Spinners': 13814, 'The Bar-Kays': 13815, 'Jel': 13816, 'Billy Paul': 13817, 'Blackbird': 13818, 'Factor': 13819, 'Qwel': 13820, 'Eddie Kendricks': 13821, 'Radioinactive': 13822, 'Gene Ammons': 13823, 'Curse ov Dialect': 13824, 'Don Julian': 13825, 'Adlib': 13826, 'Thavius Beck': 13827, 'Doug Hammond': 13828, 'Mike Longo': 13829, 'Phil Ochs': 13830, 'Henry Priestman': 13831, 'Billie the Vision & The Dancers': 13832, 'Tom McRae': 13834, 'Madame MIM': 13838, 'Forget Me In Vegas': 13839, 'Away We Go!': 13840, 'Green Day & the Cast of American Idiot': 13841, 'The Locomotives': 13842, 'Rock Kills Kid': 13843, 'Steriogram': 13844, 'Living Things': 13845, 'Cephalic Carnage': 13846, 'Tesseract': 13847, 'Allan Holdsworth': 13848, 'Hacride': 13849, 'First Signs Of Frost': 13850, 'Shunsuke Kida': 13851, 'Sadist': 13852, 'The Deserts of Träun': 13853, 'Последние Танки В Париже': 13854, 'Breathe In': 13855, 'odi': 13856, 'Лёха Никонов': 13857, 'northern19': 13858, 'Kattoo': 13859, 'bzik': 13860, 'Шумы России': 13861, 'Пляж': 13862, 'Left Front Tire': 13863, \"Taster's Choice\": 13864, 'Fanisk': 13865, 'Fukpig': 13866, 'Ghost': 13867, 'Wodensthrone': 13868, 'Cnocantursa': 13869, 'The Meads of Asphodel': 13870, 'Goatmoon': 13871, 'Kataxu': 13872, 'The Axis of Perdition': 13873, 'M8L8TH': 13874, \"Fuck...I'm Dead\": 13875, 'Winterfylleth': 13876, 'Hate Forest': 13877, 'Caramell': 13878, 'Chumbawamba': 13879, 'Carter the Unstoppable Sex Machine': 13880, 'Ricky Warwick': 13881, 'Alabama 3': 13882, 'Roadsaw': 13883, \"The Men They Couldn't Hang\": 13884, 'Karma to Burn': 13885, 'miserylab': 13886, 'The Eden House': 13887, 'Tindersticks': 13888, 'Descendants of Cain': 13889, 'Isobel Campbell & Mark Lanegan': 13890, \"Ned's Atomic Dustbin\": 13891, 'UK Decay': 13892, 'Real Life': 13900, 'Timbuk 3': 13901, 'Army of the Pharaohs': 13902, 'The Glitch Mob': 13904, 'New Rhodes': 13905, 'Peter Doran': 13906, 'G.S.Agostinho': 13907, 'Olli Mustonen': 13908, 'Gabo Ferro': 13909, 'Antonín Dvořák': 13910, 'Cecile Chaminade': 13911, 'Slapbak': 13912, 'Les Baxter': 13913, 'Tommy Guerrero': 13914, 'Cal Tjader': 13915, 'Los Amigos Invisibles': 13916, 'Fatback Band': 13917, 'Bootsy Collins': 13918, 'Freekbass': 13919, \"Sérgio Mendes & Brasil '66\": 13920, 'PlantLife': 13921, 'Blowfly': 13922, 'Ohio Players': 13923, 'Ursula 1000': 13924, 'Emperor Penguin': 13925, 'The Bongolian': 13926, 'Yohimbe Brothers': 13927, 'Enoch Light': 13928, 'Plastilina Mosh': 13929, 'Chris Joss': 13930, 'Torpedo Boyz': 13931, 'Mexican Institute of Sound': 13932, 'Lodger': 13933, 'Falcão': 13934, 'A.C.T': 13935, 'Karnak': 13936, 'Noriyuki Asakura': 13937, 'Frank Jorge': 13938, 'Júpiter Maçã': 13939, 'Nei Lisboa': 13940, 'Marcos Valle': 13941, 'Nico Nicolaiewsky': 13942, 'André Abujamra': 13943, 'Zazu': 13944, 'Dyego': 13945, 'Death Cab For Cutie (Live Chicago 08.15.03)': 13946, 'Iron Jesus': 13947, 'Henryk Górecki': 13948, 'Ada Milea': 13949, 'Moondog': 13950, 'Raymond Scott': 13951, 'Athanasius Kircher': 13952, 'Domenico Scarlatti': 13953, 'Dj.M': 13954, 'Ada Milea (cu Alexander Balanescu)': 13955, 'Miles Davis Quintet': 13956, 'Giacinto Scelsi': 13957, 'iron jesus (featuring jahlili)': 13958, 'Munchausen By Proxy': 13959, 'fun.': 13960, 'Dispatch': 13962, 'Soja': 13964, 'Alemão Ronaldo': 13965, 'Steve Angello': 13966, 'Frenzal Rhomb': 13967, 'Dance Hall Crashers': 13968, 'Down by Law': 13969, 'John K. Samson': 13970, 'Dag Nasty': 13971, 'Vilkduja': 13978, 'Hasan Tayyar': 13981, 'Yezda Urfa': 13982, 'Richard Wright': 13983, 'Kutup Yıldızı': 13984, 'Cockney Rebel': 13985, 'Notios hxos': 13986, 'Grup Munzur': 13987, 'Timur Selçuk': 13988, 'Sevinç Eratalay': 13989, \"Nadir's Big Chance\": 13990, 'Dan Gibson': 13991, 'Sarband': 13992, 'Nazım Hikmet': 13993, 'Bitch Alert': 13994, 'Velcra': 13995, 'Jose Vanders': 13997, 'Heartscore': 13999, 'Strawinsky, Igor': 14000, 'Mendes, Sergio': 14001, 'Spastic Ink': 14002, 'Anton Bruckner': 14003, 'Take 6': 14004, 'Olivier Messiaen': 14005, 'Radio.String.Quartet': 14006, 'hr-Bigband feat. Billy Cobham, directed by Colin Towns': 14007, 'David Oistrakh, Mstislav Rostropovich; George Szell: Cleveland Orchestra': 14008, 'Gerhard Oppitz, Dmitry Sitkovetzky, David Geringas': 14009, 'David Oistrakh, Mstislav Rostropovich, Sviatoslav Richter; Herbert Von Karajan: Berlin Philharmonic Orchestra': 14010, 'Goot': 14011, 'Jimmy Robbins': 14012, 'Blind Blake': 14013, 'athas': 14014, 'The Robert Cray Band': 14015, 'Matt Hendricks': 14016, 'The Mighty Lumberhorn': 14017, 'HBO': 14018, \"Screamin' Jay Hawkins\": 14019, 'Slim Harpo': 14020, 'Jesse Fuller': 14021, 'Elliott Randall': 14022, 'G. Love': 14023, 'Liz Carroll': 14024, 'Chris Jones': 14025, 'Blackwater': 14026, 'VH1': 14027, 'Gary Hobson Band': 14028, 'David Munnelly': 14029, 'the Tea Merchants': 14030, 'Otis Taylor': 14031, 'Hot Tuna': 14032, 'Flook': 14033, 'Alan Lomax': 14034, 'Matthew West': 14035, 'Avalon': 14036, 'Phillips, Craig & Dean': 14037, 'Akon & Sweet Rush': 14038, 'Natalie Grant': 14039, 'Siria': 14040, 'DJ Sammy & Yanou': 14041, 'MercyMe': 14042, 'Meredith Andrews': 14043, 'Децл': 14044, 'Thomas/БИ-2/Сплин': 14045, 'Александр Васильев': 14046, 'Mickey Avalon': 14047, 'ДецлЪ aka Le Truk': 14048, 'Padla Bear Outfit': 14049, 'Canada horror stories': 14050, 'Валентин Стрыкало': 14051, 'The Tragically Hip': 14052, 'Kingston Wall': 14053, 'Stevens': 14054, 'BC Jean': 14055, 'HenriK Félix': 14056, 'Herr M.': 14057, 'Fleischschirm': 14058, 'Fredrik Thordendal’s Special Defects': 14059, 'Nina Persson': 14060, 'Hellyeah': 14061, 'Hot Club de Paris': 14062, 'Cellofourte': 14063, 'The Rosebuds': 14064, 'Horse Feathers': 14065, 'Lights On': 14066, 'Say Hi': 14067, 'Asche & Spencer': 14068, 'The Sarcastic Dharma Society': 14069, 'Haloo Helsinki!': 14070, 'The Hillbilly Moon Explosion': 14071, 'Johnny Burnette': 14072, 'Geraint Watkins': 14073, 'Old Crow Medicine Show': 14074, 'The Radio R.A.T. Misery Hour': 14075, 'Lorette Velvette': 14076, 'Hot Boogie Chillun': 14077, 'Tim Armstrong': 14078, 'Yma Sumac': 14079, 'Irma Thomas': 14080, 'Johnny Horton': 14081, 'Peter Sellers': 14082, 'Eleni Mandell': 14083, 'Charlie Feathers': 14084, 'Louis Jordan and His Tympany Five': 14085, 'The Blasters': 14086, 'Josh White': 14087, 'Larry Williams': 14088, 'BR5-49': 14089, 'Mickey Lee Lane': 14090, 'Ronnie Dawson': 14091, 'Diabolical Masquerade': 14092, 'Cattle Decapitation': 14093, 'Zao': 14094, 'Rock Mafia': 14095, 'Akron/Family': 14096, 'Blitzen Trapper': 14097, 'UK Subs': 14106, 'Citizen Fish': 14107, 'Oi Polloi': 14108, 'Lost Cherrees': 14109, 'Poison Girls': 14110, 'Flux of Pink Indians': 14111, 'I object!': 14112, 'Political Asylum': 14113, 'Resist and Exist': 14114, 'Zounds': 14115, 'Conflict': 14116, 'A//Political': 14117, 'Hagar the Womb': 14118, 'Antischism': 14119, 'Jello Biafra': 14120, 'Mortal Love': 14121, \"Hagalaz' Runedance\": 14122, 'Арчер': 14123, 'Big Bad Voodoo Daddy': 14124, \"Веня Д'ркин\": 14125, 'Михаил Щербаков': 14126, 'Wolfgang Parker': 14127, 'Дочь Монро и Кеннеди': 14128, 'Норд-Ост': 14129, 'Trampled Under Foot': 14130, 'Dave Sadler': 14131, \"Александр О'Шеннон\": 14132, 'Soledad Brothers': 14133, 'Derek Cooper & the Minis': 14134, 'Uncle Kracker': 14135, 'Claudine Longet': 14136, 'La Chat': 14137, 'Parenthetical Girls': 14138, 'The Bear Quartet': 14139, 'Robert Pollard': 14140, 'Gangsta Boo': 14141, 'The Intelligence': 14142, 'Paddington DC': 14143, 'Tender Forever': 14144, \"Tara Jane O'Neil\": 14145, 'Guy Debord': 14146, 'Dinah Washington': 14147, 'Billy Childish': 14148, 'REPO! The Genetic Opera Soundtrack': 14149, 'Anthony Marinelli': 14150, 'Vitamin String Quartet': 14151, 'Stiff Dylans': 14152, 'Kate Alexa': 14153, 'Punch': 14154, 'Invader Zim': 14155, \"Persephone's Bees\": 14156, 'Maruta': 14157, 'mc rasprodaja': 14158, 'Billy Crystal Meth': 14159, 'The Damned Things': 14160, 'GridLink': 14161, 'The Cast of Cheers': 14162, 'Dilemma': 14163, 'Ska;L?5;L': 14164, 'Admiral Angry': 14165, 'Cabernet Deneuve': 14166, 'All Parallels': 14167, 'Skaльпель': 14168, 'Kunteynir': 14169, 'ILWT': 14170, 'n1nthcloud': 14171, 'GIR': 14172, 'Razzle Blaster': 14173, 'Coaxial': 14174, 'The Cute Asian Girl': 14175, 'stabyouintheheadandeatyourfaceoff': 14176, 'Pink Punk': 14177, 'Scott Hull': 14178, 'Записки неизвестного': 14179, 'Kaospilot': 14180, \"Pakava It'\": 14181, 'Слон': 14182, 'Robotosaurus': 14183, 'Sleeping at Last': 14184, 'Brooke Fraser': 14185, 'Rob Rock': 14186, 'Ascend The Hill': 14187, 'Cool Hand Luke': 14188, 'Derek Webb': 14189, 'Red Mountain Church': 14190, 'I Am Terrified': 14191, 'VINILOVERSUS': 14192, 'Don Davis': 14193, 'Tristeza': 14194, 'Обійми Дощу': 14195, 'Orthodox Celts': 14196, 'Arsen Barsamyan & Tatevik Hovhannisyan': 14197, 'Moretty': 14198, '8 Bit Instrumental': 14199, 'Brujeria': 14200, 'Стук бамбука в 11 часов': 14201, 'Stylophonic': 14202, 'illScarlett': 14203, 'Good Old War': 14204, 'Two Tongues': 14205, 'Dustin Kensrue': 14206, 'New London Fire': 14207, 'As Cities Burn': 14208, 'Broadcast and The Focus Group': 14209, 'Califone': 14210, 'Pink & Brown': 14211, 'Comets on Fire': 14212, 'tape oin': 14213, 'Hangedup': 14214, 'Mice Parade': 14215, 'The Dead Trees': 14216, 'Cymande': 14217, 'MONKEY MAJIK': 14218, 'Aselin Debison': 14219, 'Ally Kerr': 14220, 'Young Galaxy': 14221, 'Husky Rescue': 14222, 'Volantes': 14223, 'Count Bass D': 14224, 'Doom': 14225, 'Strong Arm Steady': 14226, 'Venom Knight': 14227, 'Moka Only': 14228, 'The Sylvers': 14229, 'Dr. Who Dat?': 14230, 'Illogic': 14231, 'U-N-I': 14232, 'Miracle Fortress': 14233, 'Slank': 14234, 'Naif': 14235, 'Dent May': 14236, 'The Aluminum Group': 14237, 'Mars Or The Moon': 14238, 'Frente!': 14239, 'M2M': 14240, 'Michael Learns to Rock': 14241, 'MAA': 14242, 'Camp Rock 2 - The Final Jam': 14243, 'Top': 14244, 'Anjelika Akbar': 14245, 'Tereza Salgueiro Com Lusitânia Ensemble': 14246, 'Mabel Matiz': 14247, 'Tolga Burkay': 14248, 'Sumru Ağıryürüyen': 14249, 'Jehan Barbur': 14250, 'Seyyan Hanım': 14251, 'Gripin': 14252, 'Baxter': 14253, 'Feridun Düzağaç': 14254, 'Vedat Sakman': 14255, 'Perry Blake': 14256, 'Özlem Tekİn': 14257, 'Ray Charles And Betty Carter': 14258, 'The Glamour Manifesto': 14259, 'Gary Go': 14260, 'Andrew Belle': 14261, 'Odd Year': 14262, 'Addison Park': 14263, 'Christina Rosenvinge': 14264, 'Tan Bionica': 14265, 'Pedro Guerra': 14266, 'Acordes Seletos': 14267, 'santa maria da feira': 14268, 'Versant': 14269, 'Rockz': 14271, 'Big Sean': 14278, 'Aceyalone': 14279, 'Smoke DZA': 14280, 'Vision System': 14284, 'SEXYDEATH': 14285, 'Razed in Black': 14286, 'Hex Rx': 14287, 'Red Cell': 14288, 'Ambra Red': 14289, 'Third Realm': 14290, 'Din [A] Tod': 14291, 'Numb': 14292, 'Blank': 14293, 'The Echoing Green': 14294, 'Mnemonic': 14295, 'Children Within': 14296, 'Disco Inferno': 14297, 'The Soft Pink Truth': 14298, 'YACHT': 14299, 'Cee-Lo': 14300, 'Hood': 14301, 'The Other People Place': 14302, 'Unwound': 14303, 'Bonded By Blood': 14304, 'Warbringer': 14305, 'Domain': 14306, 'Mystic Prophecy': 14307, 'Evil Masquerade': 14308, 'ZÜNDER': 14309, 'Arashi': 14310, 'Final Fantasy (Soundtracks)': 14311, 'Newsies': 14312, 'Spider-Man 2': 14313, 'Yamashita Tomohisa & Ikuta Toma': 14314, 'Draco and the Malfoys': 14315, 'The Chorus (Les Choristes)': 14316, 'Sister Hazel': 14317, 'Eve 6': 14318, '4Tops & KAT-TUN': 14319, '3Tops': 14320, 'Ikuta Toma & Yabu Kota': 14321, 'Ikuta Toma': 14322, 'Heather Dale': 14323, 'Sailor Moon': 14324, 'Wicked': 14325, 'Ikuta Toma & KAT-TUN': 14326, 'Hey! Say! JUMP': 14327, '4TOPS': 14328, 'Edwin McCain': 14329, 'Bob feat. Hayley Williams': 14330, 'Toxic': 14331, 'www.hitov.net': 14332, 'Lindsey Ray': 14333, 'Glee Club Cast': 14334, 'Beyoncé | www.CdsCompletos.net': 14335, 'Audrey Hepburn': 14337, 'Gringo': 14339, 'Ja Rule': 14340, 'Papas da Língua': 14341, 'Arcangel y De La Ghetto': 14342, 'Lime': 14343, 'Chris Squire': 14344, 'Marc Bolan': 14345, 'The Fireman': 14346, 'This Et Al': 14347, 'Future of the Left': 14348, 'Kill Yourself': 14349, 'That Fucking Tank': 14350, 'Stalking Horse': 14351, 'Dananananaykroyd': 14352, 'Cowtown': 14353, 'Dinosaur Pile-Up': 14354, 'The Lodger': 14355, 'Bilge Pump': 14356, 'It Takes Bridges': 14357, 'Mother Vulpine': 14358, 'Orson': 14359, 'Saiko': 14360, 'Carl Philipp Emanuel Bach': 14361, 'Casiokids': 14362, 'Ben Woods': 14363, '3 dueños': 14364, 'Denisse Malebrán': 14365, 'StarGuardMuffin': 14366, 'Petey Pablo': 14367, 'Lemon Demon': 14368, 'Nicole': 14369, 'Los 007': 14370, 'Charlie Zaa': 14371, 'Chad VanGaalen': 14372, 'Normalsi': 14373, 'Paquita La Del Barrio': 14374, '500won Project': 14375, 'Alfredo De La Fe': 14376, '13th Floor Elevators': 14378, 'The Clean': 14385, '吳雨霏': 14386, 'Kota Suzuki, Wataru Hokoyama': 14387, 'Cody Linley': 14388, 'Steve Rushton': 14389, 'Makoto Tomozawa, Akari Kaida, Masami Ueda': 14390, 'Giovanni Allevi': 14391, 'Acoustic Alchemy': 14392, 'Rondò Veneziano': 14393, 'Vinicio Capossela': 14394, 'Antonello Venditti': 14395, 'Paolo Conte': 14396, 'Malika Ayane': 14397, 'Pino Daniele': 14398, 'Negramaro': 14399, 'Daniele De Gregori Mannoia Ron': 14400, 'Peppino di Capri': 14401, 'Linger': 14410, 'Sean Price': 14424, 'Dan Auerbach': 14435, 'Lyrics Born': 14436, \"Fun Lovin' Criminals\": 14439, 'Massacre On The Dancefloor': 14441, 'Fagasaurus Sex': 14442, \"Snow White's Poison Bite\": 14443, 'Her Bright Skies': 14444, 'Lisa Mitchell': 14445, 'White Lilium': 14446, 'B is for Bloodbath': 14447, 'Dying Diva': 14448, 'A Bullet for Pretty Boy': 14449, 'Jim Brickman': 14450, 'Bliss n Eso': 14451, 'Cérebro Eletrônico': 14452, 'Holly Golightly': 14453, 'Lucy and The Popsonics': 14454, 'Ecos Falsos': 14455, \"2 Skinnee J's\": 14456, 'The Handsome Charlies': 14457, 'Easyworld': 14458, 'The Servant': 14459, 'Sponge': 14460, 'Moris Tepper': 14461, 'King Straggler': 14462, 'Electric Shit Orchestra': 14463, 'World Without Sundays': 14464, 'Marry Me Jane': 14465, 'Brian Tyler': 14466, 'The Dream & Shadow Hunstman Group': 14467, 'Greg Dulli': 14468, 'Spacehog': 14469, 'Roger Ridley': 14470, 'Ricky Gervais, Steve Merchant & Karl Pilkington': 14471, 'Ricky Gervais': 14472, 'Everlast Life': 14473, 'Fan Death': 14474, 'Kid Harpoon': 14475, 'Seasick Steve': 14476, 'Tinashé': 14477, 'The Go Getters': 14478, 'Marti Brom': 14479, 'Carl Perkins': 14480, 'Lee Rocker': 14481, \"Johnny Burnette & The Rock 'n' Roll Trio\": 14482, 'Tennessee Ernie Ford': 14483, 'The Barnshakers': 14484, 'Kitty, Daisy & Lewis': 14485, 'Ruby Ann': 14486, \"ruby ann & the boppin' boozers\": 14487, 'Hillbilly Hellcats': 14488, 'The Ace Cats': 14489, 'Glen Glenn': 14490, 'THE SPEEDOS': 14491, 'The Ranch Girls & Their Ragtime Wranglers': 14492, 'Ray Smith': 14493, 'Billy Lee Riley': 14494, 'SKINNY JIM & THE WILDCATS': 14495, 'Boppin ´B': 14496, 'Hi-Voltage': 14497, 'TEX RODGERS': 14498, 'Kim Lenz And Her Jaguars': 14499, 'betty and the bops': 14500, 'The BossHoss': 14501, 'Ray Collins Hot Club': 14502, 'Boz Boorer': 14503, 'The Keytones': 14504, 'Warren Smith': 14505, 'Die Echocords': 14506, 'Ronnie Self': 14507, 'Cosmicity': 14508, 'Dwight Yoakam': 14509, 'Empire State Human': 14510, 'In the Nursery': 14511, 'Buddahead': 14512, 'Unkle Bob': 14513, 'Marcelo Bonfá': 14514, 'Deborah Blando': 14515, 'Steps': 14516, 'KLB': 14517, 'Demis Roussos': 14518, 'Joanna': 14519, 'Emilia': 14520, 'Dhani Lennevald': 14521, 'Lux': 14522, 'Rialto': 14523, 'The 13th Sign': 14524, 'Elvira Nikolaisen': 14525, 'Melody Club': 14526, 'Datura': 14527, 'BigBang': 14528, 'Babylon Zoo': 14529, 'Susanne Sundfør': 14530, 'Charly Lownoise & Mental Theo': 14531, 'Liliana Felipe': 14532, 'La Academia 4': 14533, 'The Bluetones': 14534, 'Mamma Mia! The Movie': 14535, 'Luis Enrique': 14536, 'Meryl Streep, Julie Walters & Christine Baranski': 14537, 'Litzy': 14538, 'Trish': 14539, 'Vico C': 14540, 'Amanda Seyfried, Ashley Lilley & Rachel McDowall': 14541, 'Zahara': 14542, 'Beth': 14543, 'Miss Caffeina': 14544, 'Vaivencida': 14545, 'Cristina Perales': 14546, 'Standstill': 14547, 'Tamara': 14548, 'FM ft Cataracs & Dev': 14550, 'Nx ZeroȀ': 14551, 'Chris Willis; David Guetta; Fergie; LMFAO': 14552, 'Gramophonedzie': 14553, 'PISTA SERTANEJA REMIXES   d-_-b': 14554, 'ReplaceĀ': 14555, 'DCUP': 14556, 'Katy Perry\\ue216': 14557, 'Chris Willis': 14558, 'Luan Santana Part. Ivete Sangalo': 14559, 'French Teen Idol': 14560, 'O Jardim das Horas': 14561, 'Marina De La Riva': 14562, 'Marianna Leporace': 14563, 'Andy Shauf': 14564, 'Radionave': 14565, 'Adriana': 14566, 'Coleção Amo Você': 14567, 'Limão com Mel': 14568, 'Flávio Venturini': 14569, 'Banda Calypso': 14570, 'Vida Reluz': 14571, 'Zezé Di Camargo & Luciano': 14572, 'Calcinha Preta': 14573, 'Padre Marcelo Rossi': 14574, 'Nechivile': 14575, 'Luciana Mello': 14576, 'Anjos De Resgate': 14577, 'Marina Elali': 14578, 'Toquinho': 14579, 'El Guincho': 14580, 'means': 14581, 'Cry Of The Afflicted': 14582, 'Her Words Kill': 14583, 'Metal Milícia': 14584, 'Tianastácia': 14585, 'Irah Caldeira': 14586, 'Circus Bon Voyage': 14587, 'Best Interest': 14588, 'Fruto Sagrado': 14589, 'Ministério Apascentar De Nova Iguaçu': 14590, 'タッキー＆翼': 14591, 'Anahi': 14592, '滝沢秀明': 14593, '羅志祥': 14594, '今井翼': 14595, 'New Politics': 14596, 'Nadirah X': 14597, 'Madcon': 14598, 'Karen Elson': 14599, 'The Matrix': 14600, 'Katy Hudson': 14601, 'MMLN': 14602, 'www.za4.bblog.mn': 14603, 'Gratitude': 14604, 'Kate Perry & Guru Josh Project': 14605, 'Twitter: @BiruelBlogSU': 14606, 'GRAMMY': 14607, 'DJplaceboing': 14608, 'Henry Blank': 14609, 'Hallway Blast': 14610, 'Hidden in Plain View': 14614, 'Michael Franti & Spearhead': 14618, 'The Holy Ghost Tent Revival': 14619, 'Billy Preston': 14620, 'The Ghost Frequency': 14621, 'Polaroid': 14622, 'Pathway to Providence': 14623, 'GO! With Fourteen O': 14624, 'August Rush': 14625, 'So Weird': 14626, 'Camp': 14627, 'Alana Grace': 14628, 'Lipstick': 14629, 'Mixtape': 14630, 'Lorraine': 14631, 'Ane Brun': 14632, 'black room': 14633, 'David Usher': 14634, 'Rob Pattinson': 14635, 'The National Bank': 14636, 'Tinted Windows': 14637, 'Kate Havnevik': 14638, 'Superjupiter': 14639, 'Apparatjik': 14640, 'Kids in the Kitchen': 14641, '120 Days': 14642, 'César Menotti e Fabiano': 14643, 'J. Quest': 14644, 'SoKo': 14645, 'Brazzaville': 14646, 'Mirkelam': 14647, 'Ceylan Ertem': 14648, 'Lhasa': 14649, 'Bülent Ortaçgil & Fikret Kızılok': 14650, 'Yaşar': 14651, 'Stuart A. Staples': 14652, 'Hollywood, Mon Amour': 14653, 'Dead Boys': 14657, 'Lisa Kudrow': 14661, 'The Midnight Beast': 14662, 'Glass and Glue': 14663, \"Les chansons d'amour\": 14664, 'G.A.N. 665+1': 14665, 'Washed Out': 14666, 'The Hidden Cameras': 14667, 'Binärpilot': 14668, 'Karlheinz Stockhausen': 14669, 'Felix Kubin': 14670, 'Nancy Nova': 14671, 'Luc Ferrari': 14672, 'Erlend Øye': 14673, 'Joe Meek & The Blue Men': 14674, 'Märtini Brös': 14675, 'Future Bible Heroes': 14676, 'GuMMy†Be▲R!': 14677, 'David Byrne': 14678, 'David Arthur Brown': 14679, 'Northern Lite': 14680, 'G.A.N. 665 + 1': 14681, 'Flat Earth Society': 14682, 'Balam Acab': 14683, '8 Bit Weapon': 14684, 'Shivaree': 14685, 'Анна Герман': 14686, 'Skafandr': 14687, 'Terranova': 14688, 'Capoeira Angola': 14689, 'Alai Oli': 14690, 'Carolina Soares': 14691, '(hed) Planet Earth': 14692, 'Башня Rowan': 14693, 'Хелависа': 14694, 'Soledad Bravo': 14695, 'Max Frei': 14696, 'hands around my throat': 14697, 'コナミ矩形波倶楽部': 14698, 'Salvador': 14699, 'Khorus': 14700, 'Promises': 14701, 'Khalil Fong': 14702, 'Haderek': 14703, 'Taeyang': 14704, 'Ultra': 14705, 'Antony Costa': 14706, 'Duncan James': 14707, 'Rodolfo': 14708, 'The Devils': 14712, 'Romance On A Rocketship': 14722, \"Andrew Bird's Bowl of Fire\": 14723, 'Leoni': 14724, 'Kin': 14725, 'BulletProof Messenger': 14726, 'Angtoria': 14727, 'Farin Urlaub': 14728, 'Cephyrius': 14729, 'The Busters': 14730, 'Chris Hülsbeck': 14731, 'Melancholy': 14732, 'Secret Secret Dino Club': 14733, 'Tyga': 14734, 'Nursehella': 14735, 'Scotty Vanity': 14736, 'Kawasaki 3p': 14737, 'S.A.R.S.': 14738, 'Boris Brejcha': 14739, 'Yann Tiersen & Shannon Wright': 14740, 'Dječaci': 14741, 'Kollektiv Turmstrasse': 14742, 'Che Sudaka': 14743, 'Extrawelt': 14744, 'Megapuss': 14745, 'Claire Pichet': 14746, 'Afromental': 14747, 'Sistars': 14748, 'Cee Lo Green': 14749, 'Dominik Eulberg': 14750, 'Marco Carola': 14751, 'Stephan Bodzin': 14752, 'Paul Ritch': 14753, 'Loco Dice': 14754, 'klakast': 14755, 'Rino Cerrone': 14756, 'Steve Bug': 14757, 'Lucio Aquilina': 14758, 'Danilo Vigorito': 14759, 'Richie Hawtin': 14760, 'Gabriel Ananda': 14761, 'Troy Pierce': 14762, 'Spektre': 14763, 'John Tejada': 14764, 'Alexander Kowalski': 14765, 'Minilogue': 14766, 'Alessio Mereu': 14767, 'Sascha Funke': 14768, 'audiossey': 14769, 'Ilario Alicante': 14770, 'Pig & Dan': 14771, 'White Zone': 14772, 'Oxia': 14773, 'Mathew Jonson': 14774, 'Martin Buttrich': 14775, 'Gaetano Parisio': 14776, 'Mark Broom': 14777, 'Pascal FEOS': 14778, 'Dusty Kid': 14779, 'Oliver Koletzki': 14780, 'M.A.N.D.Y.': 14781, 'Davide Squillace': 14782, 'Popof': 14783, 'Cardo': 14784, 'FAKIEDJ': 14785, 'Kiko': 14786, 'KT Wanderlust': 14787, 'Geoffrey Paris': 14788, 'Christmas Songs': 14789, 'the BUNNY the BEAR': 14790, 'Endwell': 14791, 'Awaken Demons': 14792, 'CjClip': 14793, 'Trigger the Bloodshed': 14794, 'Years Spent Cold': 14795, 'Destruction of a King': 14796, 'Hazel Nuts Chocolate': 14797, 'Smile Smile': 14798, 'I Fight Dragons': 14799, 'Syubidupidapap': 14800, 'Donots': 14801, 'Fettes Brot': 14802, 'Karpatenhund': 14803, 'Die drei ???': 14804, 'Monsters of Liedermaching': 14805, \"Fiddler's Green\": 14806, 'Itchy Poopzkid': 14807, 'Casey Jones': 14827, 'J.K. Rowling': 14828, 'Icepick': 14829, 'Pipedown': 14830, 'xBishopx': 14831, 'Set it Straight': 14832, 'Make It Count': 14833, 'Berri Txarrak': 14834, 'Paragraf 119': 14835, 'Die Drei Fragezeichen': 14836, 'Settle the Score': 14837, 'xREPRESENTx': 14838, 'Billy the Kid': 14839, 'Atari Teenage Riot': 14840, 'Newklam': 14841, 'Siba e a Fuloresta': 14842, 'Elias and The Wizzkids': 14843, 'Roberta Sá & Trio Madeira Brasil': 14844, 'Hello Saferide': 14845, '!!!': 14846, 'Armia': 14847, 'Satanic Surfers': 14853, 'Adhesive': 14863, 'Khigh': 14871, '(sic)monic': 14872, 'MD.45': 14873, 'Vanishing Point': 14874, 'Terminator': 14875, 'Alcatrazz': 14876, 'Lye by Mistake': 14877, 'Chick Corea': 14878, 'Unexpect': 14879, 'Return to Forever': 14880, 'Dolunay': 14881, 'Liquid Trio Experiment': 14882, 'Flamenco Caravan': 14883, 'Aeternom': 14884, 'Antonio Resende': 14885, 'George Duke': 14886, 'Diddy Feat. Christina Aguilera': 14887, 'Carlos Núñez': 14888, 'Callejón': 14889, 'Silent Civilian': 14890, 'Sanctity': 14891, 'Degradead': 14892, 'Wolfpack Unleashed': 14893, 'Daysend': 14894, 'The Duskfall': 14895, 'Lords of Decadence': 14896, 'Old Time Radio': 14897, 'Honey': 14898, 'WET FINGERS': 14899, 'Dev Feat. The Cataracs': 14900, 'Dan Bălan': 14901, 'Ania Wyszkoni': 14902, 'Mirami feat. VovaZiLvova': 14903, 'Feed Me': 14904, 'Afrojack': 14905, 'Tim Berg': 14906, 'A.J.K.S.': 14907, 'Decrepit Birth': 14908, 'Ojciec Dyktator': 14909, 'Spawn of Possession': 14910, 'Prawe Skrzydło': 14911, 'G.O.R.E': 14912, 'Arsis': 14913, 'Deivos': 14914, 'Nuclear Vomit': 14915, 'Centaurus-A': 14916, 'Arka Satana': 14917, 'Kayanis': 14918, 'Hate Eternal': 14919, 'Łeb Prosiaka': 14920, 'Amaral Y Chetes': 14921, 'Jumbo': 14922, 'Celso Piña, Control Machete y Blanquito Man': 14923, 'John Waite': 14924, 'Hombres G': 14925, 'El Gran Silencio': 14926, 'Alejandro Y Vicente Fernandez': 14927, 'Bend and Break': 14928, 'Pandora': 14929, 'Sugar Ray': 14930, 'Labirinto': 14931, 'Film School': 14932, 'Hangin Freud': 14933, 'The Up On In': 14934, 'Tephra': 14935, 'Skywave': 14936, 'Air Formation': 14937, 'Highspire': 14938, 'Seaweed': 14939, 'Medications': 14940, 'Pia Fraus': 14941, 'Secret Shine': 14942, 'Kontakte': 14943, 'Portecho': 14944, 'Büyük ev ablukada': 14945, 'Metamorfosi': 14946, 'New Trolls': 14947, 'Osanna': 14948, 'Il Paese dei Balocchi': 14949, 'Banco del Mutuo Soccorso': 14950, 'Asia Minor': 14951, 'Quella Vecchia Locanda': 14952, 'Alusa Fallax': 14953, 'Il Rovescio della Medaglia': 14954, 'Il Volo': 14955, 'Museo Rosenbach': 14956, 'Semiramis': 14957, 'Dalton': 14958, 'Mezquita': 14959, 'Bacamarte': 14960, 'Curved Air': 14961, 'Robert Wyatt': 14962, 'Saint Just': 14963, 'Latte e Miele': 14964, 'The Wilde Flowers': 14965, 'E.A. Poe': 14966, 'Samla Mammas Manna': 14967, 'Locanda delle Fate': 14968, 'Campo di Marte': 14969, \"Gruppo d'Alternativa\": 14970, 'Renaissance': 14971, 'Reale Accademia di Musica': 14972, 'Panna Fredda': 14973, 'De De Lind': 14974, 'Odissea': 14975, 'Anonima Sound Ltd': 14976, 'Raccomandata Ricevuta Ritorno': 14977, 'Strawbs': 14978, 'The Heart Throbs': 14979, 'Die Art': 14980, 'The Hope Blister': 14981, 'Escape With Romeo': 14982, 'Phillip Boa': 14983, 'Bobo in White Wooden Houses': 14984, 'Reinhard Mey': 14985, 'Dicky Dixon': 14986, 'RICHARD DIXON-COMPOSER': 14987, 'Derek McCorkell': 14988, 'Wayne Kerr': 14989, 'Dawson Cowals': 14990, 'Integrity Music': 14991, 'Big Stuf': 14992, 'The Perrys': 14993, 'Scott Wesley Brown': 14994, 'Living G': 14995, 'Joe Wise': 14996, 'Chelsie Boyd': 14997, 'Legacy Five': 14998, 'David Haas': 14999, 'talley trio': 15000, 'The Benedicte Monks of Santo Domingo de Silos': 15001, 'Joel Rosenberger': 15002, 'Robert Caldeira Jr': 15003, 'Brian Free & Assurance': 15004, 'Carolyn Arends': 15005, 'Ernie Haase & Signature Sound': 15006, 'Greater Vision': 15007, 'Mylon LeFevre': 15008, 'Russ Taff': 15009, 'Enlightenment': 15010, 'The Hoppers': 15011, 'The Crabb Family': 15012, 'Jessy Dixon': 15013, 'Flight 180': 15014, 'Bill Gaither': 15015, 'PRO ARTE ET MUSICA': 15016, 'Donavon Hill': 15017, 'Kelly Willard': 15018, 'Lordsong': 15019, 'Dennis Jernigan': 15020, 'The Chuck Wagon Gang': 15021, 'Nashville Singers': 15022, 'Frankie Laine': 15023, 'Kemper Crabb': 15024, 'Kingdom Heirs': 15025, 'Don Francisco': 15026, 'Jimmy Buffett': 15027, 'Guy Mitchell': 15028, 'The Steeles': 15029, 'The Cathedrals': 15030, 'Gold City': 15031, 'Autumn Fox': 15032, 'Trash80': 15033, 'Crosby, Stills & Nash': 15034, 'MIT Concert Choir, William Cutter directing': 15035, 'Bruce Hornsby': 15036, 'Hybrid': 15037, 'Joan Osborne': 15038, 'Dervish': 15039, 'Solas': 15040, 'jugi': 15041, 'Kris Delmhorst': 15042, 'Liquid Mind': 15043, 'Eternal Lord': 15044, 'Defeater': 15045, 'Thy Art Is Murder': 15046, 'Counterparts': 15047, 'Touché Amoré': 15048, 'Johnny Truant': 15049, 'Burning the Masses': 15050, 'Hostage Calm': 15051, 'Trophy Scars': 15052, 'Through the Eyes of the Dead': 15053, 'At the Throne of Judgment': 15054, 'Fear Before the March of Flames': 15055, 'The Boy Will Drown': 15056, \"Mungo's HI FI\": 15057, 'Urban Myth Club': 15058, 'Suicide Sports Club': 15059, 'Burn The Negative': 15060, 'Caravan Palace': 15061, 'Train of Thought': 15062, 'Senser': 15063, 'Belleruche': 15064, 'Sainkho Namtchylak': 15065, 'The Correspondents': 15066, 'John Parish': 15067, 'SONOIO': 15068, 'A-Trak': 15069, 'Pale 3': 15070, 'Juno Reactor vs. Don Davis': 15071, 'The Brothers Gutworm': 15072, 'Tom Tykwer, Reinhold Heil & Johnny Klimek': 15073, 'Ünloco': 15074, '80kidz': 15075, 'RAM RIDER': 15076, 'Syrup16g': 15077, 'I-Dep': 15078, 'Shinichi Osawa': 15079, '三船\\u3000浩／キング男声合唱団': 15080, 'Coburn': 15081, 'autoKratz': 15082, 'Mondo Grosso': 15083, 'Kagami': 15084, 'Towa Tei': 15085, 'Fantastic Plastic Machine': 15086, 'Jazztronik': 15087, 'DE DE MOUSE': 15088, 'Apogee': 15089, 'Plus-Tech Squeeze Box': 15090, 'Popular Computer': 15091, '斉藤和義': 15092, 'Macdonald Duck Eclair': 15093, 'Nerdette': 15094, 'Mysterious DJ': 15095, 'Rilke Projekt': 15096, 'Soundtracks': 15097, 'Funny van Dannen': 15098, 'Ena Pá 2000': 15099, 'James Dean Bradfield': 15100, 'Lil Rob': 15101, 'Cartel De Santa': 15102, 'Delinquent Habits': 15103, 'Malverde': 15104, 'Tego Calderón': 15105, 'Kemo The Blaxican': 15106, 'Voltio': 15107, 'Control Machete': 15108, 'La Coka Nostra': 15109, 'pato machete': 15110, 'Fermin IV': 15111, 'Sindicato Argentino Del Hip Hop': 15112, 'Spm': 15113, 'Chyno Nyno': 15114, 'The Psycho Realm': 15115, 'Kid Frost': 15116, 'South Park Mexican': 15117, 'Mellow Man Ace': 15118, 'Molotov': 15119, 'B-Real': 15120, 'Big Mato': 15121, 'Young Marble Giants': 15122, 'Talulah Gosh': 15124, \"The Cat's Miaow\": 15128, 'Circulatory System': 15130, 'Moğollar': 15134, 'Ундервуд': 15135, 'Лемондэй': 15136, 'Kissogram': 15137, '2 Гига Любви': 15138, 'Маша Badda Boo': 15139, 'God Help the Girl': 15140, 'Ларик Сурапов': 15141, 'bso': 15142, 'Constructorr': 15143, 'Olly Murs': 15144, 'Ruth Lorenzo': 15145, 'Stacey Solomon': 15146, 'Danyl Johnson': 15147, 'Lucie Jones': 15148, 'Israel Lucero': 15149, 'X Factor Finalists': 15150, 'Lucas Poletto': 15151, 'regis danese': 15152, 'Saulo Roston': 15153, 'Maria Alice Fontanezzi': 15154, 'The Best Of Carpenters': 15155, 'www.depositodomp3.com': 15156, 'Bruna Caram': 15157, 'Magic Box': 15158, 'Mercury Rev': 15159, 'John Cale': 15160, 'Vib Gyor': 15161, \"L'aura\": 15162, 'Tommy heavenly6': 15163, '999': 15164, 'Alessandra Mussolini': 15165, 'Kat Graham': 15166, 'K-Sis': 15167, 'Marcio Mathers': 15168, 'Your Favorite Martian': 15169, 'Fatty Spins': 15170, 'Discovery': 15171, 'Surfer Blood': 15172, 'Fukkk Offf': 15173, 'Leftöver Crack': 15179, 'The Aquabats': 15180, 'Star Fucking Hipsters': 15181, '[spunge]': 15182, 'Sha': 15183, \"Cast Of 'Camp Rock 2'\": 15184, 'Der Checker': 15185, 'Sharpay': 15186, 'Buffalo 77': 15191, 'Kubichek!': 15192, 'Lovers Make Liars': 15193, 'And Then There Were None': 15194, 'The Urgency': 15195, 'Saia Rodada': 15196, 'Maglore': 15197, 'B.G.K.': 15198, 'Death Side': 15199, 'Holy Terror': 15200, 'Koro': 15201, 'Gauze': 15202, 'Assfactor 4': 15203, 'Infest': 15204, 'Zero Boys': 15205, 'Discordance Axis': 15206, 'Framtid': 15207, 'Impact': 15208, 'Deadboy & the Elephantmen': 15209, 'Raw Power': 15210, 'Void': 15211, 'Disclose': 15212, 'Heather Headley': 15213, 'Mary Mary': 15214, 'Paula Toller': 15215, 'John Wesley': 15216, 'Bill Bailey': 15217, 'Elliot Minor': 15218, 'ALL CAPS': 15219, 'We Should Be Dead': 15220, 'Twenty Twenty': 15221, 'Razgar': 15222, 'Scott Lavender': 15223, 'Munhoz & Mariano': 15224, 'João Carreiro & Capataz': 15225, 'Myllena': 15226, 'Charlie Brown Jr e Forfun': 15227, 'The Best Of-6': 15228, 'Placebo (Feat. David Bowie)': 15229, 'The Best Of-1': 15230, 'The Burning Hotels': 15231, 'Elis Paprika': 15232, 'Switches': 15233, 'Dirty Karma': 15234, 'Harrisons': 15235, 'In-Grid': 15236, 'Joe Anderson': 15237, 'Melinda Doolittle': 15238, 'Electrobelle': 15239, 'Sam Taylor-Wood': 15240, 'I Like It electric': 15241, 'SALON BORIS': 15242, 'IN_VOX': 15243, 'Daichi Miura': 15244, 'Porn Sword Tobacco': 15245, 'Diatonis': 15246, 'Manual': 15247, 'Gino Fioravanti': 15248, 'Sheena Easton': 15249, 'This Light': 15250, 'Hall of Dreams': 15251, 'Everlasting Will': 15252, 'Destin Road': 15253, 'Inner Place': 15254, 'Yahel': 15255, 'S.U.N. Project': 15256, 'Slave to the System': 15257, 'Cosmosis': 15258, 'Lost Buddha': 15259, 'Luisa Mandou um Beijo': 15260, 'The Bloody Irish Boys': 15261, 'Brakes': 15262, 'Chat': 15263, 'Joséphine Baker': 15267, 'Fréhel': 15268, 'Perry Como': 15269, 'Thanos Petrelis': 15270, 'Boom Boom Satellites': 15277, 'Polly Scattergood': 15288, 'Dismantled': 15289, 'Hora': 15290, '2gether': 15291, 'Philipp Poisel': 15292, 'Alin Coen Band': 15293, 'Evelyn Evelyn': 15294, 'Miss Emily Brown': 15295, 'Jennifer Rostock': 15296, 'Florian Ostertag': 15297, 'Grossstadtgeflüster': 15298, 'pornophonique': 15299, 'König der Löwen': 15300, 'Bo Diddley': 15301, 'Sigh': 15302, 'Place Vendome': 15303, '이박사': 15304, 'Subterranean Masquerade': 15305, 'Moon Safari': 15306, 'Bogdan Raczynski': 15307, 'Jello': 15308, 'Ceephax': 15309, 'Funkstörung': 15310, 'Phoenecia': 15311, 'Aphex Twin, Drukqs': 15312, 'Daft Punk, Alive 2007 (live)': 15313, 'Belleruche, Turntable Soul Music': 15314, 'Xela': 15315, 'Plaid & Bob Jaroc': 15316, 'Ceephax Acid Crew': 15317, 'Mira Calix': 15318, 'Devilish': 15319, 'Китай': 15320, 'Halifax': 15321, 'Filipe Guerra': 15322, 'Lady GaGa Feat. Akon & Kardin': 15323, 'House Boulevard': 15324, '玉置成実': 15325, 'Joey Ramone': 15327, 'Dakota Fanning': 15328, 'A Smile from the Trenches': 15329, 'Kany García': 15330, 'Ekhymosis': 15331, 'Carlos Vives': 15332, 'Grupo Niche': 15333, 'Fonseca': 15334, 'Bacilos': 15335, 'Sukhwinder Singh': 15336, 'Andrés Cepeda': 15337, 'Franz Joseph Haydn': 15338, 'A Dos Velas': 15339, 'Fruko y Sus Tesos': 15340, 'Gilberto Santa Rosa': 15341, 'Los de Adentro': 15342, 'Lluvia del Pop': 15343, 'JJ72': 15344, 'Mother Mother': 15345, 'Computerclub': 15346, 'Shannon Noll': 15347, 'Anna Bergendahl': 15348, 'Declan': 15349, 'Bryan Rice': 15350, 'Timoteij': 15351, 'Brinck': 15352, 'Mĺns Zelmerlöv': 15353, 'State of Shock': 15354, 'Alex Goot': 15355, 'Dyego Alves': 15356, 'Emir': 15357, 'Bobby Darin': 15361, \"Rachel's\": 15362, 'The Softies': 15365, 'Danielle Ate the Sandwich': 15366, 'Magnetik': 15367, 'Milla': 15368, 'Zuzana Smatanová': 15369, 'Khoiba': 15370, 'Holly Brook': 15371, 'DVA': 15372, 'Wren': 15373, 'Kazety': 15374, 'Aneta Langerová': 15375, 'The Faders': 15378, 'Cake Bake Betty': 15379, 'Killaz Group': 15380, 'Macca Squad': 15381, 'Afro Kolektyw': 15382, 'K.A.S.T.A.': 15383, 'Noxagt': 15384, 'Talbot Tagora': 15385, 'Brainiac': 15386, 'Tall Dwarfs': 15387, 'Capitol K': 15388, 'John Martyn': 15389, 'The Impressions': 15390, 'Al Green': 15391, 'Refrigerator': 15392, 'Land of the Loops': 15393, 'Depth Charge': 15394, 'Shoshana Bean': 15395, 'Annalene Beechey': 15396, 'New Broadway Cast': 15397, 'Julie Atherton': 15398, 'Erik og Kriss': 15399, 'Tim Prottey-Jones': 15400, 'Dolly Parton, Loretta Lynn & Tammy Wynette': 15401, 'Kerry Ellis': 15402, 'Anne Murray': 15403, 'Wicked the Musical': 15404, 'Stuart Matthew Price': 15405, 'The Hives & Cyndi Lauper': 15406, 'Avenue Q': 15407, 'Rebecca Caine': 15408, 'Meryl Streep, Julie Walters, Christine Baranski': 15409, 'Julia Murney': 15410, 'Hair Original Broadway Cast': 15411, 'Louise Dearman': 15412, 'Stuart Matthew Price and Louise Dearman': 15413, 'Alex Swings Oscar Sings!': 15414, 'Ані Лорак': 15415, 'Erik Grönwall': 15416, 'Alex Swings, Oscar Sings!': 15417, 'GReeeeN': 15418, 'Martin Kember': 15419, 'The Republic Tigers': 15420, 'Eva Avila': 15421, 'S Club 8': 15422, 'Vera Loca': 15423, 'TNT': 15424, 'BOAT': 15425, 'Pull Down': 15426, 'Jonezetta': 15427, 'The Rocking Horse Winner': 15428, 'Bambix': 15429, 'Lifestream': 15430, 'Secret Lives of the Freemasons': 15431, 'Noise Ratchet': 15432, 'Tuia E Os Transmissores': 15433, 'Comma': 15434, 'Echoplex': 15435, 'Rivets': 15436, 'Pulsaris': 15437, 'Chris Wollard & The Ship Thieves': 15438, 'Vendetta Red': 15439, 'Nipshot': 15440, 'eau bouili et poison': 15441, 'Thiago Milani': 15442, 'Skin': 15443, 'Tired Pony': 15444, 'Eagle Scout': 15445, 'Middle Class Rut': 15446, 'Blood Command': 15447, 'Attack! Attack!': 15448, 'Colonia': 15449, 'Andy Hunter°': 15450, 'Ultrabeat': 15451, 'Filo & Peri': 15452, 'Stabilo': 15453, 'Thompson': 15454, 'Zbigniew Hołdys': 15455, 'Raised By Swans': 15456, 'Various Artists': 15457, 'Wire Daisies': 15458, 'K.C. And The Sunshine': 15459, 'Darryl Worley': 15460, 'Brother Clyde': 15461, 'Miley Cyrus and John Travolta': 15462, 'DEPAPEPE': 15463, 'Edane': 15464, 'Karl Sanders': 15465, 'A Hero A Fake': 15466, 'Inspirative': 15467, 'District 78': 15468, 'Dandi Wind': 15469, 'Nicole Scherzinger - Happily Never After ( Written By Ne-yo ) (2007) [www.RnB4U.dl.am]': 15470, 'Chris Brown - With You (Prod. by StarGate) (2007 Full) [www.RnB4U.dl.am]': 15471, 'AC': 15472, 'Flora Matos': 15473, 'Nathy MC': 15474, 'Bei Maejor': 15475, 'Paul & Linda McCartney': 15476, 'Oddział Zamknięty': 15477, 'Obywatel G.C.': 15478, 'Skaldowie': 15479, 'Cof DaMu': 15480, 'Don McLean': 15481, 'Los Lobos': 15482, 'Mott the Hoople': 15483, 'The Matrix Reloaded': 15484, 'Seychelles': 15485, 'Mamma Cadela': 15486, 'Gustavo Garde': 15487, 'Jet Market': 15495, 'Much The Same': 15496, 'I Sea Monsters': 15497, 'Chunk! No, Captain Chunk!': 15498, 'Sudarshana': 15499, 'F.I.B': 15500, 'Dikers': 15501, 'Golliwog': 15502, 'Order!Order!': 15503, 'Nodes of Ranvier': 15504, 'Tom Sawyer': 15505, 'Break the Silence': 15506, 'Colchon': 15507, 'Layaway Plan': 15508, 'Anchors For Arms': 15509, 'Randy Orton': 15510, 'Jared Leto': 15511, 'Os + De Mil': 15512, 'Mephisto Walz': 15513, 'Liikkuvat Lapset': 15514, 'Kuolleet Kukat': 15515, 'Musta Paraati': 15516, 'Xmal Deutschland': 15517, 'Kuudes Tunti': 15518, 'Pyhäkoulu': 15519, 'Kaaos': 15520, 'Radio Scarlet': 15521, 'Suruaika': 15522, 'Riistetyt': 15523, 'Scary Bitches': 15524, 'Poslednie Tanki V Parizhe': 15525, 'The Guess Who': 15527, 'Marya Roxx': 15529, \"L'ame Immotale\": 15530, 'Prophetic Dream': 15531, 'E-Type': 15532, 'La Bouche': 15533, 'Cold in May': 15534, 'Locnville': 15535, 'Rudenko': 15536, 'Alex Beaupain': 15537, 'Paulinho da Viola': 15538, \"Terence Trent D'Arby\": 15544, 'The Spinto Band': 15548, \"Help She Can't Swim\": 15551, 'Cristina Branco': 15556, 'Paris Combo': 15562, 'Skrillex': 15564, \"It's Alive\": 15565, 'Chester Bennington': 15566, 'The Brothers Martin': 15567, 'The Pistolas': 15568, 'Julien-K': 15569, 'Blue Stahli': 15570, 'Blasted Mechanism': 15571, 'Deluka': 15572, 'King Black Acid': 15573, 'Pony Pony Run Run': 15574, 'Subkulture': 15575, 'peixe : avião': 15576, 'David Fonseca': 15577, 'Murdering Tripping Blues': 15578, 'Janusz Olejniczak': 15579, 'The Pianist': 15580, 'Jimmy Pardo': 15581, 'Arthur Alexander': 15582, 'The Bobby Fuller Four': 15583, 'Dexys Midnight Runners': 15584, 'Anita Carter': 15585, 'Faces': 15586, 'The Tremeloes': 15587, 'Comedy Death-Ray Radio': 15588, 'Swamp Dogg': 15589, 'Ellen Foley': 15590, 'Dennis Wilson': 15591, 'Fungi Girls': 15592, 'Johnny Hollow': 15593, 'Jean-Jacques Burnel': 15594, 'Noise Unit': 15595, 'Les Jumeaux': 15596, 'Michael Brook': 15597, 'Oppenheimer Analysis': 15598, 'Świetliki i Linda': 15599, 'Intermix': 15600, 'Blue Zoo': 15601, 'The Actor': 15602, 'Strange Boutique': 15603, 'Lars Falk': 15604, 'Grzegorz Ciechowski': 15605, 'Rosetta Stone': 15606, 'UV Pop': 15607, 'Opéra de nuit': 15608, 'Position Parallèle': 15609, 'Behind Crimson Eyes': 15610, 'Paul Kelly': 15611, \"Society's Parasites\": 15612, '12th Planet': 15613, 'Scatman John': 15614, 'Koolfox': 15615, 'Art of Fighters': 15616, 'Plushgun': 15617, 'Ronald Jenkees': 15618, 'YTCracker': 15619, 'Benny Benassi feat. Gary Go': 15620, 'Keef Baker': 15621, 'Dryft': 15622, 'Rent -Original Cast Recording': 15623, 'FC/Kahuna': 15624, 'Scandy': 15625, 'Tarmvred': 15626, 'Al B. Sure!': 15627, 'Celluloïd Mata': 15628, 'Tonikom': 15629, 'The Uniform': 15630, 'Zentriert ins Antlitz': 15631, 'sona eact®': 15632, 'Cdatakill': 15633, 'Black Lung': 15634, 'Oil 10': 15635, 'S.I.N.A': 15636, 'The Teardrop Explodes': 15637, 'Eyeless in Gaza': 15638, 'Julian Cope': 15639, 'meltmaster': 15640, 'Pere Ubu': 15641, 'The Red Krayola': 15642, 'This Heat': 15643, 'amatria': 15644, 'Lori Meyers': 15645, 'The New Raemon': 15646, 'El Columpio Asesino': 15647, 'Summer Camp': 15648, 'Feldberg': 15649, 'Joe Crepúsculo': 15650, 'Loney, dear': 15651, 'Planningtorock': 15652, 'Bishop Morocco': 15653, 'Crystal Fighters': 15654, 'Wildbirds & Peacedrums': 15655, 'Dente': 15656, 'Kordan': 15657, 'Hundreds': 15658, 'She Keeps Bees': 15659, 'Bye Bye Bicycle': 15660, 'Du': 15661, 'Facto delafé y las flores azules': 15662, 'Claude François': 15663, 'Umberto Tozzi': 15664, 'Biagio Antonacci': 15665, 'Lynn Johnson': 15666, 'Experimental Model': 15667, 'Ricchi e Poveri': 15668, 'Gianni Morandi': 15669, '7and5': 15670, 'Baskyl': 15671, 'Anna Oxa': 15672, 'Mike Brant': 15673, 'Michele Zarrillo': 15674, 'Modus': 15675, 'Edelis': 15676, 'Raffaella Carrà': 15677, 'F.R. David': 15678, 'Cordovero': 15679, 'Renato Zero': 15680, 'Nicoletta': 15681, 'Savage': 15682, 'Frédéric François': 15683, 'Little Tony': 15684, \"Gigi D'Alessio\": 15685, 'Gemelli Diversi': 15686, 'Merlinmoon': 15687, 'Bill Laswell': 15688, 'Kleitman, Michael': 15689, 'Sasha': 15690, 'Plácido Domingo': 15691, 'Acoustic brasil': 15692, 'Brazilution': 15693, 'LTJ Bukem': 15694, 'ciëlo': 15695, 'Tino Coury': 15696, 'Siavash Ghomayshi': 15697, 'Habib': 15698, 'Ebi': 15699, 'Mal Etre': 15700, 'Dariush': 15701, 'Matin 2 Hanjareh': 15702, 'Shahyar Ghanbari': 15703, 'Kaveh Yaghmaei': 15704, 'Mohsen Chavoshi': 15705, 'Reza Yazdani': 15706, 'DJ Dado': 15707, 'Mohammad Reza Shajarian': 15708, 'Rom di Prisco': 15709, 'Oliver Shanti & Friends': 15710, 'Kira': 15711, 'Kira & The Kindred Spirits': 15712, 'Alex Canasta': 15713, 'Julie Maria': 15714, 'Agnes Obel': 15715, 'Sinne Eeg': 15716, 'When Saints Go Machine': 15717, 'Mads Langer & Mike Sheridan': 15718, 'Ib Glindemann Orchestra': 15719, 'Bo Kaspers Orkester': 15720, 'DR P3': 15721, 'Emiliana Torrini': 15722, 'Analogik': 15723, 'Mads Langer': 15724, 'Lucia Popp, Siegfried Jerusalem, Etc.; Bernard Haitink: Bavarian Radio Symphony Orchestra & Chorus': 15725, 'Nana Jacobi': 15726, 'Boy of Girl': 15727, 'Mikael Simpson': 15728, 'Nicola Conte': 15729, 'Mohombi': 15737, 'Dablio': 15738, 'Sam Tsui & Kurt Schneider': 15739, 'G.NA': 15740, 'Matt Zarley': 15741, 'Nelstar*': 15742, 'Miriam Makeba': 15743, 'Lil Mama': 15744, 'Inezita Barroso': 15745, 'Eve feat. Sean Paul': 15746, 'Stephen Gunzenhauser': 15747, 'Michael Cardenas': 15748, 'Son House': 15749, 'Secret Machines': 15750, 'The Waterboys': 15751, 'A Camp': 15752, 'The Tumbled Sea': 15753, 'Nils Frahm': 15754, 'Constantina': 15755, 'Asalto al Parque Zoológico': 15756, 'Matthew Robert Cooper': 15757, 'Marinho Castellar & Banda Disritmia': 15758, 'We vs. Death': 15759, 'Sylvain Chauveau': 15760, 'Because of Ghosts': 15761, 'oy division': 15762, \"migwud'\": 15763, 'Uzva': 15764, 'Щурците': 15765, 'НЛО': 15766, 'BTR': 15767, 'aladdin': 15768, 'Turbo': 15769, 'Piotr Rogucki': 15770, 'The Boomtown Rats': 15771, 'Esther Phillips': 15772, 'Ann-Margret': 15773, 'Carmen McRae': 15774, 'Millie Jackson': 15775, 'Nancy Wilson': 15776, 'Blossom Dearie': 15777, 'Anthony Rother': 15778, 'History': 15779, 'Elektrochemie LK': 15780, 'DJ Rush': 15781, 'DJ Koze': 15782, 'Ada': 15783, 'Chris Liebing': 15784, 'Kid Alex': 15785, 'Panash': 15786, 'Frank Martiniq': 15787, 'Roman Flügel': 15788, 'Pankananda': 15789, 'Oliver Koletzki/Florian Meindl': 15790, 'Moonbootica': 15791, 'Lützenkirchen': 15792, 'Sven Väth': 15793, 'Lexy & K. Paul': 15794, 'Alter Ego': 15795, 'Westbam and Afrika Islam': 15796, 'Westbam': 15797, 'Audion': 15798, 'Justus Köhncke': 15799, 'Tiefschwarz': 15800, 'Pier Bucci': 15801, 'Pan-Pot': 15802, 'Frankie Valli & The Four Seasons': 15803, 'Ryan Molloy': 15804, 'The Dalton Academy Warblers': 15805, 'Mike Rowland': 15806, 'Tim Curry': 15807, 'Bob Gaudio': 15808, '上田雅美': 15809, 'The Franks': 15810, '近藤嶺': 15811, 'Eddie Izzard': 15812, 'mO Body': 15813, 'Viikate': 15814, 'Suburban Tribe': 15815, 'Brian Hyland': 15816, 'Eric Burdon & The Animals': 15817, 'Winter Gloves': 15819, 'Fat Segal': 15821, 'Sam Bradley': 15822, 'Ana Paula Valadão': 15823, 'Arthur Freed & Nacio Herb Br..': 15824, 'Artie': 15825, 'Puck': 15826, 'Idina Menzel & Rachel': 15827, 'Puck, Finn, Sandy, Howard & Terry': 15828, 'Rachel': 15829, 'Brian Reitzell & Alex Heffes': 15830, 'Automatic Flowers': 15831, 'Ivan$Stani': 15832, 'Графа': 15833, 'Тома Здравков': 15834, 'Маги Джанаварова': 15835, 'Вероника': 15836, 'Link 80': 15837, 'Lazy Bitches': 15838, 'The Epoxies': 15839, 'Magik Markers': 15840, 'Regurgitate': 15845, 'Harry Potter 3: The Prizoner of Azkaban Soundtrack': 15847, 'Buraka Som Sistema': 15848, 'Dressy Bessy': 15849, 'Emily Powers': 15850, 'Tender Trap': 15851, 'The Siddeleys': 15852, 'Tiger Trap': 15853, 'Saturday Looks Good to Me': 15854, 'The Diskettes': 15855, 'Bearsuit': 15856, 'Boy Crazy': 15857, 'Cub': 15858, 'The Owls': 15859, 'Marine Research': 15860, 'Emily Jane Powers': 15861, \"Henry's Dress\": 15862, 'All Girl Summer Fun Band': 15863, 'Go Sailor': 15864, 'The Aislers Set': 15865, 'Velocity Girl': 15866, 'The Orchids': 15867, 'Language of Flowers': 15868, 'The Eames Era': 15869, 'Black Tambourine': 15870, 'The Pastels': 15871, 'that dog.': 15872, 'The Scotland Yard Gospel Choir': 15873, 'Korn (Unplugged)': 15874, 'Bethlehem': 15875, 'The Pax Cecilia': 15876, 'Opus Däi': 15877, 'Echolyn': 15878, 'O Bando do Velho Jack': 15879, 'Swayzak': 15880, 'Jenni Potts': 15881, 'Darin Schaffer': 15882, 'Yasume': 15883, 'Christopher Willits': 15884, 'Greyboy': 15885, 'Express Rising': 15886, 'Ancient Astronauts': 15887, 'Julien Neto': 15888, 'Eef Barzelay': 15889, 'Critters Buggin': 15890, 'GRAMATIK': 15891, 'Allison': 15892, 'Aurum': 15893, 'UFF': 15894, 'Martin Rica': 15895, 'Hello Seahorse!': 15896, 'Chetes': 15897, 'Colchón': 15898, 'División Minúscula': 15899, 'Nikki Clan': 15900, 'Lyon Fi!': 15901, 'Paulina Goto': 15902, 'Lu': 15903, 'We Smoke Fags': 15904, 'Edurne': 15905, 'Daniela Castillo': 15906, 'Karen Paola': 15907, 'Gilda': 15908, 'Catalina Palacios': 15909, 'Carolina Soto': 15910, 'Ximena Abarca': 15911, 'Sin senos no hay paraíso': 15912, 'Marcela Morelo': 15913, 'Supernova': 15914, 'Quarashi': 15915, 'Art Ensemble of Chicago': 15916, 'The Dickies': 15917, 'Poison Idea': 15918, \"D'Angelo\": 15919, 'Anita Baker': 15920, 'Camp Lo': 15921, 'Montell Jordan': 15922, 'Bizzy Bone': 15923, 'Kurt Elling': 15924, 'Mamma Mia!: The Movie Soundtrack': 15925, 'High School Musical 3: Senior Year': 15926, 'Marcelo Adnet': 15927, 'ambient': 15928, 'Paramore攀': 15929, 'Ricardo Gravações': 15930, 'Liz Lanne': 15931, 'Lauriete': 15932, 'La Familia': 15933, 'Billy Fury': 15934, 'Timpuri noi': 15935, 'My Mine': 15936, 'Morris': 15937, 'Travka': 15938, 'Александр Панайотов': 15939, 'VeritaSaga': 15940, 'БиС': 15941, 'Arsenium': 15942, 'Giulia': 15943, 'Treitl Hammond': 15944, 'Heart of space': 15945, 'Maximov Show': 15946, 'Sertse': 15947, 'Ранетки': 15948, 'The Redwalls': 15949, 'Глюкоза': 15950, 'Gato Idiota': 15951, 'Планка': 15952, 'Alice Springs': 15953, 'Reflex': 15954, 'Teddybears': 15955, 'Support Lesbiens': 15956, 'Деньги-на-Ветер': 15957, 'Тутси': 15958, 'Belén Arjona': 15959, 'Jalankulkuämpäri': 15960, 'Liquido': 15961, 'Непара': 15962, 'Филипп Киркоров': 15963, 'Корни': 15964, 'Let It Flow': 15965, 'Özgün Akay': 15966, 'Özlem Tekin': 15967, 'Makine': 15968, 'Benjamin Ann': 15969, 'İşteş Gezen Fiiller': 15970, 'Hope To Find': 15971, 'Hypnogaja': 15972, 'Aylin Aslım': 15973, 'My Endeavour': 15974, 'Saving Abel': 15975, 'Edgewater': 15976, 'Deepfield': 15977, 'Seven Wiser': 15978, 'Course of Nature': 15979, 'Stereoside': 15980, 'Modern Day Zero': 15981, 'Logan': 15982, 'Josefus': 15983, 'Sorcery': 15984, \"Lucifer's Friend\": 15985, 'Montrose': 15986, 'Radio Birdman': 15987, 'Wicked Lady': 15988, 'Mountain': 15989, 'Iron Claw': 15990, 'Abecedarians': 15991, 'Скрябін': 15992, 'Pagoda': 15993, 'The Grates': 15994, 'IRA': 15995, 'Indios Bravos': 15996, '3Moonboys': 15997, 'Pogodno': 15998, 'Fisz Emade jako Tworzywo Sztuczne': 15999, 'Tworzywo Sztuczne': 16000, '6000000000 себя': 16001, 'Daphne Loves Derby': 16002, 'Another Mask': 16003, '-t de sangre': 16004, 'Yourcodenameis:milo': 16005, 'KODLA': 16006, 'Mari! Mari!': 16007, 'Overland': 16008, 'Djs From Mars': 16009, 'MXD': 16010, 'Professional Murder Music': 16011, 'Carfax Abbey': 16012, 'Deadsy': 16013, 'My Sixth Shadow': 16014, 'Seigmen': 16015, 'Торба-на-Круче': 16016, 'ТонкаяКраснаяНить': 16017, 'New Dawn Foundation': 16018, 'Ljungblut': 16019, 'Videodrone': 16020, 'Xternals': 16021, 'Sakin': 16022, 'PİNHANİ': 16023, 'Incesaz': 16024, 'Cem Adrian': 16025, 'White Willow': 16026, 'Kreş': 16027, 'Songs: Ohia': 16028, 'Cinerama': 16029, 'Hüsnü Arkan': 16030, '西野カナ': 16034, 'Scambo': 16039, 'Ismael Serrano': 16040, 'O Círculo': 16041, 'Banda Dom': 16042, 'Jonas Brotheres': 16043, 'ShababGamed(Wama4love)': 16044, 'Steadman': 16045, 'Cavaleiros do Zodíaco': 16046, 'Paulo Miklos': 16047, 'Santos': 16048, 'R.Sigma': 16049, 'Brandon Boyd': 16050, 'Autour de Lucie': 16051, 'Venus Hum': 16052, 'Matthew Dear': 16053, 'El Ten Eleven': 16054, 'The Big Pink': 16055, 'Dykehouse': 16056, 'Outputmessage': 16057, 'Koushik': 16058, 'Astrobrite': 16059, 'Osborne': 16060, 'Lovers Electric': 16061, 'The Japanese Popstars': 16062, 'Alex Metric': 16063, 'Stereos': 16064, 'Jason Manns': 16065, '샤이니 (SHINee)': 16066, 'Adam Gregory': 16067, 'Great Big Sea': 16068, 'Jennifer Lopez vs Britney Spea': 16069, 'themaddnesstrack': 16070, 'Grupo Rouge !!!': 16071, 'Junior Ferrari': 16072, 'Daniel Rolim': 16073, 'Binary Star': 16074, 'DJ Vandan': 16075, 'Michael W. Smith': 16076, 'Olu': 16077, 'Big Z Remixes': 16078, 'Freeway & Jake One': 16079, 'David Dallas': 16080, 'NickT Records': 16081, 'Questionmark Asylum': 16082, 'Gorilla Zoe': 16083, \"Sexion d'Assaut\": 16084, 'StartYourOwnRebellion': 16085, 'Miguel': 16086, 'One Be Lo ft. J-Spliff': 16087, 'C2C': 16088, 'Blakroc': 16089, 'The Demanders': 16090, 'Marie & Nick': 16091, '真理絵': 16092, 'Nick & Marie': 16093, 'Dixie Dregs': 16094, 'Pride & Glory': 16095, 'Eric Johnson': 16096, 'Aswad': 16097, 'Culture': 16098, 'Linton Kwesi Johnson': 16099, 'Mikey Dread': 16100, 'The Heptones': 16101, 'Wailing Souls': 16102, 'Alpha Blondy': 16103, 'Big Youth': 16104, 'Wyclef Jean': 16105, 'Dubmatix': 16106, 'Freddie McGregor': 16107, 'Third World': 16108, '$lick': 16111, 'Six-Fo feat. $lick': 16112, 'Eminem ft. Xzibit & Nate Dogg': 16113, 'S. Ice feat. $lick': 16114, 'Eminem ft. Nate Dogg, Dr. Dre': 16115, 'Doniu & 52 Dębiec': 16116, 'Eminem Ft. Trick Trick': 16117, '50 Cent Ft. Justin Ft. Timbaland': 16118, '$lick feat. Six-Fo': 16119, 'BOB, Hayley Williams and Eminem': 16120, 'Katherine': 16121, 'Le Trio Joubran': 16122, 'Jan Garbarek Group': 16123, 'Peace Orchestra': 16124, 'Arthur H': 16125, 'Joe Cohn, Peter Beets, J.J. Wiggins, Peter Washington, Joost van Schaik & Willie Jones III': 16126, 'Nils Petter Molvær': 16127, 'J..S. Bach': 16128, 'Antonio Sánchez': 16129, 'Sylvain Beuf': 16130, 'Leonard Bernstein & New York Philharmonic': 16131, 'Gary Burton': 16132, 'Rudresh Mahanthappa': 16133, 'Atom and His Package': 16134, 'Mock Orange': 16135, 'Jason Anderson': 16136, 'Joe Rogan': 16137, 'Ken Hensley': 16138, 'Chris Norman': 16139, 'Sully Erna': 16140, 'Bros': 16141, 'Love Bites': 16142, 'Girl Thing': 16143, 'Bellefire': 16144, 'Kym Marsh': 16145, 'Frank': 16146, 'Maarja': 16147, 'Candice Alley': 16148, 'Triinu Kivilaan': 16149, 'B3': 16150, 'Phixx': 16151, 'Precious': 16152, 'Jonathan Boulet': 16153, 'Holger': 16154, 'Casuarina': 16155, 'Dragon Ash': 16156, 'Nic Endo': 16157, 'Rhymester': 16158, 'Tha Blue Herb': 16159, 'Tigarah': 16160, 'MC 몽': 16161, 'KICK THE CAN CREW': 16162, 'Mr.Children': 16163, 'TERIYAKI BOYZ': 16164, '송지은': 16165, '가인': 16166, 'ケツメイシ': 16167, 'YOU THE ROCK★': 16168, 'stellastarr*': 16169, 'Sandro': 16170, 'Javier Malosetti': 16171, 'Vox Dei': 16172, 'Manal': 16173, 'Sandro y los de Fuego': 16174, 'Pappo': 16175, 'Timur Izhbulatov': 16176, 'Mongo Santamaria': 16177, 'Mike Keneally': 16178, 'Tran Qual': 16179, 'Sandro de América': 16180, 'Passenger of Shit': 16181, 'Мутант Ъхвлам': 16182, 'Трагедия Всей Жизни': 16183, 'Babangida': 16184, 'Барбитурный': 16185, 'Егор Летов': 16186, 'Meanna': 16187, 'Ленина Пакет': 16188, 'The Priests': 16189, 'Heroin': 16190, '8u': 16191, 'Munen Musin': 16192, 'Speedcore Front Ost Berlin': 16193, 'Сладкоежка': 16194, 'Technique': 16195, 'Розовые Очки От Ferre': 16196, 'David Lynch': 16197, 'Nortt': 16198, 'Бухенвальд Флава': 16199, 'Mental D-struction': 16200, 'burbiturnый': 16201, 'Judas Iscariot': 16202, 'micromatics': 16203, 'Hirosima Girl': 16204, 'Полумягкие': 16205, 'Abney Park': 16206, 'Monster Bobby': 16207, 'Billy Bragg and The Blokes': 16208, 'Matt McIntosh': 16209, 'Pips, Chips & Videoclips': 16210, 'Arts the Beatdoctor': 16215, 'Dave Matthews': 16217, 'Last & Galle': 16229, '林原めぐみ': 16230, 'Hiroyuki Iwatsuki': 16231, 'Jabberloop': 16232, 'Kopflast': 16233, 'Alboth!': 16234, 'WHOURKR': 16235, 'にせんねんもんだい': 16236, 'Satoko Fujii & Tatsuya Yoshida': 16237, 'Kazumi Totaka': 16238, 'NOISM': 16239, 'クラムボン': 16240, 'The Railway Raver': 16241, '佐宗綾子': 16242, 'Ast & Kralle': 16243, '杏里': 16244, 'Kurushi Final': 16245, 'Eisenvater': 16246, 'Orthrelm': 16247, '細江慎治': 16248, \"PE'Z\": 16249, '2up': 16250, 'COLTEMONIKHA': 16251, 'Made In Mexico': 16252, 'Gale Racer': 16253, 'Grand Ulena': 16254, 'Ex Models': 16255, 'der Gast in der Falle': 16256, 'Battleship': 16257, 'Optical-8 + Melt-Banana - Elliot Sharp + Zeena Parkins': 16258, 'Bleach 03': 16259, 'Slapshot': 16260, 'Billy Blue': 16261, 'Whirl': 16262, 'Northern Picture Library': 16263, 'The Charlottes': 16264, 'Donnybrook': 16265, 'Swirlies': 16266, 'Moscow Olympics': 16267, 'Weed Hounds': 16268, 'Korla Pandit': 16269, 'Medicine': 16270, 'Deadline': 16271, 'Outbreak': 16272, 'Dance Floor Justice': 16273, 'Restless': 16274, 'ブラック・キャッツ': 16275, 'Billy Briggs': 16276, 'Jets': 16277, 'Tex Williams': 16278, 'Polecats': 16279, 'Hank Thompson': 16280, 'Frenzy': 16281, 'Curtis Gordon': 16282, 'The Carlisles': 16283, 'Boyd Bennett': 16284, 'Spade Cooley': 16285, 'Levi Dexter': 16286, 'Rockabilly Rebs': 16287, 'ブルー・エンジェル': 16288, 'Bob Wills & His Texas Playboys': 16289, 'Hank Penny': 16290, 'Shillelagh Sisters': 16291, \"Red Hot 'N' Blue\": 16292, 'The Lucky Stars': 16293, 'Big Sandy & His Fly-Rite Boys': 16294, 'Levi Dexter & The Ripchords': 16295, 'Mac Curtis': 16296, 'The Stargazers': 16297, 'The Neanderthals': 16298, 'Bill Mack': 16299, 'The Caravelles': 16300, 'Moon Mullican': 16301, 'Skeets McDonald': 16302, 'The Five Keys': 16303, 'Babs Gonzales': 16304, 'Billy Wallace': 16305, 'Levi & The Rockats': 16306, 'Hardrock Gunter': 16307, 'Happy Drivers': 16308, 'Wildfire Willie & The Ramblers': 16309, 'Merrill Moore': 16310, 'Jimmy Lee & Wayne Walker': 16311, 'Erskine Hawkins': 16312, 'Nâdiya': 16313, 'Irene Grandi': 16314, 'Noemi': 16315, 'Loredana Errore': 16316, 'Jean-Philippe Rameau': 16317, 'Pietro Antonio Locatelli': 16318, 'Heinrich Ignaz Franz von Biber': 16319, 'Francesco Geminiani': 16320, 'Marc-Antoine Charpentier': 16321, 'Alessandro Scarlatti': 16322, 'Luigi Boccherini': 16323, 'Lemongrass': 16324, 'François Couperin': 16325, 'Dietrich Buxtehude': 16326, 'Marin Marais': 16327, 'Tomaso Giovanni Albinoni': 16328, 'Giuseppe Tartini': 16329, 'Giovanni Battista Pergolesi': 16330, 'Giuseppe Torelli': 16331, 'John Dowland': 16332, 'Felix Mendelssohn': 16333, 'Robert Schumann': 16334, 'Johann Friedrich Fasch': 16335, 'Audio Lotion': 16336, 'Arthur Verocai': 16337, 'Metropolitan Jazz Affair': 16338, 'Urbs & Cutex': 16339, 'The Boo Radleys': 16340, 'D-Pulse': 16341, 'John Roberts': 16342, 'Blackjoy': 16343, 'Dsh! Dsh!': 16344, 'The Tunics': 16345, 'Серёга Шнуров': 16346, 'Celia': 16347, 'Arawak': 16348, '7he Myriads': 16349, 'Hess Is More': 16350, 'Josh Pyke': 16351, 'Kisschasy': 16352, 'Dukes Of Windsor': 16353, 'Broken Fabiola': 16354, 'Achillea': 16355, \"Let's Wrestle\": 16356, 'Tubelord': 16357, 'Japandroids': 16358, 'DARTZ!': 16359, 'Encyclopedia': 16360, 'Artymove': 16361, 'girugämesh': 16362, 'Marina and the Diamonds': 16363, 'Out of Ether': 16364, 'Oxynucid': 16365, 'First Aid Kit': 16366, 'Mrs Jynx': 16367, 'Moth Conk Midi': 16368, 'Products of Monkey Love': 16369, 'Vocalizer': 16370, 'Acidburp': 16371, 'Vertical67': 16372, 'Leftfield': 16373, 'Aim': 16374, 'BBC 6 Music': 16375, 'Volitune': 16376, 'Mark Swift': 16377, 'Dozer': 16378, 'Smoke Blow': 16379, 'Beyond The Embrace': 16380, 'Desi Slava': 16381, 'Андреа': 16382, 'David Deejay feat. Dony': 16383, 'Andrea': 16384, 'Teddy Thompson': 16385, 'Dianna Agron': 16386, 'Rosario Dawson': 16387, 'Yppah': 16388, 'Esoterica': 16389, 'ASHES dIVIDE': 16390, 'Punk TV': 16391, 'Goatika Creative Lab': 16392, 'Microfilm': 16393, 'Нет Сна': 16394, 'Kamp!': 16404, 'Novika': 16405, 'Hatifnats': 16406, 'Terry Poison': 16407, 'Basstek': 16408, 'Haley Reinhart': 16409, 'Katie Waissel': 16410, 'We Are the In Crowd': 16411, 'Ross and the Wrongens': 16412, 'M. Craft': 16413, 'The Color Morale': 16414, 'Hundredth': 16415, 'Malcolm Middleton': 16416, 'Riley, Terry (1935-)': 16417, 'The Trucks': 16418, 'Prosser': 16419, 'Stravinsky, Igor (1882-1971)': 16420, 'Tape': 16421, 'Serenity': 16422, 'The Murder Of My Sweet': 16423, 'Winter In Eden': 16424, 'AghonyA': 16425, 'Elysion': 16426, 'Visions of Atlantis': 16427, 'A.D.D.': 16428, 'Hydrogyn': 16429, 'Satyrian': 16430, 'Atargatis': 16431, 'Wednesday Night Heroes': 16432, 'Groovie Ghoulies': 16435, 'Les Discrets': 16437, 'Catharsis': 16438, 'Wrath of the Weak': 16439, 'Líam': 16440, 'Heurt': 16441, '大谷幸': 16442, '仲野順也': 16443, 'Sawa': 16444, 'Jeff Martin': 16445, 'The Armada': 16446, 'Paatos': 16447, 'Ahmed Arif': 16448, 'Nicole Atkins': 16449, 'Dymaxion': 16450, 'Toby Twining': 16451, 'Delia Derbyshire': 16452, 'Ruins': 16453, 'Silver Apples': 16454, 'Hala Strana': 16455, 'Bisk': 16456, 'Ścianka': 16457, 'Spaceways': 16458, 'Prurient': 16459, 'Akira Rabelais': 16460, 'King Uszniewicz and His Uszniewicztones': 16461, 'Ildjarn': 16462, 'Tickley Feather': 16463, 'V/Vm': 16464, 'Vordr': 16465, 'Liquid Liquid': 16466, 'Satanicpornocultshop': 16467, 'Clutchy Hopkins': 16468, 'Dwarr': 16469, 'Son Kite': 16486, 'Fresh Dumbledore': 16490, 'Robin Skouteris': 16491, 'Brittany Murphy & Paul Oakenfold': 16492, 'HEARTSREVOLUTION': 16493, 'Frauenarzt & Manny Marc': 16494, 'Amanda Blank': 16495, 'Die schwarzen untoten blutgetränkten Waschlappen': 16496, 'pinkroom': 16497, 'Lil Jon & The East Side Boyz': 16498, 'X-Ecutioners': 16499, 'Terror Squad': 16500, 'Fat Joe': 16501, 'Age of Nemesis': 16502, 'Novastar': 16503, 'Sabrina Malheiros': 16504, 'Al Jarreau': 16505, 'Patrice Rushen': 16506, '3D': 16507, 'The Dizz': 16508, 'Alex Bugnon': 16509, 'Peter Brown': 16510, 'The Diane Rehm Show': 16511, 'Guy': 16512, 'Tavis Smiley on PBS': 16513, 'Michael Cooper': 16514, 'Michael Franks': 16515, 'Eric Benét': 16516, 'Angela Bofill': 16517, 'Maze Featuring Frankie Beverly': 16518, 'Art Porter': 16519, \"Sergio Mendes and Brasil '65\": 16520, 'Phyllis Hyman': 16521, 'ABC News': 16522, 'Montefiori Cocktail': 16523, 'Kate Hudson': 16524, 'Flux Pavilion': 16525, 'Rusko': 16527, 'Le Loup': 16529, 'Rafter': 16530, 'The Crayon Fields': 16531, 'Witchcraft': 16532, 'Emily Neveu': 16533, 'Rashni': 16534, 'Ivena': 16535, 'Ro Danishei': 16559, 'vidalles': 16560, 'Johnny Weir': 16561, 'Dropping a Popped Locket': 16562, 'Death love': 16563, 'Gabi': 16564, 'Katy Rose': 16565, 'skins': 16566, 'Son of Dork': 16567, 'The Parlotones': 16568, 'Aka Carl & The Technicians': 16569, 'Killah Priest': 16570, 'Bladerunner': 16571, 'Modified Motion & Faction': 16572, 'Too Strong': 16573, 'John B': 16574, 'U-God': 16575, 'Triad': 16576, 'I-Low': 16577, 'Sigma': 16578, 'Psycatron': 16579, 'Culture Shock': 16580, 'Dean Newton & Huggy': 16581, 'Separate': 16582, 'Forbidden Society & Current Value': 16583, 'S.I.N.': 16584, 'Blink 182': 16585, 'Moist': 16586, 'Oliver Pigott': 16587, 'Dan Priestner': 16588, 'Killer Instinct': 16589, 'Daniel James McIsaac': 16590, 'I Hate Kate': 16591, 'Abraham-Hicks': 16592, 'Gitane DeMone': 16593, 'Francine Jarry & Abraham-Hicks': 16594, 'Animosity': 16595, 'Blixa Bargeld': 16596, 'Abandoned Shelter': 16597, 'Ostava': 16598, 'Electroheart': 16599, 'Freiheit': 16600, 'Polygon Life': 16601, 'Electrosquad': 16602, 'Miika Kosola': 16603, 'Empty Room': 16604, 'New Mixed Emotions': 16605, 'Lívia Moura': 16606, 'Young The Giant': 16607, 'Illusion of Light': 16608, 'Patrick Doval': 16609, 'ironfield': 16610, 'Nadia Sohaei': 16611, 'shirane': 16612, 'Disco Digitale': 16613, 'Decence': 16614, 'Purple Fog Side': 16615, 'Wayside Drive': 16616, 'Auto-Auto': 16617, 'Dearling Physique': 16618, 'White Apple Tree': 16619, 'Deviant UK': 16620, 'IceSixxx': 16621, 'Fugitive Souls': 16622, 'solardip': 16623, 'ELECTROANOVA': 16624, 'Poslednja igra leptira': 16625, 'El Último Ke Zierre': 16626, '堀山俊彦': 16627, 'Fiskales Ad-Hok': 16628, 'Leeway': 16629, 'Underdog': 16630, 'Tsuyoshi Sekito': 16631, '平澤創': 16632, 'There Will Be Fireworks': 16633, 'Cro-Mags': 16634, 'Sleeping Peonies': 16635, 'Bauda': 16636, 'Watchtower': 16637, 'Spermbirds': 16638, 'Los Crudos': 16639, 'Die Walter Elf': 16640, 'Soziedad Alkoholika': 16641, 'Ophelia': 16642, 'Arctic Plateau': 16643, 'kill my bleeding smile': 16644, 'Grey Waters': 16645, 'The Cruel Sea': 16646, 'Troy Dean': 16647, 'MuShu': 16648, 'Bernard Fanning': 16649, 'John Lee Hooker & Miles Davis': 16650, 'Juzzie Smith': 16651, 'Daddy Cool': 16652, 'Luka Bloom': 16653, 'Delbert McClinton': 16654, 'Israel Cannan': 16655, 'Karma County': 16656, 'Alex Lloyd': 16657, 'Ed Kuepper': 16658, 'James Hunter': 16659, 'George': 16660, 'Dismember': 16661, 'Margaret Berger': 16662, 'Värttinä': 16663, 'Cloetta Paris': 16664, 'TNT (Brasil)': 16665, 'Laurent Garnier': 16666, \"Stereo MC's\": 16667, 'Danger Mouse and Sparklehorse': 16668, 'Amely': 16669, 'etc.': 16670, 'Kids of 88': 16671, 'Scrubb': 16672, 'Isaac Shepard': 16673, 'Olivia Ong': 16674, 'Local H': 16675, 'Wipers': 16676, 'Sea Exchange': 16677, 'Pernice Brothers': 16678, 'The Sleepy Jackson': 16679, 'Last Days of April': 16680, 'Dylan Mondegreen': 16681, 'Army Navy': 16682, 'The Elephants': 16683, 'The Hit Parade': 16684, 'Lake Heartbeat': 16685, 'Days': 16686, 'California Snow Story': 16687, 'This Is Ivy League': 16688, 'Canadian Invasion': 16689, 'Carla Werner': 16690, 'Dawn Landes': 16691, 'The Orion Experience': 16692, 'Rafael': 16693, 'The Delgados': 16694, 'YoungBloodZ': 16695, 'Krayzie Bone': 16696, 'Birdman': 16697, 'Mystikal': 16698, 'Alec Empire': 16699, 'Shadows Chasing Ghosts': 16700, 'Through Colour': 16701, 'The Getaway Plan': 16702, 'ISpyStrangers': 16703, 'All Forgotten': 16704, 'Stone Parade': 16705, 'Dead Letter Circus': 16706, 'My Vitriol': 16707, 'After the Fall': 16708, 'The Afters': 16709, 'Lower Than Atlantis': 16710, 'Sugar Army': 16711, 'Sleep Parade': 16712, 'National Product': 16713, 'The Receiving End of Sirens': 16714, 'The Brobecks': 16715, 'Showbread': 16716, 'T.A.T.U': 16717, 'The Pink Spiders': 16718, 'Panic! at the Disco feat. Britney Spears and Gwen Stefani': 16719, 'Motor': 16720, 'Mirror feat. Dave Gahan': 16721, 'frYars feat. Dave Gahan': 16722, '98 Degrees': 16723, 'Girly Berry': 16724, \"M'Black\": 16725, 'Alyson': 16726, 'Ameerah': 16727, 'Erin Hamilton': 16728, 'Camille Jones': 16729, 'The Parallel Project': 16730, 'Mr. Pit': 16731, 'JES': 16732, 'Bastien Laval Feat. Layla': 16733, 'Deadmau5 & Wolfgang Gartner': 16734, 'Modjo': 16735, 'Who da Funk': 16736, 'Rex Mundi': 16737, 'Cellmod': 16738, 'Far Too Loud vs Code Zero': 16739, 'Siriusmo': 16740, 'City Rain': 16741, 'Harmonic 313': 16742, 'Dr Rubberfunk': 16743, 'Hexstatic': 16744, 'DJ Food': 16745, 'Global Communication': 16746, 'Fax': 16747, 'Mr. Projectile': 16748, 'Aus': 16749, 'Ulrich Schnauss & Jonas Munk': 16750, 'Jon Hopkins': 16751, 'The Detroit Escalator Co.': 16752, 'Eskmo': 16753, 'Gonzales': 16754, 'The Vector Warrior': 16755, 'Secret Frequency Crew': 16756, 'Obfusc': 16757, 'Lucky Boys Confusion': 16758, 'Filligar': 16759, 'Gay Fairy Tales': 16760, 'Barbie': 16761, 'Josh Henderson': 16762, 'Ender Thomas': 16763, 'Julio Iglesias Jr.': 16764, 'Bette Midler': 16765, 'Anna Margaret': 16766, 'Chloe Lowery': 16767, 'Angelis': 16768, 'Patricia Marx': 16769, 'Janel Parrish': 16770, 'Meaghan Jette Martin': 16771, 'Mulan': 16772, 'Matheus Herriez': 16773, 'LazyTown': 16774, 'Jacques Briere & Roman Prada': 16775, 'Stevie Brock': 16776, 'The O.C. Mix 6: Covering Our Tracks': 16777, 'reigndear': 16778, 'Kool Keith': 16779, 'Longpigs': 16780, 'Movie Clips': 16781, 'Voice Memo': 16782, 'Straw': 16783, 'Charles Bukowski': 16784, 'Kiran Leonard': 16785, 'Kele': 16786, 'The Time Travelling Pirates': 16787, 'The Saddest Landscape': 16788, 'Supernova Disaster': 16789, 'Búfalo': 16790, 'Merchant Ships': 16791, 'Kidcrash': 16792, 'MOTIM': 16793, 'Mesa Verde': 16794, 'Endless Inertia': 16795, 'With Horses In Her Eyes': 16796, 'Gantz': 16797, 'Followed By 37 Seconds Of Happiness': 16798, 'The Fall of Boss Koala': 16799, 'Le pré où je suis mort': 16800, 'The Earth And Everything In It': 16801, '3 Segundos Antes da Queda': 16802, 'Dr. Living Dead': 16803, 'Rihanna-remixado REnan': 16804, 'Luciana Abreu': 16805, 'Mandy Capristo': 16806, 'Elize': 16807, 'Marcia Goldschmidt': 16808, 'Kim Petras': 16809, 'Vanessão': 16810, 'Landon Pigg': 16823, 'Jessica Jarrell': 16832, 'T.S.O.L.': 16833, 'Peter Criss': 16834, 'WWE': 16835, 'Kiss/Melbourne Symphony Ensemble': 16836, 'Ron Sexsmith': 16837, 'Willard Grant Conspiracy': 16838, 'Chico César': 16839, 'The O.C. Supertones': 16840, 'Passafire': 16841, 'The Movement': 16842, 'Lô Borges': 16843, 'Wado': 16844, 'Salyu': 16845, 'globe': 16846, 'Doping Panda': 16847, 'W & Whale': 16848, 'Wise': 16849, 'Dil Se': 16850, 'YA-KYIM': 16851, 'Honey is Cool': 16852, '青山テルマ': 16853, 'KCO': 16854, 'CSS': 16855, 'AI': 16856, 'Black Bikini Alpha': 16857, 'Triana': 16858, 'The Posies': 16859, 'Karsh Kale': 16860, 'Habib Koité & Bamada': 16861, 'Milivoj Culibrk': 16862, 'Duncan Dhu': 16863, 'Aisha Duo': 16864, 'No_Mad': 16865, 'The Rebs': 16866, 'Aperegina': 16867, 'Goapele': 16868, 'Lloyd Ft Lil Wayne': 16869, 'Aida': 16870, 'David Jordan': 16871, \"Swingin' Utters\": 16872, 'Zatopeks': 16873, 'The Peacocks': 16874, 'Bankrupt': 16875, 'Cobra Skulls': 16876, 'The Briefs': 16877, 'Teen Idols': 16878, 'The Exploding Hearts': 16879, 'Dead to Me': 16880, 'Dwarves': 16881, 'Gorilla': 16882, 'The Methadones': 16883, 'The Apers': 16884, 'Stiff Little Fingers': 16885, 'Shark Soup': 16886, 'U.S. Bombs': 16887, 'Long Tall Texans': 16888, 'Isis Mariana': 16889, 'Under The Light': 16890, 'Josh Farro': 16891, 'Go Betty Go': 16892, 'The Civil Wars': 16893, 'Delta Spirit': 16894, 'Pinkly Smooth': 16895, 'Monster': 16896, 'Caustic': 16897, 'Vampire Rodents': 16898, 'Ambassador21': 16899, 'Stromkern': 16900, 'The Pain Machinery': 16901, 'Out Out': 16902, 'Brain Leisure': 16903, 'The Fighting Cocks': 16904, 'DeathBoy': 16905, 'Cyanotic': 16906, 'Steril': 16907, 'Psychopomps': 16908, 'Disharmony': 16909, 'genCAB': 16910, 'Flesh Field': 16911, 'CTRLer': 16912, 'Run Level Zero': 16913, 'Chrysalide': 16914, 'Nevilton': 16915, 'Fondo Flamenco': 16916, 'Harel Skaat': 16917, 'Casely': 16918, 'Michael Paynter': 16919, 'Jessica & Lisa': 16920, 'Lisa & Jessica': 16921, 'Pequena Sereia (Remix)': 16922, '78violet': 16923, 'The Dead Cool Dropouts': 16924, 'Drew Seeley & Selena Gomez': 16925, 'Cast of \"Sonny With a Chance\"': 16926, 'Ashley Tisdale & Lucas Grabeel': 16927, 'Demi Lovato ft SWAC cast': 16928, 'Huckapoo': 16929, 'Ryan and Sharpay': 16930, 'Hannah Montana and Miley Cyrus': 16931, 'Demi Lovato-MuSiCaCeNtRaL.CoM & ReLoADeD69.NeT': 16932, 'the veronicas\\ue800': 16933, 'Light Asylum': 16934, 'Гренки': 16935, 'phantom icicles': 16936, 'Ehron Vonallen': 16937, 'The Roy Shukers': 16938, 'Dave Barnes': 16939, 'Beecher': 16940, 'Witchfinder General': 16947, 'Riblja Corba': 16948, 'Saint Vitus': 16949, 'Tony Iommi': 16950, 'Battleheart': 16951, 'Dar Williams': 16952, 'Rich Mullins': 16953, 'Hagood Hardy': 16954, 'Agnes Milewski': 16955, 'Marco Beltrami': 16956, 'Christophe Beck': 16957, 'original score': 16958, 'Bill Whelan': 16959, 'Drained Scorn': 16960, 'Umbra et Imago': 16961, 'Mekrokiev': 16962, 'CODE NAME: K1LL': 16963, 'neurotoxxik': 16964, 'yade': 16965, 'Untoten vs. Soko Friedhof': 16966, 'Frightdoll': 16967, 'Opera Multi Steel': 16968, 'Enchained Souls': 16969, 'Aesma Daeva': 16970, 'AKADO': 16971, 'Sleetgrout': 16972, 'Inline.seX.Terror': 16973, 'Skyhooks': 16974, 'Alec \"acker dacker\" Whitehead feat. Kimmy \"wigga wigga lego stegasaurus dim simmer\" Hale': 16975, 'Electro Rockerz': 16976, 'Kottonmouth Kings': 16995, 'Ariane Moffatt': 17007, 'Brian May': 17008, 'Stampede': 17009, 'Neil Patrick Harris': 17010, 'Transmitters': 17011, 'loungeclash': 17012, 'Loop Guru': 17013, 'Slipper': 17014, 'Tivoli Symphony Orchestra': 17015, 'A Kid Hereafter': 17016, 'Klaus Lynggaard': 17017, 'isam b': 17018, 'Spok Frevo Orquestra': 17019, 'Erik Levander': 17020, 'Tumi and the Volume': 17021, '18th Dye': 17022, 'Choir of Young Believers': 17023, 'beta satan': 17024, 'Maria Timm': 17025, 'Jomi Massage': 17026, 'Fred Nukes': 17027, 'Kirsten Ketsjer': 17028, 'Campbell Brothers': 17029, 'Telmary': 17030, 'Sleep with all your friends': 17031, 'Thaw': 17032, 'Boom Clap Bachelors': 17033, 'Lucy Love': 17034, 'The Brazierlights In The Window': 17035, 'Ian Ion': 17036, 'Canon Blue': 17037, 'Lodekka': 17038, 'BadboE': 17039, 'Various Production': 17040, 'Boy Better Know': 17041, 'BOGULTA': 17042, 'Jah Wobble & Temple of Sound': 17043, 'The Pop Group': 17044, 'Metamatics': 17045, 'Zeb': 17046, 'Misel Quitno': 17047, 'Waldeck': 17048, 'Dub Syndicate': 17049, 'African Head Charge': 17050, 'Baby Mammoth': 17051, 'Alice Coltrane': 17052, 'The Scaramanga Six': 17053, 'June Tabor': 17054, 'Richard Thompson': 17055, 'Napoleon IIIrd': 17056, 'Vessels': 17057, 'Juxtaposition': 17058, 'Man Aubergine': 17059, 'Benjamin Wetherill': 17060, 'Sleepingdog': 17061, 'blah blah tin': 17062, 'I Concur': 17063, 'Quack Quack': 17064, 'Oysterband': 17065, 'Instant Species': 17066, 'A Hawk and a Hacksaw': 17067, 'Essie Jain': 17068, 'Pifco': 17069, 'Random Number': 17070, 'Galitza': 17071, 'Nic Jones': 17072, 'Samsa': 17073, 'Chacda': 17074, 'Dolly Rockers': 17077, \"Ode à l'Acadie\": 17078, 'Michel Legrand': 17079, 'Haylie Duff': 17080, 'Enrique Guzmán': 17081, 'Angélica María': 17082, 'La Bien Querida': 17083, 'OBK': 17084, 'Los Locos del Ritmo': 17085, 'Sarah Brightman/London Symphony Orchestra': 17086, 'Sandoval': 17087, 'Monna Bell': 17088, 'Leonardo de Lozanne': 17089, 'Los Cinco Latinos': 17090, 'Jucifer': 17091, 'AiDS-3D': 17092, 'Kisses': 17093, 'Cursed': 17094, 'محمد منير': 17095, 'Hasan Dursun': 17096, 'Abu Ali': 17097, 'ميس شلش': 17098, 'Grup Yeniçağ': 17099, 'Imad Al-Sharif': 17100, 'Talib al-Habib': 17101, 'Abu Ali & Abu Abdul Maalik': 17102, 'SufiTrance': 17103, 'Ibrahim Jibreen': 17104, 'Houria Aïchi': 17105, 'grup genç': 17106, 'Ahmet Çalışır': 17107, 'Yusuf Islam': 17108, 'Osman Murat Tuğsuz': 17109, 'Shabnam Majid': 17110, 'Mustafa Demirci & Murat Necipoğlu': 17111, 'DEBU': 17112, 'Maher Zain': 17113, 'Al-Aseef': 17114, \"Hussein al A'dhami\": 17115, 'حسين الاعظمي': 17116, 'Abdullah Rolle': 17117, 'Irfan Makki': 17118, 'Shaam': 17119, 'Nass Marrakech': 17120, 'Djelimady Tounkara': 17121, 'بوب مارلي': 17122, 'Firqat al-Isra': 17123, 'Ottoman Military Band': 17124, 'Sajid Raza Qadri': 17125, 'Hadiqa Kiani': 17126, 'Nusrat Fateh Ali Khan & Party': 17127, 'Sultan Selim III': 17128, 'Noor': 17129, 'Ali Farka Touré and Ry Cooder': 17130, 'Ali Ufki': 17131, 'Serkan Süleymaniye': 17132, 'Habib Koité': 17133, 'عماد الشريف': 17134, 'Turkish Military Band': 17135, 'Buhurizade Mustafa Itri Efendi': 17136, 'Jape': 17137, \"Five O'Clock Heroes\": 17138, 'Under the Influence of Giants': 17139, 'Venus Verse': 17140, 'James Ausfahrt': 17141, 'Infadels': 17142, 'MESKLA': 17143, 'Amanda Morra': 17144, 'Valkyrias': 17145, 'Dolls': 17146, 'Offer Nissim feat. Maya': 17147, 'The Forecast': 17148, \"Ryan's Hope\": 17149, 'The Felix Culpa': 17150, 'Weatherbox': 17151, 'Rivers Cuomo': 17152, 'BFF': 17153, 'Deadpan110': 17154, 'Krautheim': 17155, 'Kilpanda': 17156, 'Nick Lowe': 17157, 'Estradasphere': 17158, 'The Recoys': 17159, 'Russ Crandall': 17160, 'Hot Feeler': 17161, 'R.U.D.E.': 17162, 'Water Charger': 17163, 'Jupiter': 17164, 'Fizzgig': 17165, 'The Knack': 17166, 'The Management': 17167, 'Gosling': 17168, '(Pre) Kingdom': 17169, 'Kalson': 17170, 'Val. P': 17171, 'Fake Drugs': 17172, 'V8': 17173, 'Hermética': 17174, 'Almafuerte': 17175, 'Logos': 17176, \"O'Connor\": 17177, 'Malón': 17178, 'Horcas': 17179, 'Hashisheen': 17180, 'Micah P. Hinson': 17181, 'The Ex': 17182, 'Pez': 17183, 'Rocky Votolato': 17184, 'El Eterno Enemigo': 17185, 'Phoenix Bodies': 17186, 'Unbroken': 17187, 'Turning Point': 17188, 'dälek': 17189, 'Hakim Bey': 17190, 'Ekkaia': 17191, 'АЁ КампаниЯ': 17192, 'Иезекииль 25:17': 17193, 'ТГК': 17194, 'ГРОТ': 17195, 'Сегодняночью': 17196, 'Loquat': 17197, 'Tres Coronas': 17198, 'The Builders and the Butchers': 17199, 'Starkey': 17200, 'Cops on Fire': 17201, 'Hektagon': 17202, '501': 17203, 'Freedom for Justice': 17204, 'Bill Ferguson': 17205, 'Kelly Clarkson by www.superalbuns.blogspot.com': 17206, 'Michael': 17207, 'Southside Johnny & The Asbury Jukes': 17208, 'Patti Scialfa': 17209, 'Lumbre': 17210, 'The Troggs': 17211, 'Zeplin': 17212, 'The Married Monk': 17213, 'Peter Green Splinter Group': 17214, 'Firefall': 17215, 'Boban Marković Orkestar': 17216, 'Chicken Shack': 17217, 'Bruce Springsteen & The E Street Band': 17218, 'Dale Sumner': 17219, 'Greg Porée': 17220, 'Tunturia': 17221, 'Richard': 17222, 'Atlanta Rhythm Section': 17223, 'UZCA': 17224, 'Stab': 17225, 'Tolerância Zero': 17226, 'Angelzoom': 17227, 'Nasty Taste': 17228, 'Skuba': 17229, 'Exilia': 17230, 'Cidade Negra': 17231, 'Knuckledust': 17232, 'Oomph! - Defekt (1995)': 17233, 'Sworn II Silence': 17234, 'Guy Wolford - MuteHarmony -': 17235, 'God Lives Underwater': 17236, 'Stephen King': 17237, 'Gary Puckett & The Union Gap': 17238, 'Funbox': 17239, 'Тени Свободы': 17240, 'Смех': 17241, 'F.P.G.': 17242, 'Марки': 17243, 'Agitators': 17244, 'Ben Gann': 17245, 'radio ЧАЧА': 17246, 'Три 15': 17247, 'None More Black': 17248, 'Love Equals Death': 17249, 'The Sainte Catherines': 17250, 'Smoke or Fire': 17251, 'ППП': 17252, 'The Silencers': 17253, 'Western Addiction': 17254, 'КаZинаки': 17255, 'Distemper': 17256, 'HorseRadish': 17257, 'Downfall': 17258, 'Электрические Партизаны': 17259, 'Lars Fredrikson and Tim Armstrong': 17260, 'Тараканы! feat. Сергей Михалок': 17261, 'Buccaneer': 17262, 'Avail': 17263, 'Bracket': 17264, 'Devils Brigade': 17265, 'Nocturnal': 17266, 'Lustra': 17267, 'ПОРТ(812)': 17268, 'Четыре таракана': 17269, 'Dream Theater & Bruce Dickinson': 17270, 'Bruce Dickinson & Montserrat Cabelle': 17271, 'Carlos Santana & Alice Coltrane': 17272, 'C.A.L.M.': 17273, 'Excess Pressure': 17274, 'Mohicans': 17275, 'Brulé': 17276, 'Sacred Spirit Drums': 17277, 'Native American': 17278, 'Athena': 17279, 'Leon Ware': 17280, 'Samantha Fox': 17281, 'Rasheeda': 17283, 'Remy Ma': 17284, 'Trina': 17285, 'Shawnna': 17286, 'The Big Cats': 17287, 'The Naked Brothers Band': 17288, '1997': 17289, 'Rey Gordiflon': 17290, 'Jau': 17291, 'Exaltasamba - www.sopagode10.net': 17292, 'Tom Novy': 17293, 'Sixtoo': 17294, 'Redshape': 17295, 'Plastikman': 17296, 'Caural': 17297, 'Keak Da Sneak': 17298, 'Sian': 17299, 'Samon Kawamura': 17300, 'Spirit Agent': 17301, 'Ras G & The Afrikan Space Program': 17302, 'fLako x Noir': 17303, 'Rivulets': 17304, 'Barzin': 17305, 'The Boy Least Likely To': 17306, 'Mineral': 17307, 'Woodworkings': 17313, 'Autolux': 17320, 'Shadow of the Colossus': 17321, 'DS-13': 17322, 'Le TURF': 17323, 'Autodrone': 17324, 'Stephen Lynch': 17326, 'Cała Góra Barwinków': 17327, 'Andrzej Zaucha': 17328, 'T-Raperzy znad Wisły': 17329, 'Percy Faith': 17330, 'Jesus Jones': 17331, 'Boy Meets Girl': 17332, 'Hamza El Din': 17333, 'Oriental Breakbeats': 17334, 'Gnawa Njoum Experience': 17335, 'Abdelli': 17336, 'Nomad SoundSystem': 17337, 'Hassan Hakmoun': 17338, 'Majid Bekkas': 17339, 'Anouar Brahem': 17340, 'Bachir Attar': 17341, 'Chalf Hassan': 17342, 'Jomed': 17343, 'nass el ghiwane': 17344, 'Ahmed Abdul-Malik': 17345, 'Ensemble Kaboul': 17346, 'Radio Tarifa': 17347, 'Black Star Liner': 17348, 'Issa Bagayogo': 17349, 'Soap Kills': 17350, 'Panjabi MC': 17351, 'Ethnic Music Classics: 1925-48': 17352, 'Ahmed Abdul-Malik, Lee Morgan, Johnny Griffin, Benny Golson': 17353, 'Hassan Hakmoun & Adam Rudolph': 17354, '08001': 17355, 'Hasna El Becharia': 17356, 'Hoba Hoba Spirit': 17357, 'Cherifa': 17358, 'Nabyla Maan': 17359, 'Warda': 17360, 'Justin Adams': 17361, 'Cheb Zergui': 17362, 'Badawi': 17363, 'Aicha Redouane': 17364, 'Susheela Raman': 17365, 'Bedouin Ascent': 17366, 'Putumayo': 17367, 'Hassan Erraji': 17368, 'Soapkills': 17369, 'hedi habouba': 17370, 'Dahmane El Harrachi': 17371, 'Н.О.М.': 17372, 'Soundpool': 17373, 'An April March': 17374, 'Chantal Goya': 17375, 'Vitesse': 17376, 'Good Weather for an Airstrike': 17379, 'The Echelon Effect': 17380, 'Inachus': 17381, 'sleepless dreams': 17382, 'Evolv': 17383, 'Oathless': 17384, 'puffin on my side': 17385, '...And The Earth Swarmed With Them': 17386, 'A Lily': 17387, 'Finneyerkes': 17388, 'AMMAN/JOSH': 17389, 'Circadian Eyes': 17390, 'Fluctuations': 17391, 'Anna Rose Carter': 17392, 'm e m ó r': 17393, 'Michael Ashford': 17394, 'Invisible Elephant': 17395, 'Act': 17398, 'Wolverine': 17399, 'Allen-Lande': 17400, 'Pin-Up Went Down': 17401, 'regsgnep': 17402, 'Pathosray': 17403, 'Quintorigo': 17404, 'Frost': 17405, 'rEarth': 17406, 'Timoria': 17407, 'Fabio Concato': 17408, 'Pallas': 17409, 'Quella Mezza Sporca Dozzina': 17410, 'Vatnajökull': 17411, 'Alaska': 17412, 'Виноградный День': 17413, 'Булат Окуджава': 17414, 'Polska': 17415, 'Obba Supa': 17416, 'Gordon Hempton': 17417, 'Gregor Narholz': 17418, 'Clockwork Times': 17419, 'РЖБ': 17420, 'specta ciera': 17421, 'Voder': 17422, 'Patrick Lee': 17423, 'Vanilla Ice': 17424, 'ST1M': 17425, 'ST': 17426, 'Сэт': 17427, 'Vanich (Military Clan)': 17428, 'Tim Dog': 17429, 'Грозный': 17430, 'NTL': 17431, 'Пост Мортем': 17432, 'Тимати': 17433, 'D.masta': 17434, 'V-Style': 17435, 'Timati': 17436, 'MC Hammer': 17437, 'Aphrodite': 17438, 'mujuice + dzhem': 17439, 'Михаил Пилявский': 17440, 'Dooq': 17441, 'Dj Zabelin': 17442, 'Vend': 17443, 'Plastik Joy': 17444, 'Rasmus': 17445, 'DJ Zahar': 17446, 'Nikita Zabelin': 17447, 'Jacaszek & Miłka': 17448, 'Black Track': 17449, 'Sloe Texture': 17450, 'Cleanscreen': 17451, 'David Vade': 17452, 'Многоточие': 17453, 'Mikra': 17454, 'DJ Gvozd': 17455, 'Iambic²': 17456, 'Melorman': 17457, 'Clickits': 17458, 'Orgatanatos': 17459, 'Infinite Scale': 17460, 'Kearley': 17461, 'Zerostation': 17462, \"Boppin' B\": 17463, 'Empty Trash': 17464, 'Matt Lewis Band': 17465, 'Soul is You': 17466, 'Bluesoul Pharmacy': 17467, 'K-Precise': 17468, 'Amberly Thiessen': 17469, 'Jacki-O': 17470, '원더걸스': 17471, '平井堅': 17472, 'Lovedrug': 17473, 'The Prize Fighter Inferno': 17474, 'Bachelors Of Science': 17475, 'Of The Fallen': 17476, 'Devon Werkheiser': 17477, 'Secret Affair': 17478, '王力宏': 17481, '天野月子': 17482, 'sifow': 17483, 'Mink': 17484, '平野綾': 17485, 'Erika': 17486, '椎名林檎×斎藤ネコ': 17487, 'moumoon': 17488, 'V.V. Brown': 17489, 'Melissa Etheridge': 17490, 'Glen Phillips with Nickel Creek': 17491, 'Glen Phillips': 17492, 'The Watchmen': 17493, 'Big Sugar': 17494, 'The Duhks': 17495, 'Wild Strawberries': 17496, 'Mutual Admiration Society': 17497, 'Shawn Colvin': 17498, 'Jill Barber': 17499, 'Lyle Lovett': 17500, 'Prototypes': 17501, 'charlyne yi': 17502, 'Lavender Diamond': 17503, 'Helium': 17504, 'Momus': 17505, 'King Khan & The Shrines': 17506, 'Matt Braunger and Matt Dwyer': 17507, 'The Rurals': 17508, 'Glenn Underground': 17509, 'Kevin Yost': 17510, 'Crazy Penis': 17511, 'Sister Sledge': 17512, 'Ron Trent': 17513, 'Larry Heard': 17514, 'Soul II Soul': 17515, 'Gloria Gaynor': 17516, 'Melba Moore': 17517, 'Future Engineers': 17518, 'Rick Wade': 17519, 'Vince Watson': 17520, 'Johnny Hammond': 17521, 'Roberta Flack': 17522, 'Alton Miller': 17523, 'Ian Pooley': 17524, 'Herbert': 17525, 'Willie Hutch': 17526, 'Roy Davis Jr.': 17527, 'The Trammps': 17528, 'Dubtribe Sound System': 17529, 'Ananda Project': 17530, 'Mateo & Matos': 17531, 'Pitty - www.download.mus.br': 17532, 'Matthew Duffy': 17533, 'Mordida': 17534, 'Rosie and Me': 17535, 'Wander Wildner': 17536, 'Charme Chulo': 17537, 'Torcida Independente': 17538, 'Giovanni Caruso e o Escambau': 17539, 'HollywoodsFinest': 17540, 'Favorite': 17541, 'JAW': 17542, 'Bass Sultan Hengzt': 17543, 'Telly Tellz': 17544, 'Berlins Most Wanted': 17545, 'Celo & Abdi': 17546, 'Sonny Black & Saad': 17547, 'Snaga Und Fard': 17548, 'Godsilla': 17549, 'Snaga & Pillath': 17550, 'Frank White und Godsilla': 17551, 'Tha Realest': 17552, 'Favorite & Hollywood Hank': 17553, 'UniKKatiL': 17554, 'Eko Fresh': 17555, 'Warheit': 17556, 'Automatikk': 17557, 'JAW und Hollywood Hank': 17558, 'Nyze': 17559, 'Archie Powell & The Exports': 17562, 'Paul Westerberg': 17563, 'John Hiatt': 17564, 'Don Dixon': 17565, 'Grand Champeen': 17566, 'Rhett Miller': 17567, 'Tommy Keene': 17568, 'Lisa Taylor': 17569, 'The Beat Farmers': 17570, 'Amanda Lear': 17571, 'Mirko Oberto': 17572, 'Princess Sarah': 17573, 'Marin': 17574, 'chubby fingers': 17575, 'Misstress Barbara': 17576, 'Dirty Vegas': 17577, 'Nightriders': 17578, 'Mirko Oberto feat. Amanda Lear': 17579, 'Zowie': 17580, 'Escort': 17581, 'Dirt Club': 17582, 'Human Life': 17583, 'Chelonis R. Jones': 17584, \"Velvet d'amour\": 17585, 'Selambé': 17586, 'Lay Low': 17587, 'Chris Bondy': 17588, 'Violens': 17589, 'Chali 2na': 17605, 'Raphael Saadiq': 17606, 'Romeo i Julia': 17607, 'Pezet&Małolat': 17608, 'Guy Sebastian': 17609, 'Projekt Ostry Emade': 17610, 'Sobota': 17611, 'Mutya Buena': 17612, 'Stuart Newman': 17613, 'Ray Romano': 17614, 'Bill Cosby': 17615, 'Richard Pryor': 17616, 'Matt Skiba': 17617, 'Pablo Francisco': 17618, 'The Paddingtons': 17619, 'Charlee': 17620, 'Christopher Wilde.': 17621, 'Silent Hill': 17622, 'The Groove Farm': 17623, 'Cubismo Grafico': 17624, 'El Chojin': 17625, 'Jacqueline du Pré': 17626, 'Oren Lavie': 17627, 'Bersuit Vergarabat': 17628, 'Akwid': 17629, 'Eisregen': 17630, 'As We Fight': 17631, 'Kaleidoscope': 17632, 'Silence Dead': 17633, 'Decoder': 17634, 'Everyone Dies in Utah': 17635, 'Swarms': 17636, 'Solex': 17637, 'Trost': 17638, 'Cobra Killer': 17639, 'Sing-Sing': 17640, 'Dot Allison': 17641, 'Mancini': 17642, 'Eartha Kitt': 17644, 'Dalida': 17645, 'Liza Minnelli': 17646, 'Semiramis Pekkan': 17647, 'Petula Clark': 17648, 'Bülent Ersoy': 17649, 'Michelle Pfeiffer': 17650, 'Stephen Trask': 17651, 'Sammy Hagar': 17652, 'PENICILLIN': 17653, 'ｂｏｒｎ': 17654, 'ＶａｎｅｓｓＡ': 17655, 'BAELSCOPE': 17656, 'Matenrou Opera': 17657, 'サディ': 17658, 'ｍａｃｈｉｎｅ': 17659, 'ダリ': 17660, 'An Cafe': 17661, 'ヴァルナ': 17662, 'DOGinTheパラレルワールドオーケストラ': 17663, 'ダウナー': 17664, 'Nano': 17665, 'Duel Jewel': 17666, 'Gothika': 17667, 'And': 17668, 'V-last.': 17669, 'Dear Bitch': 17670, 'Maverick': 17671, 'ハートレス': 17672, 'トゥーン工場': 17673, 'The LEGENDARY SIX NINE': 17674, 'Lc5': 17675, 'as.milk': 17676, 'ブローディア': 17677, 'ｂｏｏｇｉｅｍａｎ': 17678, 'ＰＥＲＥＳＴＲＯＩＫＡ': 17679, 'ＲＥＤ': 17680, 'Envus': 17681, 'アンデット': 17682, 'Hi:BRiD': 17683, 'ダリス': 17684, 'Two Hours Traffic': 17685, 'Dj V.ReetMix - ES 6 / 12. Yolanda Be Cool & DCUP': 17686, 'Pariah': 17687, 'Секрет': 17688, 'Berndsen': 17689, 'Bongwater': 17699, 'Mark Thomas': 17700, 'Flanders and Swann': 17701, 'Pop Will Eat Itself': 17702, 'Esplendor Geométrico': 17703, 'Sonar': 17704, 'Douglas Adams': 17705, 'Cassetteboy': 17706, 'Hybryds': 17707, 'The Sidewinder': 17708, 'Patrick Jones': 17709, 'Skinnyman': 17710, 'Synth-Etik': 17711, '松浦亜弥': 17712, '北出菜奈': 17713, 'メロン記念日': 17714, '茅原実里': 17715, '月島きらり starring 久住小春(モーニング娘。)': 17716, '美勇伝': 17717, '矢井田瞳': 17718, 'Miz': 17719, '堀江由衣': 17720, '安倍なつみ': 17721, '高橋瞳': 17722, '中澤裕子': 17723, 'ハロー！プロジェクト': 17724, 'キャナァーリ倶楽部': 17725, '福井舞': 17726, '藤本美貴': 17727, 'Елена': 17728, 'Емануела': 17729, 'Benassi Bros.': 17730, 'Velotroz': 17731, 'Marcelo Camelo & Mallu Magalhães': 17732, 'Pullovers': 17733, 'Ronei Jorge e os Ladrões de Bicicleta': 17734, 'PS I Love You': 17735, 'Glen Hansard': 17736, 'Chá de Abu': 17737, 'Sad King': 17738, 'Rodrigo Amarante & Fernanda Takai': 17739, 'College 11': 17740, 'Claudia Albuquerque': 17741, 'Honest Bob and the Factory-to-Dealer Incentives': 17742, 'Ocarina of Time': 17743, 'Said the Whale': 17744, \"Yoshi's Story\": 17745, 'Cities Fall': 17746, 'Moonlight Ransom': 17747, 'Aranté Spires': 17748, 'Talek R. Julian': 17749, 'Evil Dead Original Off-Broadway Cast': 17750, 'legend of zelda': 17751, 'Celestial Aeon Project': 17752, 'エンジェル隊': 17753, 'MOSAIC.WAV': 17754, 'supercell feat. 初音ミク': 17755, 'MOSAIC.WAV×鶴田加茂': 17756, 'ave;new': 17757, 'Wulfgang Amadeus Mozart': 17758, 'Yuko Goto': 17759, 'TeddyLoid': 17760, 'ランカ・リー＝中島愛': 17761, 'TCY Force': 17762, 'フェイト・テスタロッサ': 17763, 'Ranka Lee': 17764, '八神\\u3000はやて': 17765, 'Johann Pachelbel': 17766, 'hoshina anniversary': 17767, 'シェリル・ノーム': 17768, 'BRAHMS': 17769, \"Tamura Yukari, Nana Mizuki and Nanoha A's Seiyuu\": 17770, 'Hiroaki Sano': 17771, 'Iwasaki Tarou': 17772, 'Sheryl Nome / Ranka Lee': 17773, 'Kuwatani Natsuko': 17774, 'Sheryl Nome': 17775, '高町\\u3000なのは\\u3000（田村\\u3000ゆかり）': 17776, 'Faunts': 17783, 'Bellize': 17786, 'Faber Drive': 17787, 'The All American Rejects': 17788, 'To Tell': 17789, 'Plus 44': 17790, 'Neverstore': 17791, 'The Beatmasters': 17792, 'Tin Tin Out': 17793, 'Betty Boo': 17794, 'The Surf Coasters': 17795, 'Data 80': 17796, '松尾清憲': 17797, 'Les Rythmes Digitales': 17798, \"S'Express\": 17799, 'Family Fantastic': 17800, 'The Other Two': 17801, 'Urban Dance Squad': 17802, 'Sophie Rimheden': 17803, 'Eskimo Disco': 17804, 'Huski': 17805, '大沢誉志幸': 17806, 'つじあやの': 17807, 'Daniel Boaventura': 17811, 'DragonHeart': 17812, 'Malefactor': 17813, 'Exxótica': 17814, 'Tardy Brothers': 17815, 'Os Catalépticos': 17816, 'Gangrena Gasosa': 17817, 'Sick Sick Sinners': 17818, 'Rik': 17833, 'Moya Brennan': 17834, 'Angy': 17835, 'Diego': 17836, 'Dj Flex ( Nigga ) Ft. Belinda': 17837, 'Nigga Ft. Belinda': 17838, 'Charlie Straight': 17839, 'Vypsaná fiXa': 17840, 'Larrikin Love': 17841, 'AirFare': 17842, 'Xindl X': 17843, 'Xavier Baumaxa': 17844, 'Chaozz': 17845, 'Piebald': 17846, 'Paul Baribeau': 17847, 'Hot Pink Karma': 17848, 'Harvey Danger': 17849, 'J Roddy Walston and The Business': 17850, 'Nico Vega': 17851, 'Johnny Hobo and the Freight Trains': 17852, 'jt royster': 17853, 'The Charade': 17854, 'The Botticellis': 17855, 'Alessandra Leão': 17856, 'Tyrone Wells': 17865, 'Gregory Alan Isakov': 17866, 'Grimes': 17867, 'Juels': 17868, 'sean nicholas savage': 17869, 'DM Stith': 17870, \"Five O'Clock People\": 17871, 'Blue Merle': 17872, 'The Mary Onettes': 17873, 'fops': 17874, 'Newsboys': 17875, 'The A-Sides': 17876, 'Wolftron': 17877, '木村カエラ': 17878, 'Briskeby': 17879, 'DREAMS COME TRUE': 17880, '元ちとせ': 17881, '氷室京介': 17882, 'Corey Smith': 17883, 'Brantley Gilbert': 17884, 'Images in Vogue': 17885, 'Five Star Fall': 17886, 'Martha and the Muffins': 17887, 'Amphibious Assault': 17888, 'The Diodes': 17889, 'Blue Peter': 17890, 'Caco van Hollanda': 17891, 'American Stronda': 17892, 'Hey Rosetta!': 17898, 'Day26': 17899, 'PENS': 17900, 'Kenickie': 17901, 'Bolt Action Five': 17902, 'Chromatics': 17903, 'CFCF': 17904, 'Suburban Lawns': 17905, 'Spearmint': 17906, 'Life Without Buildings': 17907, 'Die! Die! Die!': 17908, 'Thunderbirds Are Now!': 17909, 'Colder': 17910, 'Leo Laporte': 17911, 'Jessie Baylin': 17912, 'Quentin Elias': 17913, 'Sean Ensign': 17914, 'Nu Jerzey Devil': 17915, 'Saez': 17916, 'Elista': 17917, 'Loaded': 17925, 'Fashawn': 17926, 'Termanology': 17927, 'Rhymefest': 17928, 'Crooked I': 17929, 'Joell Ortiz': 17930, 'Pill': 17931, 'Zwan': 17934, 'Sabertooth Zombie': 17935, 'Ghostlimb': 17936, 'Dangers': 17937, 'Lewd Acts': 17938, 'Straight Ahead': 17939, 'Graf Orlock': 17940, 'Shipwreck A.D.': 17941, 'Colin of Arabia': 17942, 'XFilesX': 17943, 'Mind Eraser': 17944, 'Reign Supreme': 17945, 'Sinking Ships': 17946, 'Comadre': 17947, 'Witch Hunt': 17948, 'Ten Yard Fight': 17949, 'Bracewar': 17950, 'Killing the Dream': 17951, 'Betrayed': 17952, 'The Number Twelve Looks Like You': 17953, 'Tipper': 17954, 'WWW': 17955, 'The Herbaliser': 17956, '-123 min.': 17957, 'Radioactivo': 17958, 'マキシマム ザ ホルモン': 17959, 'Underground Resistance': 17960, '2562': 17961, 'Alva Noto + Ryuichi Sakamoto': 17962, 'Nortec Collective Fussible/Nortec Collective Bostich': 17963, 'Andy Stott': 17964, 'Alexander Robotnick': 17965, 'Anthony Shakir': 17966, 'Frivolous': 17967, 'Burnt Friedman & Jaki Liebezeit': 17968, 'Prins Thomas': 17969, 'Agoria': 17970, 'Nacho Patrol': 17971, 'Drexciya': 17972, 'Model 500': 17973, 'Guillamino': 17974, 'Dick El Demasiado': 17975, 'Lokai': 17976, 'The Detroit Experiment': 17977, 'Inti-Illimani': 17978, 'Karmate': 17979, 'Ida': 17980, 'Mercan Dede': 17981, 'Aynur Doğan': 17982, 'Brenna MacCrimmon': 17983, 'Fatima Spar und die Freedom Fries': 17984, 'Amparanoia': 17985, 'Sonbahar Film Müzikleri': 17986, 'El Robot Bajo El Agua': 17987, 'Fryderyk Chopin': 17988, 'El mató a un Policía Motorizado': 17989, 'Riceboy Sleeps': 17990, 'Kane Roberts': 17991, 'Aldo Nova': 17992, 'Sabrina Washington': 17993, 'Abhaya & the Steam Injuns': 17994, 'Astha Tamang Maskey': 17995, 'Narayan Gopal': 17996, 'Nepathya': 17997, 'Kutumba': 17998, 'Ghulam Ali': 17999, '1974 AD': 18000, 'www.songs.pk': 18001, 'The 88': 18002, '1SaGain': 18003, 'Turn': 18004, 'Eminence Symphony Orchestra': 18005, 'AZU': 18006, 'Suemitsu & THE Suemith': 18007, 'Magnet': 18008, 'Kubb': 18009, 'Oliver Shanti': 18010, 'July Skies': 18011, 'Broken Fist': 18012, 'Enjoy Your Summer': 18013, 'James Oclahoma': 18014, 'Xtuna': 18015, 'Braia': 18022, 'Salon Niezależnych': 18023, 'Artur Andrus': 18024, 'M. Zebaty J. Janczarski': 18025, 'Adanowsky': 18026, 'Radio Silence': 18027, 'Rhythm of Mankind & Nature': 18028, 'Triangle Sun': 18029, 'Homeless Balloon': 18030, 'Alexander V.Mogilco': 18031, 'Origen': 18032, 'The Nexion-Project': 18033, 'Iloyd': 18034, 'Gary B': 18035, 'Deep Enfant': 18036, 'B-Tribe': 18037, 'Blue Stone': 18038, 'Rue du Soleil': 18039, 'Green Sun': 18040, 'Tristeria': 18041, \"The Wimshurst's Machine\": 18042, 'Daniel Masson': 18043, 'Jason Edward Dudley': 18044, 'Alan Steward': 18045, 'Reunited': 18046, 'Aonua': 18047, 'Alejandro de Pinedo': 18048, 'dJ mAx dReamer': 18049, 'Paul Schwartz': 18050, 'Koru': 18051, 'Mythos': 18052, 'Deva Premal': 18053, 'Endless Blue': 18054, 'Temple Scene': 18055, 'Michael Hornstein': 18056, 'Ismeretlen előadó': 18057, 'Jens Gad': 18058, 'YPEY': 18059, 'Sway': 18060, 'Meth, Ghost & Rae': 18061, 'DJ Premier': 18062, 'Blaq Poet': 18063, 'KRS-One': 18064, 'Rock of Heltah Skeltah': 18065, '9th Wonder & Buckshot': 18066, 'Goldie': 18067, 'Tunnelvison': 18068, 'KRS-One & Marley Marl': 18069, 'Marco Polo & Ruste Juxx': 18070, 'The Bug': 18071, 'Juggaknots': 18072, 'Goodie Mob': 18073, 'Twitch The Ripper': 18074, 'Dert Floyd': 18075, 'YOB': 18076, 'Swallow the Sun': 18077, 'Jason Collett': 18078, 'Thrush Hermit': 18079, 'Dan Mangan': 18080, 'Wintersleep': 18081, 'Amy Millan': 18082, 'Aura': 18083, 'Forest City Lovers': 18084, 'The Hot Toddies': 18085, 'Parts & Labor': 18086, 'You Say Party! We Say Die!': 18087, 'Hannah Georgas': 18088, 'Vinnie Who': 18089, 'Rosario Bléfari': 18090, 'Clã': 18091, 'The Free Association': 18092, '“V–е': 18093, 'Deuter': 18094, 'Halves': 18095, 'DeaDKeDы': 18096, 'Ёлка': 18097, 'MIDIMarc': 18098, 'Mick Boogie & Terry Urban': 18099, '4chan': 18100, 'Swishahouse & DJ Michael 5000 Watts': 18101, 'DVDA': 18102, 'DJ Screw': 18103, 'Square Enix': 18104, 'Chalie Boy': 18105, 'Ramon Ayala Y Los Bravos Del Norte': 18106, 'Beto Quintanilla': 18107, 'Trae': 18108, 'Mindthings': 18109, 'Rakim Y Ken-Y': 18110, 'Z-Ro': 18111, 'Big Mike': 18112, 'Los Cadetes de Linares': 18113, 'The Post-Modern Cliche': 18114, 'Zion y Lennox': 18115, 'The Beatles with Billy Preston': 18116, 'Scott McKenzie': 18117, 'Mypollux': 18118, \"Life's Decay\": 18119, 'Cidadão Instigado': 18120, 'Rytmus': 18121, 'Kontrafakt': 18122, 'Gyurcsány Feree és a Mardel': 18123, 'Sqad Up, Lil Wayne': 18124, 'After One': 18125, 'H16': 18126, 'FankaDeli': 18127, 'Majka': 18128, 'Andreea Banica': 18129, 'Three 6 Mafia feat. Flo Rida, Sean Kingston & Tiësto': 18130, 'Ida Corr vs. Fedde Le Grand': 18131, 'Mr.Busta': 18132, 'Boyz N Da Hood': 18133, '\\\\Eminem f_ Rihanna': 18134, 'Arkaea': 18135, \"Mutha's Day Out\": 18136, 'Superjoint Ritual': 18137, 'Stray': 18145, 'NGC 1365': 18146, 'Anonymous 4': 18147, 'Death Panel': 18148, 'Acidwolf': 18149, 'Erica Dunham': 18150, 'Unai': 18151, 'Little People': 18152, 'Bartel': 18153, 'Plastic Operator': 18154, 'Enface': 18155, 'Нэнси': 18156, 'ГDР': 18157, 'Laurie Anderson': 18158, 'Eivind Aarset': 18159, 'Arve Henriksen': 18160, 'Stian Westerhus': 18161, 'PUMA': 18162, 'John Abercrombie': 18163, 'Bjornstad, Darling, Rypdal & Christensen': 18164, 'Dorian Concept': 18165, 'Iannis Xenakis': 18166, 'Serdar Ateser': 18167, 'Othin Spake': 18168, 'Sidsel Endresen & Bugge Wesseltoft': 18169, 'Wibutee': 18170, 'Avishai Cohen': 18171, 'Steve Coleman and Five Elements': 18172, 'Kurt Rosenwinkel': 18173, 'Ursula Rucker': 18174, 'Terje Rypdal': 18175, \"Nik Bärtsch's Ronin\": 18176, 'Arild Andersen Group': 18177, 'Brian Eno & Jah Wobble': 18178, 'The Mount Fuji Doomjazz Corporation': 18179, 'Håkon Kornstad': 18180, 'Brian Eno & J. Peter Schwalm': 18181, 'Eberhard Weber': 18182, 'Live Maria Roggen': 18183, 'Jon Hassell': 18184, 'Kissey Asplund': 18185, 'Jan Bang': 18186, 'Monoceros': 18187, 'Nikakoi': 18188, 'Audiokonstrukte': 18189, 'Danny Bow': 18190, 'sayCeT': 18191, 'Grandma': 18192, 'Cex': 18193, 'buried|cable': 18194, 'Yarema': 18195, 'YVAT': 18196, 'РАДИОПРОЕКТОР': 18197, 'Noon': 18198, 'Acumen': 18199, 'Thorshji': 18200, 'Karsten Pflum': 18201, 'Spoonbill': 18202, 'flood feelings': 18203, 'Speaka': 18204, 'Pig Destroyer': 18205, 'XXX Maniak': 18206, 'Weakness': 18207, 'Rocco DeLuca & The Burden': 18208, 'Sonya Kitchell': 18209, 'Justin Young': 18210, 'Straight No Chaser': 18211, 'Vincent Van Go Go': 18212, 'Hush': 18213, 'Soular': 18214, 'The Commitments': 18215, 'Northern State': 18216, 'Друга Ріка': 18223, 'Time Bandits': 18224, 'Al Stewart': 18225, 'Fra Lippo Lippi': 18226, 'STS9': 18227, 'lulz': 18228, 'VFSix': 18229, 'VFSix feat. Pat Appleton': 18230, 'Angela McCluskey': 18231, 'THEreminGIRL': 18232, 'Roebeck': 18233, 'Lendi Vexer': 18234, 'VFSix feat. S.C.E.': 18235, 'Lost Balance': 18236, 'Harland': 18237, 'Zhong Chi': 18238, 'Monsieur Cheu': 18239, '钟茌 Zhongchi': 18240, 'SK123': 18241, 'Mescalito': 18242, 'Lovespirals': 18243, 'LA COCHINA': 18244, 'The Silk Demise': 18245, 'Öökülm': 18246, 'Emir Bey': 18247, 'Subsollo': 18248, 'bassment': 18249, 'Dan Griober': 18250, 'Solasoap': 18251, 'Quantifier': 18252, 'Sunday Munich': 18253, 'Savino': 18254, \"NEL's\": 18255, 'BO$$ in drama': 18256, 'Xerox & Illumination': 18257, 'New Rave Kids On The Block': 18258, 'MC Gi': 18259, 'Gorump Peyya': 18260, 'Gameboy/Gamegirl': 18261, 'Designer Drugs': 18262, 'Kaci Battaglia': 18263, 'Christa Black': 18264, 'Heloísa Rosa': 18265, 'The Real Efforts Of Real People': 18266, 'Sara Groves': 18267, 'Joel & Luke': 18268, 'Lucas Souza Banda': 18269, 'Agnes Carlsson': 18270, 'The Age of Information': 18271, 'Jorge e Mateus Ao Vivo Goiania': 18272, 'Virginia Nunes': 18273, 'Victoria Justice and Simon Curtis': 18274, 'Shake It Up': 18275, 'House MD': 18276, 'Lindsay Lohan/Lindsay Lohan/Lindsay Lohan/Lindsay Lohan/Lindsay Lohan': 18277, 'Love Generation': 18278, 'Jamie Lynn Spears': 18279, 'Fabrizio Moro': 18280, 'The Departure': 18281, 'Shannon': 18282, 'Expose': 18283, 'Company B': 18284, 'Safire': 18285, 'The Cover Girls': 18286, 'Noel': 18287, 'Technotronic': 18288, 'Freestyle Project': 18289, 'Fun Fun': 18290, 'Fascination': 18291, 'DJ Elkin': 18292, 'Manuella': 18293, 'Monet': 18294, 'Freeez': 18295, 'Pretty Poison': 18296, 'Peter Schilling': 18297, 'TKA': 18298, 'Hashim': 18299, 'Ken Laszlo': 18300, 'Cynthia': 18301, 'Freestyle': 18302, 'Prāta vētra': 18303, 'Brandon Heath': 18305, 'Satellites & Sirens': 18306, 'Me In Motion': 18307, 'Μύρωνας Στρατής': 18308, 'Josh Wilson': 18309, 'Above The Golden State': 18310, 'Luminate': 18311, 'Sixteen Cities': 18312, 'Anthem Lights': 18313, 'Ensource': 18314, 'Stunt Rock': 18315, 'Nedry': 18316, 'Sovacusa': 18317, \"Vex'd\": 18318, 'Lazyfish + Alexandroid': 18319, 'Lava': 18320, 'Scanners': 18321, 'Astronautas': 18322, 'I Am Arrows': 18323, 'A-Part': 18324, 'Blubell': 18325, 'halil sezai paracıkoğlu': 18326, 'Tymphony': 18327, 'Prem Joshua': 18328, 'Serkan Çağrı': 18329, 'Omar Faruk Tekbilek': 18330, 'Aesthesys': 18331, 'J.Viewz': 18332, 'Halifax Pier': 18333, 'Sarah Michelle Gellar': 18334, 'Jaymay': 18335, 'Arthur Russell': 18336, 'MONDO BOYS': 18337, 'Space Mountain Mix Series': 18338, 'Lee Hazlewood': 18339, 'The Action': 18340, 'Castanets': 18341, 'Jim Sullivan': 18342, \"Flamin' Groovies\": 18343, 'Seth Romatelli and Jonathan Larroquette': 18344, 'Hans-Joachim Roedelius': 18345, 'Tom Verlaine': 18346, 'Sonny & The Sunsets': 18347, 'Chances With Wolves': 18348, 'John Peel Peelenium': 18349, 'Bridget St. John': 18350, 'Taku Sugimoto/Moe Kamura': 18351, 'Alan Tew': 18352, 'Puente Celeste': 18353, 'Anibal Troilo-Roberto Goyeneche': 18354, 'Bola de Nieve': 18355, 'Liliana Herrero': 18356, 'Beatriz Pichi Malén': 18357, 'Jacques Loussier Trio': 18358, 'Alejandro del Prado': 18359, 'Tete Montoliu': 18360, 'Afel Bocoum & Alkibar': 18361, 'Oumou Sangare': 18362, 'Cassandra Wilson': 18363, 'Mamani Keïta': 18364, 'J. Rawls': 18365, 'Hugo Díaz': 18366, 'Jack McManus': 18367, 'Tina Dico': 18368, 'Jordyn Shellhart': 18369, 'Tokyo Rose': 18370, 'Whisper Signal': 18371, \"talons'\": 18372, 'Synchro': 18373, 'Dirty Three': 18374, \"Christopher O'Riley\": 18375, 'Wye Oak': 18376, 'Blue Water White Death': 18377, 'Мертвий Півень': 18378, 'Иисус Христос - Суперзвезда': 18379, 'Ольга Арефьева и Ковчег': 18380, 'Ольга Арефьева': 18381, 'Наив': 18382, 'Peter Nalitch': 18383, 'Захар Май': 18384, 'Разные Люди': 18385, 'Умка': 18386, 'Юта': 18387, 'Olallo Rubio': 18388, 'Santa Hates You': 18389, 'Skold vs. KMFDM': 18390, 'The KLF': 18391, 'Wilbur himself': 18392, 'Daniel Melero': 18393, 'Chillout & Ambient': 18394, 'Norman Brown': 18395, 'David Benoit': 18396, 'Natalie Cole': 18397, 'Richard Elliot': 18398, 'Bob Welch': 18399, 'Stacey Kent': 18400, 'Trey Gunn': 18401, 'Renee Olstead': 18402, 'Dianne Reeves': 18403, 'Euge Groove': 18404, 'Michael Lington': 18405, 'Paul Taylor': 18406, 'Rippingtons': 18407, 'Edvard Grieg': 18408, 'Jeff Kashiwa': 18409, 'Paul Davis': 18410, 'Marc Antoine': 18411, 'Marion Meadows': 18412, 'Linda Eder': 18413, 'Bill Bruford': 18414, 'Amycanbe': 18424, 'Chilli': 18425, 'Stefano Lunardini': 18426, 'Tre Allegri Ragazzi Morti': 18427, 'DJ Trax': 18428, 'Cesare Basile': 18429, 'Calla': 18430, \"Julie's Haircut\": 18431, 'Almamegretta': 18432, 'Steven Severin': 18433, 'Electric Disection': 18434, 'Alexander Brandon': 18435, 'Riz Ortolani': 18436, 'Ray Lynch': 18437, 'Barclay James Harvest': 18438, 'Hot Chocolate': 18439, 'Northern Kings': 18440, 'Tiffany Thornton': 18441, 'The Last Dance': 18442, 'Katzenjammer Kabarett': 18443, 'The Shroud': 18444, 'The Breath of Life': 18445, 'Ego Likeness': 18446, 'Sunshine Blind': 18447, 'Diva Destruction': 18448, 'Ichiko Furukawa, Makoto Tonosu': 18449, 'the Machine in the Garden': 18450, 'Motoi Sakuraba, Hibiki Aoyama': 18451, 'Arabic Songs': 18452, 'Imperia': 18453, 'Alabina': 18454, 'Hakim': 18455, 'Diana Haddad': 18456, 'Beto Vázquez Infinity': 18457, 'Oh Laura': 18458, 'British India': 18459, 'Discobitch': 18460, 'Madonna & Antonio Banderas': 18461, 'Junior Caldera feat. Sophie Ellis Bextor': 18462, 'Christina Aguilera a dúo con Luis Fonsi': 18463, \"Christina Aguilera, Lil' Kim, Mya & Pink\": 18464, 'Mokoma': 18465, 'Iskald': 18466, 'Vreid': 18467, 'Catamenia': 18468, 'Verenpisara': 18469, 'Imperium Dekadenz': 18470, 'Stam1na': 18471, 'Ola Svensson': 18472, 'Stephen Warbeck': 18473, 'Robert Francis': 18511, 'Bakkushan': 18512, 'Bon Iver & St. Vincent': 18513, 'Boy': 18514, 'Hurricane Bells': 18515, 'John James': 18516, 'V Factory': 18517, 'Tagtraum': 18518, 'Chapeau Claque': 18519, 'Saltatio Mortis': 18520, 'Flowing Tears': 18521, 'The Wohlstandskinder': 18522, 'Planlos': 18523, 'Letzte Instanz': 18524, 'No Entry': 18525, 'Black Tequila': 18526, 'Untoten': 18527, 'This or the Apocalypse': 18528, 'House of Heroes': 18529, 'Becoming the Archetype': 18530, 'Tides of Man': 18531, 'So Long Forgotten': 18532, 'The Famine': 18533, 'Culling the Weak': 18534, 'Antestor': 18535, 'Colour Revolt': 18536, 'Halcyon': 18537, 'City In The Sea': 18538, 'Living Sacrifice': 18539, 'I Built The Cross': 18540, 'Returning We Hear the Larks': 18541, 'The Ascendicate': 18542, 'Advent': 18543, 'In the Midst of Lions': 18544, 'On Solid Ground': 18545, 'Psalters': 18546, 'The Crucified': 18547, 'Mandi Perkins': 18548, 'Paper Aeroplanes': 18549, 'Elena': 18550, 'Alex Parks': 18551, 'The Electric Diorama': 18552, 'God Or Julie': 18553, 'Jozeh Luiz': 18554, 'Paper Route': 18555, 'Sentidos Opuestos': 18556, 'Patricia Manterola': 18557, 'Axiz': 18558, 'Archie Star': 18559, 'Angel Taylor': 18560, 'Ronnie Day': 18561, 'Christy': 18562, 'UCLA Random Voices': 18563, 'Anneliese van der Pol': 18564, 'Frantic Flintstones': 18571, \"Skankin' Pickle\": 18572, 'Manacá': 18573, 'Madame Saatan': 18574, 'Anna Tatangelo': 18575, 'Carajo': 18576, '14 Bis': 18577, 'Street Fighter': 18578, 'Ultramen': 18579, 'The King Of Fighters': 18580, 'Ozomatli': 18581, 'Anoop Desai': 18582, 'Hello Hollywood': 18583, 'Bucky Covington': 18584, '電気グルーヴ': 18585, 'totu 2009 DJ-Set all Songs not Mixed': 18586, 'Kruder & Dorfmeister': 18587, 'kaman leung': 18588, 'Portishead + Epigones': 18589, 'Jensemann': 18590, 'White Town': 18591, '高橋幸宏': 18592, 'Pond': 18593, 'Damien Rice & Lisa Hannigan': 18594, 'Solid Space': 18595, 'The Pet Shop Boys': 18599, 'FS': 18600, 'uwe hübner-der deutsche hitmix': 18601, 'The Flirts': 18602, 'Department S': 18603, 'Boehse Onkelz': 18604, 'Johnny Young': 18605, 'Culture Beat': 18606, 'Extrabreit': 18607, 'Michael Mind': 18608, 'Selig': 18609, 'Zombie Nation': 18610, 'sweet cherry fury': 18611, 'mezatrio': 18612, 'The Tetris': 18613, 'Albert Hammond Jr.': 18614, 'YEFFI': 18615, 'Hatcham Social': 18616, 'GENERAL DECAY': 18617, 'School of Emotional Engineering': 18618, 'The Draytones': 18619, 'Disconcerts': 18620, 'Demontré': 18621, 'Pete Hopkins': 18622, 'Doppelganger': 18630, 'The Coffinshakers': 18631, 'Bloody Dead and Sexy': 18632, 'Лунофобия': 18633, 'O. Children': 18634, 'Кожаный мотор': 18635, 'Заражение Крови': 18636, 'The Quakes': 18637, 'Blues Rhythm Section': 18638, 'Brain Police': 18639, 'Tykwer/Klimek/Heil': 18640, 'Franka Potente': 18641, 'Umek': 18642, 'Kayamaré': 18643, 'Grenada': 18644, 'Huey': 18645, 'shaggy and big yard crew': 18646, 'Alice DeeJay': 18647, 'Ramin Djawadi And The RZA': 18648, 'Brownpunk': 18649, 'Gregor Tresher': 18650, 'Instituto e Irina Gatsalova': 18651, 'Consiência e Raiz': 18652, 'Ana Flávia': 18653, 'Sasha & John Digweed': 18654, 'Stealers Wheel': 18655, 'Blackfoot': 18656, 'Jokke & Valentinerne': 18657, 'Jonny Diaz': 18658, 'Love and Theft': 18659, 'Steel Magnolia': 18660, 'Josh Gracin': 18661, 'Sidewalk Prophets': 18662, 'Jimmy Needham': 18663, 'Tenth Avenue North': 18664, 'David Nail': 18665, 'Şivan Perwer': 18666, 'Axiom of Choice': 18667, 'Rojda': 18668, 'Kızılırmak': 18669, 'Lilit Pipoyan': 18670, 'Ciwan Haco': 18671, 'Minoo Javan': 18672, 'Paula Darwish': 18673, 'Attila İlhan': 18674, 'İsmet Özel': 18675, 'Mehmet Atlı': 18676, 'Lena Chamamyan': 18677, 'ibrahim paşalı': 18678, 'Teodulija': 18679, 'Servet Kocakaya': 18680, 'İlkay Akkaya': 18681, 'Lejla Jusic': 18682, 'Nizamettin Aric': 18683, 'Hayedeh': 18684, 'Nour Ensemble': 18685, 'ismail kılıçaslan': 18686, 'Ahmet Aslan': 18687, 'keça': 18688, 'Yalçın Gül': 18689, 'Idir': 18690, 'Arzu Görücü': 18691, 'Farid Farjad': 18692, 'Anastasia': 18693, 'Willie Nelson & Calexico': 18694, 'Carlos Puebla': 18695, 'Hakan Yeşilyurt': 18696, 'NUBUN': 18697, 'Lord Darth Vader': 18698, '40 Winks': 18706, 'Blue Sky Black Death': 18707, 'The Nothing': 18708, 'Bias': 18709, 'Dday One': 18710, 'Thes One': 18711, 'Maker': 18712, 'Joe Beats': 18713, 'The Opus': 18714, 'Mr Cooper': 18715, 'Epstein': 18716, 'Nobody': 18717, 'Onra & Quetzal': 18718, 'Controller 7': 18719, 'FORCE OF NATURE, Nujabes, fat jon': 18720, \"padmo'\": 18721, 'Fingathing': 18722, 'Electrosoul System': 18723, 'Nostalgia 77': 18724, 'Mortifera': 18725, 'Nyktalgia': 18726, 'Atsakau  niekadA': 18727, 'Domantas Razauskas': 18728, 'Atalyja': 18729, 'Les Chants de Nihil': 18730, 'The Young Gods': 18734, 'Wiseblood': 18735, 'LOSTFREEQ': 18736, 'Ciccone Youth': 18737, 'Cubanate': 18738, 'Apollo 440': 18739, 'Die Krupps': 18740, 'Diamanda Galás': 18741, 'Aya RL': 18742, 'Coptic Rain': 18743, 'Oz Alchemist': 18744, 'Grzegorz Tomczak': 18745}\n"
     ]
    }
   ],
   "source": [
    "print (artist_titles_name)"
   ]
  },
  {
   "cell_type": "code",
   "execution_count": 61,
   "metadata": {},
   "outputs": [],
   "source": [
    "def find_similar_artists_name(artist_name, X, artist_mapper, artist_inv_mapper, k, metric='cosine'):\n",
    "\n",
    "    X = X.T\n",
    "    neighbour_ids = []\n",
    "    artists_output = []\n",
    "    \n",
    "    artist_id = artist_titles_name[artist_name]\n",
    "    artist_ind = artist_mapper[artist_id] \n",
    "    artist_vec = X[artist_ind]\n",
    "    if isinstance(artist_vec, (np.ndarray)):\n",
    "        artist_vec = artist_vec.reshape(1,-1)\n",
    "    # use k+1 since kNN output includes the artistID of interest\n",
    "    kNN = NearestNeighbors(n_neighbors=k+1, algorithm=\"brute\", metric=metric)\n",
    "    kNN.fit(X)\n",
    "    neighbour = kNN.kneighbors(artist_vec, return_distance=False)\n",
    "    for i in range(0,k):\n",
    "        n = neighbour.item(i)\n",
    "        neighbour_ids.append(artist_inv_mapper[n])\n",
    "        \n",
    "    neighbour_ids.pop(0)\n",
    "    \n",
    "    for i in neighbour_ids:\n",
    "        artists_output.append(artist_titles[i])\n",
    "    artists_output.pop(0)\n",
    "    \n",
    "    return artists_output"
   ]
  },
  {
   "cell_type": "markdown",
   "metadata": {},
   "source": [
    "### Probamos el Sistema de Recomendacion creado anteriormente"
   ]
  },
  {
   "cell_type": "code",
   "execution_count": 69,
   "metadata": {},
   "outputs": [
    {
     "name": "stdout",
     "output_type": "stream",
     "text": [
      "Si te gusto {artist_title}, no te pierdas:\n",
      "We Are Virgins\n",
      "The Ruby Suns\n",
      "Das Pop\n",
      "Field Music\n",
      "The Chills\n",
      "Little Red\n",
      "Ryan DeRobertis\n",
      "Hungry Kids of Hungary\n",
      "Wouter Hamel\n",
      "The Cold Napoleons\n",
      "Smith Westerns\n",
      "Beulah\n",
      "Tahiti 80\n",
      "Jack Peñate\n",
      "VHS or Beta\n",
      "The Trash Can Sinatras\n",
      "The Futureheads\n",
      "Ra Ra Riot\n",
      "Ben Folds Five\n"
     ]
    }
   ],
   "source": [
    "artist_titles = dict(zip(artist_map['artistID'], artist_map['name']))\n",
    "\n",
    "artist_id = 62\n",
    "\n",
    "similar_artists = find_similar_artists(artist_id, X, artist_mapper, artist_inv_mapper, k=20)\n",
    "artist_title = artist_titles[artist_id]\n",
    "\n",
    "print(\"Si te gusto {artist_title}, no te pierdas:\")\n",
    "for i in similar_artists:\n",
    "    print(artist_titles[i])"
   ]
  },
  {
   "cell_type": "markdown",
   "metadata": {},
   "source": [
    "#### La funcion anterior hace lo mismo que la funcion find_similar_artists solo que esta en ves de devolvernos el ID de los artistas recomendados nos devuelve el nombre."
   ]
  },
  {
   "cell_type": "code",
   "execution_count": 70,
   "metadata": {},
   "outputs": [
    {
     "data": {
      "text/plain": [
       "65"
      ]
     },
     "execution_count": 70,
     "metadata": {},
     "output_type": "execute_result"
    }
   ],
   "source": [
    "artist_titles_name['Coldplay'] ## Le pasamos por Parametro el nombre de un artista y nos devuelve su ID, el mismo se usara para la funcion anterior para que nos encuentre k-nearest neighbours"
   ]
  },
  {
   "cell_type": "markdown",
   "metadata": {},
   "source": [
    "#### Otra Prueba  por nombre usando la funcion find_similar_artists_name"
   ]
  },
  {
   "cell_type": "code",
   "execution_count": 71,
   "metadata": {},
   "outputs": [
    {
     "data": {
      "text/plain": [
       "['Steve Angello',\n",
       " 'Alemão Ronaldo',\n",
       " 'The Killers',\n",
       " 'Keane',\n",
       " 'Stephen Warbeck',\n",
       " 'Radiohead',\n",
       " 'Kings of Leon',\n",
       " 'Muse',\n",
       " 'Poslednja igra leptira',\n",
       " 'Foo Fighters',\n",
       " 'Snow Patrol',\n",
       " 'Oasis',\n",
       " 'Paramore',\n",
       " 'Billie the Vision & The Dancers',\n",
       " 'Ray LaMontagne',\n",
       " 'Gorillaz',\n",
       " 'Travis',\n",
       " 'Jack Johnson']"
      ]
     },
     "execution_count": 71,
     "metadata": {},
     "output_type": "execute_result"
    }
   ],
   "source": [
    "artistas_a_recomendar = find_similar_artists_name('Coldplay', X, artist_mapper, artist_inv_mapper, k=20)\n",
    "artistas_a_recomendar"
   ]
  },
  {
   "cell_type": "code",
   "execution_count": null,
   "metadata": {},
   "outputs": [],
   "source": []
  },
  {
   "cell_type": "code",
   "execution_count": null,
   "metadata": {},
   "outputs": [],
   "source": []
  }
 ],
 "metadata": {
  "kernelspec": {
   "display_name": "Python 3",
   "language": "python",
   "name": "python3"
  },
  "language_info": {
   "codemirror_mode": {
    "name": "ipython",
    "version": 3
   },
   "file_extension": ".py",
   "mimetype": "text/x-python",
   "name": "python",
   "nbconvert_exporter": "python",
   "pygments_lexer": "ipython3",
   "version": "3.7.5"
  },
  "rise": {
   "scroll": true
  }
 },
 "nbformat": 4,
 "nbformat_minor": 2
}
